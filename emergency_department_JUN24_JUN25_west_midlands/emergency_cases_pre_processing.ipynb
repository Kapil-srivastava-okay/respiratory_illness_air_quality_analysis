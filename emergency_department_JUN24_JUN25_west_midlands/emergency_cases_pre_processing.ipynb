{
 "cells": [
  {
   "cell_type": "markdown",
   "id": "f0854f09",
   "metadata": {},
   "source": [
    "### Acute Respiratory Infection Cases by Day"
   ]
  },
  {
   "cell_type": "code",
   "execution_count": null,
   "id": "4be654c8",
   "metadata": {},
   "outputs": [],
   "source": [
    "import pandas as pd\n",
    "import numpy as np\n",
    "\n",
    "# Load the acute respiratory infections data\n",
    "ari_df = pd.read_csv('acute_respiratory_infections.csv')"
   ]
  },
  {
   "cell_type": "code",
   "execution_count": null,
   "id": "321414b3",
   "metadata": {},
   "outputs": [],
   "source": [
    "#  Filter for countsByDay metric\n",
    "ari_df = ari_df[ari_df['metric'] == 'acute-respiratory-infection_syndromic_emergencyDepartment_countsByDay']"
   ]
  },
  {
   "cell_type": "code",
   "execution_count": null,
   "id": "06956f2c",
   "metadata": {},
   "outputs": [],
   "source": [
    "#  Keep only relevant columns and rename metric_value\n",
    "ari_df = ari_df[['date', 'metric_value']].rename(columns={'metric_value': 'acute_respiratory_infection_counts'})"
   ]
  },
  {
   "cell_type": "code",
   "execution_count": null,
   "id": "28d19367",
   "metadata": {},
   "outputs": [
    {
     "data": {
      "application/vnd.microsoft.datawrangler.viewer.v0+json": {
       "columns": [
        {
         "name": "index",
         "rawType": "int64",
         "type": "integer"
        },
        {
         "name": "date",
         "rawType": "datetime64[ns]",
         "type": "datetime"
        },
        {
         "name": "acute_respiratory_infection_counts",
         "rawType": "float64",
         "type": "float"
        }
       ],
       "ref": "fc5d8a3c-6f3f-4df1-8c49-7c900cf2baec",
       "rows": [
        [
         "1",
         "2025-06-08 00:00:00",
         "149.0"
        ],
        [
         "3",
         "2025-06-07 00:00:00",
         "144.0"
        ],
        [
         "5",
         "2025-06-06 00:00:00",
         "137.0"
        ],
        [
         "8",
         "2025-06-05 00:00:00",
         "149.0"
        ],
        [
         "11",
         "2025-06-04 00:00:00",
         "144.0"
        ]
       ],
       "shape": {
        "columns": 2,
        "rows": 5
       }
      },
      "text/html": [
       "<div>\n",
       "<style scoped>\n",
       "    .dataframe tbody tr th:only-of-type {\n",
       "        vertical-align: middle;\n",
       "    }\n",
       "\n",
       "    .dataframe tbody tr th {\n",
       "        vertical-align: top;\n",
       "    }\n",
       "\n",
       "    .dataframe thead th {\n",
       "        text-align: right;\n",
       "    }\n",
       "</style>\n",
       "<table border=\"1\" class=\"dataframe\">\n",
       "  <thead>\n",
       "    <tr style=\"text-align: right;\">\n",
       "      <th></th>\n",
       "      <th>date</th>\n",
       "      <th>acute_respiratory_infection_counts</th>\n",
       "    </tr>\n",
       "  </thead>\n",
       "  <tbody>\n",
       "    <tr>\n",
       "      <th>1</th>\n",
       "      <td>2025-06-08</td>\n",
       "      <td>149.0</td>\n",
       "    </tr>\n",
       "    <tr>\n",
       "      <th>3</th>\n",
       "      <td>2025-06-07</td>\n",
       "      <td>144.0</td>\n",
       "    </tr>\n",
       "    <tr>\n",
       "      <th>5</th>\n",
       "      <td>2025-06-06</td>\n",
       "      <td>137.0</td>\n",
       "    </tr>\n",
       "    <tr>\n",
       "      <th>8</th>\n",
       "      <td>2025-06-05</td>\n",
       "      <td>149.0</td>\n",
       "    </tr>\n",
       "    <tr>\n",
       "      <th>11</th>\n",
       "      <td>2025-06-04</td>\n",
       "      <td>144.0</td>\n",
       "    </tr>\n",
       "  </tbody>\n",
       "</table>\n",
       "</div>"
      ],
      "text/plain": [
       "         date  acute_respiratory_infection_counts\n",
       "1  2025-06-08                               149.0\n",
       "3  2025-06-07                               144.0\n",
       "5  2025-06-06                               137.0\n",
       "8  2025-06-05                               149.0\n",
       "11 2025-06-04                               144.0"
      ]
     },
     "execution_count": 31,
     "metadata": {},
     "output_type": "execute_result"
    }
   ],
   "source": [
    "#  Convert date to datetime and then to DD-MM-YYYY format\n",
    "ari_df['date'] = pd.to_datetime(ari_df['date'])\n",
    "\n",
    "ari_df.head()"
   ]
  },
  {
   "cell_type": "code",
   "execution_count": 32,
   "id": "ae1a5fd2",
   "metadata": {},
   "outputs": [
    {
     "data": {
      "application/vnd.microsoft.datawrangler.viewer.v0+json": {
       "columns": [
        {
         "name": "index",
         "rawType": "int64",
         "type": "integer"
        },
        {
         "name": "date",
         "rawType": "datetime64[ns]",
         "type": "datetime"
        },
        {
         "name": "acute_respiratory_infection_counts",
         "rawType": "float64",
         "type": "float"
        }
       ],
       "ref": "063881c7-f0a7-4d11-8a4d-f07899819b4a",
       "rows": [],
       "shape": {
        "columns": 2,
        "rows": 0
       }
      },
      "text/html": [
       "<div>\n",
       "<style scoped>\n",
       "    .dataframe tbody tr th:only-of-type {\n",
       "        vertical-align: middle;\n",
       "    }\n",
       "\n",
       "    .dataframe tbody tr th {\n",
       "        vertical-align: top;\n",
       "    }\n",
       "\n",
       "    .dataframe thead th {\n",
       "        text-align: right;\n",
       "    }\n",
       "</style>\n",
       "<table border=\"1\" class=\"dataframe\">\n",
       "  <thead>\n",
       "    <tr style=\"text-align: right;\">\n",
       "      <th></th>\n",
       "      <th>date</th>\n",
       "      <th>acute_respiratory_infection_counts</th>\n",
       "    </tr>\n",
       "  </thead>\n",
       "  <tbody>\n",
       "  </tbody>\n",
       "</table>\n",
       "</div>"
      ],
      "text/plain": [
       "Empty DataFrame\n",
       "Columns: [date, acute_respiratory_infection_counts]\n",
       "Index: []"
      ]
     },
     "execution_count": 32,
     "metadata": {},
     "output_type": "execute_result"
    }
   ],
   "source": [
    "# Check for missing values\n",
    "ari_df[ari_df.isna().any(axis=1)]     # Show all rows with any missing values"
   ]
  },
  {
   "cell_type": "code",
   "execution_count": 33,
   "id": "943b78a5",
   "metadata": {},
   "outputs": [],
   "source": [
    "# Step 5: Fill missing ARI_counts with mean of previous 7 days\n",
    "def fill_with_past_7_days_mean(row, df, column, window_days=7):\n",
    "    if pd.isna(row[column]):\n",
    "        start_date = row['date'] - pd.Timedelta(days=window_days)\n",
    "        end_date = row['date'] - pd.Timedelta(days=1)\n",
    "        past_data = df[(df['date'] >= start_date) & (df['date'] <= end_date)]\n",
    "        mean_value = past_data[column].mean()\n",
    "        return mean_value\n",
    "    return row[column]\n",
    "\n",
    "# Apply the function to fill missing ARI_counts\n",
    "ari_df['acute_respiratory_infection_counts'] = ari_df.apply(lambda row: fill_with_past_7_days_mean(row, ari_df, 'acute_respiratory_infection_counts'), axis=1)"
   ]
  },
  {
   "cell_type": "code",
   "execution_count": 35,
   "id": "e7d71e39",
   "metadata": {},
   "outputs": [
    {
     "data": {
      "application/vnd.microsoft.datawrangler.viewer.v0+json": {
       "columns": [
        {
         "name": "index",
         "rawType": "int64",
         "type": "integer"
        },
        {
         "name": "date",
         "rawType": "datetime64[ns]",
         "type": "datetime"
        },
        {
         "name": "acute_respiratory_infection_counts",
         "rawType": "float64",
         "type": "float"
        }
       ],
       "ref": "5de398d1-81ce-432c-9b57-021ba8b2bfca",
       "rows": [
        [
         "1085",
         "2024-06-09 00:00:00",
         "176.0"
        ],
        [
         "1084",
         "2024-06-10 00:00:00",
         "166.0"
        ],
        [
         "1083",
         "2024-06-11 00:00:00",
         "155.0"
        ],
        [
         "1082",
         "2024-06-12 00:00:00",
         "157.0"
        ],
        [
         "1079",
         "2024-06-13 00:00:00",
         "137.0"
        ]
       ],
       "shape": {
        "columns": 2,
        "rows": 5
       }
      },
      "text/html": [
       "<div>\n",
       "<style scoped>\n",
       "    .dataframe tbody tr th:only-of-type {\n",
       "        vertical-align: middle;\n",
       "    }\n",
       "\n",
       "    .dataframe tbody tr th {\n",
       "        vertical-align: top;\n",
       "    }\n",
       "\n",
       "    .dataframe thead th {\n",
       "        text-align: right;\n",
       "    }\n",
       "</style>\n",
       "<table border=\"1\" class=\"dataframe\">\n",
       "  <thead>\n",
       "    <tr style=\"text-align: right;\">\n",
       "      <th></th>\n",
       "      <th>date</th>\n",
       "      <th>acute_respiratory_infection_counts</th>\n",
       "    </tr>\n",
       "  </thead>\n",
       "  <tbody>\n",
       "    <tr>\n",
       "      <th>1085</th>\n",
       "      <td>2024-06-09</td>\n",
       "      <td>176.0</td>\n",
       "    </tr>\n",
       "    <tr>\n",
       "      <th>1084</th>\n",
       "      <td>2024-06-10</td>\n",
       "      <td>166.0</td>\n",
       "    </tr>\n",
       "    <tr>\n",
       "      <th>1083</th>\n",
       "      <td>2024-06-11</td>\n",
       "      <td>155.0</td>\n",
       "    </tr>\n",
       "    <tr>\n",
       "      <th>1082</th>\n",
       "      <td>2024-06-12</td>\n",
       "      <td>157.0</td>\n",
       "    </tr>\n",
       "    <tr>\n",
       "      <th>1079</th>\n",
       "      <td>2024-06-13</td>\n",
       "      <td>137.0</td>\n",
       "    </tr>\n",
       "  </tbody>\n",
       "</table>\n",
       "</div>"
      ],
      "text/plain": [
       "           date  acute_respiratory_infection_counts\n",
       "1085 2024-06-09                               176.0\n",
       "1084 2024-06-10                               166.0\n",
       "1083 2024-06-11                               155.0\n",
       "1082 2024-06-12                               157.0\n",
       "1079 2024-06-13                               137.0"
      ]
     },
     "execution_count": 35,
     "metadata": {},
     "output_type": "execute_result"
    }
   ],
   "source": [
    "ari_df = ari_df.sort_values('date', ascending=True)\n",
    "ari_df.head()"
   ]
  },
  {
   "cell_type": "code",
   "execution_count": 36,
   "id": "3637da2b",
   "metadata": {},
   "outputs": [],
   "source": [
    "ari_df.to_csv('acute_respiratory_illness_cd.csv', index=False)"
   ]
  },
  {
   "cell_type": "code",
   "execution_count": null,
   "id": "2e122e0b",
   "metadata": {},
   "outputs": [],
   "source": []
  },
  {
   "cell_type": "markdown",
   "id": "b1e08b3c",
   "metadata": {},
   "source": [
    "### Acute Bronchiolitis Cases by Day"
   ]
  },
  {
   "cell_type": "code",
   "execution_count": 37,
   "id": "9fdc9293",
   "metadata": {},
   "outputs": [
    {
     "data": {
      "application/vnd.microsoft.datawrangler.viewer.v0+json": {
       "columns": [
        {
         "name": "index",
         "rawType": "int64",
         "type": "integer"
        },
        {
         "name": "theme",
         "rawType": "object",
         "type": "string"
        },
        {
         "name": "sub_theme",
         "rawType": "object",
         "type": "string"
        },
        {
         "name": "topic",
         "rawType": "object",
         "type": "string"
        },
        {
         "name": "geography_type",
         "rawType": "object",
         "type": "string"
        },
        {
         "name": "geography",
         "rawType": "object",
         "type": "string"
        },
        {
         "name": "metric",
         "rawType": "object",
         "type": "string"
        },
        {
         "name": "sex",
         "rawType": "object",
         "type": "string"
        },
        {
         "name": "age",
         "rawType": "object",
         "type": "string"
        },
        {
         "name": "stratum",
         "rawType": "object",
         "type": "string"
        },
        {
         "name": "year",
         "rawType": "int64",
         "type": "integer"
        },
        {
         "name": "date",
         "rawType": "object",
         "type": "string"
        },
        {
         "name": "metric_value",
         "rawType": "float64",
         "type": "float"
        },
        {
         "name": "in_reporting_delay_period",
         "rawType": "bool",
         "type": "boolean"
        }
       ],
       "ref": "b19cf354-6d9d-4206-b35d-3a851c008236",
       "rows": [
        [
         "0",
         "infectious_disease",
         "respiratory",
         "acute-bronchiolitis",
         "UKHSA Region",
         "West Midlands",
         "acute-bronchiolitis_syndromic_emergencyDepartment_baselineCountsByDay",
         "all",
         "all",
         "default",
         "2025",
         "2025-06-08",
         "9.31",
         "False"
        ],
        [
         "1",
         "infectious_disease",
         "respiratory",
         "acute-bronchiolitis",
         "UKHSA Region",
         "West Midlands",
         "acute-bronchiolitis_syndromic_emergencyDepartment_countsByDay",
         "all",
         "all",
         "default",
         "2025",
         "2025-06-08",
         "8.0",
         "False"
        ],
        [
         "2",
         "infectious_disease",
         "respiratory",
         "acute-bronchiolitis",
         "UKHSA Region",
         "West Midlands",
         "acute-bronchiolitis_syndromic_emergencyDepartment_baselineCountsByDay",
         "all",
         "all",
         "default",
         "2025",
         "2025-06-07",
         "9.34",
         "False"
        ],
        [
         "3",
         "infectious_disease",
         "respiratory",
         "acute-bronchiolitis",
         "UKHSA Region",
         "West Midlands",
         "acute-bronchiolitis_syndromic_emergencyDepartment_countsByDay",
         "all",
         "all",
         "default",
         "2025",
         "2025-06-07",
         "5.0",
         "False"
        ],
        [
         "4",
         "infectious_disease",
         "respiratory",
         "acute-bronchiolitis",
         "UKHSA Region",
         "West Midlands",
         "acute-bronchiolitis_syndromic_emergencyDepartment_baselineCountsByDay",
         "all",
         "all",
         "default",
         "2025",
         "2025-06-06",
         "9.38",
         "False"
        ]
       ],
       "shape": {
        "columns": 13,
        "rows": 5
       }
      },
      "text/html": [
       "<div>\n",
       "<style scoped>\n",
       "    .dataframe tbody tr th:only-of-type {\n",
       "        vertical-align: middle;\n",
       "    }\n",
       "\n",
       "    .dataframe tbody tr th {\n",
       "        vertical-align: top;\n",
       "    }\n",
       "\n",
       "    .dataframe thead th {\n",
       "        text-align: right;\n",
       "    }\n",
       "</style>\n",
       "<table border=\"1\" class=\"dataframe\">\n",
       "  <thead>\n",
       "    <tr style=\"text-align: right;\">\n",
       "      <th></th>\n",
       "      <th>theme</th>\n",
       "      <th>sub_theme</th>\n",
       "      <th>topic</th>\n",
       "      <th>geography_type</th>\n",
       "      <th>geography</th>\n",
       "      <th>metric</th>\n",
       "      <th>sex</th>\n",
       "      <th>age</th>\n",
       "      <th>stratum</th>\n",
       "      <th>year</th>\n",
       "      <th>date</th>\n",
       "      <th>metric_value</th>\n",
       "      <th>in_reporting_delay_period</th>\n",
       "    </tr>\n",
       "  </thead>\n",
       "  <tbody>\n",
       "    <tr>\n",
       "      <th>0</th>\n",
       "      <td>infectious_disease</td>\n",
       "      <td>respiratory</td>\n",
       "      <td>acute-bronchiolitis</td>\n",
       "      <td>UKHSA Region</td>\n",
       "      <td>West Midlands</td>\n",
       "      <td>acute-bronchiolitis_syndromic_emergencyDepartm...</td>\n",
       "      <td>all</td>\n",
       "      <td>all</td>\n",
       "      <td>default</td>\n",
       "      <td>2025</td>\n",
       "      <td>2025-06-08</td>\n",
       "      <td>9.31</td>\n",
       "      <td>False</td>\n",
       "    </tr>\n",
       "    <tr>\n",
       "      <th>1</th>\n",
       "      <td>infectious_disease</td>\n",
       "      <td>respiratory</td>\n",
       "      <td>acute-bronchiolitis</td>\n",
       "      <td>UKHSA Region</td>\n",
       "      <td>West Midlands</td>\n",
       "      <td>acute-bronchiolitis_syndromic_emergencyDepartm...</td>\n",
       "      <td>all</td>\n",
       "      <td>all</td>\n",
       "      <td>default</td>\n",
       "      <td>2025</td>\n",
       "      <td>2025-06-08</td>\n",
       "      <td>8.00</td>\n",
       "      <td>False</td>\n",
       "    </tr>\n",
       "    <tr>\n",
       "      <th>2</th>\n",
       "      <td>infectious_disease</td>\n",
       "      <td>respiratory</td>\n",
       "      <td>acute-bronchiolitis</td>\n",
       "      <td>UKHSA Region</td>\n",
       "      <td>West Midlands</td>\n",
       "      <td>acute-bronchiolitis_syndromic_emergencyDepartm...</td>\n",
       "      <td>all</td>\n",
       "      <td>all</td>\n",
       "      <td>default</td>\n",
       "      <td>2025</td>\n",
       "      <td>2025-06-07</td>\n",
       "      <td>9.34</td>\n",
       "      <td>False</td>\n",
       "    </tr>\n",
       "    <tr>\n",
       "      <th>3</th>\n",
       "      <td>infectious_disease</td>\n",
       "      <td>respiratory</td>\n",
       "      <td>acute-bronchiolitis</td>\n",
       "      <td>UKHSA Region</td>\n",
       "      <td>West Midlands</td>\n",
       "      <td>acute-bronchiolitis_syndromic_emergencyDepartm...</td>\n",
       "      <td>all</td>\n",
       "      <td>all</td>\n",
       "      <td>default</td>\n",
       "      <td>2025</td>\n",
       "      <td>2025-06-07</td>\n",
       "      <td>5.00</td>\n",
       "      <td>False</td>\n",
       "    </tr>\n",
       "    <tr>\n",
       "      <th>4</th>\n",
       "      <td>infectious_disease</td>\n",
       "      <td>respiratory</td>\n",
       "      <td>acute-bronchiolitis</td>\n",
       "      <td>UKHSA Region</td>\n",
       "      <td>West Midlands</td>\n",
       "      <td>acute-bronchiolitis_syndromic_emergencyDepartm...</td>\n",
       "      <td>all</td>\n",
       "      <td>all</td>\n",
       "      <td>default</td>\n",
       "      <td>2025</td>\n",
       "      <td>2025-06-06</td>\n",
       "      <td>9.38</td>\n",
       "      <td>False</td>\n",
       "    </tr>\n",
       "  </tbody>\n",
       "</table>\n",
       "</div>"
      ],
      "text/plain": [
       "                theme    sub_theme                topic geography_type  \\\n",
       "0  infectious_disease  respiratory  acute-bronchiolitis   UKHSA Region   \n",
       "1  infectious_disease  respiratory  acute-bronchiolitis   UKHSA Region   \n",
       "2  infectious_disease  respiratory  acute-bronchiolitis   UKHSA Region   \n",
       "3  infectious_disease  respiratory  acute-bronchiolitis   UKHSA Region   \n",
       "4  infectious_disease  respiratory  acute-bronchiolitis   UKHSA Region   \n",
       "\n",
       "       geography                                             metric  sex  age  \\\n",
       "0  West Midlands  acute-bronchiolitis_syndromic_emergencyDepartm...  all  all   \n",
       "1  West Midlands  acute-bronchiolitis_syndromic_emergencyDepartm...  all  all   \n",
       "2  West Midlands  acute-bronchiolitis_syndromic_emergencyDepartm...  all  all   \n",
       "3  West Midlands  acute-bronchiolitis_syndromic_emergencyDepartm...  all  all   \n",
       "4  West Midlands  acute-bronchiolitis_syndromic_emergencyDepartm...  all  all   \n",
       "\n",
       "   stratum  year        date  metric_value  in_reporting_delay_period  \n",
       "0  default  2025  2025-06-08          9.31                      False  \n",
       "1  default  2025  2025-06-08          8.00                      False  \n",
       "2  default  2025  2025-06-07          9.34                      False  \n",
       "3  default  2025  2025-06-07          5.00                      False  \n",
       "4  default  2025  2025-06-06          9.38                      False  "
      ]
     },
     "execution_count": 37,
     "metadata": {},
     "output_type": "execute_result"
    }
   ],
   "source": [
    "# Load the acute respiratory infections data\n",
    "ab_df = pd.read_csv('acute_bronchiolitis.csv')\n",
    "ab_df.head()"
   ]
  },
  {
   "cell_type": "code",
   "execution_count": 38,
   "id": "f3840c41",
   "metadata": {},
   "outputs": [],
   "source": [
    "#  Filter for countsByDay metric\n",
    "ab_df = ab_df[ab_df['metric'] == 'acute-bronchiolitis_syndromic_emergencyDepartment_countsByDay']"
   ]
  },
  {
   "cell_type": "code",
   "execution_count": 39,
   "id": "6fcf5696",
   "metadata": {},
   "outputs": [],
   "source": [
    "#  Keep only relevant columns and rename metric_value\n",
    "ab_df = ab_df[['date', 'metric_value']].rename(columns={'metric_value': 'acute_bronchiolitis_syndromic_counts'})"
   ]
  },
  {
   "cell_type": "code",
   "execution_count": 40,
   "id": "1f4a7147",
   "metadata": {},
   "outputs": [
    {
     "data": {
      "application/vnd.microsoft.datawrangler.viewer.v0+json": {
       "columns": [
        {
         "name": "index",
         "rawType": "int64",
         "type": "integer"
        },
        {
         "name": "date",
         "rawType": "datetime64[ns]",
         "type": "datetime"
        },
        {
         "name": "acute_bronchiolitis_syndromic_counts",
         "rawType": "float64",
         "type": "float"
        }
       ],
       "ref": "50215b7a-82b7-4cc0-be0e-95c46dcb4a12",
       "rows": [
        [
         "1",
         "2025-06-08 00:00:00",
         "8.0"
        ],
        [
         "3",
         "2025-06-07 00:00:00",
         "5.0"
        ],
        [
         "5",
         "2025-06-06 00:00:00",
         "6.0"
        ],
        [
         "8",
         "2025-06-05 00:00:00",
         "9.0"
        ],
        [
         "11",
         "2025-06-04 00:00:00",
         "10.0"
        ]
       ],
       "shape": {
        "columns": 2,
        "rows": 5
       }
      },
      "text/html": [
       "<div>\n",
       "<style scoped>\n",
       "    .dataframe tbody tr th:only-of-type {\n",
       "        vertical-align: middle;\n",
       "    }\n",
       "\n",
       "    .dataframe tbody tr th {\n",
       "        vertical-align: top;\n",
       "    }\n",
       "\n",
       "    .dataframe thead th {\n",
       "        text-align: right;\n",
       "    }\n",
       "</style>\n",
       "<table border=\"1\" class=\"dataframe\">\n",
       "  <thead>\n",
       "    <tr style=\"text-align: right;\">\n",
       "      <th></th>\n",
       "      <th>date</th>\n",
       "      <th>acute_bronchiolitis_syndromic_counts</th>\n",
       "    </tr>\n",
       "  </thead>\n",
       "  <tbody>\n",
       "    <tr>\n",
       "      <th>1</th>\n",
       "      <td>2025-06-08</td>\n",
       "      <td>8.0</td>\n",
       "    </tr>\n",
       "    <tr>\n",
       "      <th>3</th>\n",
       "      <td>2025-06-07</td>\n",
       "      <td>5.0</td>\n",
       "    </tr>\n",
       "    <tr>\n",
       "      <th>5</th>\n",
       "      <td>2025-06-06</td>\n",
       "      <td>6.0</td>\n",
       "    </tr>\n",
       "    <tr>\n",
       "      <th>8</th>\n",
       "      <td>2025-06-05</td>\n",
       "      <td>9.0</td>\n",
       "    </tr>\n",
       "    <tr>\n",
       "      <th>11</th>\n",
       "      <td>2025-06-04</td>\n",
       "      <td>10.0</td>\n",
       "    </tr>\n",
       "  </tbody>\n",
       "</table>\n",
       "</div>"
      ],
      "text/plain": [
       "         date  acute_bronchiolitis_syndromic_counts\n",
       "1  2025-06-08                                   8.0\n",
       "3  2025-06-07                                   5.0\n",
       "5  2025-06-06                                   6.0\n",
       "8  2025-06-05                                   9.0\n",
       "11 2025-06-04                                  10.0"
      ]
     },
     "execution_count": 40,
     "metadata": {},
     "output_type": "execute_result"
    }
   ],
   "source": [
    "#  Convert date to datetime and then to DD-MM-YYYY format\n",
    "ab_df['date'] = pd.to_datetime(ab_df['date'])\n",
    "\n",
    "ab_df.head()"
   ]
  },
  {
   "cell_type": "code",
   "execution_count": 41,
   "id": "33ce999e",
   "metadata": {},
   "outputs": [
    {
     "data": {
      "application/vnd.microsoft.datawrangler.viewer.v0+json": {
       "columns": [
        {
         "name": "index",
         "rawType": "int64",
         "type": "integer"
        },
        {
         "name": "date",
         "rawType": "datetime64[ns]",
         "type": "datetime"
        },
        {
         "name": "acute_bronchiolitis_syndromic_counts",
         "rawType": "float64",
         "type": "float"
        }
       ],
       "ref": "f48bea75-6f22-405c-91e1-21ae305725eb",
       "rows": [],
       "shape": {
        "columns": 2,
        "rows": 0
       }
      },
      "text/html": [
       "<div>\n",
       "<style scoped>\n",
       "    .dataframe tbody tr th:only-of-type {\n",
       "        vertical-align: middle;\n",
       "    }\n",
       "\n",
       "    .dataframe tbody tr th {\n",
       "        vertical-align: top;\n",
       "    }\n",
       "\n",
       "    .dataframe thead th {\n",
       "        text-align: right;\n",
       "    }\n",
       "</style>\n",
       "<table border=\"1\" class=\"dataframe\">\n",
       "  <thead>\n",
       "    <tr style=\"text-align: right;\">\n",
       "      <th></th>\n",
       "      <th>date</th>\n",
       "      <th>acute_bronchiolitis_syndromic_counts</th>\n",
       "    </tr>\n",
       "  </thead>\n",
       "  <tbody>\n",
       "  </tbody>\n",
       "</table>\n",
       "</div>"
      ],
      "text/plain": [
       "Empty DataFrame\n",
       "Columns: [date, acute_bronchiolitis_syndromic_counts]\n",
       "Index: []"
      ]
     },
     "execution_count": 41,
     "metadata": {},
     "output_type": "execute_result"
    }
   ],
   "source": [
    "# Check for missing values\n",
    "ab_df[ab_df.isna().any(axis=1)]     # Show all rows with any missing values"
   ]
  },
  {
   "cell_type": "code",
   "execution_count": 43,
   "id": "1b7f8833",
   "metadata": {},
   "outputs": [],
   "source": [
    "# Step 5: Fill missing ARI_counts with mean of previous 7 days\n",
    "def fill_with_past_7_days_mean(row, df, column, window_days=7):\n",
    "    if pd.isna(row[column]):\n",
    "        start_date = row['date'] - pd.Timedelta(days=window_days)\n",
    "        end_date = row['date'] - pd.Timedelta(days=1)\n",
    "        past_data = df[(df['date'] >= start_date) & (df['date'] <= end_date)]\n",
    "        mean_value = past_data[column].mean()\n",
    "        return mean_value\n",
    "    return row[column]\n",
    "\n",
    "# Apply the function to fill missing acute_bronchiolitis_syndromic_counts\n",
    "ab_df['acute_bronchiolitis_syndromic_counts'] = ab_df.apply(lambda row: fill_with_past_7_days_mean(row, ab_df, 'acute_bronchiolitis_syndromic_counts'), axis=1)"
   ]
  },
  {
   "cell_type": "code",
   "execution_count": 45,
   "id": "529acd0f",
   "metadata": {},
   "outputs": [
    {
     "data": {
      "application/vnd.microsoft.datawrangler.viewer.v0+json": {
       "columns": [
        {
         "name": "index",
         "rawType": "int64",
         "type": "integer"
        },
        {
         "name": "date",
         "rawType": "datetime64[ns]",
         "type": "datetime"
        },
        {
         "name": "acute_bronchiolitis_syndromic_counts",
         "rawType": "float64",
         "type": "float"
        }
       ],
       "ref": "c212e6fe-85e2-432a-84cb-8f977a4d89fd",
       "rows": [
        [
         "1085",
         "2024-06-09 00:00:00",
         "2.0"
        ],
        [
         "1084",
         "2024-06-10 00:00:00",
         "7.0"
        ],
        [
         "1083",
         "2024-06-11 00:00:00",
         "6.0"
        ],
        [
         "1082",
         "2024-06-12 00:00:00",
         "2.0"
        ],
        [
         "1079",
         "2024-06-13 00:00:00",
         "3.0"
        ]
       ],
       "shape": {
        "columns": 2,
        "rows": 5
       }
      },
      "text/html": [
       "<div>\n",
       "<style scoped>\n",
       "    .dataframe tbody tr th:only-of-type {\n",
       "        vertical-align: middle;\n",
       "    }\n",
       "\n",
       "    .dataframe tbody tr th {\n",
       "        vertical-align: top;\n",
       "    }\n",
       "\n",
       "    .dataframe thead th {\n",
       "        text-align: right;\n",
       "    }\n",
       "</style>\n",
       "<table border=\"1\" class=\"dataframe\">\n",
       "  <thead>\n",
       "    <tr style=\"text-align: right;\">\n",
       "      <th></th>\n",
       "      <th>date</th>\n",
       "      <th>acute_bronchiolitis_syndromic_counts</th>\n",
       "    </tr>\n",
       "  </thead>\n",
       "  <tbody>\n",
       "    <tr>\n",
       "      <th>1085</th>\n",
       "      <td>2024-06-09</td>\n",
       "      <td>2.0</td>\n",
       "    </tr>\n",
       "    <tr>\n",
       "      <th>1084</th>\n",
       "      <td>2024-06-10</td>\n",
       "      <td>7.0</td>\n",
       "    </tr>\n",
       "    <tr>\n",
       "      <th>1083</th>\n",
       "      <td>2024-06-11</td>\n",
       "      <td>6.0</td>\n",
       "    </tr>\n",
       "    <tr>\n",
       "      <th>1082</th>\n",
       "      <td>2024-06-12</td>\n",
       "      <td>2.0</td>\n",
       "    </tr>\n",
       "    <tr>\n",
       "      <th>1079</th>\n",
       "      <td>2024-06-13</td>\n",
       "      <td>3.0</td>\n",
       "    </tr>\n",
       "  </tbody>\n",
       "</table>\n",
       "</div>"
      ],
      "text/plain": [
       "           date  acute_bronchiolitis_syndromic_counts\n",
       "1085 2024-06-09                                   2.0\n",
       "1084 2024-06-10                                   7.0\n",
       "1083 2024-06-11                                   6.0\n",
       "1082 2024-06-12                                   2.0\n",
       "1079 2024-06-13                                   3.0"
      ]
     },
     "execution_count": 45,
     "metadata": {},
     "output_type": "execute_result"
    }
   ],
   "source": [
    "ab_df = ab_df.sort_values('date', ascending=True)\n",
    "ab_df.head()"
   ]
  },
  {
   "cell_type": "code",
   "execution_count": 47,
   "id": "2d92cbe3",
   "metadata": {},
   "outputs": [],
   "source": [
    "ab_df.to_csv('acute_bronchiolitis_syndromic_cd.csv', index=False)"
   ]
  },
  {
   "cell_type": "code",
   "execution_count": null,
   "id": "936544f5",
   "metadata": {},
   "outputs": [],
   "source": []
  },
  {
   "cell_type": "markdown",
   "id": "394ba19d",
   "metadata": {},
   "source": [
    "### Influenza like Syndromic Illness Cases by Day"
   ]
  },
  {
   "cell_type": "code",
   "execution_count": 48,
   "id": "24b86450",
   "metadata": {},
   "outputs": [
    {
     "data": {
      "application/vnd.microsoft.datawrangler.viewer.v0+json": {
       "columns": [
        {
         "name": "index",
         "rawType": "int64",
         "type": "integer"
        },
        {
         "name": "theme",
         "rawType": "object",
         "type": "string"
        },
        {
         "name": "sub_theme",
         "rawType": "object",
         "type": "string"
        },
        {
         "name": "topic",
         "rawType": "object",
         "type": "string"
        },
        {
         "name": "geography_type",
         "rawType": "object",
         "type": "string"
        },
        {
         "name": "geography",
         "rawType": "object",
         "type": "string"
        },
        {
         "name": "metric",
         "rawType": "object",
         "type": "string"
        },
        {
         "name": "sex",
         "rawType": "object",
         "type": "string"
        },
        {
         "name": "age",
         "rawType": "object",
         "type": "string"
        },
        {
         "name": "stratum",
         "rawType": "object",
         "type": "string"
        },
        {
         "name": "year",
         "rawType": "int64",
         "type": "integer"
        },
        {
         "name": "date",
         "rawType": "object",
         "type": "string"
        },
        {
         "name": "metric_value",
         "rawType": "float64",
         "type": "float"
        },
        {
         "name": "in_reporting_delay_period",
         "rawType": "bool",
         "type": "boolean"
        }
       ],
       "ref": "4d4c8b59-da3c-4639-9673-8e3ac951f10a",
       "rows": [
        [
         "0",
         "infectious_disease",
         "respiratory",
         "influenza-like",
         "UKHSA Region",
         "West Midlands",
         "influenza-like_syndromic_emergencyDepartment_baselineCountsByDay",
         "all",
         "all",
         "default",
         "2025",
         "2025-06-08",
         "0.66",
         "False"
        ],
        [
         "1",
         "infectious_disease",
         "respiratory",
         "influenza-like",
         "UKHSA Region",
         "West Midlands",
         "influenza-like_syndromic_emergencyDepartment_countsByDay",
         "all",
         "all",
         "default",
         "2025",
         "2025-06-08",
         "2.0",
         "False"
        ],
        [
         "2",
         "infectious_disease",
         "respiratory",
         "influenza-like",
         "UKHSA Region",
         "West Midlands",
         "influenza-like_syndromic_emergencyDepartment_baselineCountsByDay",
         "all",
         "all",
         "default",
         "2025",
         "2025-06-07",
         "0.67",
         "False"
        ],
        [
         "3",
         "infectious_disease",
         "respiratory",
         "influenza-like",
         "UKHSA Region",
         "West Midlands",
         "influenza-like_syndromic_emergencyDepartment_countsByDay",
         "all",
         "all",
         "default",
         "2025",
         "2025-06-07",
         "1.0",
         "False"
        ],
        [
         "4",
         "infectious_disease",
         "respiratory",
         "influenza-like",
         "UKHSA Region",
         "West Midlands",
         "influenza-like_syndromic_emergencyDepartment_baselineCountsByDay",
         "all",
         "all",
         "default",
         "2025",
         "2025-06-06",
         "0.68",
         "False"
        ]
       ],
       "shape": {
        "columns": 13,
        "rows": 5
       }
      },
      "text/html": [
       "<div>\n",
       "<style scoped>\n",
       "    .dataframe tbody tr th:only-of-type {\n",
       "        vertical-align: middle;\n",
       "    }\n",
       "\n",
       "    .dataframe tbody tr th {\n",
       "        vertical-align: top;\n",
       "    }\n",
       "\n",
       "    .dataframe thead th {\n",
       "        text-align: right;\n",
       "    }\n",
       "</style>\n",
       "<table border=\"1\" class=\"dataframe\">\n",
       "  <thead>\n",
       "    <tr style=\"text-align: right;\">\n",
       "      <th></th>\n",
       "      <th>theme</th>\n",
       "      <th>sub_theme</th>\n",
       "      <th>topic</th>\n",
       "      <th>geography_type</th>\n",
       "      <th>geography</th>\n",
       "      <th>metric</th>\n",
       "      <th>sex</th>\n",
       "      <th>age</th>\n",
       "      <th>stratum</th>\n",
       "      <th>year</th>\n",
       "      <th>date</th>\n",
       "      <th>metric_value</th>\n",
       "      <th>in_reporting_delay_period</th>\n",
       "    </tr>\n",
       "  </thead>\n",
       "  <tbody>\n",
       "    <tr>\n",
       "      <th>0</th>\n",
       "      <td>infectious_disease</td>\n",
       "      <td>respiratory</td>\n",
       "      <td>influenza-like</td>\n",
       "      <td>UKHSA Region</td>\n",
       "      <td>West Midlands</td>\n",
       "      <td>influenza-like_syndromic_emergencyDepartment_b...</td>\n",
       "      <td>all</td>\n",
       "      <td>all</td>\n",
       "      <td>default</td>\n",
       "      <td>2025</td>\n",
       "      <td>2025-06-08</td>\n",
       "      <td>0.66</td>\n",
       "      <td>False</td>\n",
       "    </tr>\n",
       "    <tr>\n",
       "      <th>1</th>\n",
       "      <td>infectious_disease</td>\n",
       "      <td>respiratory</td>\n",
       "      <td>influenza-like</td>\n",
       "      <td>UKHSA Region</td>\n",
       "      <td>West Midlands</td>\n",
       "      <td>influenza-like_syndromic_emergencyDepartment_c...</td>\n",
       "      <td>all</td>\n",
       "      <td>all</td>\n",
       "      <td>default</td>\n",
       "      <td>2025</td>\n",
       "      <td>2025-06-08</td>\n",
       "      <td>2.00</td>\n",
       "      <td>False</td>\n",
       "    </tr>\n",
       "    <tr>\n",
       "      <th>2</th>\n",
       "      <td>infectious_disease</td>\n",
       "      <td>respiratory</td>\n",
       "      <td>influenza-like</td>\n",
       "      <td>UKHSA Region</td>\n",
       "      <td>West Midlands</td>\n",
       "      <td>influenza-like_syndromic_emergencyDepartment_b...</td>\n",
       "      <td>all</td>\n",
       "      <td>all</td>\n",
       "      <td>default</td>\n",
       "      <td>2025</td>\n",
       "      <td>2025-06-07</td>\n",
       "      <td>0.67</td>\n",
       "      <td>False</td>\n",
       "    </tr>\n",
       "    <tr>\n",
       "      <th>3</th>\n",
       "      <td>infectious_disease</td>\n",
       "      <td>respiratory</td>\n",
       "      <td>influenza-like</td>\n",
       "      <td>UKHSA Region</td>\n",
       "      <td>West Midlands</td>\n",
       "      <td>influenza-like_syndromic_emergencyDepartment_c...</td>\n",
       "      <td>all</td>\n",
       "      <td>all</td>\n",
       "      <td>default</td>\n",
       "      <td>2025</td>\n",
       "      <td>2025-06-07</td>\n",
       "      <td>1.00</td>\n",
       "      <td>False</td>\n",
       "    </tr>\n",
       "    <tr>\n",
       "      <th>4</th>\n",
       "      <td>infectious_disease</td>\n",
       "      <td>respiratory</td>\n",
       "      <td>influenza-like</td>\n",
       "      <td>UKHSA Region</td>\n",
       "      <td>West Midlands</td>\n",
       "      <td>influenza-like_syndromic_emergencyDepartment_b...</td>\n",
       "      <td>all</td>\n",
       "      <td>all</td>\n",
       "      <td>default</td>\n",
       "      <td>2025</td>\n",
       "      <td>2025-06-06</td>\n",
       "      <td>0.68</td>\n",
       "      <td>False</td>\n",
       "    </tr>\n",
       "  </tbody>\n",
       "</table>\n",
       "</div>"
      ],
      "text/plain": [
       "                theme    sub_theme           topic geography_type  \\\n",
       "0  infectious_disease  respiratory  influenza-like   UKHSA Region   \n",
       "1  infectious_disease  respiratory  influenza-like   UKHSA Region   \n",
       "2  infectious_disease  respiratory  influenza-like   UKHSA Region   \n",
       "3  infectious_disease  respiratory  influenza-like   UKHSA Region   \n",
       "4  infectious_disease  respiratory  influenza-like   UKHSA Region   \n",
       "\n",
       "       geography                                             metric  sex  age  \\\n",
       "0  West Midlands  influenza-like_syndromic_emergencyDepartment_b...  all  all   \n",
       "1  West Midlands  influenza-like_syndromic_emergencyDepartment_c...  all  all   \n",
       "2  West Midlands  influenza-like_syndromic_emergencyDepartment_b...  all  all   \n",
       "3  West Midlands  influenza-like_syndromic_emergencyDepartment_c...  all  all   \n",
       "4  West Midlands  influenza-like_syndromic_emergencyDepartment_b...  all  all   \n",
       "\n",
       "   stratum  year        date  metric_value  in_reporting_delay_period  \n",
       "0  default  2025  2025-06-08          0.66                      False  \n",
       "1  default  2025  2025-06-08          2.00                      False  \n",
       "2  default  2025  2025-06-07          0.67                      False  \n",
       "3  default  2025  2025-06-07          1.00                      False  \n",
       "4  default  2025  2025-06-06          0.68                      False  "
      ]
     },
     "execution_count": 48,
     "metadata": {},
     "output_type": "execute_result"
    }
   ],
   "source": [
    "# Load the acute respiratory infections data\n",
    "ili_df = pd.read_csv('influenza_like_illness.csv')\n",
    "ili_df.head()"
   ]
  },
  {
   "cell_type": "code",
   "execution_count": 49,
   "id": "e2707db2",
   "metadata": {},
   "outputs": [],
   "source": [
    "#  Filter for countsByDay metric\n",
    "ili_df = ili_df[ili_df['metric'] == 'influenza-like_syndromic_emergencyDepartment_countsByDay']"
   ]
  },
  {
   "cell_type": "code",
   "execution_count": 50,
   "id": "821a196d",
   "metadata": {},
   "outputs": [],
   "source": [
    "#  Keep only relevant columns and rename metric_value\n",
    "ili_df = ili_df[['date', 'metric_value']].rename(columns={'metric_value': 'influenza_like_syndromic_counts'})"
   ]
  },
  {
   "cell_type": "code",
   "execution_count": 51,
   "id": "cbdeeece",
   "metadata": {},
   "outputs": [
    {
     "data": {
      "application/vnd.microsoft.datawrangler.viewer.v0+json": {
       "columns": [
        {
         "name": "index",
         "rawType": "int64",
         "type": "integer"
        },
        {
         "name": "date",
         "rawType": "datetime64[ns]",
         "type": "datetime"
        },
        {
         "name": "influenza_like_syndromic_counts",
         "rawType": "float64",
         "type": "float"
        }
       ],
       "ref": "4d4d9bd3-9b76-47de-8fe8-95fa0be202e8",
       "rows": [
        [
         "1",
         "2025-06-08 00:00:00",
         "2.0"
        ],
        [
         "3",
         "2025-06-07 00:00:00",
         "1.0"
        ],
        [
         "5",
         "2025-06-06 00:00:00",
         "1.0"
        ],
        [
         "8",
         "2025-06-05 00:00:00",
         "3.0"
        ],
        [
         "11",
         "2025-06-04 00:00:00",
         "0.0"
        ]
       ],
       "shape": {
        "columns": 2,
        "rows": 5
       }
      },
      "text/html": [
       "<div>\n",
       "<style scoped>\n",
       "    .dataframe tbody tr th:only-of-type {\n",
       "        vertical-align: middle;\n",
       "    }\n",
       "\n",
       "    .dataframe tbody tr th {\n",
       "        vertical-align: top;\n",
       "    }\n",
       "\n",
       "    .dataframe thead th {\n",
       "        text-align: right;\n",
       "    }\n",
       "</style>\n",
       "<table border=\"1\" class=\"dataframe\">\n",
       "  <thead>\n",
       "    <tr style=\"text-align: right;\">\n",
       "      <th></th>\n",
       "      <th>date</th>\n",
       "      <th>influenza_like_syndromic_counts</th>\n",
       "    </tr>\n",
       "  </thead>\n",
       "  <tbody>\n",
       "    <tr>\n",
       "      <th>1</th>\n",
       "      <td>2025-06-08</td>\n",
       "      <td>2.0</td>\n",
       "    </tr>\n",
       "    <tr>\n",
       "      <th>3</th>\n",
       "      <td>2025-06-07</td>\n",
       "      <td>1.0</td>\n",
       "    </tr>\n",
       "    <tr>\n",
       "      <th>5</th>\n",
       "      <td>2025-06-06</td>\n",
       "      <td>1.0</td>\n",
       "    </tr>\n",
       "    <tr>\n",
       "      <th>8</th>\n",
       "      <td>2025-06-05</td>\n",
       "      <td>3.0</td>\n",
       "    </tr>\n",
       "    <tr>\n",
       "      <th>11</th>\n",
       "      <td>2025-06-04</td>\n",
       "      <td>0.0</td>\n",
       "    </tr>\n",
       "  </tbody>\n",
       "</table>\n",
       "</div>"
      ],
      "text/plain": [
       "         date  influenza_like_syndromic_counts\n",
       "1  2025-06-08                              2.0\n",
       "3  2025-06-07                              1.0\n",
       "5  2025-06-06                              1.0\n",
       "8  2025-06-05                              3.0\n",
       "11 2025-06-04                              0.0"
      ]
     },
     "execution_count": 51,
     "metadata": {},
     "output_type": "execute_result"
    }
   ],
   "source": [
    "#  Convert date to datetime and then to DD-MM-YYYY format\n",
    "ili_df['date'] = pd.to_datetime(ab_df['date'])\n",
    "\n",
    "ili_df.head()"
   ]
  },
  {
   "cell_type": "code",
   "execution_count": 52,
   "id": "4b02755a",
   "metadata": {},
   "outputs": [
    {
     "data": {
      "application/vnd.microsoft.datawrangler.viewer.v0+json": {
       "columns": [
        {
         "name": "index",
         "rawType": "int64",
         "type": "integer"
        },
        {
         "name": "date",
         "rawType": "datetime64[ns]",
         "type": "datetime"
        },
        {
         "name": "influenza_like_syndromic_counts",
         "rawType": "float64",
         "type": "float"
        }
       ],
       "ref": "13b7bd9b-0708-4b18-ae26-d61074b254f0",
       "rows": [],
       "shape": {
        "columns": 2,
        "rows": 0
       }
      },
      "text/html": [
       "<div>\n",
       "<style scoped>\n",
       "    .dataframe tbody tr th:only-of-type {\n",
       "        vertical-align: middle;\n",
       "    }\n",
       "\n",
       "    .dataframe tbody tr th {\n",
       "        vertical-align: top;\n",
       "    }\n",
       "\n",
       "    .dataframe thead th {\n",
       "        text-align: right;\n",
       "    }\n",
       "</style>\n",
       "<table border=\"1\" class=\"dataframe\">\n",
       "  <thead>\n",
       "    <tr style=\"text-align: right;\">\n",
       "      <th></th>\n",
       "      <th>date</th>\n",
       "      <th>influenza_like_syndromic_counts</th>\n",
       "    </tr>\n",
       "  </thead>\n",
       "  <tbody>\n",
       "  </tbody>\n",
       "</table>\n",
       "</div>"
      ],
      "text/plain": [
       "Empty DataFrame\n",
       "Columns: [date, influenza_like_syndromic_counts]\n",
       "Index: []"
      ]
     },
     "execution_count": 52,
     "metadata": {},
     "output_type": "execute_result"
    }
   ],
   "source": [
    "# Check for missing values\n",
    "ili_df[ili_df.isna().any(axis=1)]     # Show all rows with any missing values"
   ]
  },
  {
   "cell_type": "code",
   "execution_count": 53,
   "id": "5a8d74c9",
   "metadata": {},
   "outputs": [],
   "source": [
    "# Step 5: Fill missing ARI_counts with mean of previous 7 days\n",
    "def fill_with_past_7_days_mean(row, df, column, window_days=7):\n",
    "    if pd.isna(row[column]):\n",
    "        start_date = row['date'] - pd.Timedelta(days=window_days)\n",
    "        end_date = row['date'] - pd.Timedelta(days=1)\n",
    "        past_data = df[(df['date'] >= start_date) & (df['date'] <= end_date)]\n",
    "        mean_value = past_data[column].mean()\n",
    "        return mean_value\n",
    "    return row[column]\n",
    "\n",
    "# Apply the function to fill missing influenza_like_syndromic_counts\n",
    "ili_df['influenza_like_syndromic_counts'] = ili_df.apply(lambda row: fill_with_past_7_days_mean(row, ili_df, 'influenza_like_syndromic_counts'), axis=1)"
   ]
  },
  {
   "cell_type": "code",
   "execution_count": 54,
   "id": "987a11e7",
   "metadata": {},
   "outputs": [
    {
     "data": {
      "application/vnd.microsoft.datawrangler.viewer.v0+json": {
       "columns": [
        {
         "name": "index",
         "rawType": "int64",
         "type": "integer"
        },
        {
         "name": "date",
         "rawType": "datetime64[ns]",
         "type": "datetime"
        },
        {
         "name": "influenza_like_syndromic_counts",
         "rawType": "float64",
         "type": "float"
        }
       ],
       "ref": "316f64d6-615e-4f64-a109-e75910cf9f84",
       "rows": [
        [
         "1085",
         "2024-06-09 00:00:00",
         "2.0"
        ],
        [
         "1084",
         "2024-06-10 00:00:00",
         "2.0"
        ],
        [
         "1083",
         "2024-06-11 00:00:00",
         "0.0"
        ],
        [
         "1082",
         "2024-06-12 00:00:00",
         "0.0"
        ],
        [
         "1079",
         "2024-06-13 00:00:00",
         "0.0"
        ]
       ],
       "shape": {
        "columns": 2,
        "rows": 5
       }
      },
      "text/html": [
       "<div>\n",
       "<style scoped>\n",
       "    .dataframe tbody tr th:only-of-type {\n",
       "        vertical-align: middle;\n",
       "    }\n",
       "\n",
       "    .dataframe tbody tr th {\n",
       "        vertical-align: top;\n",
       "    }\n",
       "\n",
       "    .dataframe thead th {\n",
       "        text-align: right;\n",
       "    }\n",
       "</style>\n",
       "<table border=\"1\" class=\"dataframe\">\n",
       "  <thead>\n",
       "    <tr style=\"text-align: right;\">\n",
       "      <th></th>\n",
       "      <th>date</th>\n",
       "      <th>influenza_like_syndromic_counts</th>\n",
       "    </tr>\n",
       "  </thead>\n",
       "  <tbody>\n",
       "    <tr>\n",
       "      <th>1085</th>\n",
       "      <td>2024-06-09</td>\n",
       "      <td>2.0</td>\n",
       "    </tr>\n",
       "    <tr>\n",
       "      <th>1084</th>\n",
       "      <td>2024-06-10</td>\n",
       "      <td>2.0</td>\n",
       "    </tr>\n",
       "    <tr>\n",
       "      <th>1083</th>\n",
       "      <td>2024-06-11</td>\n",
       "      <td>0.0</td>\n",
       "    </tr>\n",
       "    <tr>\n",
       "      <th>1082</th>\n",
       "      <td>2024-06-12</td>\n",
       "      <td>0.0</td>\n",
       "    </tr>\n",
       "    <tr>\n",
       "      <th>1079</th>\n",
       "      <td>2024-06-13</td>\n",
       "      <td>0.0</td>\n",
       "    </tr>\n",
       "  </tbody>\n",
       "</table>\n",
       "</div>"
      ],
      "text/plain": [
       "           date  influenza_like_syndromic_counts\n",
       "1085 2024-06-09                              2.0\n",
       "1084 2024-06-10                              2.0\n",
       "1083 2024-06-11                              0.0\n",
       "1082 2024-06-12                              0.0\n",
       "1079 2024-06-13                              0.0"
      ]
     },
     "execution_count": 54,
     "metadata": {},
     "output_type": "execute_result"
    }
   ],
   "source": [
    "ili_df = ili_df.sort_values('date', ascending=True)\n",
    "ili_df.head()"
   ]
  },
  {
   "cell_type": "code",
   "execution_count": 55,
   "id": "fafba53b",
   "metadata": {},
   "outputs": [],
   "source": [
    "ili_df.to_csv('influenza_like_syndromic_cd.csv', index=False)"
   ]
  },
  {
   "cell_type": "code",
   "execution_count": null,
   "id": "a2947e04",
   "metadata": {},
   "outputs": [],
   "source": []
  },
  {
   "cell_type": "markdown",
   "id": "ed518108",
   "metadata": {},
   "source": [
    "### Scarlet Fever Cases by Day"
   ]
  },
  {
   "cell_type": "code",
   "execution_count": 56,
   "id": "07b84c58",
   "metadata": {},
   "outputs": [
    {
     "data": {
      "application/vnd.microsoft.datawrangler.viewer.v0+json": {
       "columns": [
        {
         "name": "index",
         "rawType": "int64",
         "type": "integer"
        },
        {
         "name": "theme",
         "rawType": "object",
         "type": "string"
        },
        {
         "name": "sub_theme",
         "rawType": "object",
         "type": "string"
        },
        {
         "name": "topic",
         "rawType": "object",
         "type": "string"
        },
        {
         "name": "geography_type",
         "rawType": "object",
         "type": "string"
        },
        {
         "name": "geography",
         "rawType": "object",
         "type": "string"
        },
        {
         "name": "metric",
         "rawType": "object",
         "type": "string"
        },
        {
         "name": "sex",
         "rawType": "object",
         "type": "string"
        },
        {
         "name": "age",
         "rawType": "object",
         "type": "string"
        },
        {
         "name": "stratum",
         "rawType": "object",
         "type": "string"
        },
        {
         "name": "year",
         "rawType": "int64",
         "type": "integer"
        },
        {
         "name": "date",
         "rawType": "object",
         "type": "string"
        },
        {
         "name": "metric_value",
         "rawType": "float64",
         "type": "float"
        },
        {
         "name": "in_reporting_delay_period",
         "rawType": "bool",
         "type": "boolean"
        }
       ],
       "ref": "c42c5748-0696-4948-a170-6696d67a6b67",
       "rows": [
        [
         "0",
         "infectious_disease",
         "childhood_illness",
         "Scarlet-fever",
         "UKHSA Region",
         "West Midlands",
         "scarlet-fever_syndromic_emergencyDepartment_baselineCountsByDay",
         "all",
         "all",
         "default",
         "2025",
         "2025-06-08",
         "0.34",
         "False"
        ],
        [
         "1",
         "infectious_disease",
         "childhood_illness",
         "Scarlet-fever",
         "UKHSA Region",
         "West Midlands",
         "scarlet-fever_syndromic_emergencyDepartment_countsByDay",
         "all",
         "all",
         "default",
         "2025",
         "2025-06-08",
         "0.0",
         "False"
        ],
        [
         "2",
         "infectious_disease",
         "childhood_illness",
         "Scarlet-fever",
         "UKHSA Region",
         "West Midlands",
         "scarlet-fever_syndromic_emergencyDepartment_baselineCountsByDay",
         "all",
         "all",
         "default",
         "2025",
         "2025-06-07",
         "0.35",
         "False"
        ],
        [
         "3",
         "infectious_disease",
         "childhood_illness",
         "Scarlet-fever",
         "UKHSA Region",
         "West Midlands",
         "scarlet-fever_syndromic_emergencyDepartment_countsByDay",
         "all",
         "all",
         "default",
         "2025",
         "2025-06-07",
         "0.0",
         "False"
        ],
        [
         "4",
         "infectious_disease",
         "childhood_illness",
         "Scarlet-fever",
         "UKHSA Region",
         "West Midlands",
         "scarlet-fever_syndromic_emergencyDepartment_baselineCountsByDay",
         "all",
         "all",
         "default",
         "2025",
         "2025-06-06",
         "0.35",
         "False"
        ]
       ],
       "shape": {
        "columns": 13,
        "rows": 5
       }
      },
      "text/html": [
       "<div>\n",
       "<style scoped>\n",
       "    .dataframe tbody tr th:only-of-type {\n",
       "        vertical-align: middle;\n",
       "    }\n",
       "\n",
       "    .dataframe tbody tr th {\n",
       "        vertical-align: top;\n",
       "    }\n",
       "\n",
       "    .dataframe thead th {\n",
       "        text-align: right;\n",
       "    }\n",
       "</style>\n",
       "<table border=\"1\" class=\"dataframe\">\n",
       "  <thead>\n",
       "    <tr style=\"text-align: right;\">\n",
       "      <th></th>\n",
       "      <th>theme</th>\n",
       "      <th>sub_theme</th>\n",
       "      <th>topic</th>\n",
       "      <th>geography_type</th>\n",
       "      <th>geography</th>\n",
       "      <th>metric</th>\n",
       "      <th>sex</th>\n",
       "      <th>age</th>\n",
       "      <th>stratum</th>\n",
       "      <th>year</th>\n",
       "      <th>date</th>\n",
       "      <th>metric_value</th>\n",
       "      <th>in_reporting_delay_period</th>\n",
       "    </tr>\n",
       "  </thead>\n",
       "  <tbody>\n",
       "    <tr>\n",
       "      <th>0</th>\n",
       "      <td>infectious_disease</td>\n",
       "      <td>childhood_illness</td>\n",
       "      <td>Scarlet-fever</td>\n",
       "      <td>UKHSA Region</td>\n",
       "      <td>West Midlands</td>\n",
       "      <td>scarlet-fever_syndromic_emergencyDepartment_ba...</td>\n",
       "      <td>all</td>\n",
       "      <td>all</td>\n",
       "      <td>default</td>\n",
       "      <td>2025</td>\n",
       "      <td>2025-06-08</td>\n",
       "      <td>0.34</td>\n",
       "      <td>False</td>\n",
       "    </tr>\n",
       "    <tr>\n",
       "      <th>1</th>\n",
       "      <td>infectious_disease</td>\n",
       "      <td>childhood_illness</td>\n",
       "      <td>Scarlet-fever</td>\n",
       "      <td>UKHSA Region</td>\n",
       "      <td>West Midlands</td>\n",
       "      <td>scarlet-fever_syndromic_emergencyDepartment_co...</td>\n",
       "      <td>all</td>\n",
       "      <td>all</td>\n",
       "      <td>default</td>\n",
       "      <td>2025</td>\n",
       "      <td>2025-06-08</td>\n",
       "      <td>0.00</td>\n",
       "      <td>False</td>\n",
       "    </tr>\n",
       "    <tr>\n",
       "      <th>2</th>\n",
       "      <td>infectious_disease</td>\n",
       "      <td>childhood_illness</td>\n",
       "      <td>Scarlet-fever</td>\n",
       "      <td>UKHSA Region</td>\n",
       "      <td>West Midlands</td>\n",
       "      <td>scarlet-fever_syndromic_emergencyDepartment_ba...</td>\n",
       "      <td>all</td>\n",
       "      <td>all</td>\n",
       "      <td>default</td>\n",
       "      <td>2025</td>\n",
       "      <td>2025-06-07</td>\n",
       "      <td>0.35</td>\n",
       "      <td>False</td>\n",
       "    </tr>\n",
       "    <tr>\n",
       "      <th>3</th>\n",
       "      <td>infectious_disease</td>\n",
       "      <td>childhood_illness</td>\n",
       "      <td>Scarlet-fever</td>\n",
       "      <td>UKHSA Region</td>\n",
       "      <td>West Midlands</td>\n",
       "      <td>scarlet-fever_syndromic_emergencyDepartment_co...</td>\n",
       "      <td>all</td>\n",
       "      <td>all</td>\n",
       "      <td>default</td>\n",
       "      <td>2025</td>\n",
       "      <td>2025-06-07</td>\n",
       "      <td>0.00</td>\n",
       "      <td>False</td>\n",
       "    </tr>\n",
       "    <tr>\n",
       "      <th>4</th>\n",
       "      <td>infectious_disease</td>\n",
       "      <td>childhood_illness</td>\n",
       "      <td>Scarlet-fever</td>\n",
       "      <td>UKHSA Region</td>\n",
       "      <td>West Midlands</td>\n",
       "      <td>scarlet-fever_syndromic_emergencyDepartment_ba...</td>\n",
       "      <td>all</td>\n",
       "      <td>all</td>\n",
       "      <td>default</td>\n",
       "      <td>2025</td>\n",
       "      <td>2025-06-06</td>\n",
       "      <td>0.35</td>\n",
       "      <td>False</td>\n",
       "    </tr>\n",
       "  </tbody>\n",
       "</table>\n",
       "</div>"
      ],
      "text/plain": [
       "                theme          sub_theme          topic geography_type  \\\n",
       "0  infectious_disease  childhood_illness  Scarlet-fever   UKHSA Region   \n",
       "1  infectious_disease  childhood_illness  Scarlet-fever   UKHSA Region   \n",
       "2  infectious_disease  childhood_illness  Scarlet-fever   UKHSA Region   \n",
       "3  infectious_disease  childhood_illness  Scarlet-fever   UKHSA Region   \n",
       "4  infectious_disease  childhood_illness  Scarlet-fever   UKHSA Region   \n",
       "\n",
       "       geography                                             metric  sex  age  \\\n",
       "0  West Midlands  scarlet-fever_syndromic_emergencyDepartment_ba...  all  all   \n",
       "1  West Midlands  scarlet-fever_syndromic_emergencyDepartment_co...  all  all   \n",
       "2  West Midlands  scarlet-fever_syndromic_emergencyDepartment_ba...  all  all   \n",
       "3  West Midlands  scarlet-fever_syndromic_emergencyDepartment_co...  all  all   \n",
       "4  West Midlands  scarlet-fever_syndromic_emergencyDepartment_ba...  all  all   \n",
       "\n",
       "   stratum  year        date  metric_value  in_reporting_delay_period  \n",
       "0  default  2025  2025-06-08          0.34                      False  \n",
       "1  default  2025  2025-06-08          0.00                      False  \n",
       "2  default  2025  2025-06-07          0.35                      False  \n",
       "3  default  2025  2025-06-07          0.00                      False  \n",
       "4  default  2025  2025-06-06          0.35                      False  "
      ]
     },
     "execution_count": 56,
     "metadata": {},
     "output_type": "execute_result"
    }
   ],
   "source": [
    "# Load the acute respiratory infections data\n",
    "sf_df = pd.read_csv('scarlet_fever.csv')\n",
    "sf_df.head()"
   ]
  },
  {
   "cell_type": "code",
   "execution_count": 57,
   "id": "b1ef7a45",
   "metadata": {},
   "outputs": [],
   "source": [
    "#  Filter for countsByDay metric\n",
    "sf_df = sf_df[sf_df['metric'] == 'scarlet-fever_syndromic_emergencyDepartment_countsByDay']"
   ]
  },
  {
   "cell_type": "code",
   "execution_count": 58,
   "id": "1c529edd",
   "metadata": {},
   "outputs": [],
   "source": [
    "#  Keep only relevant columns and rename metric_value\n",
    "sf_df = sf_df[['date', 'metric_value']].rename(columns={'metric_value': 'scarlet_fever_syndromic_counts'})"
   ]
  },
  {
   "cell_type": "code",
   "execution_count": 59,
   "id": "1f51e8b5",
   "metadata": {},
   "outputs": [
    {
     "data": {
      "application/vnd.microsoft.datawrangler.viewer.v0+json": {
       "columns": [
        {
         "name": "index",
         "rawType": "int64",
         "type": "integer"
        },
        {
         "name": "date",
         "rawType": "datetime64[ns]",
         "type": "datetime"
        },
        {
         "name": "scarlet_fever_syndromic_counts",
         "rawType": "float64",
         "type": "float"
        }
       ],
       "ref": "1216f495-e9bc-4629-9b82-17f4c36742a5",
       "rows": [
        [
         "1",
         "2025-06-08 00:00:00",
         "0.0"
        ],
        [
         "3",
         "2025-06-07 00:00:00",
         "0.0"
        ],
        [
         "5",
         "2025-06-06 00:00:00",
         "0.0"
        ],
        [
         "8",
         "2025-06-05 00:00:00",
         "1.0"
        ],
        [
         "11",
         "2025-06-04 00:00:00",
         "0.0"
        ]
       ],
       "shape": {
        "columns": 2,
        "rows": 5
       }
      },
      "text/html": [
       "<div>\n",
       "<style scoped>\n",
       "    .dataframe tbody tr th:only-of-type {\n",
       "        vertical-align: middle;\n",
       "    }\n",
       "\n",
       "    .dataframe tbody tr th {\n",
       "        vertical-align: top;\n",
       "    }\n",
       "\n",
       "    .dataframe thead th {\n",
       "        text-align: right;\n",
       "    }\n",
       "</style>\n",
       "<table border=\"1\" class=\"dataframe\">\n",
       "  <thead>\n",
       "    <tr style=\"text-align: right;\">\n",
       "      <th></th>\n",
       "      <th>date</th>\n",
       "      <th>scarlet_fever_syndromic_counts</th>\n",
       "    </tr>\n",
       "  </thead>\n",
       "  <tbody>\n",
       "    <tr>\n",
       "      <th>1</th>\n",
       "      <td>2025-06-08</td>\n",
       "      <td>0.0</td>\n",
       "    </tr>\n",
       "    <tr>\n",
       "      <th>3</th>\n",
       "      <td>2025-06-07</td>\n",
       "      <td>0.0</td>\n",
       "    </tr>\n",
       "    <tr>\n",
       "      <th>5</th>\n",
       "      <td>2025-06-06</td>\n",
       "      <td>0.0</td>\n",
       "    </tr>\n",
       "    <tr>\n",
       "      <th>8</th>\n",
       "      <td>2025-06-05</td>\n",
       "      <td>1.0</td>\n",
       "    </tr>\n",
       "    <tr>\n",
       "      <th>11</th>\n",
       "      <td>2025-06-04</td>\n",
       "      <td>0.0</td>\n",
       "    </tr>\n",
       "  </tbody>\n",
       "</table>\n",
       "</div>"
      ],
      "text/plain": [
       "         date  scarlet_fever_syndromic_counts\n",
       "1  2025-06-08                             0.0\n",
       "3  2025-06-07                             0.0\n",
       "5  2025-06-06                             0.0\n",
       "8  2025-06-05                             1.0\n",
       "11 2025-06-04                             0.0"
      ]
     },
     "execution_count": 59,
     "metadata": {},
     "output_type": "execute_result"
    }
   ],
   "source": [
    "#  Convert date to datetime and then to DD-MM-YYYY format\n",
    "sf_df['date'] = pd.to_datetime(sf_df['date'])\n",
    "\n",
    "sf_df.head()"
   ]
  },
  {
   "cell_type": "code",
   "execution_count": 60,
   "id": "e44b767c",
   "metadata": {},
   "outputs": [
    {
     "data": {
      "application/vnd.microsoft.datawrangler.viewer.v0+json": {
       "columns": [
        {
         "name": "index",
         "rawType": "int64",
         "type": "integer"
        },
        {
         "name": "date",
         "rawType": "datetime64[ns]",
         "type": "datetime"
        },
        {
         "name": "scarlet_fever_syndromic_counts",
         "rawType": "float64",
         "type": "float"
        }
       ],
       "ref": "48de66d8-fe6a-4f2f-aea2-664b72c7ac58",
       "rows": [],
       "shape": {
        "columns": 2,
        "rows": 0
       }
      },
      "text/html": [
       "<div>\n",
       "<style scoped>\n",
       "    .dataframe tbody tr th:only-of-type {\n",
       "        vertical-align: middle;\n",
       "    }\n",
       "\n",
       "    .dataframe tbody tr th {\n",
       "        vertical-align: top;\n",
       "    }\n",
       "\n",
       "    .dataframe thead th {\n",
       "        text-align: right;\n",
       "    }\n",
       "</style>\n",
       "<table border=\"1\" class=\"dataframe\">\n",
       "  <thead>\n",
       "    <tr style=\"text-align: right;\">\n",
       "      <th></th>\n",
       "      <th>date</th>\n",
       "      <th>scarlet_fever_syndromic_counts</th>\n",
       "    </tr>\n",
       "  </thead>\n",
       "  <tbody>\n",
       "  </tbody>\n",
       "</table>\n",
       "</div>"
      ],
      "text/plain": [
       "Empty DataFrame\n",
       "Columns: [date, scarlet_fever_syndromic_counts]\n",
       "Index: []"
      ]
     },
     "execution_count": 60,
     "metadata": {},
     "output_type": "execute_result"
    }
   ],
   "source": [
    "# Check for missing values\n",
    "sf_df[sf_df.isna().any(axis=1)]     # Show all rows with any missing values"
   ]
  },
  {
   "cell_type": "code",
   "execution_count": 61,
   "id": "b1ab2f55",
   "metadata": {},
   "outputs": [],
   "source": [
    "# Step 5: Fill missing ARI_counts with mean of previous 7 days\n",
    "def fill_with_past_7_days_mean(row, df, column, window_days=7):\n",
    "    if pd.isna(row[column]):\n",
    "        start_date = row['date'] - pd.Timedelta(days=window_days)\n",
    "        end_date = row['date'] - pd.Timedelta(days=1)\n",
    "        past_data = df[(df['date'] >= start_date) & (df['date'] <= end_date)]\n",
    "        mean_value = past_data[column].mean()\n",
    "        return mean_value\n",
    "    return row[column]\n",
    "\n",
    "# Apply the function to fill missing influenza_like_syndromic_counts\n",
    "sf_df['scarlet_fever_syndromic_counts'] = sf_df.apply(lambda row: fill_with_past_7_days_mean(row, sf_df, 'scarlet_fever_syndromic_counts'), axis=1)"
   ]
  },
  {
   "cell_type": "code",
   "execution_count": 62,
   "id": "fc7213b9",
   "metadata": {},
   "outputs": [
    {
     "data": {
      "application/vnd.microsoft.datawrangler.viewer.v0+json": {
       "columns": [
        {
         "name": "index",
         "rawType": "int64",
         "type": "integer"
        },
        {
         "name": "date",
         "rawType": "datetime64[ns]",
         "type": "datetime"
        },
        {
         "name": "scarlet_fever_syndromic_counts",
         "rawType": "float64",
         "type": "float"
        }
       ],
       "ref": "2b8c13b4-879d-40a6-8bd2-f2880ca7eb9e",
       "rows": [
        [
         "1085",
         "2024-06-09 00:00:00",
         "3.0"
        ],
        [
         "1084",
         "2024-06-10 00:00:00",
         "0.0"
        ],
        [
         "1083",
         "2024-06-11 00:00:00",
         "0.0"
        ],
        [
         "1082",
         "2024-06-12 00:00:00",
         "0.0"
        ],
        [
         "1079",
         "2024-06-13 00:00:00",
         "0.0"
        ]
       ],
       "shape": {
        "columns": 2,
        "rows": 5
       }
      },
      "text/html": [
       "<div>\n",
       "<style scoped>\n",
       "    .dataframe tbody tr th:only-of-type {\n",
       "        vertical-align: middle;\n",
       "    }\n",
       "\n",
       "    .dataframe tbody tr th {\n",
       "        vertical-align: top;\n",
       "    }\n",
       "\n",
       "    .dataframe thead th {\n",
       "        text-align: right;\n",
       "    }\n",
       "</style>\n",
       "<table border=\"1\" class=\"dataframe\">\n",
       "  <thead>\n",
       "    <tr style=\"text-align: right;\">\n",
       "      <th></th>\n",
       "      <th>date</th>\n",
       "      <th>scarlet_fever_syndromic_counts</th>\n",
       "    </tr>\n",
       "  </thead>\n",
       "  <tbody>\n",
       "    <tr>\n",
       "      <th>1085</th>\n",
       "      <td>2024-06-09</td>\n",
       "      <td>3.0</td>\n",
       "    </tr>\n",
       "    <tr>\n",
       "      <th>1084</th>\n",
       "      <td>2024-06-10</td>\n",
       "      <td>0.0</td>\n",
       "    </tr>\n",
       "    <tr>\n",
       "      <th>1083</th>\n",
       "      <td>2024-06-11</td>\n",
       "      <td>0.0</td>\n",
       "    </tr>\n",
       "    <tr>\n",
       "      <th>1082</th>\n",
       "      <td>2024-06-12</td>\n",
       "      <td>0.0</td>\n",
       "    </tr>\n",
       "    <tr>\n",
       "      <th>1079</th>\n",
       "      <td>2024-06-13</td>\n",
       "      <td>0.0</td>\n",
       "    </tr>\n",
       "  </tbody>\n",
       "</table>\n",
       "</div>"
      ],
      "text/plain": [
       "           date  scarlet_fever_syndromic_counts\n",
       "1085 2024-06-09                             3.0\n",
       "1084 2024-06-10                             0.0\n",
       "1083 2024-06-11                             0.0\n",
       "1082 2024-06-12                             0.0\n",
       "1079 2024-06-13                             0.0"
      ]
     },
     "execution_count": 62,
     "metadata": {},
     "output_type": "execute_result"
    }
   ],
   "source": [
    "sf_df = sf_df.sort_values('date', ascending=True)\n",
    "sf_df.head()"
   ]
  },
  {
   "cell_type": "code",
   "execution_count": 63,
   "id": "61374998",
   "metadata": {},
   "outputs": [],
   "source": [
    "sf_df.to_csv('scarlet_fever_syndromic_cd.csv', index=False)"
   ]
  },
  {
   "cell_type": "code",
   "execution_count": null,
   "id": "86b9f5ca",
   "metadata": {},
   "outputs": [],
   "source": []
  }
 ],
 "metadata": {
  "kernelspec": {
   "display_name": "base",
   "language": "python",
   "name": "python3"
  },
  "language_info": {
   "codemirror_mode": {
    "name": "ipython",
    "version": 3
   },
   "file_extension": ".py",
   "mimetype": "text/x-python",
   "name": "python",
   "nbconvert_exporter": "python",
   "pygments_lexer": "ipython3",
   "version": "3.11.5"
  }
 },
 "nbformat": 4,
 "nbformat_minor": 5
}
