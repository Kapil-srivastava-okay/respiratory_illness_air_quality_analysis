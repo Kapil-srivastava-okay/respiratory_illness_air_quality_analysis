{
 "cells": [
  {
   "cell_type": "markdown",
   "id": "7bd01895",
   "metadata": {},
   "source": [
    "### Black Carbon (880nm)"
   ]
  },
  {
   "cell_type": "code",
   "execution_count": 2,
   "id": "41126a8d",
   "metadata": {},
   "outputs": [
    {
     "name": "stderr",
     "output_type": "stream",
     "text": [
      "C:\\Users\\kapil\\AppData\\Roaming\\Python\\Python311\\site-packages\\pandas\\core\\arrays\\masked.py:60: UserWarning: Pandas requires version '1.3.6' or newer of 'bottleneck' (version '1.3.5' currently installed).\n",
      "  from pandas.core import (\n"
     ]
    },
    {
     "data": {
      "text/plain": [
       "Index(['Date', 'Black Carbon (880nm)', 'Status', 'Black Carbon (880nm).1',\n",
       "       'Status.1', 'Black Carbon (880nm).2', 'Status.2'],\n",
       "      dtype='object')"
      ]
     },
     "execution_count": 2,
     "metadata": {},
     "output_type": "execute_result"
    }
   ],
   "source": [
    "import pandas as pd\n",
    "import numpy as np\n",
    "\n",
    "# Read the CSV file, skipping metadata rows (first 9 rows)\n",
    "df = pd.read_csv('black_carbon.csv', skiprows=10)\n",
    "df.columns"
   ]
  },
  {
   "cell_type": "code",
   "execution_count": null,
   "id": "7e9809db",
   "metadata": {},
   "outputs": [],
   "source": [
    "# Select relevant columns: Date and Black Carbon values for the three sites\n",
    "columns = ['Date', \n",
    "           'Black Carbon (880nm)', \n",
    "           'Black Carbon (880nm).1', \n",
    "           'Black Carbon (880nm).2']\n",
    "df = df[columns]"
   ]
  },
  {
   "cell_type": "code",
   "execution_count": 4,
   "id": "4ac422d5",
   "metadata": {},
   "outputs": [
    {
     "data": {
      "application/vnd.microsoft.datawrangler.viewer.v0+json": {
       "columns": [
        {
         "name": "index",
         "rawType": "int64",
         "type": "integer"
        },
        {
         "name": "Date",
         "rawType": "object",
         "type": "string"
        },
        {
         "name": "BC_A4540",
         "rawType": "object",
         "type": "string"
        },
        {
         "name": "BC_Ladywood",
         "rawType": "object",
         "type": "string"
        },
        {
         "name": "BC_Underdale",
         "rawType": "object",
         "type": "string"
        }
       ],
       "ref": "c56dfb7e-dba0-47b7-bdb1-2b55cffcc8a5",
       "rows": [
        [
         "0",
         "2024-06-09",
         "0.81",
         "0.26",
         "0.14"
        ],
        [
         "1",
         "2024-06-10",
         "0.62",
         "0.21",
         "0.18"
        ],
        [
         "2",
         "2024-06-11",
         "0.95",
         "0.32",
         "0.17"
        ],
        [
         "3",
         "2024-06-12",
         "1.36",
         "0.4",
         "0.23"
        ],
        [
         "4",
         "2024-06-13",
         "1.4",
         "0.28",
         "0.32"
        ]
       ],
       "shape": {
        "columns": 4,
        "rows": 5
       }
      },
      "text/html": [
       "<div>\n",
       "<style scoped>\n",
       "    .dataframe tbody tr th:only-of-type {\n",
       "        vertical-align: middle;\n",
       "    }\n",
       "\n",
       "    .dataframe tbody tr th {\n",
       "        vertical-align: top;\n",
       "    }\n",
       "\n",
       "    .dataframe thead th {\n",
       "        text-align: right;\n",
       "    }\n",
       "</style>\n",
       "<table border=\"1\" class=\"dataframe\">\n",
       "  <thead>\n",
       "    <tr style=\"text-align: right;\">\n",
       "      <th></th>\n",
       "      <th>Date</th>\n",
       "      <th>BC_A4540</th>\n",
       "      <th>BC_Ladywood</th>\n",
       "      <th>BC_Underdale</th>\n",
       "    </tr>\n",
       "  </thead>\n",
       "  <tbody>\n",
       "    <tr>\n",
       "      <th>0</th>\n",
       "      <td>2024-06-09</td>\n",
       "      <td>0.81</td>\n",
       "      <td>0.26</td>\n",
       "      <td>0.14</td>\n",
       "    </tr>\n",
       "    <tr>\n",
       "      <th>1</th>\n",
       "      <td>2024-06-10</td>\n",
       "      <td>0.62</td>\n",
       "      <td>0.21</td>\n",
       "      <td>0.18</td>\n",
       "    </tr>\n",
       "    <tr>\n",
       "      <th>2</th>\n",
       "      <td>2024-06-11</td>\n",
       "      <td>0.95</td>\n",
       "      <td>0.32</td>\n",
       "      <td>0.17</td>\n",
       "    </tr>\n",
       "    <tr>\n",
       "      <th>3</th>\n",
       "      <td>2024-06-12</td>\n",
       "      <td>1.36</td>\n",
       "      <td>0.4</td>\n",
       "      <td>0.23</td>\n",
       "    </tr>\n",
       "    <tr>\n",
       "      <th>4</th>\n",
       "      <td>2024-06-13</td>\n",
       "      <td>1.4</td>\n",
       "      <td>0.28</td>\n",
       "      <td>0.32</td>\n",
       "    </tr>\n",
       "  </tbody>\n",
       "</table>\n",
       "</div>"
      ],
      "text/plain": [
       "         Date BC_A4540 BC_Ladywood BC_Underdale\n",
       "0  2024-06-09     0.81        0.26         0.14\n",
       "1  2024-06-10     0.62        0.21         0.18\n",
       "2  2024-06-11     0.95        0.32         0.17\n",
       "3  2024-06-12     1.36         0.4         0.23\n",
       "4  2024-06-13      1.4        0.28         0.32"
      ]
     },
     "execution_count": 4,
     "metadata": {},
     "output_type": "execute_result"
    }
   ],
   "source": [
    "# Rename columns for clarity\n",
    "df.columns = ['Date', 'BC_A4540', 'BC_Ladywood', 'BC_Underdale']\n",
    "df.head()"
   ]
  },
  {
   "cell_type": "code",
   "execution_count": 5,
   "id": "c4309361",
   "metadata": {},
   "outputs": [],
   "source": [
    "# Replace 'No data' with NaN\n",
    "df[['BC_A4540', 'BC_Ladywood', 'BC_Underdale']] = df[['BC_A4540', 'BC_Ladywood', 'BC_Underdale']].replace('No data', np.nan)"
   ]
  },
  {
   "cell_type": "code",
   "execution_count": 6,
   "id": "6165fa4d",
   "metadata": {},
   "outputs": [],
   "source": [
    "# Convert Black Carbon columns to numeric\n",
    "df[['BC_A4540', 'BC_Ladywood', 'BC_Underdale']] = df[['BC_A4540', 'BC_Ladywood', 'BC_Underdale']].apply(pd.to_numeric, errors='coerce')"
   ]
  },
  {
   "cell_type": "code",
   "execution_count": null,
   "id": "116b80b9",
   "metadata": {},
   "outputs": [],
   "source": [
    "# Calculate the mean Black Carbon value per row, ignoring NaN\n",
    "df['Black_Carbon_Mean'] = df[['BC_A4540', 'BC_Ladywood', 'BC_Underdale']].mean(axis=1, skipna=True)"
   ]
  },
  {
   "cell_type": "code",
   "execution_count": 8,
   "id": "463e6a1f",
   "metadata": {},
   "outputs": [
    {
     "data": {
      "application/vnd.microsoft.datawrangler.viewer.v0+json": {
       "columns": [
        {
         "name": "index",
         "rawType": "int64",
         "type": "integer"
        },
        {
         "name": "date",
         "rawType": "object",
         "type": "string"
        },
        {
         "name": "black_carbon_880nm",
         "rawType": "float64",
         "type": "float"
        }
       ],
       "ref": "91d07956-b255-4092-bb7a-ebaf6097e6c4",
       "rows": [
        [
         "0",
         "2024-06-09",
         "0.4033333333333333"
        ],
        [
         "1",
         "2024-06-10",
         "0.33666666666666667"
        ],
        [
         "2",
         "2024-06-11",
         "0.48"
        ],
        [
         "3",
         "2024-06-12",
         "0.6633333333333334"
        ],
        [
         "4",
         "2024-06-13",
         "0.6666666666666666"
        ]
       ],
       "shape": {
        "columns": 2,
        "rows": 5
       }
      },
      "text/html": [
       "<div>\n",
       "<style scoped>\n",
       "    .dataframe tbody tr th:only-of-type {\n",
       "        vertical-align: middle;\n",
       "    }\n",
       "\n",
       "    .dataframe tbody tr th {\n",
       "        vertical-align: top;\n",
       "    }\n",
       "\n",
       "    .dataframe thead th {\n",
       "        text-align: right;\n",
       "    }\n",
       "</style>\n",
       "<table border=\"1\" class=\"dataframe\">\n",
       "  <thead>\n",
       "    <tr style=\"text-align: right;\">\n",
       "      <th></th>\n",
       "      <th>date</th>\n",
       "      <th>black_carbon_880nm</th>\n",
       "    </tr>\n",
       "  </thead>\n",
       "  <tbody>\n",
       "    <tr>\n",
       "      <th>0</th>\n",
       "      <td>2024-06-09</td>\n",
       "      <td>0.403333</td>\n",
       "    </tr>\n",
       "    <tr>\n",
       "      <th>1</th>\n",
       "      <td>2024-06-10</td>\n",
       "      <td>0.336667</td>\n",
       "    </tr>\n",
       "    <tr>\n",
       "      <th>2</th>\n",
       "      <td>2024-06-11</td>\n",
       "      <td>0.480000</td>\n",
       "    </tr>\n",
       "    <tr>\n",
       "      <th>3</th>\n",
       "      <td>2024-06-12</td>\n",
       "      <td>0.663333</td>\n",
       "    </tr>\n",
       "    <tr>\n",
       "      <th>4</th>\n",
       "      <td>2024-06-13</td>\n",
       "      <td>0.666667</td>\n",
       "    </tr>\n",
       "  </tbody>\n",
       "</table>\n",
       "</div>"
      ],
      "text/plain": [
       "         date  black_carbon_880nm\n",
       "0  2024-06-09            0.403333\n",
       "1  2024-06-10            0.336667\n",
       "2  2024-06-11            0.480000\n",
       "3  2024-06-12            0.663333\n",
       "4  2024-06-13            0.666667"
      ]
     },
     "execution_count": 8,
     "metadata": {},
     "output_type": "execute_result"
    }
   ],
   "source": [
    "# Select only Date and Black_Carbon_Mean columns\n",
    "df = df[['Date', 'Black_Carbon_Mean']]\n",
    "\n",
    "# Rename specific columns\n",
    "df = df.rename(columns={'Date': 'date', 'Black_Carbon_Mean': 'black_carbon_880nm'})\n",
    "df.head()"
   ]
  },
  {
   "cell_type": "code",
   "execution_count": 11,
   "id": "28f4b719",
   "metadata": {},
   "outputs": [],
   "source": [
    "# Remove any row where the 'Date' column contains \"End\" (case-insensitive)\n",
    "df = df[~df['date'].str.lower().eq('end')]\n",
    "\n",
    "# Ensure Date column is in datetime format\n",
    "df['date'] = pd.to_datetime(df['date'])"
   ]
  },
  {
   "cell_type": "code",
   "execution_count": 12,
   "id": "87fc0a97",
   "metadata": {},
   "outputs": [],
   "source": [
    "# Function to calculate mean of past 7 days\n",
    "def fill_with_past_7_days_mean(row, df, window_days=7):\n",
    "    if pd.isna(row['black_carbon_880nm']):\n",
    "        # Get the date range for the past 7 days (t-7 to t-1)\n",
    "        start_date = row['date'] - pd.Timedelta(days=window_days)\n",
    "        end_date = row['date'] - pd.Timedelta(days=1)\n",
    "        # Select rows within the past 7 days\n",
    "        past_data = df[(df['date'] >= start_date) & (df['date'] <= end_date)]\n",
    "        # Calculate mean of non-NaN Black_Carbon_Mean values\n",
    "        mean_value = past_data['black_carbon_880nm'].mean()\n",
    "        return mean_value\n",
    "    return row['black_carbon_880nm']\n",
    "\n",
    "# Apply the function to fill missing Black_Carbon_Mean values\n",
    "df['black_carbon_880nm'] = df.apply(lambda row: fill_with_past_7_days_mean(row, df), axis=1)"
   ]
  },
  {
   "cell_type": "code",
   "execution_count": 14,
   "id": "d605931e",
   "metadata": {},
   "outputs": [
    {
     "data": {
      "application/vnd.microsoft.datawrangler.viewer.v0+json": {
       "columns": [
        {
         "name": "index",
         "rawType": "int64",
         "type": "integer"
        },
        {
         "name": "date",
         "rawType": "datetime64[ns]",
         "type": "datetime"
        },
        {
         "name": "black_carbon_880nm",
         "rawType": "float64",
         "type": "float"
        }
       ],
       "ref": "70a56db4-6cce-4440-ad73-68429423de1f",
       "rows": [
        [
         "0",
         "2024-06-09 00:00:00",
         "0.403"
        ],
        [
         "1",
         "2024-06-10 00:00:00",
         "0.337"
        ],
        [
         "2",
         "2024-06-11 00:00:00",
         "0.48"
        ],
        [
         "3",
         "2024-06-12 00:00:00",
         "0.663"
        ],
        [
         "4",
         "2024-06-13 00:00:00",
         "0.667"
        ]
       ],
       "shape": {
        "columns": 2,
        "rows": 5
       }
      },
      "text/html": [
       "<div>\n",
       "<style scoped>\n",
       "    .dataframe tbody tr th:only-of-type {\n",
       "        vertical-align: middle;\n",
       "    }\n",
       "\n",
       "    .dataframe tbody tr th {\n",
       "        vertical-align: top;\n",
       "    }\n",
       "\n",
       "    .dataframe thead th {\n",
       "        text-align: right;\n",
       "    }\n",
       "</style>\n",
       "<table border=\"1\" class=\"dataframe\">\n",
       "  <thead>\n",
       "    <tr style=\"text-align: right;\">\n",
       "      <th></th>\n",
       "      <th>date</th>\n",
       "      <th>black_carbon_880nm</th>\n",
       "    </tr>\n",
       "  </thead>\n",
       "  <tbody>\n",
       "    <tr>\n",
       "      <th>0</th>\n",
       "      <td>2024-06-09</td>\n",
       "      <td>0.403</td>\n",
       "    </tr>\n",
       "    <tr>\n",
       "      <th>1</th>\n",
       "      <td>2024-06-10</td>\n",
       "      <td>0.337</td>\n",
       "    </tr>\n",
       "    <tr>\n",
       "      <th>2</th>\n",
       "      <td>2024-06-11</td>\n",
       "      <td>0.480</td>\n",
       "    </tr>\n",
       "    <tr>\n",
       "      <th>3</th>\n",
       "      <td>2024-06-12</td>\n",
       "      <td>0.663</td>\n",
       "    </tr>\n",
       "    <tr>\n",
       "      <th>4</th>\n",
       "      <td>2024-06-13</td>\n",
       "      <td>0.667</td>\n",
       "    </tr>\n",
       "  </tbody>\n",
       "</table>\n",
       "</div>"
      ],
      "text/plain": [
       "        date  black_carbon_880nm\n",
       "0 2024-06-09               0.403\n",
       "1 2024-06-10               0.337\n",
       "2 2024-06-11               0.480\n",
       "3 2024-06-12               0.663\n",
       "4 2024-06-13               0.667"
      ]
     },
     "execution_count": 14,
     "metadata": {},
     "output_type": "execute_result"
    }
   ],
   "source": [
    "# Round specific columns\n",
    "df['black_carbon_880nm'] = df['black_carbon_880nm'].round(3)\n",
    "df.head()"
   ]
  },
  {
   "cell_type": "code",
   "execution_count": 15,
   "id": "92f26359",
   "metadata": {},
   "outputs": [],
   "source": [
    "# Save to a new CSV file\n",
    "df.to_csv('cleaned_black_carbon.csv', index=False)"
   ]
  },
  {
   "cell_type": "code",
   "execution_count": null,
   "id": "249ba23b",
   "metadata": {},
   "outputs": [],
   "source": []
  },
  {
   "cell_type": "markdown",
   "id": "a71c3ad2",
   "metadata": {},
   "source": [
    "### Blue Particulate Matter (470nm)"
   ]
  },
  {
   "cell_type": "code",
   "execution_count": 3,
   "id": "b63a5483",
   "metadata": {},
   "outputs": [
    {
     "name": "stderr",
     "output_type": "stream",
     "text": [
      "C:\\Users\\kapil\\AppData\\Roaming\\Python\\Python311\\site-packages\\pandas\\core\\arrays\\masked.py:60: UserWarning: Pandas requires version '1.3.6' or newer of 'bottleneck' (version '1.3.5' currently installed).\n",
      "  from pandas.core import (\n"
     ]
    },
    {
     "data": {
      "text/plain": [
       "Index(['Date', 'Blue Particulate matter (470nm)', 'Status',\n",
       "       'Blue Particulate matter (470nm).1', 'Status.1',\n",
       "       'Blue Particulate matter (470nm).2', 'Status.2'],\n",
       "      dtype='object')"
      ]
     },
     "execution_count": 3,
     "metadata": {},
     "output_type": "execute_result"
    }
   ],
   "source": [
    "import pandas as pd\n",
    "import numpy as np\n",
    "\n",
    "df_bpm = pd.read_csv('blue_particulate_matter.csv', skiprows=10)\n",
    "df_bpm.columns"
   ]
  },
  {
   "cell_type": "code",
   "execution_count": 5,
   "id": "126cbb8f",
   "metadata": {},
   "outputs": [],
   "source": [
    "# Select relevant columns: Date and Black Carbon values for the three sites\n",
    "columns = ['Date', \n",
    "           'Blue Particulate matter (470nm)', \n",
    "           'Blue Particulate matter (470nm).1', \n",
    "           'Blue Particulate matter (470nm).2']\n",
    "df_bpm = df_bpm[columns]"
   ]
  },
  {
   "cell_type": "code",
   "execution_count": 6,
   "id": "0b0e696b",
   "metadata": {},
   "outputs": [
    {
     "data": {
      "application/vnd.microsoft.datawrangler.viewer.v0+json": {
       "columns": [
        {
         "name": "index",
         "rawType": "int64",
         "type": "integer"
        },
        {
         "name": "Date",
         "rawType": "object",
         "type": "string"
        },
        {
         "name": "Blue Particulate matter (470nm)",
         "rawType": "float64",
         "type": "float"
        },
        {
         "name": "Blue Particulate matter (470nm).1",
         "rawType": "float64",
         "type": "float"
        },
        {
         "name": "Blue Particulate matter (470nm).2",
         "rawType": "float64",
         "type": "float"
        },
        {
         "name": "blue_particulate_matter",
         "rawType": "float64",
         "type": "float"
        }
       ],
       "ref": "5a8d03e8-ac9b-4c7e-85dd-6539ac12628d",
       "rows": [
        [
         "0",
         "2024-06-09",
         "0.93",
         "0.31",
         "0.17",
         "0.47"
        ],
        [
         "1",
         "2024-06-10",
         "0.69",
         "0.25",
         "0.18",
         "0.3733333333333333"
        ],
        [
         "2",
         "2024-06-11",
         "1.04",
         "0.36",
         "0.19",
         "0.5299999999999999"
        ],
        [
         "3",
         "2024-06-12",
         "1.52",
         "0.48",
         "0.26",
         "0.7533333333333333"
        ],
        [
         "4",
         "2024-06-13",
         "1.55",
         "0.3",
         "0.35",
         "0.7333333333333334"
        ]
       ],
       "shape": {
        "columns": 5,
        "rows": 5
       }
      },
      "text/html": [
       "<div>\n",
       "<style scoped>\n",
       "    .dataframe tbody tr th:only-of-type {\n",
       "        vertical-align: middle;\n",
       "    }\n",
       "\n",
       "    .dataframe tbody tr th {\n",
       "        vertical-align: top;\n",
       "    }\n",
       "\n",
       "    .dataframe thead th {\n",
       "        text-align: right;\n",
       "    }\n",
       "</style>\n",
       "<table border=\"1\" class=\"dataframe\">\n",
       "  <thead>\n",
       "    <tr style=\"text-align: right;\">\n",
       "      <th></th>\n",
       "      <th>Date</th>\n",
       "      <th>Blue Particulate matter (470nm)</th>\n",
       "      <th>Blue Particulate matter (470nm).1</th>\n",
       "      <th>Blue Particulate matter (470nm).2</th>\n",
       "      <th>blue_particulate_matter</th>\n",
       "    </tr>\n",
       "  </thead>\n",
       "  <tbody>\n",
       "    <tr>\n",
       "      <th>0</th>\n",
       "      <td>2024-06-09</td>\n",
       "      <td>0.93</td>\n",
       "      <td>0.31</td>\n",
       "      <td>0.17</td>\n",
       "      <td>0.470000</td>\n",
       "    </tr>\n",
       "    <tr>\n",
       "      <th>1</th>\n",
       "      <td>2024-06-10</td>\n",
       "      <td>0.69</td>\n",
       "      <td>0.25</td>\n",
       "      <td>0.18</td>\n",
       "      <td>0.373333</td>\n",
       "    </tr>\n",
       "    <tr>\n",
       "      <th>2</th>\n",
       "      <td>2024-06-11</td>\n",
       "      <td>1.04</td>\n",
       "      <td>0.36</td>\n",
       "      <td>0.19</td>\n",
       "      <td>0.530000</td>\n",
       "    </tr>\n",
       "    <tr>\n",
       "      <th>3</th>\n",
       "      <td>2024-06-12</td>\n",
       "      <td>1.52</td>\n",
       "      <td>0.48</td>\n",
       "      <td>0.26</td>\n",
       "      <td>0.753333</td>\n",
       "    </tr>\n",
       "    <tr>\n",
       "      <th>4</th>\n",
       "      <td>2024-06-13</td>\n",
       "      <td>1.55</td>\n",
       "      <td>0.30</td>\n",
       "      <td>0.35</td>\n",
       "      <td>0.733333</td>\n",
       "    </tr>\n",
       "  </tbody>\n",
       "</table>\n",
       "</div>"
      ],
      "text/plain": [
       "         Date  Blue Particulate matter (470nm)  \\\n",
       "0  2024-06-09                             0.93   \n",
       "1  2024-06-10                             0.69   \n",
       "2  2024-06-11                             1.04   \n",
       "3  2024-06-12                             1.52   \n",
       "4  2024-06-13                             1.55   \n",
       "\n",
       "   Blue Particulate matter (470nm).1  Blue Particulate matter (470nm).2  \\\n",
       "0                               0.31                               0.17   \n",
       "1                               0.25                               0.18   \n",
       "2                               0.36                               0.19   \n",
       "3                               0.48                               0.26   \n",
       "4                               0.30                               0.35   \n",
       "\n",
       "   blue_particulate_matter  \n",
       "0                 0.470000  \n",
       "1                 0.373333  \n",
       "2                 0.530000  \n",
       "3                 0.753333  \n",
       "4                 0.733333  "
      ]
     },
     "execution_count": 6,
     "metadata": {},
     "output_type": "execute_result"
    }
   ],
   "source": [
    "# Replace 'No data' with NaN\n",
    "df_bpm[['Blue Particulate matter (470nm)', 'Blue Particulate matter (470nm).1', 'Blue Particulate matter (470nm).2']] = df_bpm[['Blue Particulate matter (470nm)', 'Blue Particulate matter (470nm).1', 'Blue Particulate matter (470nm).2']].replace('No data', np.nan)\n",
    "\n",
    "# Convert blue particulate matter columns to numeric\n",
    "df_bpm[['Blue Particulate matter (470nm)', 'Blue Particulate matter (470nm).1', 'Blue Particulate matter (470nm).2']] = df_bpm[['Blue Particulate matter (470nm)', 'Blue Particulate matter (470nm).1', 'Blue Particulate matter (470nm).2']].apply(pd.to_numeric, errors='coerce')\n",
    "\n",
    "# Calculate the mean blue particulate matter value per row, ignoring NaN\n",
    "df_bpm['blue_particulate_matter'] = df_bpm[['Blue Particulate matter (470nm)', 'Blue Particulate matter (470nm).1', 'Blue Particulate matter (470nm).2']].mean(axis=1, skipna=True)\n",
    "\n",
    "df_bpm.head()\n",
    "\n"
   ]
  },
  {
   "cell_type": "code",
   "execution_count": 13,
   "id": "0339826d",
   "metadata": {},
   "outputs": [],
   "source": [
    "# Select only Date and Black_Carbon_Mean columns\n",
    "# df_bpm = df_bpm[['Date', 'blue_particulate_matter']]"
   ]
  },
  {
   "cell_type": "code",
   "execution_count": 14,
   "id": "7e8d4749",
   "metadata": {},
   "outputs": [
    {
     "data": {
      "application/vnd.microsoft.datawrangler.viewer.v0+json": {
       "columns": [
        {
         "name": "index",
         "rawType": "int64",
         "type": "integer"
        },
        {
         "name": "date",
         "rawType": "object",
         "type": "string"
        },
        {
         "name": "blue_particulate_matter_470nm",
         "rawType": "float64",
         "type": "float"
        }
       ],
       "ref": "b0e4d3f1-6134-4025-83e6-ef20799dd6c3",
       "rows": [
        [
         "0",
         "2024-06-09",
         "0.47"
        ],
        [
         "1",
         "2024-06-10",
         "0.3733333333333333"
        ],
        [
         "2",
         "2024-06-11",
         "0.5299999999999999"
        ],
        [
         "3",
         "2024-06-12",
         "0.7533333333333333"
        ],
        [
         "4",
         "2024-06-13",
         "0.7333333333333334"
        ]
       ],
       "shape": {
        "columns": 2,
        "rows": 5
       }
      },
      "text/html": [
       "<div>\n",
       "<style scoped>\n",
       "    .dataframe tbody tr th:only-of-type {\n",
       "        vertical-align: middle;\n",
       "    }\n",
       "\n",
       "    .dataframe tbody tr th {\n",
       "        vertical-align: top;\n",
       "    }\n",
       "\n",
       "    .dataframe thead th {\n",
       "        text-align: right;\n",
       "    }\n",
       "</style>\n",
       "<table border=\"1\" class=\"dataframe\">\n",
       "  <thead>\n",
       "    <tr style=\"text-align: right;\">\n",
       "      <th></th>\n",
       "      <th>date</th>\n",
       "      <th>blue_particulate_matter_470nm</th>\n",
       "    </tr>\n",
       "  </thead>\n",
       "  <tbody>\n",
       "    <tr>\n",
       "      <th>0</th>\n",
       "      <td>2024-06-09</td>\n",
       "      <td>0.470000</td>\n",
       "    </tr>\n",
       "    <tr>\n",
       "      <th>1</th>\n",
       "      <td>2024-06-10</td>\n",
       "      <td>0.373333</td>\n",
       "    </tr>\n",
       "    <tr>\n",
       "      <th>2</th>\n",
       "      <td>2024-06-11</td>\n",
       "      <td>0.530000</td>\n",
       "    </tr>\n",
       "    <tr>\n",
       "      <th>3</th>\n",
       "      <td>2024-06-12</td>\n",
       "      <td>0.753333</td>\n",
       "    </tr>\n",
       "    <tr>\n",
       "      <th>4</th>\n",
       "      <td>2024-06-13</td>\n",
       "      <td>0.733333</td>\n",
       "    </tr>\n",
       "  </tbody>\n",
       "</table>\n",
       "</div>"
      ],
      "text/plain": [
       "         date  blue_particulate_matter_470nm\n",
       "0  2024-06-09                       0.470000\n",
       "1  2024-06-10                       0.373333\n",
       "2  2024-06-11                       0.530000\n",
       "3  2024-06-12                       0.753333\n",
       "4  2024-06-13                       0.733333"
      ]
     },
     "execution_count": 14,
     "metadata": {},
     "output_type": "execute_result"
    }
   ],
   "source": [
    "# Rename specific columns\n",
    "df_bpm = df_bpm.rename(columns={'Date': 'date', 'blue_particulate_matter': 'blue_particulate_matter_470nm'})\n",
    "df_bpm.head()"
   ]
  },
  {
   "cell_type": "code",
   "execution_count": 15,
   "id": "b199fc25",
   "metadata": {},
   "outputs": [],
   "source": [
    "# Remove any row where the 'Date' column contains \"End\" (case-insensitive)\n",
    "df_bpm = df_bpm[~df_bpm['date'].str.lower().eq('end')]\n",
    "\n",
    "# Ensure Date column is in datetime format\n",
    "df_bpm['date'] = pd.to_datetime(df_bpm['date'])"
   ]
  },
  {
   "cell_type": "code",
   "execution_count": 18,
   "id": "1bbcf337",
   "metadata": {},
   "outputs": [],
   "source": [
    "# Function to calculate mean of past 7 days\n",
    "def fill_with_past_7_days_mean(row, df_bpm, window_days=7):\n",
    "    if pd.isna(row['blue_particulate_matter_470nm']):\n",
    "        # Get the date range for the past 7 days (t-7 to t-1)\n",
    "        start_date = row['date'] - pd.Timedelta(days=window_days)\n",
    "        end_date = row['date'] - pd.Timedelta(days=1)\n",
    "        # Select rows within the past 7 days\n",
    "        past_data = df_bpm[(df_bpm['date'] >= start_date) & (df_bpm['date'] <= end_date)]\n",
    "        # Calculate mean of non-NaN Black_Carbon_Mean values\n",
    "        mean_value = past_data['blue_particulate_matter_470nm'].mean()\n",
    "        return mean_value\n",
    "    return row['blue_particulate_matter_470nm']\n",
    "\n",
    "# Apply the function to fill missing Black_Carbon_Mean values\n",
    "df_bpm['blue_particulate_matter_470nm'] = df_bpm.apply(lambda row: fill_with_past_7_days_mean(row, df_bpm), axis=1)"
   ]
  },
  {
   "cell_type": "code",
   "execution_count": null,
   "id": "71a96078",
   "metadata": {},
   "outputs": [
    {
     "data": {
      "application/vnd.microsoft.datawrangler.viewer.v0+json": {
       "columns": [
        {
         "name": "index",
         "rawType": "int64",
         "type": "integer"
        },
        {
         "name": "date",
         "rawType": "datetime64[ns]",
         "type": "datetime"
        },
        {
         "name": "blue_particulate_matter_470nm",
         "rawType": "float64",
         "type": "float"
        }
       ],
       "ref": "924cff15-fd84-4f7d-bb9b-5852c6de3e5c",
       "rows": [
        [
         "0",
         "2024-06-09 00:00:00",
         "0.47"
        ],
        [
         "1",
         "2024-06-10 00:00:00",
         "0.373"
        ],
        [
         "2",
         "2024-06-11 00:00:00",
         "0.53"
        ],
        [
         "3",
         "2024-06-12 00:00:00",
         "0.753"
        ],
        [
         "4",
         "2024-06-13 00:00:00",
         "0.733"
        ]
       ],
       "shape": {
        "columns": 2,
        "rows": 5
       }
      },
      "text/html": [
       "<div>\n",
       "<style scoped>\n",
       "    .dataframe tbody tr th:only-of-type {\n",
       "        vertical-align: middle;\n",
       "    }\n",
       "\n",
       "    .dataframe tbody tr th {\n",
       "        vertical-align: top;\n",
       "    }\n",
       "\n",
       "    .dataframe thead th {\n",
       "        text-align: right;\n",
       "    }\n",
       "</style>\n",
       "<table border=\"1\" class=\"dataframe\">\n",
       "  <thead>\n",
       "    <tr style=\"text-align: right;\">\n",
       "      <th></th>\n",
       "      <th>date</th>\n",
       "      <th>blue_particulate_matter_470nm</th>\n",
       "    </tr>\n",
       "  </thead>\n",
       "  <tbody>\n",
       "    <tr>\n",
       "      <th>0</th>\n",
       "      <td>2024-06-09</td>\n",
       "      <td>0.470</td>\n",
       "    </tr>\n",
       "    <tr>\n",
       "      <th>1</th>\n",
       "      <td>2024-06-10</td>\n",
       "      <td>0.373</td>\n",
       "    </tr>\n",
       "    <tr>\n",
       "      <th>2</th>\n",
       "      <td>2024-06-11</td>\n",
       "      <td>0.530</td>\n",
       "    </tr>\n",
       "    <tr>\n",
       "      <th>3</th>\n",
       "      <td>2024-06-12</td>\n",
       "      <td>0.753</td>\n",
       "    </tr>\n",
       "    <tr>\n",
       "      <th>4</th>\n",
       "      <td>2024-06-13</td>\n",
       "      <td>0.733</td>\n",
       "    </tr>\n",
       "  </tbody>\n",
       "</table>\n",
       "</div>"
      ],
      "text/plain": [
       "        date  blue_particulate_matter_470nm\n",
       "0 2024-06-09                          0.470\n",
       "1 2024-06-10                          0.373\n",
       "2 2024-06-11                          0.530\n",
       "3 2024-06-12                          0.753\n",
       "4 2024-06-13                          0.733"
      ]
     },
     "execution_count": 21,
     "metadata": {},
     "output_type": "execute_result"
    }
   ],
   "source": [
    "# Round specific columns\n",
    "df_bpm['blue_particulate_matter_470nm'] = df_bpm['blue_particulate_matter_470nm'].round(3)\n",
    "df_bpm.head()"
   ]
  },
  {
   "cell_type": "code",
   "execution_count": 23,
   "id": "927229a9",
   "metadata": {},
   "outputs": [],
   "source": [
    "# Save to a new CSV file\n",
    "df_bpm.to_csv('blue_particulate_matter_cd.csv', index=False)"
   ]
  },
  {
   "cell_type": "code",
   "execution_count": null,
   "id": "349d3eca",
   "metadata": {},
   "outputs": [],
   "source": []
  },
  {
   "cell_type": "markdown",
   "id": "bc5a0e00",
   "metadata": {},
   "source": [
    "### Green Particulate Matter (520nm)"
   ]
  },
  {
   "cell_type": "code",
   "execution_count": 34,
   "id": "fe4f2dbe",
   "metadata": {},
   "outputs": [
    {
     "data": {
      "text/plain": [
       "Index(['Date', 'Green Particulate matter (520nm)', 'Status',\n",
       "       'Green Particulate matter (520nm).1', 'Status.1',\n",
       "       'Green Particulate matter (520nm).2', 'Status.2'],\n",
       "      dtype='object')"
      ]
     },
     "execution_count": 34,
     "metadata": {},
     "output_type": "execute_result"
    }
   ],
   "source": [
    "df_gpm = pd.read_csv('green_particulate_matter.csv', skiprows=10)\n",
    "df_gpm.columns"
   ]
  },
  {
   "cell_type": "code",
   "execution_count": 35,
   "id": "02ba22cd",
   "metadata": {},
   "outputs": [],
   "source": [
    "# Select relevant columns: Date and Black Carbon values for the three sites\n",
    "columns = ['Date', \n",
    "           'Green Particulate matter (520nm)', \n",
    "           'Green Particulate matter (520nm).1', \n",
    "           'Green Particulate matter (520nm).2']\n",
    "df_gpm = df_gpm[columns]"
   ]
  },
  {
   "cell_type": "code",
   "execution_count": 36,
   "id": "92e6dc29",
   "metadata": {},
   "outputs": [
    {
     "data": {
      "application/vnd.microsoft.datawrangler.viewer.v0+json": {
       "columns": [
        {
         "name": "index",
         "rawType": "int64",
         "type": "integer"
        },
        {
         "name": "Date",
         "rawType": "object",
         "type": "string"
        },
        {
         "name": "Green Particulate matter (520nm)",
         "rawType": "float64",
         "type": "float"
        },
        {
         "name": "Green Particulate matter (520nm).1",
         "rawType": "float64",
         "type": "float"
        },
        {
         "name": "Green Particulate matter (520nm).2",
         "rawType": "float64",
         "type": "float"
        },
        {
         "name": "green_particulate_matter",
         "rawType": "float64",
         "type": "float"
        }
       ],
       "ref": "b91c7ae8-dc6f-4165-8b3f-02a91280d885",
       "rows": [
        [
         "0",
         "09-06-2024",
         "0.87",
         "0.3",
         "0.17",
         "0.4466666666666666"
        ],
        [
         "1",
         "10-06-2024",
         "0.64",
         "0.25",
         "0.17",
         "0.35333333333333333"
        ],
        [
         "2",
         "11-06-2024",
         "1.0",
         "0.34",
         "0.18",
         "0.5066666666666667"
        ],
        [
         "3",
         "12-06-2024",
         "1.45",
         "0.45",
         "0.25",
         "0.7166666666666667"
        ],
        [
         "4",
         "13-06-2024",
         "1.47",
         "0.3",
         "0.34",
         "0.7033333333333333"
        ]
       ],
       "shape": {
        "columns": 5,
        "rows": 5
       }
      },
      "text/html": [
       "<div>\n",
       "<style scoped>\n",
       "    .dataframe tbody tr th:only-of-type {\n",
       "        vertical-align: middle;\n",
       "    }\n",
       "\n",
       "    .dataframe tbody tr th {\n",
       "        vertical-align: top;\n",
       "    }\n",
       "\n",
       "    .dataframe thead th {\n",
       "        text-align: right;\n",
       "    }\n",
       "</style>\n",
       "<table border=\"1\" class=\"dataframe\">\n",
       "  <thead>\n",
       "    <tr style=\"text-align: right;\">\n",
       "      <th></th>\n",
       "      <th>Date</th>\n",
       "      <th>Green Particulate matter (520nm)</th>\n",
       "      <th>Green Particulate matter (520nm).1</th>\n",
       "      <th>Green Particulate matter (520nm).2</th>\n",
       "      <th>green_particulate_matter</th>\n",
       "    </tr>\n",
       "  </thead>\n",
       "  <tbody>\n",
       "    <tr>\n",
       "      <th>0</th>\n",
       "      <td>09-06-2024</td>\n",
       "      <td>0.87</td>\n",
       "      <td>0.30</td>\n",
       "      <td>0.17</td>\n",
       "      <td>0.446667</td>\n",
       "    </tr>\n",
       "    <tr>\n",
       "      <th>1</th>\n",
       "      <td>10-06-2024</td>\n",
       "      <td>0.64</td>\n",
       "      <td>0.25</td>\n",
       "      <td>0.17</td>\n",
       "      <td>0.353333</td>\n",
       "    </tr>\n",
       "    <tr>\n",
       "      <th>2</th>\n",
       "      <td>11-06-2024</td>\n",
       "      <td>1.00</td>\n",
       "      <td>0.34</td>\n",
       "      <td>0.18</td>\n",
       "      <td>0.506667</td>\n",
       "    </tr>\n",
       "    <tr>\n",
       "      <th>3</th>\n",
       "      <td>12-06-2024</td>\n",
       "      <td>1.45</td>\n",
       "      <td>0.45</td>\n",
       "      <td>0.25</td>\n",
       "      <td>0.716667</td>\n",
       "    </tr>\n",
       "    <tr>\n",
       "      <th>4</th>\n",
       "      <td>13-06-2024</td>\n",
       "      <td>1.47</td>\n",
       "      <td>0.30</td>\n",
       "      <td>0.34</td>\n",
       "      <td>0.703333</td>\n",
       "    </tr>\n",
       "  </tbody>\n",
       "</table>\n",
       "</div>"
      ],
      "text/plain": [
       "         Date  Green Particulate matter (520nm)  \\\n",
       "0  09-06-2024                              0.87   \n",
       "1  10-06-2024                              0.64   \n",
       "2  11-06-2024                              1.00   \n",
       "3  12-06-2024                              1.45   \n",
       "4  13-06-2024                              1.47   \n",
       "\n",
       "   Green Particulate matter (520nm).1  Green Particulate matter (520nm).2  \\\n",
       "0                                0.30                                0.17   \n",
       "1                                0.25                                0.17   \n",
       "2                                0.34                                0.18   \n",
       "3                                0.45                                0.25   \n",
       "4                                0.30                                0.34   \n",
       "\n",
       "   green_particulate_matter  \n",
       "0                  0.446667  \n",
       "1                  0.353333  \n",
       "2                  0.506667  \n",
       "3                  0.716667  \n",
       "4                  0.703333  "
      ]
     },
     "execution_count": 36,
     "metadata": {},
     "output_type": "execute_result"
    }
   ],
   "source": [
    "# Replace 'No data' with NaN\n",
    "df_gpm[['Green Particulate matter (520nm)', 'Green Particulate matter (520nm).1', 'Green Particulate matter (520nm).2']] = df_gpm[['Green Particulate matter (520nm)', 'Green Particulate matter (520nm).1', 'Green Particulate matter (520nm).2']].replace('No data', np.nan)\n",
    "\n",
    "# Convert blue particulate matter columns to numeric\n",
    "df_gpm[['Green Particulate matter (520nm)', 'Green Particulate matter (520nm).1', 'Green Particulate matter (520nm).2']] = df_gpm[['Green Particulate matter (520nm)', 'Green Particulate matter (520nm).1', 'Green Particulate matter (520nm).2']].apply(pd.to_numeric, errors='coerce')\n",
    "\n",
    "# Calculate the mean blue particulate matter value per row, ignoring NaN\n",
    "df_gpm['green_particulate_matter'] = df_gpm[['Green Particulate matter (520nm)', 'Green Particulate matter (520nm).1', 'Green Particulate matter (520nm).2']].mean(axis=1, skipna=True)\n",
    "\n",
    "df_gpm.head()"
   ]
  },
  {
   "cell_type": "code",
   "execution_count": 37,
   "id": "ef5ae6ae",
   "metadata": {},
   "outputs": [],
   "source": [
    "# Select only Date and Black_Carbon_Mean columns\n",
    "df_gpm = df_gpm[['Date', 'green_particulate_matter']]"
   ]
  },
  {
   "cell_type": "code",
   "execution_count": 38,
   "id": "235c80d4",
   "metadata": {},
   "outputs": [
    {
     "data": {
      "application/vnd.microsoft.datawrangler.viewer.v0+json": {
       "columns": [
        {
         "name": "index",
         "rawType": "int64",
         "type": "integer"
        },
        {
         "name": "date",
         "rawType": "object",
         "type": "string"
        },
        {
         "name": "green_particulate_matter_520nm",
         "rawType": "float64",
         "type": "float"
        }
       ],
       "ref": "5fd51fc9-1b04-46aa-b7ea-6002d2f3a36f",
       "rows": [
        [
         "0",
         "09-06-2024",
         "0.4466666666666666"
        ],
        [
         "1",
         "10-06-2024",
         "0.35333333333333333"
        ],
        [
         "2",
         "11-06-2024",
         "0.5066666666666667"
        ],
        [
         "3",
         "12-06-2024",
         "0.7166666666666667"
        ],
        [
         "4",
         "13-06-2024",
         "0.7033333333333333"
        ]
       ],
       "shape": {
        "columns": 2,
        "rows": 5
       }
      },
      "text/html": [
       "<div>\n",
       "<style scoped>\n",
       "    .dataframe tbody tr th:only-of-type {\n",
       "        vertical-align: middle;\n",
       "    }\n",
       "\n",
       "    .dataframe tbody tr th {\n",
       "        vertical-align: top;\n",
       "    }\n",
       "\n",
       "    .dataframe thead th {\n",
       "        text-align: right;\n",
       "    }\n",
       "</style>\n",
       "<table border=\"1\" class=\"dataframe\">\n",
       "  <thead>\n",
       "    <tr style=\"text-align: right;\">\n",
       "      <th></th>\n",
       "      <th>date</th>\n",
       "      <th>green_particulate_matter_520nm</th>\n",
       "    </tr>\n",
       "  </thead>\n",
       "  <tbody>\n",
       "    <tr>\n",
       "      <th>0</th>\n",
       "      <td>09-06-2024</td>\n",
       "      <td>0.446667</td>\n",
       "    </tr>\n",
       "    <tr>\n",
       "      <th>1</th>\n",
       "      <td>10-06-2024</td>\n",
       "      <td>0.353333</td>\n",
       "    </tr>\n",
       "    <tr>\n",
       "      <th>2</th>\n",
       "      <td>11-06-2024</td>\n",
       "      <td>0.506667</td>\n",
       "    </tr>\n",
       "    <tr>\n",
       "      <th>3</th>\n",
       "      <td>12-06-2024</td>\n",
       "      <td>0.716667</td>\n",
       "    </tr>\n",
       "    <tr>\n",
       "      <th>4</th>\n",
       "      <td>13-06-2024</td>\n",
       "      <td>0.703333</td>\n",
       "    </tr>\n",
       "  </tbody>\n",
       "</table>\n",
       "</div>"
      ],
      "text/plain": [
       "         date  green_particulate_matter_520nm\n",
       "0  09-06-2024                        0.446667\n",
       "1  10-06-2024                        0.353333\n",
       "2  11-06-2024                        0.506667\n",
       "3  12-06-2024                        0.716667\n",
       "4  13-06-2024                        0.703333"
      ]
     },
     "execution_count": 38,
     "metadata": {},
     "output_type": "execute_result"
    }
   ],
   "source": [
    "# Rename specific columns\n",
    "df_gpm = df_gpm.rename(columns={'Date': 'date', 'green_particulate_matter': 'green_particulate_matter_520nm'})\n",
    "df_gpm.head()"
   ]
  },
  {
   "cell_type": "code",
   "execution_count": 40,
   "id": "4419d6c2",
   "metadata": {},
   "outputs": [],
   "source": [
    "# Ensure Date column is in datetime format, parsing DD-MM-YYYY\n",
    "df_gpm['date'] = pd.to_datetime(df_gpm['date'], format='%d-%m-%Y')"
   ]
  },
  {
   "cell_type": "code",
   "execution_count": null,
   "id": "682fb3af",
   "metadata": {},
   "outputs": [
    {
     "data": {
      "application/vnd.microsoft.datawrangler.viewer.v0+json": {
       "columns": [
        {
         "name": "index",
         "rawType": "int64",
         "type": "integer"
        },
        {
         "name": "date",
         "rawType": "datetime64[ns]",
         "type": "datetime"
        },
        {
         "name": "green_particulate_matter_520nm",
         "rawType": "float64",
         "type": "float"
        }
       ],
       "ref": "9295aea2-d0aa-4ff9-9630-17cc90029de4",
       "rows": [
        [
         "207",
         "2025-01-02 00:00:00",
         null
        ],
        [
         "217",
         "2025-01-12 00:00:00",
         null
        ],
        [
         "218",
         "2025-01-13 00:00:00",
         null
        ],
        [
         "306",
         "2025-04-11 00:00:00",
         null
        ],
        [
         "319",
         "2025-04-24 00:00:00",
         null
        ],
        [
         "341",
         "2025-05-16 00:00:00",
         null
        ],
        [
         "342",
         "2025-05-18 00:00:00",
         null
        ]
       ],
       "shape": {
        "columns": 2,
        "rows": 7
       }
      },
      "text/html": [
       "<div>\n",
       "<style scoped>\n",
       "    .dataframe tbody tr th:only-of-type {\n",
       "        vertical-align: middle;\n",
       "    }\n",
       "\n",
       "    .dataframe tbody tr th {\n",
       "        vertical-align: top;\n",
       "    }\n",
       "\n",
       "    .dataframe thead th {\n",
       "        text-align: right;\n",
       "    }\n",
       "</style>\n",
       "<table border=\"1\" class=\"dataframe\">\n",
       "  <thead>\n",
       "    <tr style=\"text-align: right;\">\n",
       "      <th></th>\n",
       "      <th>date</th>\n",
       "      <th>green_particulate_matter_520nm</th>\n",
       "    </tr>\n",
       "  </thead>\n",
       "  <tbody>\n",
       "    <tr>\n",
       "      <th>207</th>\n",
       "      <td>2025-01-02</td>\n",
       "      <td>NaN</td>\n",
       "    </tr>\n",
       "    <tr>\n",
       "      <th>217</th>\n",
       "      <td>2025-01-12</td>\n",
       "      <td>NaN</td>\n",
       "    </tr>\n",
       "    <tr>\n",
       "      <th>218</th>\n",
       "      <td>2025-01-13</td>\n",
       "      <td>NaN</td>\n",
       "    </tr>\n",
       "    <tr>\n",
       "      <th>306</th>\n",
       "      <td>2025-04-11</td>\n",
       "      <td>NaN</td>\n",
       "    </tr>\n",
       "    <tr>\n",
       "      <th>319</th>\n",
       "      <td>2025-04-24</td>\n",
       "      <td>NaN</td>\n",
       "    </tr>\n",
       "    <tr>\n",
       "      <th>341</th>\n",
       "      <td>2025-05-16</td>\n",
       "      <td>NaN</td>\n",
       "    </tr>\n",
       "    <tr>\n",
       "      <th>342</th>\n",
       "      <td>2025-05-18</td>\n",
       "      <td>NaN</td>\n",
       "    </tr>\n",
       "  </tbody>\n",
       "</table>\n",
       "</div>"
      ],
      "text/plain": [
       "          date  green_particulate_matter_520nm\n",
       "207 2025-01-02                             NaN\n",
       "217 2025-01-12                             NaN\n",
       "218 2025-01-13                             NaN\n",
       "306 2025-04-11                             NaN\n",
       "319 2025-04-24                             NaN\n",
       "341 2025-05-16                             NaN\n",
       "342 2025-05-18                             NaN"
      ]
     },
     "execution_count": 44,
     "metadata": {},
     "output_type": "execute_result"
    }
   ],
   "source": [
    "df_gpm[df_gpm.isna().any(axis=1)]     # Show all rows with any missing values"
   ]
  },
  {
   "cell_type": "code",
   "execution_count": 46,
   "id": "be1c8c88",
   "metadata": {},
   "outputs": [],
   "source": [
    "# Function to calculate mean of past 7 days\n",
    "def fill_with_past_7_days_mean(row, df_gpm, window_days=7):\n",
    "    if pd.isna(row['green_particulate_matter_520nm']):\n",
    "        # Get the date range for the past 7 days (t-7 to t-1)\n",
    "        start_date = row['date'] - pd.Timedelta(days=window_days)\n",
    "        end_date = row['date'] - pd.Timedelta(days=1)\n",
    "        # Select rows within the past 7 days\n",
    "        past_data = df_gpm[(df_gpm['date'] >= start_date) & (df_gpm['date'] <= end_date)]\n",
    "        # Calculate mean of non-NaN Black_Carbon_Mean values\n",
    "        mean_value = past_data['green_particulate_matter_520nm'].mean()\n",
    "        return mean_value\n",
    "    return row['green_particulate_matter_520nm']\n",
    "\n",
    "# Apply the function to fill missing Black_Carbon_Mean values\n",
    "df_gpm['green_particulate_matter_520nm'] = df_gpm.apply(lambda row: fill_with_past_7_days_mean(row, df_gpm), axis=1)"
   ]
  },
  {
   "cell_type": "code",
   "execution_count": 47,
   "id": "f2ee9ab7",
   "metadata": {},
   "outputs": [
    {
     "data": {
      "application/vnd.microsoft.datawrangler.viewer.v0+json": {
       "columns": [
        {
         "name": "index",
         "rawType": "int64",
         "type": "integer"
        },
        {
         "name": "date",
         "rawType": "datetime64[ns]",
         "type": "datetime"
        },
        {
         "name": "green_particulate_matter_520nm",
         "rawType": "float64",
         "type": "float"
        }
       ],
       "ref": "f0fb8b99-9583-40dc-baef-fe89aa4a6d22",
       "rows": [
        [
         "0",
         "2024-06-09 00:00:00",
         "0.447"
        ],
        [
         "1",
         "2024-06-10 00:00:00",
         "0.353"
        ],
        [
         "2",
         "2024-06-11 00:00:00",
         "0.507"
        ],
        [
         "3",
         "2024-06-12 00:00:00",
         "0.717"
        ],
        [
         "4",
         "2024-06-13 00:00:00",
         "0.703"
        ]
       ],
       "shape": {
        "columns": 2,
        "rows": 5
       }
      },
      "text/html": [
       "<div>\n",
       "<style scoped>\n",
       "    .dataframe tbody tr th:only-of-type {\n",
       "        vertical-align: middle;\n",
       "    }\n",
       "\n",
       "    .dataframe tbody tr th {\n",
       "        vertical-align: top;\n",
       "    }\n",
       "\n",
       "    .dataframe thead th {\n",
       "        text-align: right;\n",
       "    }\n",
       "</style>\n",
       "<table border=\"1\" class=\"dataframe\">\n",
       "  <thead>\n",
       "    <tr style=\"text-align: right;\">\n",
       "      <th></th>\n",
       "      <th>date</th>\n",
       "      <th>green_particulate_matter_520nm</th>\n",
       "    </tr>\n",
       "  </thead>\n",
       "  <tbody>\n",
       "    <tr>\n",
       "      <th>0</th>\n",
       "      <td>2024-06-09</td>\n",
       "      <td>0.447</td>\n",
       "    </tr>\n",
       "    <tr>\n",
       "      <th>1</th>\n",
       "      <td>2024-06-10</td>\n",
       "      <td>0.353</td>\n",
       "    </tr>\n",
       "    <tr>\n",
       "      <th>2</th>\n",
       "      <td>2024-06-11</td>\n",
       "      <td>0.507</td>\n",
       "    </tr>\n",
       "    <tr>\n",
       "      <th>3</th>\n",
       "      <td>2024-06-12</td>\n",
       "      <td>0.717</td>\n",
       "    </tr>\n",
       "    <tr>\n",
       "      <th>4</th>\n",
       "      <td>2024-06-13</td>\n",
       "      <td>0.703</td>\n",
       "    </tr>\n",
       "  </tbody>\n",
       "</table>\n",
       "</div>"
      ],
      "text/plain": [
       "        date  green_particulate_matter_520nm\n",
       "0 2024-06-09                           0.447\n",
       "1 2024-06-10                           0.353\n",
       "2 2024-06-11                           0.507\n",
       "3 2024-06-12                           0.717\n",
       "4 2024-06-13                           0.703"
      ]
     },
     "execution_count": 47,
     "metadata": {},
     "output_type": "execute_result"
    }
   ],
   "source": [
    "# Round specific columns\n",
    "df_gpm['green_particulate_matter_520nm'] = df_gpm['green_particulate_matter_520nm'].round(3)\n",
    "df_gpm.head()"
   ]
  },
  {
   "cell_type": "code",
   "execution_count": 48,
   "id": "d4cc8991",
   "metadata": {},
   "outputs": [],
   "source": [
    "# Save to a new CSV file\n",
    "df_gpm.to_csv('green_particulate_matter_cd.csv', index=False)"
   ]
  },
  {
   "cell_type": "code",
   "execution_count": null,
   "id": "04ba5b8e",
   "metadata": {},
   "outputs": [],
   "source": []
  },
  {
   "cell_type": "markdown",
   "id": "c9392eda",
   "metadata": {},
   "source": [
    "### Infra Red Particulate Matter (950nm)"
   ]
  },
  {
   "cell_type": "code",
   "execution_count": 3,
   "id": "3b2ce7b3",
   "metadata": {},
   "outputs": [
    {
     "data": {
      "text/plain": [
       "Index(['Date', 'Infra Red Particulate matter (950nm)', 'Status',\n",
       "       'Infra Red Particulate matter (950nm).1', 'Status.1',\n",
       "       'Infra Red Particulate matter (950nm).2', 'Status.2'],\n",
       "      dtype='object')"
      ]
     },
     "execution_count": 3,
     "metadata": {},
     "output_type": "execute_result"
    }
   ],
   "source": [
    "df_irpm = pd.read_csv('infra_red_particulate_matter.csv', skiprows=10)\n",
    "df_irpm.columns"
   ]
  },
  {
   "cell_type": "code",
   "execution_count": 4,
   "id": "afe843d3",
   "metadata": {},
   "outputs": [],
   "source": [
    "# Select relevant columns: Date and Black Carbon values for the three sites\n",
    "columns = ['Date', \n",
    "           'Infra Red Particulate matter (950nm)', \n",
    "           'Infra Red Particulate matter (950nm).1', \n",
    "           'Infra Red Particulate matter (950nm).2']\n",
    "df_irpm = df_irpm[columns]"
   ]
  },
  {
   "cell_type": "code",
   "execution_count": 5,
   "id": "b7aedbdc",
   "metadata": {},
   "outputs": [
    {
     "data": {
      "application/vnd.microsoft.datawrangler.viewer.v0+json": {
       "columns": [
        {
         "name": "index",
         "rawType": "int64",
         "type": "integer"
        },
        {
         "name": "Date",
         "rawType": "object",
         "type": "string"
        },
        {
         "name": "Infra Red Particulate matter (950nm)",
         "rawType": "float64",
         "type": "float"
        },
        {
         "name": "Infra Red Particulate matter (950nm).1",
         "rawType": "float64",
         "type": "float"
        },
        {
         "name": "Infra Red Particulate matter (950nm).2",
         "rawType": "float64",
         "type": "float"
        },
        {
         "name": "infra_red_particulate_matter",
         "rawType": "float64",
         "type": "float"
        }
       ],
       "ref": "c62f9db8-a2d9-4c35-949d-cf63cbe538a6",
       "rows": [
        [
         "0",
         "09-06-2024",
         "0.85",
         "0.28",
         "0.14",
         "0.42333333333333334"
        ],
        [
         "1",
         "10-06-2024",
         "0.64",
         "0.24",
         "0.16",
         "0.3466666666666667"
        ],
        [
         "2",
         "11-06-2024",
         "0.95",
         "0.33",
         "0.18",
         "0.48666666666666664"
        ],
        [
         "3",
         "12-06-2024",
         "1.38",
         "0.43",
         "0.23",
         "0.68"
        ],
        [
         "4",
         "13-06-2024",
         "1.4",
         "0.28",
         "0.33",
         "0.6699999999999999"
        ]
       ],
       "shape": {
        "columns": 5,
        "rows": 5
       }
      },
      "text/html": [
       "<div>\n",
       "<style scoped>\n",
       "    .dataframe tbody tr th:only-of-type {\n",
       "        vertical-align: middle;\n",
       "    }\n",
       "\n",
       "    .dataframe tbody tr th {\n",
       "        vertical-align: top;\n",
       "    }\n",
       "\n",
       "    .dataframe thead th {\n",
       "        text-align: right;\n",
       "    }\n",
       "</style>\n",
       "<table border=\"1\" class=\"dataframe\">\n",
       "  <thead>\n",
       "    <tr style=\"text-align: right;\">\n",
       "      <th></th>\n",
       "      <th>Date</th>\n",
       "      <th>Infra Red Particulate matter (950nm)</th>\n",
       "      <th>Infra Red Particulate matter (950nm).1</th>\n",
       "      <th>Infra Red Particulate matter (950nm).2</th>\n",
       "      <th>infra_red_particulate_matter</th>\n",
       "    </tr>\n",
       "  </thead>\n",
       "  <tbody>\n",
       "    <tr>\n",
       "      <th>0</th>\n",
       "      <td>09-06-2024</td>\n",
       "      <td>0.85</td>\n",
       "      <td>0.28</td>\n",
       "      <td>0.14</td>\n",
       "      <td>0.423333</td>\n",
       "    </tr>\n",
       "    <tr>\n",
       "      <th>1</th>\n",
       "      <td>10-06-2024</td>\n",
       "      <td>0.64</td>\n",
       "      <td>0.24</td>\n",
       "      <td>0.16</td>\n",
       "      <td>0.346667</td>\n",
       "    </tr>\n",
       "    <tr>\n",
       "      <th>2</th>\n",
       "      <td>11-06-2024</td>\n",
       "      <td>0.95</td>\n",
       "      <td>0.33</td>\n",
       "      <td>0.18</td>\n",
       "      <td>0.486667</td>\n",
       "    </tr>\n",
       "    <tr>\n",
       "      <th>3</th>\n",
       "      <td>12-06-2024</td>\n",
       "      <td>1.38</td>\n",
       "      <td>0.43</td>\n",
       "      <td>0.23</td>\n",
       "      <td>0.680000</td>\n",
       "    </tr>\n",
       "    <tr>\n",
       "      <th>4</th>\n",
       "      <td>13-06-2024</td>\n",
       "      <td>1.40</td>\n",
       "      <td>0.28</td>\n",
       "      <td>0.33</td>\n",
       "      <td>0.670000</td>\n",
       "    </tr>\n",
       "  </tbody>\n",
       "</table>\n",
       "</div>"
      ],
      "text/plain": [
       "         Date  Infra Red Particulate matter (950nm)  \\\n",
       "0  09-06-2024                                  0.85   \n",
       "1  10-06-2024                                  0.64   \n",
       "2  11-06-2024                                  0.95   \n",
       "3  12-06-2024                                  1.38   \n",
       "4  13-06-2024                                  1.40   \n",
       "\n",
       "   Infra Red Particulate matter (950nm).1  \\\n",
       "0                                    0.28   \n",
       "1                                    0.24   \n",
       "2                                    0.33   \n",
       "3                                    0.43   \n",
       "4                                    0.28   \n",
       "\n",
       "   Infra Red Particulate matter (950nm).2  infra_red_particulate_matter  \n",
       "0                                    0.14                      0.423333  \n",
       "1                                    0.16                      0.346667  \n",
       "2                                    0.18                      0.486667  \n",
       "3                                    0.23                      0.680000  \n",
       "4                                    0.33                      0.670000  "
      ]
     },
     "execution_count": 5,
     "metadata": {},
     "output_type": "execute_result"
    }
   ],
   "source": [
    "# Replace 'No data' with NaN\n",
    "df_irpm[['Infra Red Particulate matter (950nm)', 'Infra Red Particulate matter (950nm).1', 'Infra Red Particulate matter (950nm).2']] = df_irpm[['Infra Red Particulate matter (950nm)', 'Infra Red Particulate matter (950nm).1', 'Infra Red Particulate matter (950nm).2']].replace('No data', np.nan)\n",
    "\n",
    "# Convert blue particulate matter columns to numeric\n",
    "df_irpm[['Infra Red Particulate matter (950nm)', 'Infra Red Particulate matter (950nm).1', 'Infra Red Particulate matter (950nm).2']] = df_irpm[['Infra Red Particulate matter (950nm)', 'Infra Red Particulate matter (950nm).1', 'Infra Red Particulate matter (950nm).2']].apply(pd.to_numeric, errors='coerce')\n",
    "\n",
    "# Calculate the mean blue particulate matter value per row, ignoring NaN\n",
    "df_irpm['infra_red_particulate_matter'] = df_irpm[['Infra Red Particulate matter (950nm)', 'Infra Red Particulate matter (950nm).1', 'Infra Red Particulate matter (950nm).2']].mean(axis=1, skipna=True)\n",
    "\n",
    "df_irpm.head()"
   ]
  },
  {
   "cell_type": "code",
   "execution_count": 6,
   "id": "1313f4fd",
   "metadata": {},
   "outputs": [],
   "source": [
    "# Select only Date and Black_Carbon_Mean columns\n",
    "df_irpm = df_irpm[['Date', 'infra_red_particulate_matter']]"
   ]
  },
  {
   "cell_type": "code",
   "execution_count": 7,
   "id": "1866f1e4",
   "metadata": {},
   "outputs": [
    {
     "data": {
      "application/vnd.microsoft.datawrangler.viewer.v0+json": {
       "columns": [
        {
         "name": "index",
         "rawType": "int64",
         "type": "integer"
        },
        {
         "name": "date",
         "rawType": "object",
         "type": "string"
        },
        {
         "name": "infra_red_particulate_matter_950nm",
         "rawType": "float64",
         "type": "float"
        }
       ],
       "ref": "591c5cb0-1ae5-469f-b448-54680347b3c2",
       "rows": [
        [
         "0",
         "09-06-2024",
         "0.42333333333333334"
        ],
        [
         "1",
         "10-06-2024",
         "0.3466666666666667"
        ],
        [
         "2",
         "11-06-2024",
         "0.48666666666666664"
        ],
        [
         "3",
         "12-06-2024",
         "0.68"
        ],
        [
         "4",
         "13-06-2024",
         "0.6699999999999999"
        ]
       ],
       "shape": {
        "columns": 2,
        "rows": 5
       }
      },
      "text/html": [
       "<div>\n",
       "<style scoped>\n",
       "    .dataframe tbody tr th:only-of-type {\n",
       "        vertical-align: middle;\n",
       "    }\n",
       "\n",
       "    .dataframe tbody tr th {\n",
       "        vertical-align: top;\n",
       "    }\n",
       "\n",
       "    .dataframe thead th {\n",
       "        text-align: right;\n",
       "    }\n",
       "</style>\n",
       "<table border=\"1\" class=\"dataframe\">\n",
       "  <thead>\n",
       "    <tr style=\"text-align: right;\">\n",
       "      <th></th>\n",
       "      <th>date</th>\n",
       "      <th>infra_red_particulate_matter_950nm</th>\n",
       "    </tr>\n",
       "  </thead>\n",
       "  <tbody>\n",
       "    <tr>\n",
       "      <th>0</th>\n",
       "      <td>09-06-2024</td>\n",
       "      <td>0.423333</td>\n",
       "    </tr>\n",
       "    <tr>\n",
       "      <th>1</th>\n",
       "      <td>10-06-2024</td>\n",
       "      <td>0.346667</td>\n",
       "    </tr>\n",
       "    <tr>\n",
       "      <th>2</th>\n",
       "      <td>11-06-2024</td>\n",
       "      <td>0.486667</td>\n",
       "    </tr>\n",
       "    <tr>\n",
       "      <th>3</th>\n",
       "      <td>12-06-2024</td>\n",
       "      <td>0.680000</td>\n",
       "    </tr>\n",
       "    <tr>\n",
       "      <th>4</th>\n",
       "      <td>13-06-2024</td>\n",
       "      <td>0.670000</td>\n",
       "    </tr>\n",
       "  </tbody>\n",
       "</table>\n",
       "</div>"
      ],
      "text/plain": [
       "         date  infra_red_particulate_matter_950nm\n",
       "0  09-06-2024                            0.423333\n",
       "1  10-06-2024                            0.346667\n",
       "2  11-06-2024                            0.486667\n",
       "3  12-06-2024                            0.680000\n",
       "4  13-06-2024                            0.670000"
      ]
     },
     "execution_count": 7,
     "metadata": {},
     "output_type": "execute_result"
    }
   ],
   "source": [
    "# Rename specific columns\n",
    "df_irpm = df_irpm.rename(columns={'Date': 'date', 'infra_red_particulate_matter': 'infra_red_particulate_matter_950nm'})\n",
    "df_irpm.head()"
   ]
  },
  {
   "cell_type": "code",
   "execution_count": 8,
   "id": "5e0f1281",
   "metadata": {},
   "outputs": [],
   "source": [
    "# Ensure Date column is in datetime format, parsing DD-MM-YYYY\n",
    "df_irpm['date'] = pd.to_datetime(df_irpm['date'], format='%d-%m-%Y')"
   ]
  },
  {
   "cell_type": "code",
   "execution_count": 9,
   "id": "c3103995",
   "metadata": {},
   "outputs": [
    {
     "data": {
      "application/vnd.microsoft.datawrangler.viewer.v0+json": {
       "columns": [
        {
         "name": "index",
         "rawType": "int64",
         "type": "integer"
        },
        {
         "name": "date",
         "rawType": "datetime64[ns]",
         "type": "datetime"
        },
        {
         "name": "infra_red_particulate_matter_950nm",
         "rawType": "float64",
         "type": "float"
        }
       ],
       "ref": "4324ba3a-6e9a-4e0f-8560-254615485d07",
       "rows": [
        [
         "207",
         "2025-01-02 00:00:00",
         null
        ],
        [
         "217",
         "2025-01-12 00:00:00",
         null
        ],
        [
         "218",
         "2025-01-13 00:00:00",
         null
        ],
        [
         "306",
         "2025-04-11 00:00:00",
         null
        ],
        [
         "319",
         "2025-04-24 00:00:00",
         null
        ],
        [
         "341",
         "2025-05-16 00:00:00",
         null
        ],
        [
         "342",
         "2025-05-18 00:00:00",
         null
        ]
       ],
       "shape": {
        "columns": 2,
        "rows": 7
       }
      },
      "text/html": [
       "<div>\n",
       "<style scoped>\n",
       "    .dataframe tbody tr th:only-of-type {\n",
       "        vertical-align: middle;\n",
       "    }\n",
       "\n",
       "    .dataframe tbody tr th {\n",
       "        vertical-align: top;\n",
       "    }\n",
       "\n",
       "    .dataframe thead th {\n",
       "        text-align: right;\n",
       "    }\n",
       "</style>\n",
       "<table border=\"1\" class=\"dataframe\">\n",
       "  <thead>\n",
       "    <tr style=\"text-align: right;\">\n",
       "      <th></th>\n",
       "      <th>date</th>\n",
       "      <th>infra_red_particulate_matter_950nm</th>\n",
       "    </tr>\n",
       "  </thead>\n",
       "  <tbody>\n",
       "    <tr>\n",
       "      <th>207</th>\n",
       "      <td>2025-01-02</td>\n",
       "      <td>NaN</td>\n",
       "    </tr>\n",
       "    <tr>\n",
       "      <th>217</th>\n",
       "      <td>2025-01-12</td>\n",
       "      <td>NaN</td>\n",
       "    </tr>\n",
       "    <tr>\n",
       "      <th>218</th>\n",
       "      <td>2025-01-13</td>\n",
       "      <td>NaN</td>\n",
       "    </tr>\n",
       "    <tr>\n",
       "      <th>306</th>\n",
       "      <td>2025-04-11</td>\n",
       "      <td>NaN</td>\n",
       "    </tr>\n",
       "    <tr>\n",
       "      <th>319</th>\n",
       "      <td>2025-04-24</td>\n",
       "      <td>NaN</td>\n",
       "    </tr>\n",
       "    <tr>\n",
       "      <th>341</th>\n",
       "      <td>2025-05-16</td>\n",
       "      <td>NaN</td>\n",
       "    </tr>\n",
       "    <tr>\n",
       "      <th>342</th>\n",
       "      <td>2025-05-18</td>\n",
       "      <td>NaN</td>\n",
       "    </tr>\n",
       "  </tbody>\n",
       "</table>\n",
       "</div>"
      ],
      "text/plain": [
       "          date  infra_red_particulate_matter_950nm\n",
       "207 2025-01-02                                 NaN\n",
       "217 2025-01-12                                 NaN\n",
       "218 2025-01-13                                 NaN\n",
       "306 2025-04-11                                 NaN\n",
       "319 2025-04-24                                 NaN\n",
       "341 2025-05-16                                 NaN\n",
       "342 2025-05-18                                 NaN"
      ]
     },
     "execution_count": 9,
     "metadata": {},
     "output_type": "execute_result"
    }
   ],
   "source": [
    "# Check for missing values\n",
    "df_irpm[df_irpm.isna().any(axis=1)]     # Show all rows with any missing values"
   ]
  },
  {
   "cell_type": "code",
   "execution_count": 10,
   "id": "211e4260",
   "metadata": {},
   "outputs": [],
   "source": [
    "# Function to calculate mean of past 7 days\n",
    "def fill_with_past_7_days_mean(row, df_irpm, window_days=7):\n",
    "    if pd.isna(row['infra_red_particulate_matter_950nm']):\n",
    "        # Get the date range for the past 7 days (t-7 to t-1)\n",
    "        start_date = row['date'] - pd.Timedelta(days=window_days)\n",
    "        end_date = row['date'] - pd.Timedelta(days=1)\n",
    "        # Select rows within the past 7 days\n",
    "        past_data = df_irpm[(df_irpm['date'] >= start_date) & (df_irpm['date'] <= end_date)]\n",
    "        # Calculate mean of non-NaN Black_Carbon_Mean values\n",
    "        mean_value = past_data['infra_red_particulate_matter_950nm'].mean()\n",
    "        return mean_value\n",
    "    return row['infra_red_particulate_matter_950nm']\n",
    "\n",
    "# Apply the function to fill missing Black_Carbon_Mean values\n",
    "df_irpm['infra_red_particulate_matter_950nm'] = df_irpm.apply(lambda row: fill_with_past_7_days_mean(row, df_irpm), axis=1)"
   ]
  },
  {
   "cell_type": "code",
   "execution_count": 11,
   "id": "4e1d3681",
   "metadata": {},
   "outputs": [
    {
     "data": {
      "application/vnd.microsoft.datawrangler.viewer.v0+json": {
       "columns": [
        {
         "name": "index",
         "rawType": "int64",
         "type": "integer"
        },
        {
         "name": "date",
         "rawType": "datetime64[ns]",
         "type": "datetime"
        },
        {
         "name": "infra_red_particulate_matter_950nm",
         "rawType": "float64",
         "type": "float"
        }
       ],
       "ref": "96e99a08-79e8-432c-8be1-791ca312363a",
       "rows": [
        [
         "0",
         "2024-06-09 00:00:00",
         "0.423"
        ],
        [
         "1",
         "2024-06-10 00:00:00",
         "0.347"
        ],
        [
         "2",
         "2024-06-11 00:00:00",
         "0.487"
        ],
        [
         "3",
         "2024-06-12 00:00:00",
         "0.68"
        ],
        [
         "4",
         "2024-06-13 00:00:00",
         "0.67"
        ]
       ],
       "shape": {
        "columns": 2,
        "rows": 5
       }
      },
      "text/html": [
       "<div>\n",
       "<style scoped>\n",
       "    .dataframe tbody tr th:only-of-type {\n",
       "        vertical-align: middle;\n",
       "    }\n",
       "\n",
       "    .dataframe tbody tr th {\n",
       "        vertical-align: top;\n",
       "    }\n",
       "\n",
       "    .dataframe thead th {\n",
       "        text-align: right;\n",
       "    }\n",
       "</style>\n",
       "<table border=\"1\" class=\"dataframe\">\n",
       "  <thead>\n",
       "    <tr style=\"text-align: right;\">\n",
       "      <th></th>\n",
       "      <th>date</th>\n",
       "      <th>infra_red_particulate_matter_950nm</th>\n",
       "    </tr>\n",
       "  </thead>\n",
       "  <tbody>\n",
       "    <tr>\n",
       "      <th>0</th>\n",
       "      <td>2024-06-09</td>\n",
       "      <td>0.423</td>\n",
       "    </tr>\n",
       "    <tr>\n",
       "      <th>1</th>\n",
       "      <td>2024-06-10</td>\n",
       "      <td>0.347</td>\n",
       "    </tr>\n",
       "    <tr>\n",
       "      <th>2</th>\n",
       "      <td>2024-06-11</td>\n",
       "      <td>0.487</td>\n",
       "    </tr>\n",
       "    <tr>\n",
       "      <th>3</th>\n",
       "      <td>2024-06-12</td>\n",
       "      <td>0.680</td>\n",
       "    </tr>\n",
       "    <tr>\n",
       "      <th>4</th>\n",
       "      <td>2024-06-13</td>\n",
       "      <td>0.670</td>\n",
       "    </tr>\n",
       "  </tbody>\n",
       "</table>\n",
       "</div>"
      ],
      "text/plain": [
       "        date  infra_red_particulate_matter_950nm\n",
       "0 2024-06-09                               0.423\n",
       "1 2024-06-10                               0.347\n",
       "2 2024-06-11                               0.487\n",
       "3 2024-06-12                               0.680\n",
       "4 2024-06-13                               0.670"
      ]
     },
     "execution_count": 11,
     "metadata": {},
     "output_type": "execute_result"
    }
   ],
   "source": [
    "# Round specific columns\n",
    "df_irpm['infra_red_particulate_matter_950nm'] = df_irpm['infra_red_particulate_matter_950nm'].round(3)\n",
    "df_irpm.head()"
   ]
  },
  {
   "cell_type": "code",
   "execution_count": 12,
   "id": "f601310a",
   "metadata": {},
   "outputs": [],
   "source": [
    "# Save to a new CSV file\n",
    "df_irpm.to_csv('infra_red_particulate_matter_cd.csv', index=False)"
   ]
  },
  {
   "cell_type": "code",
   "execution_count": null,
   "id": "2847da95",
   "metadata": {},
   "outputs": [],
   "source": []
  },
  {
   "cell_type": "markdown",
   "id": "21c52acb",
   "metadata": {},
   "source": [
    "### Nitric Oxide"
   ]
  },
  {
   "cell_type": "code",
   "execution_count": 14,
   "id": "58b43537",
   "metadata": {},
   "outputs": [
    {
     "data": {
      "text/plain": [
       "Index(['Date', 'Nitric oxide', 'Status', 'Nitric oxide.1', 'Status.1',\n",
       "       'Nitric oxide.2', 'Status.2', 'Nitric oxide.3', 'Status.3',\n",
       "       'Nitric oxide.4', 'Status.4', 'Nitric oxide.5', 'Status.5',\n",
       "       'Nitric oxide.6', 'Status.6', 'Nitric oxide.7', 'Status.7',\n",
       "       'Nitric oxide.8', 'Status.8', 'Nitric oxide.9', 'Status.9',\n",
       "       'Nitric oxide.10', 'Status.10', 'Nitric oxide.11', 'Status.11',\n",
       "       'Nitric oxide.12', 'Status.12', 'Nitric oxide.13', 'Status.13',\n",
       "       'Nitric oxide.14', 'Status.14', 'Nitric oxide.15', 'Status.15'],\n",
       "      dtype='object')"
      ]
     },
     "execution_count": 14,
     "metadata": {},
     "output_type": "execute_result"
    }
   ],
   "source": [
    "df_no = pd.read_csv('nitric_oxide.csv', skiprows=10)\n",
    "df_no.columns"
   ]
  },
  {
   "cell_type": "code",
   "execution_count": 16,
   "id": "0070375c",
   "metadata": {},
   "outputs": [],
   "source": [
    "# Select relevant columns: Date and Black Carbon values for the three sites\n",
    "columns = ['Date', \n",
    "           'Nitric oxide', \n",
    "           'Nitric oxide.1', \n",
    "           'Nitric oxide.2',\n",
    "           'Nitric oxide.3',\n",
    "           'Nitric oxide.4',\n",
    "           'Nitric oxide.5',\n",
    "           'Nitric oxide.6',\n",
    "           'Nitric oxide.7',\n",
    "           'Nitric oxide.8',\n",
    "           'Nitric oxide.9',\n",
    "           'Nitric oxide.10',\n",
    "           'Nitric oxide.11',\n",
    "           'Nitric oxide.12',\n",
    "           'Nitric oxide.13',\n",
    "           'Nitric oxide.14',\n",
    "           'Nitric oxide.15'\n",
    "            ]\n",
    "df_no = df_no[columns]"
   ]
  },
  {
   "cell_type": "code",
   "execution_count": 17,
   "id": "72a801a0",
   "metadata": {},
   "outputs": [
    {
     "data": {
      "application/vnd.microsoft.datawrangler.viewer.v0+json": {
       "columns": [
        {
         "name": "index",
         "rawType": "int64",
         "type": "integer"
        },
        {
         "name": "Date",
         "rawType": "object",
         "type": "string"
        },
        {
         "name": "Nitric oxide",
         "rawType": "float64",
         "type": "float"
        },
        {
         "name": "Nitric oxide.1",
         "rawType": "float64",
         "type": "float"
        },
        {
         "name": "Nitric oxide.2",
         "rawType": "float64",
         "type": "float"
        },
        {
         "name": "Nitric oxide.3",
         "rawType": "int64",
         "type": "integer"
        },
        {
         "name": "Nitric oxide.4",
         "rawType": "int64",
         "type": "integer"
        },
        {
         "name": "Nitric oxide.5",
         "rawType": "float64",
         "type": "float"
        },
        {
         "name": "Nitric oxide.6",
         "rawType": "float64",
         "type": "float"
        },
        {
         "name": "Nitric oxide.7",
         "rawType": "float64",
         "type": "float"
        },
        {
         "name": "Nitric oxide.8",
         "rawType": "float64",
         "type": "float"
        },
        {
         "name": "Nitric oxide.9",
         "rawType": "int64",
         "type": "integer"
        },
        {
         "name": "Nitric oxide.10",
         "rawType": "float64",
         "type": "float"
        },
        {
         "name": "Nitric oxide.11",
         "rawType": "float64",
         "type": "float"
        },
        {
         "name": "Nitric oxide.12",
         "rawType": "int64",
         "type": "integer"
        },
        {
         "name": "Nitric oxide.13",
         "rawType": "int64",
         "type": "integer"
        },
        {
         "name": "Nitric oxide.14",
         "rawType": "int64",
         "type": "integer"
        },
        {
         "name": "Nitric oxide.15",
         "rawType": "float64",
         "type": "float"
        },
        {
         "name": "nitric_oxide",
         "rawType": "float64",
         "type": "float"
        }
       ],
       "ref": "56fd612f-90fe-4d41-918b-42759283873f",
       "rows": [
        [
         "0",
         "09-06-2024",
         "11.0",
         null,
         "1.0",
         "1",
         "2",
         "2.0",
         "11.0",
         "1.0",
         "1.0",
         "0",
         "6.0",
         "12.0",
         "3",
         "1",
         "1",
         null,
         "3.7857142857142856"
        ],
        [
         "1",
         "10-06-2024",
         "9.0",
         null,
         "2.0",
         "1",
         "4",
         "2.0",
         "9.0",
         "1.0",
         "2.0",
         "1",
         "6.0",
         "12.0",
         "8",
         "1",
         "1",
         null,
         "4.214285714285714"
        ],
        [
         "2",
         "11-06-2024",
         "13.0",
         null,
         "1.0",
         "1",
         "4",
         "2.0",
         "12.0",
         "1.0",
         "2.0",
         "1",
         "7.0",
         "20.0",
         "7",
         "1",
         "1",
         null,
         "5.214285714285714"
        ],
        [
         "3",
         "12-06-2024",
         "18.0",
         null,
         "1.0",
         "1",
         "3",
         "3.0",
         "13.0",
         "1.0",
         "2.0",
         "1",
         "10.0",
         "23.0",
         "6",
         "1",
         "1",
         null,
         "6.0"
        ],
        [
         "4",
         "13-06-2024",
         "23.0",
         null,
         "1.0",
         "2",
         "2",
         "3.0",
         "10.0",
         "1.0",
         "1.0",
         "1",
         "19.0",
         "36.0",
         "5",
         "2",
         "1",
         null,
         "7.642857142857143"
        ]
       ],
       "shape": {
        "columns": 18,
        "rows": 5
       }
      },
      "text/html": [
       "<div>\n",
       "<style scoped>\n",
       "    .dataframe tbody tr th:only-of-type {\n",
       "        vertical-align: middle;\n",
       "    }\n",
       "\n",
       "    .dataframe tbody tr th {\n",
       "        vertical-align: top;\n",
       "    }\n",
       "\n",
       "    .dataframe thead th {\n",
       "        text-align: right;\n",
       "    }\n",
       "</style>\n",
       "<table border=\"1\" class=\"dataframe\">\n",
       "  <thead>\n",
       "    <tr style=\"text-align: right;\">\n",
       "      <th></th>\n",
       "      <th>Date</th>\n",
       "      <th>Nitric oxide</th>\n",
       "      <th>Nitric oxide.1</th>\n",
       "      <th>Nitric oxide.2</th>\n",
       "      <th>Nitric oxide.3</th>\n",
       "      <th>Nitric oxide.4</th>\n",
       "      <th>Nitric oxide.5</th>\n",
       "      <th>Nitric oxide.6</th>\n",
       "      <th>Nitric oxide.7</th>\n",
       "      <th>Nitric oxide.8</th>\n",
       "      <th>Nitric oxide.9</th>\n",
       "      <th>Nitric oxide.10</th>\n",
       "      <th>Nitric oxide.11</th>\n",
       "      <th>Nitric oxide.12</th>\n",
       "      <th>Nitric oxide.13</th>\n",
       "      <th>Nitric oxide.14</th>\n",
       "      <th>Nitric oxide.15</th>\n",
       "      <th>nitric_oxide</th>\n",
       "    </tr>\n",
       "  </thead>\n",
       "  <tbody>\n",
       "    <tr>\n",
       "      <th>0</th>\n",
       "      <td>09-06-2024</td>\n",
       "      <td>11.0</td>\n",
       "      <td>NaN</td>\n",
       "      <td>1.0</td>\n",
       "      <td>1</td>\n",
       "      <td>2</td>\n",
       "      <td>2.0</td>\n",
       "      <td>11.0</td>\n",
       "      <td>1.0</td>\n",
       "      <td>1.0</td>\n",
       "      <td>0</td>\n",
       "      <td>6.0</td>\n",
       "      <td>12.0</td>\n",
       "      <td>3</td>\n",
       "      <td>1</td>\n",
       "      <td>1</td>\n",
       "      <td>NaN</td>\n",
       "      <td>3.785714</td>\n",
       "    </tr>\n",
       "    <tr>\n",
       "      <th>1</th>\n",
       "      <td>10-06-2024</td>\n",
       "      <td>9.0</td>\n",
       "      <td>NaN</td>\n",
       "      <td>2.0</td>\n",
       "      <td>1</td>\n",
       "      <td>4</td>\n",
       "      <td>2.0</td>\n",
       "      <td>9.0</td>\n",
       "      <td>1.0</td>\n",
       "      <td>2.0</td>\n",
       "      <td>1</td>\n",
       "      <td>6.0</td>\n",
       "      <td>12.0</td>\n",
       "      <td>8</td>\n",
       "      <td>1</td>\n",
       "      <td>1</td>\n",
       "      <td>NaN</td>\n",
       "      <td>4.214286</td>\n",
       "    </tr>\n",
       "    <tr>\n",
       "      <th>2</th>\n",
       "      <td>11-06-2024</td>\n",
       "      <td>13.0</td>\n",
       "      <td>NaN</td>\n",
       "      <td>1.0</td>\n",
       "      <td>1</td>\n",
       "      <td>4</td>\n",
       "      <td>2.0</td>\n",
       "      <td>12.0</td>\n",
       "      <td>1.0</td>\n",
       "      <td>2.0</td>\n",
       "      <td>1</td>\n",
       "      <td>7.0</td>\n",
       "      <td>20.0</td>\n",
       "      <td>7</td>\n",
       "      <td>1</td>\n",
       "      <td>1</td>\n",
       "      <td>NaN</td>\n",
       "      <td>5.214286</td>\n",
       "    </tr>\n",
       "    <tr>\n",
       "      <th>3</th>\n",
       "      <td>12-06-2024</td>\n",
       "      <td>18.0</td>\n",
       "      <td>NaN</td>\n",
       "      <td>1.0</td>\n",
       "      <td>1</td>\n",
       "      <td>3</td>\n",
       "      <td>3.0</td>\n",
       "      <td>13.0</td>\n",
       "      <td>1.0</td>\n",
       "      <td>2.0</td>\n",
       "      <td>1</td>\n",
       "      <td>10.0</td>\n",
       "      <td>23.0</td>\n",
       "      <td>6</td>\n",
       "      <td>1</td>\n",
       "      <td>1</td>\n",
       "      <td>NaN</td>\n",
       "      <td>6.000000</td>\n",
       "    </tr>\n",
       "    <tr>\n",
       "      <th>4</th>\n",
       "      <td>13-06-2024</td>\n",
       "      <td>23.0</td>\n",
       "      <td>NaN</td>\n",
       "      <td>1.0</td>\n",
       "      <td>2</td>\n",
       "      <td>2</td>\n",
       "      <td>3.0</td>\n",
       "      <td>10.0</td>\n",
       "      <td>1.0</td>\n",
       "      <td>1.0</td>\n",
       "      <td>1</td>\n",
       "      <td>19.0</td>\n",
       "      <td>36.0</td>\n",
       "      <td>5</td>\n",
       "      <td>2</td>\n",
       "      <td>1</td>\n",
       "      <td>NaN</td>\n",
       "      <td>7.642857</td>\n",
       "    </tr>\n",
       "  </tbody>\n",
       "</table>\n",
       "</div>"
      ],
      "text/plain": [
       "         Date  Nitric oxide  Nitric oxide.1  Nitric oxide.2  Nitric oxide.3  \\\n",
       "0  09-06-2024          11.0             NaN             1.0               1   \n",
       "1  10-06-2024           9.0             NaN             2.0               1   \n",
       "2  11-06-2024          13.0             NaN             1.0               1   \n",
       "3  12-06-2024          18.0             NaN             1.0               1   \n",
       "4  13-06-2024          23.0             NaN             1.0               2   \n",
       "\n",
       "   Nitric oxide.4  Nitric oxide.5  Nitric oxide.6  Nitric oxide.7  \\\n",
       "0               2             2.0            11.0             1.0   \n",
       "1               4             2.0             9.0             1.0   \n",
       "2               4             2.0            12.0             1.0   \n",
       "3               3             3.0            13.0             1.0   \n",
       "4               2             3.0            10.0             1.0   \n",
       "\n",
       "   Nitric oxide.8  Nitric oxide.9  Nitric oxide.10  Nitric oxide.11  \\\n",
       "0             1.0               0              6.0             12.0   \n",
       "1             2.0               1              6.0             12.0   \n",
       "2             2.0               1              7.0             20.0   \n",
       "3             2.0               1             10.0             23.0   \n",
       "4             1.0               1             19.0             36.0   \n",
       "\n",
       "   Nitric oxide.12  Nitric oxide.13  Nitric oxide.14  Nitric oxide.15  \\\n",
       "0                3                1                1              NaN   \n",
       "1                8                1                1              NaN   \n",
       "2                7                1                1              NaN   \n",
       "3                6                1                1              NaN   \n",
       "4                5                2                1              NaN   \n",
       "\n",
       "   nitric_oxide  \n",
       "0      3.785714  \n",
       "1      4.214286  \n",
       "2      5.214286  \n",
       "3      6.000000  \n",
       "4      7.642857  "
      ]
     },
     "execution_count": 17,
     "metadata": {},
     "output_type": "execute_result"
    }
   ],
   "source": [
    "# Replace 'No data' with NaN\n",
    "df_no[[    'Nitric oxide', \n",
    "           'Nitric oxide.1', \n",
    "           'Nitric oxide.2',\n",
    "           'Nitric oxide.3',\n",
    "           'Nitric oxide.4',\n",
    "           'Nitric oxide.5',\n",
    "           'Nitric oxide.6',\n",
    "           'Nitric oxide.7',\n",
    "           'Nitric oxide.8',\n",
    "           'Nitric oxide.9',\n",
    "           'Nitric oxide.10',\n",
    "           'Nitric oxide.11',\n",
    "           'Nitric oxide.12',\n",
    "           'Nitric oxide.13',\n",
    "           'Nitric oxide.14',\n",
    "           'Nitric oxide.15'\n",
    "            ]] = df_no[[    'Nitric oxide', \n",
    "           'Nitric oxide.1', \n",
    "           'Nitric oxide.2',\n",
    "           'Nitric oxide.3',\n",
    "           'Nitric oxide.4',\n",
    "           'Nitric oxide.5',\n",
    "           'Nitric oxide.6',\n",
    "           'Nitric oxide.7',\n",
    "           'Nitric oxide.8',\n",
    "           'Nitric oxide.9',\n",
    "           'Nitric oxide.10',\n",
    "           'Nitric oxide.11',\n",
    "           'Nitric oxide.12',\n",
    "           'Nitric oxide.13',\n",
    "           'Nitric oxide.14',\n",
    "           'Nitric oxide.15'\n",
    "            ]].replace('No data', np.nan)\n",
    "\n",
    "# Convert blue particulate matter columns to numeric\n",
    "df_no[[    'Nitric oxide', \n",
    "           'Nitric oxide.1', \n",
    "           'Nitric oxide.2',\n",
    "           'Nitric oxide.3',\n",
    "           'Nitric oxide.4',\n",
    "           'Nitric oxide.5',\n",
    "           'Nitric oxide.6',\n",
    "           'Nitric oxide.7',\n",
    "           'Nitric oxide.8',\n",
    "           'Nitric oxide.9',\n",
    "           'Nitric oxide.10',\n",
    "           'Nitric oxide.11',\n",
    "           'Nitric oxide.12',\n",
    "           'Nitric oxide.13',\n",
    "           'Nitric oxide.14',\n",
    "           'Nitric oxide.15'\n",
    "            ]] = df_no[[    'Nitric oxide', \n",
    "           'Nitric oxide.1', \n",
    "           'Nitric oxide.2',\n",
    "           'Nitric oxide.3',\n",
    "           'Nitric oxide.4',\n",
    "           'Nitric oxide.5',\n",
    "           'Nitric oxide.6',\n",
    "           'Nitric oxide.7',\n",
    "           'Nitric oxide.8',\n",
    "           'Nitric oxide.9',\n",
    "           'Nitric oxide.10',\n",
    "           'Nitric oxide.11',\n",
    "           'Nitric oxide.12',\n",
    "           'Nitric oxide.13',\n",
    "           'Nitric oxide.14',\n",
    "           'Nitric oxide.15'\n",
    "            ]].apply(pd.to_numeric, errors='coerce')\n",
    "\n",
    "# Calculate the mean blue particulate matter value per row, ignoring NaN\n",
    "df_no['nitric_oxide'] = df_no[[    'Nitric oxide', \n",
    "           'Nitric oxide.1', \n",
    "           'Nitric oxide.2',\n",
    "           'Nitric oxide.3',\n",
    "           'Nitric oxide.4',\n",
    "           'Nitric oxide.5',\n",
    "           'Nitric oxide.6',\n",
    "           'Nitric oxide.7',\n",
    "           'Nitric oxide.8',\n",
    "           'Nitric oxide.9',\n",
    "           'Nitric oxide.10',\n",
    "           'Nitric oxide.11',\n",
    "           'Nitric oxide.12',\n",
    "           'Nitric oxide.13',\n",
    "           'Nitric oxide.14',\n",
    "           'Nitric oxide.15'\n",
    "            ]].mean(axis=1, skipna=True)\n",
    "\n",
    "df_no.head()"
   ]
  },
  {
   "cell_type": "code",
   "execution_count": 18,
   "id": "05d5f75a",
   "metadata": {},
   "outputs": [],
   "source": [
    "# Select only Date and Black_Carbon_Mean columns\n",
    "df_no = df_no[['Date', 'nitric_oxide']]"
   ]
  },
  {
   "cell_type": "code",
   "execution_count": 19,
   "id": "d8f68eb9",
   "metadata": {},
   "outputs": [
    {
     "data": {
      "application/vnd.microsoft.datawrangler.viewer.v0+json": {
       "columns": [
        {
         "name": "index",
         "rawType": "int64",
         "type": "integer"
        },
        {
         "name": "date",
         "rawType": "object",
         "type": "string"
        },
        {
         "name": "nitric_oxide",
         "rawType": "float64",
         "type": "float"
        }
       ],
       "ref": "b2dd488e-805c-4946-afe9-cf878f89cf89",
       "rows": [
        [
         "0",
         "09-06-2024",
         "3.7857142857142856"
        ],
        [
         "1",
         "10-06-2024",
         "4.214285714285714"
        ],
        [
         "2",
         "11-06-2024",
         "5.214285714285714"
        ],
        [
         "3",
         "12-06-2024",
         "6.0"
        ],
        [
         "4",
         "13-06-2024",
         "7.642857142857143"
        ]
       ],
       "shape": {
        "columns": 2,
        "rows": 5
       }
      },
      "text/html": [
       "<div>\n",
       "<style scoped>\n",
       "    .dataframe tbody tr th:only-of-type {\n",
       "        vertical-align: middle;\n",
       "    }\n",
       "\n",
       "    .dataframe tbody tr th {\n",
       "        vertical-align: top;\n",
       "    }\n",
       "\n",
       "    .dataframe thead th {\n",
       "        text-align: right;\n",
       "    }\n",
       "</style>\n",
       "<table border=\"1\" class=\"dataframe\">\n",
       "  <thead>\n",
       "    <tr style=\"text-align: right;\">\n",
       "      <th></th>\n",
       "      <th>date</th>\n",
       "      <th>nitric_oxide</th>\n",
       "    </tr>\n",
       "  </thead>\n",
       "  <tbody>\n",
       "    <tr>\n",
       "      <th>0</th>\n",
       "      <td>09-06-2024</td>\n",
       "      <td>3.785714</td>\n",
       "    </tr>\n",
       "    <tr>\n",
       "      <th>1</th>\n",
       "      <td>10-06-2024</td>\n",
       "      <td>4.214286</td>\n",
       "    </tr>\n",
       "    <tr>\n",
       "      <th>2</th>\n",
       "      <td>11-06-2024</td>\n",
       "      <td>5.214286</td>\n",
       "    </tr>\n",
       "    <tr>\n",
       "      <th>3</th>\n",
       "      <td>12-06-2024</td>\n",
       "      <td>6.000000</td>\n",
       "    </tr>\n",
       "    <tr>\n",
       "      <th>4</th>\n",
       "      <td>13-06-2024</td>\n",
       "      <td>7.642857</td>\n",
       "    </tr>\n",
       "  </tbody>\n",
       "</table>\n",
       "</div>"
      ],
      "text/plain": [
       "         date  nitric_oxide\n",
       "0  09-06-2024      3.785714\n",
       "1  10-06-2024      4.214286\n",
       "2  11-06-2024      5.214286\n",
       "3  12-06-2024      6.000000\n",
       "4  13-06-2024      7.642857"
      ]
     },
     "execution_count": 19,
     "metadata": {},
     "output_type": "execute_result"
    }
   ],
   "source": [
    "# Rename specific columns\n",
    "df_no = df_no.rename(columns={'Date': 'date'})\n",
    "df_no.head()"
   ]
  },
  {
   "cell_type": "code",
   "execution_count": 20,
   "id": "ce145851",
   "metadata": {},
   "outputs": [],
   "source": [
    "# Ensure Date column is in datetime format, parsing DD-MM-YYYY\n",
    "df_no['date'] = pd.to_datetime(df_no['date'], format='%d-%m-%Y')"
   ]
  },
  {
   "cell_type": "code",
   "execution_count": 21,
   "id": "9242f2b0",
   "metadata": {},
   "outputs": [
    {
     "data": {
      "application/vnd.microsoft.datawrangler.viewer.v0+json": {
       "columns": [
        {
         "name": "index",
         "rawType": "int64",
         "type": "integer"
        },
        {
         "name": "date",
         "rawType": "datetime64[ns]",
         "type": "datetime"
        },
        {
         "name": "nitric_oxide",
         "rawType": "float64",
         "type": "float"
        }
       ],
       "ref": "a53ee4ce-78ef-4a89-8ad9-8e49a18fab04",
       "rows": [],
       "shape": {
        "columns": 2,
        "rows": 0
       }
      },
      "text/html": [
       "<div>\n",
       "<style scoped>\n",
       "    .dataframe tbody tr th:only-of-type {\n",
       "        vertical-align: middle;\n",
       "    }\n",
       "\n",
       "    .dataframe tbody tr th {\n",
       "        vertical-align: top;\n",
       "    }\n",
       "\n",
       "    .dataframe thead th {\n",
       "        text-align: right;\n",
       "    }\n",
       "</style>\n",
       "<table border=\"1\" class=\"dataframe\">\n",
       "  <thead>\n",
       "    <tr style=\"text-align: right;\">\n",
       "      <th></th>\n",
       "      <th>date</th>\n",
       "      <th>nitric_oxide</th>\n",
       "    </tr>\n",
       "  </thead>\n",
       "  <tbody>\n",
       "  </tbody>\n",
       "</table>\n",
       "</div>"
      ],
      "text/plain": [
       "Empty DataFrame\n",
       "Columns: [date, nitric_oxide]\n",
       "Index: []"
      ]
     },
     "execution_count": 21,
     "metadata": {},
     "output_type": "execute_result"
    }
   ],
   "source": [
    "# Check for missing values\n",
    "df_no[df_no.isna().any(axis=1)]     # Show all rows with any missing values"
   ]
  },
  {
   "cell_type": "code",
   "execution_count": 22,
   "id": "e803f7a9",
   "metadata": {},
   "outputs": [],
   "source": [
    "# Function to calculate mean of past 7 days\n",
    "def fill_with_past_7_days_mean(row, df_no, window_days=7):\n",
    "    if pd.isna(row['nitric_oxide']):\n",
    "        # Get the date range for the past 7 days (t-7 to t-1)\n",
    "        start_date = row['date'] - pd.Timedelta(days=window_days)\n",
    "        end_date = row['date'] - pd.Timedelta(days=1)\n",
    "        # Select rows within the past 7 days\n",
    "        past_data = df_no[(df_no['date'] >= start_date) & (df_no['date'] <= end_date)]\n",
    "        # Calculate mean of non-NaN Black_Carbon_Mean values\n",
    "        mean_value = past_data['nitric_oxide'].mean()\n",
    "        return mean_value\n",
    "    return row['nitric_oxide']\n",
    "\n",
    "# Apply the function to fill missing nitric_oxide_Mean values\n",
    "df_no['nitric_oxide'] = df_no.apply(lambda row: fill_with_past_7_days_mean(row, df_no), axis=1)"
   ]
  },
  {
   "cell_type": "code",
   "execution_count": 23,
   "id": "bfe75f96",
   "metadata": {},
   "outputs": [
    {
     "data": {
      "application/vnd.microsoft.datawrangler.viewer.v0+json": {
       "columns": [
        {
         "name": "index",
         "rawType": "int64",
         "type": "integer"
        },
        {
         "name": "date",
         "rawType": "datetime64[ns]",
         "type": "datetime"
        },
        {
         "name": "nitric_oxide",
         "rawType": "float64",
         "type": "float"
        }
       ],
       "ref": "8aa92537-897c-4324-a9c0-a443a3bcf7e8",
       "rows": [
        [
         "0",
         "2024-06-09 00:00:00",
         "3.786"
        ],
        [
         "1",
         "2024-06-10 00:00:00",
         "4.214"
        ],
        [
         "2",
         "2024-06-11 00:00:00",
         "5.214"
        ],
        [
         "3",
         "2024-06-12 00:00:00",
         "6.0"
        ],
        [
         "4",
         "2024-06-13 00:00:00",
         "7.643"
        ]
       ],
       "shape": {
        "columns": 2,
        "rows": 5
       }
      },
      "text/html": [
       "<div>\n",
       "<style scoped>\n",
       "    .dataframe tbody tr th:only-of-type {\n",
       "        vertical-align: middle;\n",
       "    }\n",
       "\n",
       "    .dataframe tbody tr th {\n",
       "        vertical-align: top;\n",
       "    }\n",
       "\n",
       "    .dataframe thead th {\n",
       "        text-align: right;\n",
       "    }\n",
       "</style>\n",
       "<table border=\"1\" class=\"dataframe\">\n",
       "  <thead>\n",
       "    <tr style=\"text-align: right;\">\n",
       "      <th></th>\n",
       "      <th>date</th>\n",
       "      <th>nitric_oxide</th>\n",
       "    </tr>\n",
       "  </thead>\n",
       "  <tbody>\n",
       "    <tr>\n",
       "      <th>0</th>\n",
       "      <td>2024-06-09</td>\n",
       "      <td>3.786</td>\n",
       "    </tr>\n",
       "    <tr>\n",
       "      <th>1</th>\n",
       "      <td>2024-06-10</td>\n",
       "      <td>4.214</td>\n",
       "    </tr>\n",
       "    <tr>\n",
       "      <th>2</th>\n",
       "      <td>2024-06-11</td>\n",
       "      <td>5.214</td>\n",
       "    </tr>\n",
       "    <tr>\n",
       "      <th>3</th>\n",
       "      <td>2024-06-12</td>\n",
       "      <td>6.000</td>\n",
       "    </tr>\n",
       "    <tr>\n",
       "      <th>4</th>\n",
       "      <td>2024-06-13</td>\n",
       "      <td>7.643</td>\n",
       "    </tr>\n",
       "  </tbody>\n",
       "</table>\n",
       "</div>"
      ],
      "text/plain": [
       "        date  nitric_oxide\n",
       "0 2024-06-09         3.786\n",
       "1 2024-06-10         4.214\n",
       "2 2024-06-11         5.214\n",
       "3 2024-06-12         6.000\n",
       "4 2024-06-13         7.643"
      ]
     },
     "execution_count": 23,
     "metadata": {},
     "output_type": "execute_result"
    }
   ],
   "source": [
    "# Round specific columns\n",
    "df_no['nitric_oxide'] = df_no['nitric_oxide'].round(3)\n",
    "df_no.head()"
   ]
  },
  {
   "cell_type": "code",
   "execution_count": 24,
   "id": "8b9272a2",
   "metadata": {},
   "outputs": [],
   "source": [
    "# Save to a new CSV file\n",
    "df_no.to_csv('nitric_oxide_cd.csv', index=False)"
   ]
  },
  {
   "cell_type": "code",
   "execution_count": null,
   "id": "1240d61b",
   "metadata": {},
   "outputs": [],
   "source": []
  },
  {
   "cell_type": "markdown",
   "id": "6016ee23",
   "metadata": {},
   "source": [
    "### Nitrogen Dioxide"
   ]
  },
  {
   "cell_type": "code",
   "execution_count": null,
   "id": "c504873b",
   "metadata": {},
   "outputs": [
    {
     "data": {
      "text/plain": [
       "Index(['Date', 'Nitrogen dioxide', 'Status', 'Nitrogen dioxide.1', 'Status.1',\n",
       "       'Nitrogen dioxide.2', 'Status.2', 'Nitrogen dioxide.3', 'Status.3',\n",
       "       'Nitrogen dioxide.4', 'Status.4', 'Nitrogen dioxide.5', 'Status.5',\n",
       "       'Nitrogen dioxide.6', 'Status.6', 'Nitrogen dioxide.7', 'Status.7',\n",
       "       'Nitrogen dioxide.8', 'Status.8', 'Nitrogen dioxide.9', 'Status.9',\n",
       "       'Nitrogen dioxide.10', 'Status.10', 'Nitrogen dioxide.11', 'Status.11',\n",
       "       'Nitrogen dioxide.12', 'Status.12', 'Nitrogen dioxide.13', 'Status.13',\n",
       "       'Nitrogen dioxide.14', 'Status.14', 'Nitrogen dioxide.15', 'Status.15'],\n",
       "      dtype='object')"
      ]
     },
     "execution_count": 25,
     "metadata": {},
     "output_type": "execute_result"
    }
   ],
   "source": [
    "df_dio = pd.read_csv('nitrogen_dioxide.csv', skiprows=10)\n",
    "df_dio.columns"
   ]
  },
  {
   "cell_type": "code",
   "execution_count": 26,
   "id": "aa4fadad",
   "metadata": {},
   "outputs": [],
   "source": [
    "# Select relevant columns: Date and Black Carbon values for the three sites\n",
    "columns = ['Date', \n",
    "           'Nitrogen dioxide', \n",
    "           'Nitrogen dioxide.1', \n",
    "           'Nitrogen dioxide.2',\n",
    "           'Nitrogen dioxide.3',\n",
    "           'Nitrogen dioxide.4',\n",
    "           'Nitrogen dioxide.5',\n",
    "           'Nitrogen dioxide.6',\n",
    "           'Nitrogen dioxide.7',\n",
    "           'Nitrogen dioxide.8',\n",
    "           'Nitrogen dioxide.9',\n",
    "           'Nitrogen dioxide.10',\n",
    "           'Nitrogen dioxide.11',\n",
    "           'Nitrogen dioxide.12',\n",
    "           'Nitrogen dioxide.13',\n",
    "           'Nitrogen dioxide.14',\n",
    "           'Nitrogen dioxide.15'\n",
    "            ]\n",
    "df_dio = df_dio[columns]"
   ]
  },
  {
   "cell_type": "code",
   "execution_count": 27,
   "id": "4c4bd887",
   "metadata": {},
   "outputs": [
    {
     "data": {
      "application/vnd.microsoft.datawrangler.viewer.v0+json": {
       "columns": [
        {
         "name": "index",
         "rawType": "int64",
         "type": "integer"
        },
        {
         "name": "Date",
         "rawType": "object",
         "type": "string"
        },
        {
         "name": "Nitrogen dioxide",
         "rawType": "float64",
         "type": "float"
        },
        {
         "name": "Nitrogen dioxide.1",
         "rawType": "float64",
         "type": "float"
        },
        {
         "name": "Nitrogen dioxide.2",
         "rawType": "float64",
         "type": "float"
        },
        {
         "name": "Nitrogen dioxide.3",
         "rawType": "int64",
         "type": "integer"
        },
        {
         "name": "Nitrogen dioxide.4",
         "rawType": "int64",
         "type": "integer"
        },
        {
         "name": "Nitrogen dioxide.5",
         "rawType": "float64",
         "type": "float"
        },
        {
         "name": "Nitrogen dioxide.6",
         "rawType": "float64",
         "type": "float"
        },
        {
         "name": "Nitrogen dioxide.7",
         "rawType": "float64",
         "type": "float"
        },
        {
         "name": "Nitrogen dioxide.8",
         "rawType": "float64",
         "type": "float"
        },
        {
         "name": "Nitrogen dioxide.9",
         "rawType": "int64",
         "type": "integer"
        },
        {
         "name": "Nitrogen dioxide.10",
         "rawType": "float64",
         "type": "float"
        },
        {
         "name": "Nitrogen dioxide.11",
         "rawType": "float64",
         "type": "float"
        },
        {
         "name": "Nitrogen dioxide.12",
         "rawType": "int64",
         "type": "integer"
        },
        {
         "name": "Nitrogen dioxide.13",
         "rawType": "int64",
         "type": "integer"
        },
        {
         "name": "Nitrogen dioxide.14",
         "rawType": "int64",
         "type": "integer"
        },
        {
         "name": "Nitrogen dioxide.15",
         "rawType": "float64",
         "type": "float"
        },
        {
         "name": "nitric_oxide",
         "rawType": "float64",
         "type": "float"
        }
       ],
       "ref": "fe5882b6-0422-433b-8270-ebc28196f224",
       "rows": [
        [
         "0",
         "09-06-2024",
         "18.0",
         null,
         "4.0",
         "5",
         "8",
         "6.0",
         "16.0",
         "6.0",
         "3.0",
         "1",
         "13.0",
         "18.0",
         "9",
         "2",
         "3",
         null,
         "8.0"
        ],
        [
         "1",
         "10-06-2024",
         "16.0",
         null,
         "7.0",
         "5",
         "7",
         "5.0",
         "15.0",
         "7.0",
         "5.0",
         "1",
         "14.0",
         "17.0",
         "13",
         "4",
         "3",
         null,
         "8.5"
        ],
        [
         "2",
         "11-06-2024",
         "22.0",
         null,
         "10.0",
         "9",
         "8",
         "9.0",
         "21.0",
         "9.0",
         "7.0",
         "2",
         "18.0",
         "28.0",
         "18",
         "5",
         "4",
         null,
         "12.142857142857142"
        ],
        [
         "3",
         "12-06-2024",
         "31.0",
         null,
         "10.0",
         "11",
         "9",
         "11.0",
         "25.0",
         "11.0",
         "9.0",
         "2",
         "25.0",
         "32.0",
         "19",
         "4",
         "4",
         null,
         "14.5"
        ],
        [
         "4",
         "13-06-2024",
         "33.0",
         null,
         "6.0",
         "13",
         "9",
         "10.0",
         "18.0",
         "8.0",
         "6.0",
         "4",
         "23.0",
         "36.0",
         "16",
         "6",
         "7",
         null,
         "13.928571428571429"
        ]
       ],
       "shape": {
        "columns": 18,
        "rows": 5
       }
      },
      "text/html": [
       "<div>\n",
       "<style scoped>\n",
       "    .dataframe tbody tr th:only-of-type {\n",
       "        vertical-align: middle;\n",
       "    }\n",
       "\n",
       "    .dataframe tbody tr th {\n",
       "        vertical-align: top;\n",
       "    }\n",
       "\n",
       "    .dataframe thead th {\n",
       "        text-align: right;\n",
       "    }\n",
       "</style>\n",
       "<table border=\"1\" class=\"dataframe\">\n",
       "  <thead>\n",
       "    <tr style=\"text-align: right;\">\n",
       "      <th></th>\n",
       "      <th>Date</th>\n",
       "      <th>Nitrogen dioxide</th>\n",
       "      <th>Nitrogen dioxide.1</th>\n",
       "      <th>Nitrogen dioxide.2</th>\n",
       "      <th>Nitrogen dioxide.3</th>\n",
       "      <th>Nitrogen dioxide.4</th>\n",
       "      <th>Nitrogen dioxide.5</th>\n",
       "      <th>Nitrogen dioxide.6</th>\n",
       "      <th>Nitrogen dioxide.7</th>\n",
       "      <th>Nitrogen dioxide.8</th>\n",
       "      <th>Nitrogen dioxide.9</th>\n",
       "      <th>Nitrogen dioxide.10</th>\n",
       "      <th>Nitrogen dioxide.11</th>\n",
       "      <th>Nitrogen dioxide.12</th>\n",
       "      <th>Nitrogen dioxide.13</th>\n",
       "      <th>Nitrogen dioxide.14</th>\n",
       "      <th>Nitrogen dioxide.15</th>\n",
       "      <th>nitric_oxide</th>\n",
       "    </tr>\n",
       "  </thead>\n",
       "  <tbody>\n",
       "    <tr>\n",
       "      <th>0</th>\n",
       "      <td>09-06-2024</td>\n",
       "      <td>18.0</td>\n",
       "      <td>NaN</td>\n",
       "      <td>4.0</td>\n",
       "      <td>5</td>\n",
       "      <td>8</td>\n",
       "      <td>6.0</td>\n",
       "      <td>16.0</td>\n",
       "      <td>6.0</td>\n",
       "      <td>3.0</td>\n",
       "      <td>1</td>\n",
       "      <td>13.0</td>\n",
       "      <td>18.0</td>\n",
       "      <td>9</td>\n",
       "      <td>2</td>\n",
       "      <td>3</td>\n",
       "      <td>NaN</td>\n",
       "      <td>8.000000</td>\n",
       "    </tr>\n",
       "    <tr>\n",
       "      <th>1</th>\n",
       "      <td>10-06-2024</td>\n",
       "      <td>16.0</td>\n",
       "      <td>NaN</td>\n",
       "      <td>7.0</td>\n",
       "      <td>5</td>\n",
       "      <td>7</td>\n",
       "      <td>5.0</td>\n",
       "      <td>15.0</td>\n",
       "      <td>7.0</td>\n",
       "      <td>5.0</td>\n",
       "      <td>1</td>\n",
       "      <td>14.0</td>\n",
       "      <td>17.0</td>\n",
       "      <td>13</td>\n",
       "      <td>4</td>\n",
       "      <td>3</td>\n",
       "      <td>NaN</td>\n",
       "      <td>8.500000</td>\n",
       "    </tr>\n",
       "    <tr>\n",
       "      <th>2</th>\n",
       "      <td>11-06-2024</td>\n",
       "      <td>22.0</td>\n",
       "      <td>NaN</td>\n",
       "      <td>10.0</td>\n",
       "      <td>9</td>\n",
       "      <td>8</td>\n",
       "      <td>9.0</td>\n",
       "      <td>21.0</td>\n",
       "      <td>9.0</td>\n",
       "      <td>7.0</td>\n",
       "      <td>2</td>\n",
       "      <td>18.0</td>\n",
       "      <td>28.0</td>\n",
       "      <td>18</td>\n",
       "      <td>5</td>\n",
       "      <td>4</td>\n",
       "      <td>NaN</td>\n",
       "      <td>12.142857</td>\n",
       "    </tr>\n",
       "    <tr>\n",
       "      <th>3</th>\n",
       "      <td>12-06-2024</td>\n",
       "      <td>31.0</td>\n",
       "      <td>NaN</td>\n",
       "      <td>10.0</td>\n",
       "      <td>11</td>\n",
       "      <td>9</td>\n",
       "      <td>11.0</td>\n",
       "      <td>25.0</td>\n",
       "      <td>11.0</td>\n",
       "      <td>9.0</td>\n",
       "      <td>2</td>\n",
       "      <td>25.0</td>\n",
       "      <td>32.0</td>\n",
       "      <td>19</td>\n",
       "      <td>4</td>\n",
       "      <td>4</td>\n",
       "      <td>NaN</td>\n",
       "      <td>14.500000</td>\n",
       "    </tr>\n",
       "    <tr>\n",
       "      <th>4</th>\n",
       "      <td>13-06-2024</td>\n",
       "      <td>33.0</td>\n",
       "      <td>NaN</td>\n",
       "      <td>6.0</td>\n",
       "      <td>13</td>\n",
       "      <td>9</td>\n",
       "      <td>10.0</td>\n",
       "      <td>18.0</td>\n",
       "      <td>8.0</td>\n",
       "      <td>6.0</td>\n",
       "      <td>4</td>\n",
       "      <td>23.0</td>\n",
       "      <td>36.0</td>\n",
       "      <td>16</td>\n",
       "      <td>6</td>\n",
       "      <td>7</td>\n",
       "      <td>NaN</td>\n",
       "      <td>13.928571</td>\n",
       "    </tr>\n",
       "  </tbody>\n",
       "</table>\n",
       "</div>"
      ],
      "text/plain": [
       "         Date  Nitrogen dioxide  Nitrogen dioxide.1  Nitrogen dioxide.2  \\\n",
       "0  09-06-2024              18.0                 NaN                 4.0   \n",
       "1  10-06-2024              16.0                 NaN                 7.0   \n",
       "2  11-06-2024              22.0                 NaN                10.0   \n",
       "3  12-06-2024              31.0                 NaN                10.0   \n",
       "4  13-06-2024              33.0                 NaN                 6.0   \n",
       "\n",
       "   Nitrogen dioxide.3  Nitrogen dioxide.4  Nitrogen dioxide.5  \\\n",
       "0                   5                   8                 6.0   \n",
       "1                   5                   7                 5.0   \n",
       "2                   9                   8                 9.0   \n",
       "3                  11                   9                11.0   \n",
       "4                  13                   9                10.0   \n",
       "\n",
       "   Nitrogen dioxide.6  Nitrogen dioxide.7  Nitrogen dioxide.8  \\\n",
       "0                16.0                 6.0                 3.0   \n",
       "1                15.0                 7.0                 5.0   \n",
       "2                21.0                 9.0                 7.0   \n",
       "3                25.0                11.0                 9.0   \n",
       "4                18.0                 8.0                 6.0   \n",
       "\n",
       "   Nitrogen dioxide.9  Nitrogen dioxide.10  Nitrogen dioxide.11  \\\n",
       "0                   1                 13.0                 18.0   \n",
       "1                   1                 14.0                 17.0   \n",
       "2                   2                 18.0                 28.0   \n",
       "3                   2                 25.0                 32.0   \n",
       "4                   4                 23.0                 36.0   \n",
       "\n",
       "   Nitrogen dioxide.12  Nitrogen dioxide.13  Nitrogen dioxide.14  \\\n",
       "0                    9                    2                    3   \n",
       "1                   13                    4                    3   \n",
       "2                   18                    5                    4   \n",
       "3                   19                    4                    4   \n",
       "4                   16                    6                    7   \n",
       "\n",
       "   Nitrogen dioxide.15  nitric_oxide  \n",
       "0                  NaN      8.000000  \n",
       "1                  NaN      8.500000  \n",
       "2                  NaN     12.142857  \n",
       "3                  NaN     14.500000  \n",
       "4                  NaN     13.928571  "
      ]
     },
     "execution_count": 27,
     "metadata": {},
     "output_type": "execute_result"
    }
   ],
   "source": [
    "# Replace 'No data' with NaN\n",
    "df_dio[[    'Nitrogen dioxide', \n",
    "           'Nitrogen dioxide.1', \n",
    "           'Nitrogen dioxide.2',\n",
    "           'Nitrogen dioxide.3',\n",
    "           'Nitrogen dioxide.4',\n",
    "           'Nitrogen dioxide.5',\n",
    "           'Nitrogen dioxide.6',\n",
    "           'Nitrogen dioxide.7',\n",
    "           'Nitrogen dioxide.8',\n",
    "           'Nitrogen dioxide.9',\n",
    "           'Nitrogen dioxide.10',\n",
    "           'Nitrogen dioxide.11',\n",
    "           'Nitrogen dioxide.12',\n",
    "           'Nitrogen dioxide.13',\n",
    "           'Nitrogen dioxide.14',\n",
    "           'Nitrogen dioxide.15'\n",
    "            ]] = df_dio[['Nitrogen dioxide', \n",
    "           'Nitrogen dioxide.1', \n",
    "           'Nitrogen dioxide.2',\n",
    "           'Nitrogen dioxide.3',\n",
    "           'Nitrogen dioxide.4',\n",
    "           'Nitrogen dioxide.5',\n",
    "           'Nitrogen dioxide.6',\n",
    "           'Nitrogen dioxide.7',\n",
    "           'Nitrogen dioxide.8',\n",
    "           'Nitrogen dioxide.9',\n",
    "           'Nitrogen dioxide.10',\n",
    "           'Nitrogen dioxide.11',\n",
    "           'Nitrogen dioxide.12',\n",
    "           'Nitrogen dioxide.13',\n",
    "           'Nitrogen dioxide.14',\n",
    "           'Nitrogen dioxide.15'\n",
    "            ]].replace('No data', np.nan)\n",
    "\n",
    "# Convert blue particulate matter columns to numeric\n",
    "df_dio[['Nitrogen dioxide', \n",
    "           'Nitrogen dioxide.1', \n",
    "           'Nitrogen dioxide.2',\n",
    "           'Nitrogen dioxide.3',\n",
    "           'Nitrogen dioxide.4',\n",
    "           'Nitrogen dioxide.5',\n",
    "           'Nitrogen dioxide.6',\n",
    "           'Nitrogen dioxide.7',\n",
    "           'Nitrogen dioxide.8',\n",
    "           'Nitrogen dioxide.9',\n",
    "           'Nitrogen dioxide.10',\n",
    "           'Nitrogen dioxide.11',\n",
    "           'Nitrogen dioxide.12',\n",
    "           'Nitrogen dioxide.13',\n",
    "           'Nitrogen dioxide.14',\n",
    "           'Nitrogen dioxide.15'\n",
    "            ]] = df_dio[['Nitrogen dioxide', \n",
    "           'Nitrogen dioxide.1', \n",
    "           'Nitrogen dioxide.2',\n",
    "           'Nitrogen dioxide.3',\n",
    "           'Nitrogen dioxide.4',\n",
    "           'Nitrogen dioxide.5',\n",
    "           'Nitrogen dioxide.6',\n",
    "           'Nitrogen dioxide.7',\n",
    "           'Nitrogen dioxide.8',\n",
    "           'Nitrogen dioxide.9',\n",
    "           'Nitrogen dioxide.10',\n",
    "           'Nitrogen dioxide.11',\n",
    "           'Nitrogen dioxide.12',\n",
    "           'Nitrogen dioxide.13',\n",
    "           'Nitrogen dioxide.14',\n",
    "           'Nitrogen dioxide.15'\n",
    "            ]].apply(pd.to_numeric, errors='coerce')\n",
    "\n",
    "# Calculate the mean blue particulate matter value per row, ignoring NaN\n",
    "df_dio['nitric_oxide'] = df_dio[['Nitrogen dioxide', \n",
    "           'Nitrogen dioxide.1', \n",
    "           'Nitrogen dioxide.2',\n",
    "           'Nitrogen dioxide.3',\n",
    "           'Nitrogen dioxide.4',\n",
    "           'Nitrogen dioxide.5',\n",
    "           'Nitrogen dioxide.6',\n",
    "           'Nitrogen dioxide.7',\n",
    "           'Nitrogen dioxide.8',\n",
    "           'Nitrogen dioxide.9',\n",
    "           'Nitrogen dioxide.10',\n",
    "           'Nitrogen dioxide.11',\n",
    "           'Nitrogen dioxide.12',\n",
    "           'Nitrogen dioxide.13',\n",
    "           'Nitrogen dioxide.14',\n",
    "           'Nitrogen dioxide.15'\n",
    "            ]].mean(axis=1, skipna=True)\n",
    "\n",
    "df_dio.head()"
   ]
  },
  {
   "cell_type": "code",
   "execution_count": 28,
   "id": "f684d915",
   "metadata": {},
   "outputs": [],
   "source": [
    "# Select only Date and Black_Carbon_Mean columns\n",
    "df_dio = df_dio[['Date', 'nitric_oxide']]"
   ]
  },
  {
   "cell_type": "code",
   "execution_count": 33,
   "id": "bfe3513c",
   "metadata": {},
   "outputs": [
    {
     "data": {
      "application/vnd.microsoft.datawrangler.viewer.v0+json": {
       "columns": [
        {
         "name": "index",
         "rawType": "int64",
         "type": "integer"
        },
        {
         "name": "date",
         "rawType": "datetime64[ns]",
         "type": "datetime"
        },
        {
         "name": "nitric_dioxide",
         "rawType": "float64",
         "type": "float"
        }
       ],
       "ref": "33644774-3ae4-4ec3-953d-6d2705435035",
       "rows": [
        [
         "0",
         "2024-06-09 00:00:00",
         "8.0"
        ],
        [
         "1",
         "2024-06-10 00:00:00",
         "8.5"
        ],
        [
         "2",
         "2024-06-11 00:00:00",
         "12.142857142857142"
        ],
        [
         "3",
         "2024-06-12 00:00:00",
         "14.5"
        ],
        [
         "4",
         "2024-06-13 00:00:00",
         "13.928571428571429"
        ]
       ],
       "shape": {
        "columns": 2,
        "rows": 5
       }
      },
      "text/html": [
       "<div>\n",
       "<style scoped>\n",
       "    .dataframe tbody tr th:only-of-type {\n",
       "        vertical-align: middle;\n",
       "    }\n",
       "\n",
       "    .dataframe tbody tr th {\n",
       "        vertical-align: top;\n",
       "    }\n",
       "\n",
       "    .dataframe thead th {\n",
       "        text-align: right;\n",
       "    }\n",
       "</style>\n",
       "<table border=\"1\" class=\"dataframe\">\n",
       "  <thead>\n",
       "    <tr style=\"text-align: right;\">\n",
       "      <th></th>\n",
       "      <th>date</th>\n",
       "      <th>nitric_dioxide</th>\n",
       "    </tr>\n",
       "  </thead>\n",
       "  <tbody>\n",
       "    <tr>\n",
       "      <th>0</th>\n",
       "      <td>2024-06-09</td>\n",
       "      <td>8.000000</td>\n",
       "    </tr>\n",
       "    <tr>\n",
       "      <th>1</th>\n",
       "      <td>2024-06-10</td>\n",
       "      <td>8.500000</td>\n",
       "    </tr>\n",
       "    <tr>\n",
       "      <th>2</th>\n",
       "      <td>2024-06-11</td>\n",
       "      <td>12.142857</td>\n",
       "    </tr>\n",
       "    <tr>\n",
       "      <th>3</th>\n",
       "      <td>2024-06-12</td>\n",
       "      <td>14.500000</td>\n",
       "    </tr>\n",
       "    <tr>\n",
       "      <th>4</th>\n",
       "      <td>2024-06-13</td>\n",
       "      <td>13.928571</td>\n",
       "    </tr>\n",
       "  </tbody>\n",
       "</table>\n",
       "</div>"
      ],
      "text/plain": [
       "        date  nitric_dioxide\n",
       "0 2024-06-09        8.000000\n",
       "1 2024-06-10        8.500000\n",
       "2 2024-06-11       12.142857\n",
       "3 2024-06-12       14.500000\n",
       "4 2024-06-13       13.928571"
      ]
     },
     "execution_count": 33,
     "metadata": {},
     "output_type": "execute_result"
    }
   ],
   "source": [
    "# Rename specific columns\n",
    "df_dio = df_dio.rename(columns={'Date': 'date', 'nitric_dioxide_mean' : 'nitric_dioxide'})\n",
    "df_dio.head()"
   ]
  },
  {
   "cell_type": "code",
   "execution_count": 30,
   "id": "6cd31692",
   "metadata": {},
   "outputs": [],
   "source": [
    "# Ensure Date column is in datetime format, parsing DD-MM-YYYY\n",
    "df_dio['date'] = pd.to_datetime(df_dio['date'], format='%d-%m-%Y')"
   ]
  },
  {
   "cell_type": "code",
   "execution_count": null,
   "id": "41107bc5",
   "metadata": {},
   "outputs": [
    {
     "data": {
      "application/vnd.microsoft.datawrangler.viewer.v0+json": {
       "columns": [
        {
         "name": "index",
         "rawType": "int64",
         "type": "integer"
        },
        {
         "name": "date",
         "rawType": "datetime64[ns]",
         "type": "datetime"
        },
        {
         "name": "nitric_dioxide_mean",
         "rawType": "float64",
         "type": "float"
        }
       ],
       "ref": "514e216c-b7bf-4290-a898-9151d768059a",
       "rows": [],
       "shape": {
        "columns": 2,
        "rows": 0
       }
      },
      "text/html": [
       "<div>\n",
       "<style scoped>\n",
       "    .dataframe tbody tr th:only-of-type {\n",
       "        vertical-align: middle;\n",
       "    }\n",
       "\n",
       "    .dataframe tbody tr th {\n",
       "        vertical-align: top;\n",
       "    }\n",
       "\n",
       "    .dataframe thead th {\n",
       "        text-align: right;\n",
       "    }\n",
       "</style>\n",
       "<table border=\"1\" class=\"dataframe\">\n",
       "  <thead>\n",
       "    <tr style=\"text-align: right;\">\n",
       "      <th></th>\n",
       "      <th>date</th>\n",
       "      <th>nitric_dioxide_mean</th>\n",
       "    </tr>\n",
       "  </thead>\n",
       "  <tbody>\n",
       "  </tbody>\n",
       "</table>\n",
       "</div>"
      ],
      "text/plain": [
       "Empty DataFrame\n",
       "Columns: [date, nitric_dioxide_mean]\n",
       "Index: []"
      ]
     },
     "execution_count": 31,
     "metadata": {},
     "output_type": "execute_result"
    }
   ],
   "source": [
    "# Check for missing values\n",
    "df_dio[df_no.isna().any(axis=1)]     # Show all rows with any missing values"
   ]
  },
  {
   "cell_type": "code",
   "execution_count": null,
   "id": "5f364359",
   "metadata": {},
   "outputs": [],
   "source": [
    "# Function to calculate mean of past 7 days\n",
    "def fill_with_past_7_days_mean(row, df_dio, window_days=7):\n",
    "    if pd.isna(row['nitric_dioxide']):\n",
    "        # Get the date range for the past 7 days (t-7 to t-1)\n",
    "        start_date = row['date'] - pd.Timedelta(days=window_days)\n",
    "        end_date = row['date'] - pd.Timedelta(days=1)\n",
    "        # Select rows within the past 7 days\n",
    "        past_data = df_dio[(df_dio['date'] >= start_date) & (df_dio['date'] <= end_date)]\n",
    "        # Calculate mean of non-NaN Black_Carbon_Mean values\n",
    "        mean_value = past_data['nitric_dioxide'].mean()\n",
    "        return mean_value\n",
    "    return row['nitric_dioxide']\n",
    "\n",
    "# Apply the function to fill missing nitric_oxide_Mean values\n",
    "df_dio['nitric_dioxide'] = df_dio.apply(lambda row: fill_with_past_7_days_mean(row, df_dio), axis=1)"
   ]
  },
  {
   "cell_type": "code",
   "execution_count": 35,
   "id": "4c071aa3",
   "metadata": {},
   "outputs": [
    {
     "data": {
      "application/vnd.microsoft.datawrangler.viewer.v0+json": {
       "columns": [
        {
         "name": "index",
         "rawType": "int64",
         "type": "integer"
        },
        {
         "name": "date",
         "rawType": "datetime64[ns]",
         "type": "datetime"
        },
        {
         "name": "nitric_dioxide",
         "rawType": "float64",
         "type": "float"
        }
       ],
       "ref": "aa8e9dd4-b4f5-4503-a414-e8b7c301c2a9",
       "rows": [
        [
         "0",
         "2024-06-09 00:00:00",
         "8.0"
        ],
        [
         "1",
         "2024-06-10 00:00:00",
         "8.5"
        ],
        [
         "2",
         "2024-06-11 00:00:00",
         "12.143"
        ],
        [
         "3",
         "2024-06-12 00:00:00",
         "14.5"
        ],
        [
         "4",
         "2024-06-13 00:00:00",
         "13.929"
        ]
       ],
       "shape": {
        "columns": 2,
        "rows": 5
       }
      },
      "text/html": [
       "<div>\n",
       "<style scoped>\n",
       "    .dataframe tbody tr th:only-of-type {\n",
       "        vertical-align: middle;\n",
       "    }\n",
       "\n",
       "    .dataframe tbody tr th {\n",
       "        vertical-align: top;\n",
       "    }\n",
       "\n",
       "    .dataframe thead th {\n",
       "        text-align: right;\n",
       "    }\n",
       "</style>\n",
       "<table border=\"1\" class=\"dataframe\">\n",
       "  <thead>\n",
       "    <tr style=\"text-align: right;\">\n",
       "      <th></th>\n",
       "      <th>date</th>\n",
       "      <th>nitric_dioxide</th>\n",
       "    </tr>\n",
       "  </thead>\n",
       "  <tbody>\n",
       "    <tr>\n",
       "      <th>0</th>\n",
       "      <td>2024-06-09</td>\n",
       "      <td>8.000</td>\n",
       "    </tr>\n",
       "    <tr>\n",
       "      <th>1</th>\n",
       "      <td>2024-06-10</td>\n",
       "      <td>8.500</td>\n",
       "    </tr>\n",
       "    <tr>\n",
       "      <th>2</th>\n",
       "      <td>2024-06-11</td>\n",
       "      <td>12.143</td>\n",
       "    </tr>\n",
       "    <tr>\n",
       "      <th>3</th>\n",
       "      <td>2024-06-12</td>\n",
       "      <td>14.500</td>\n",
       "    </tr>\n",
       "    <tr>\n",
       "      <th>4</th>\n",
       "      <td>2024-06-13</td>\n",
       "      <td>13.929</td>\n",
       "    </tr>\n",
       "  </tbody>\n",
       "</table>\n",
       "</div>"
      ],
      "text/plain": [
       "        date  nitric_dioxide\n",
       "0 2024-06-09           8.000\n",
       "1 2024-06-10           8.500\n",
       "2 2024-06-11          12.143\n",
       "3 2024-06-12          14.500\n",
       "4 2024-06-13          13.929"
      ]
     },
     "execution_count": 35,
     "metadata": {},
     "output_type": "execute_result"
    }
   ],
   "source": [
    "# Round specific columns\n",
    "df_dio['nitric_dioxide'] = df_dio['nitric_dioxide'].round(3)\n",
    "df_dio.head()"
   ]
  },
  {
   "cell_type": "code",
   "execution_count": 36,
   "id": "6f7d554a",
   "metadata": {},
   "outputs": [],
   "source": [
    "# Save to a new CSV file\n",
    "df_dio.to_csv('nitric_dioxide_cd.csv', index=False)"
   ]
  },
  {
   "cell_type": "code",
   "execution_count": null,
   "id": "22cf050b",
   "metadata": {},
   "outputs": [],
   "source": []
  },
  {
   "cell_type": "markdown",
   "id": "480c1ede",
   "metadata": {},
   "source": [
    "### Nitrogen oxides as nitrogen dioxide"
   ]
  },
  {
   "cell_type": "code",
   "execution_count": 51,
   "id": "40be5ddc",
   "metadata": {},
   "outputs": [
    {
     "data": {
      "text/plain": [
       "Index(['Date', 'Nitrogen oxides as nitrogen dioxide', 'Status',\n",
       "       'Nitrogen oxides as nitrogen dioxide.1', 'Status.1',\n",
       "       'Nitrogen oxides as nitrogen dioxide.2', 'Status.2',\n",
       "       'Nitrogen oxides as nitrogen dioxide.3', 'Status.3',\n",
       "       'Nitrogen oxides as nitrogen dioxide.4', 'Status.4',\n",
       "       'Nitrogen oxides as nitrogen dioxide.5', 'Status.5',\n",
       "       'Nitrogen oxides as nitrogen dioxide.6', 'Status.6',\n",
       "       'Nitrogen oxides as nitrogen dioxide.7', 'Status.7',\n",
       "       'Nitrogen oxides as nitrogen dioxide.8', 'Status.8',\n",
       "       'Nitrogen oxides as nitrogen dioxide.9', 'Status.9',\n",
       "       'Nitrogen oxides as nitrogen dioxide.10', 'Status.10',\n",
       "       'Nitrogen oxides as nitrogen dioxide.11', 'Status.11',\n",
       "       'Nitrogen oxides as nitrogen dioxide.12', 'Status.12',\n",
       "       'Nitrogen oxides as nitrogen dioxide.13', 'Status.13',\n",
       "       'Nitrogen oxides as nitrogen dioxide.14', 'Status.14',\n",
       "       'Nitrogen oxides as nitrogen dioxide.15', 'Status.15'],\n",
       "      dtype='object')"
      ]
     },
     "execution_count": 51,
     "metadata": {},
     "output_type": "execute_result"
    }
   ],
   "source": [
    "df_noandio = pd.read_csv('nitrogen_oxides_as_nitrogen_dioxide.csv', skiprows=10)\n",
    "df_noandio.columns"
   ]
  },
  {
   "cell_type": "code",
   "execution_count": 52,
   "id": "e3566d7e",
   "metadata": {},
   "outputs": [],
   "source": [
    "# Select relevant columns: Date and Black Carbon values for the three sites\n",
    "columns = ['Date', \n",
    "           'Nitrogen oxides as nitrogen dioxide', \n",
    "           'Nitrogen oxides as nitrogen dioxide.1', \n",
    "           'Nitrogen oxides as nitrogen dioxide.2',\n",
    "           'Nitrogen oxides as nitrogen dioxide.3',\n",
    "           'Nitrogen oxides as nitrogen dioxide.4',\n",
    "           'Nitrogen oxides as nitrogen dioxide.5',\n",
    "           'Nitrogen oxides as nitrogen dioxide.6',\n",
    "           'Nitrogen oxides as nitrogen dioxide.7',\n",
    "           'Nitrogen oxides as nitrogen dioxide.8',\n",
    "           'Nitrogen oxides as nitrogen dioxide.9',\n",
    "           'Nitrogen oxides as nitrogen dioxide.10',\n",
    "           'Nitrogen oxides as nitrogen dioxide.11',\n",
    "           'Nitrogen oxides as nitrogen dioxide.12',\n",
    "           'Nitrogen oxides as nitrogen dioxide.13',\n",
    "           'Nitrogen oxides as nitrogen dioxide.14',\n",
    "           'Nitrogen oxides as nitrogen dioxide.15'\n",
    "            ]\n",
    "df_noandio = df_noandio[columns]"
   ]
  },
  {
   "cell_type": "code",
   "execution_count": 53,
   "id": "6c5698df",
   "metadata": {},
   "outputs": [
    {
     "data": {
      "application/vnd.microsoft.datawrangler.viewer.v0+json": {
       "columns": [
        {
         "name": "index",
         "rawType": "int64",
         "type": "integer"
        },
        {
         "name": "Date",
         "rawType": "object",
         "type": "string"
        },
        {
         "name": "Nitrogen oxides as nitrogen dioxide",
         "rawType": "float64",
         "type": "float"
        },
        {
         "name": "Nitrogen oxides as nitrogen dioxide.1",
         "rawType": "float64",
         "type": "float"
        },
        {
         "name": "Nitrogen oxides as nitrogen dioxide.2",
         "rawType": "float64",
         "type": "float"
        },
        {
         "name": "Nitrogen oxides as nitrogen dioxide.3",
         "rawType": "int64",
         "type": "integer"
        },
        {
         "name": "Nitrogen oxides as nitrogen dioxide.4",
         "rawType": "int64",
         "type": "integer"
        },
        {
         "name": "Nitrogen oxides as nitrogen dioxide.5",
         "rawType": "float64",
         "type": "float"
        },
        {
         "name": "Nitrogen oxides as nitrogen dioxide.6",
         "rawType": "float64",
         "type": "float"
        },
        {
         "name": "Nitrogen oxides as nitrogen dioxide.7",
         "rawType": "float64",
         "type": "float"
        },
        {
         "name": "Nitrogen oxides as nitrogen dioxide.8",
         "rawType": "float64",
         "type": "float"
        },
        {
         "name": "Nitrogen oxides as nitrogen dioxide.9",
         "rawType": "int64",
         "type": "integer"
        },
        {
         "name": "Nitrogen oxides as nitrogen dioxide.10",
         "rawType": "float64",
         "type": "float"
        },
        {
         "name": "Nitrogen oxides as nitrogen dioxide.11",
         "rawType": "float64",
         "type": "float"
        },
        {
         "name": "Nitrogen oxides as nitrogen dioxide.12",
         "rawType": "int64",
         "type": "integer"
        },
        {
         "name": "Nitrogen oxides as nitrogen dioxide.13",
         "rawType": "int64",
         "type": "integer"
        },
        {
         "name": "Nitrogen oxides as nitrogen dioxide.14",
         "rawType": "int64",
         "type": "integer"
        },
        {
         "name": "Nitrogen oxides as nitrogen dioxide.15",
         "rawType": "float64",
         "type": "float"
        },
        {
         "name": "nitrogen_oxides_as_nitrogen_dioxide",
         "rawType": "float64",
         "type": "float"
        }
       ],
       "ref": "5f6dc691-9eff-44bf-84da-5cba9c756ac0",
       "rows": [
        [
         "0",
         "09-06-2024",
         "34.0",
         null,
         "6.0",
         "6",
         "10",
         "8.0",
         "32.0",
         "7.0",
         "5.0",
         "2",
         "22.0",
         "37.0",
         "13",
         "4",
         "4",
         null,
         "13.571428571428571"
        ],
        [
         "1",
         "10-06-2024",
         "29.0",
         null,
         "9.0",
         "7",
         "13",
         "8.0",
         "29.0",
         "9.0",
         "7.0",
         "2",
         "24.0",
         "35.0",
         "25",
         "7",
         "5",
         null,
         "14.928571428571429"
        ],
        [
         "2",
         "11-06-2024",
         "41.0",
         null,
         "12.0",
         "11",
         "14",
         "12.0",
         "39.0",
         "11.0",
         "9.0",
         "3",
         "28.0",
         "59.0",
         "28",
         "7",
         "5",
         null,
         "19.928571428571427"
        ],
        [
         "3",
         "12-06-2024",
         "59.0",
         null,
         "12.0",
         "12",
         "14",
         "15.0",
         "44.0",
         "13.0",
         "12.0",
         "3",
         "41.0",
         "67.0",
         "29",
         "6",
         "6",
         null,
         "23.785714285714285"
        ],
        [
         "4",
         "13-06-2024",
         "68.0",
         null,
         "8.0",
         "15",
         "11",
         "14.0",
         "33.0",
         "10.0",
         "8.0",
         "6",
         "52.0",
         "91.0",
         "23",
         "9",
         "9",
         null,
         "25.5"
        ]
       ],
       "shape": {
        "columns": 18,
        "rows": 5
       }
      },
      "text/html": [
       "<div>\n",
       "<style scoped>\n",
       "    .dataframe tbody tr th:only-of-type {\n",
       "        vertical-align: middle;\n",
       "    }\n",
       "\n",
       "    .dataframe tbody tr th {\n",
       "        vertical-align: top;\n",
       "    }\n",
       "\n",
       "    .dataframe thead th {\n",
       "        text-align: right;\n",
       "    }\n",
       "</style>\n",
       "<table border=\"1\" class=\"dataframe\">\n",
       "  <thead>\n",
       "    <tr style=\"text-align: right;\">\n",
       "      <th></th>\n",
       "      <th>Date</th>\n",
       "      <th>Nitrogen oxides as nitrogen dioxide</th>\n",
       "      <th>Nitrogen oxides as nitrogen dioxide.1</th>\n",
       "      <th>Nitrogen oxides as nitrogen dioxide.2</th>\n",
       "      <th>Nitrogen oxides as nitrogen dioxide.3</th>\n",
       "      <th>Nitrogen oxides as nitrogen dioxide.4</th>\n",
       "      <th>Nitrogen oxides as nitrogen dioxide.5</th>\n",
       "      <th>Nitrogen oxides as nitrogen dioxide.6</th>\n",
       "      <th>Nitrogen oxides as nitrogen dioxide.7</th>\n",
       "      <th>Nitrogen oxides as nitrogen dioxide.8</th>\n",
       "      <th>Nitrogen oxides as nitrogen dioxide.9</th>\n",
       "      <th>Nitrogen oxides as nitrogen dioxide.10</th>\n",
       "      <th>Nitrogen oxides as nitrogen dioxide.11</th>\n",
       "      <th>Nitrogen oxides as nitrogen dioxide.12</th>\n",
       "      <th>Nitrogen oxides as nitrogen dioxide.13</th>\n",
       "      <th>Nitrogen oxides as nitrogen dioxide.14</th>\n",
       "      <th>Nitrogen oxides as nitrogen dioxide.15</th>\n",
       "      <th>nitrogen_oxides_as_nitrogen_dioxide</th>\n",
       "    </tr>\n",
       "  </thead>\n",
       "  <tbody>\n",
       "    <tr>\n",
       "      <th>0</th>\n",
       "      <td>09-06-2024</td>\n",
       "      <td>34.0</td>\n",
       "      <td>NaN</td>\n",
       "      <td>6.0</td>\n",
       "      <td>6</td>\n",
       "      <td>10</td>\n",
       "      <td>8.0</td>\n",
       "      <td>32.0</td>\n",
       "      <td>7.0</td>\n",
       "      <td>5.0</td>\n",
       "      <td>2</td>\n",
       "      <td>22.0</td>\n",
       "      <td>37.0</td>\n",
       "      <td>13</td>\n",
       "      <td>4</td>\n",
       "      <td>4</td>\n",
       "      <td>NaN</td>\n",
       "      <td>13.571429</td>\n",
       "    </tr>\n",
       "    <tr>\n",
       "      <th>1</th>\n",
       "      <td>10-06-2024</td>\n",
       "      <td>29.0</td>\n",
       "      <td>NaN</td>\n",
       "      <td>9.0</td>\n",
       "      <td>7</td>\n",
       "      <td>13</td>\n",
       "      <td>8.0</td>\n",
       "      <td>29.0</td>\n",
       "      <td>9.0</td>\n",
       "      <td>7.0</td>\n",
       "      <td>2</td>\n",
       "      <td>24.0</td>\n",
       "      <td>35.0</td>\n",
       "      <td>25</td>\n",
       "      <td>7</td>\n",
       "      <td>5</td>\n",
       "      <td>NaN</td>\n",
       "      <td>14.928571</td>\n",
       "    </tr>\n",
       "    <tr>\n",
       "      <th>2</th>\n",
       "      <td>11-06-2024</td>\n",
       "      <td>41.0</td>\n",
       "      <td>NaN</td>\n",
       "      <td>12.0</td>\n",
       "      <td>11</td>\n",
       "      <td>14</td>\n",
       "      <td>12.0</td>\n",
       "      <td>39.0</td>\n",
       "      <td>11.0</td>\n",
       "      <td>9.0</td>\n",
       "      <td>3</td>\n",
       "      <td>28.0</td>\n",
       "      <td>59.0</td>\n",
       "      <td>28</td>\n",
       "      <td>7</td>\n",
       "      <td>5</td>\n",
       "      <td>NaN</td>\n",
       "      <td>19.928571</td>\n",
       "    </tr>\n",
       "    <tr>\n",
       "      <th>3</th>\n",
       "      <td>12-06-2024</td>\n",
       "      <td>59.0</td>\n",
       "      <td>NaN</td>\n",
       "      <td>12.0</td>\n",
       "      <td>12</td>\n",
       "      <td>14</td>\n",
       "      <td>15.0</td>\n",
       "      <td>44.0</td>\n",
       "      <td>13.0</td>\n",
       "      <td>12.0</td>\n",
       "      <td>3</td>\n",
       "      <td>41.0</td>\n",
       "      <td>67.0</td>\n",
       "      <td>29</td>\n",
       "      <td>6</td>\n",
       "      <td>6</td>\n",
       "      <td>NaN</td>\n",
       "      <td>23.785714</td>\n",
       "    </tr>\n",
       "    <tr>\n",
       "      <th>4</th>\n",
       "      <td>13-06-2024</td>\n",
       "      <td>68.0</td>\n",
       "      <td>NaN</td>\n",
       "      <td>8.0</td>\n",
       "      <td>15</td>\n",
       "      <td>11</td>\n",
       "      <td>14.0</td>\n",
       "      <td>33.0</td>\n",
       "      <td>10.0</td>\n",
       "      <td>8.0</td>\n",
       "      <td>6</td>\n",
       "      <td>52.0</td>\n",
       "      <td>91.0</td>\n",
       "      <td>23</td>\n",
       "      <td>9</td>\n",
       "      <td>9</td>\n",
       "      <td>NaN</td>\n",
       "      <td>25.500000</td>\n",
       "    </tr>\n",
       "  </tbody>\n",
       "</table>\n",
       "</div>"
      ],
      "text/plain": [
       "         Date  Nitrogen oxides as nitrogen dioxide  \\\n",
       "0  09-06-2024                                 34.0   \n",
       "1  10-06-2024                                 29.0   \n",
       "2  11-06-2024                                 41.0   \n",
       "3  12-06-2024                                 59.0   \n",
       "4  13-06-2024                                 68.0   \n",
       "\n",
       "   Nitrogen oxides as nitrogen dioxide.1  \\\n",
       "0                                    NaN   \n",
       "1                                    NaN   \n",
       "2                                    NaN   \n",
       "3                                    NaN   \n",
       "4                                    NaN   \n",
       "\n",
       "   Nitrogen oxides as nitrogen dioxide.2  \\\n",
       "0                                    6.0   \n",
       "1                                    9.0   \n",
       "2                                   12.0   \n",
       "3                                   12.0   \n",
       "4                                    8.0   \n",
       "\n",
       "   Nitrogen oxides as nitrogen dioxide.3  \\\n",
       "0                                      6   \n",
       "1                                      7   \n",
       "2                                     11   \n",
       "3                                     12   \n",
       "4                                     15   \n",
       "\n",
       "   Nitrogen oxides as nitrogen dioxide.4  \\\n",
       "0                                     10   \n",
       "1                                     13   \n",
       "2                                     14   \n",
       "3                                     14   \n",
       "4                                     11   \n",
       "\n",
       "   Nitrogen oxides as nitrogen dioxide.5  \\\n",
       "0                                    8.0   \n",
       "1                                    8.0   \n",
       "2                                   12.0   \n",
       "3                                   15.0   \n",
       "4                                   14.0   \n",
       "\n",
       "   Nitrogen oxides as nitrogen dioxide.6  \\\n",
       "0                                   32.0   \n",
       "1                                   29.0   \n",
       "2                                   39.0   \n",
       "3                                   44.0   \n",
       "4                                   33.0   \n",
       "\n",
       "   Nitrogen oxides as nitrogen dioxide.7  \\\n",
       "0                                    7.0   \n",
       "1                                    9.0   \n",
       "2                                   11.0   \n",
       "3                                   13.0   \n",
       "4                                   10.0   \n",
       "\n",
       "   Nitrogen oxides as nitrogen dioxide.8  \\\n",
       "0                                    5.0   \n",
       "1                                    7.0   \n",
       "2                                    9.0   \n",
       "3                                   12.0   \n",
       "4                                    8.0   \n",
       "\n",
       "   Nitrogen oxides as nitrogen dioxide.9  \\\n",
       "0                                      2   \n",
       "1                                      2   \n",
       "2                                      3   \n",
       "3                                      3   \n",
       "4                                      6   \n",
       "\n",
       "   Nitrogen oxides as nitrogen dioxide.10  \\\n",
       "0                                    22.0   \n",
       "1                                    24.0   \n",
       "2                                    28.0   \n",
       "3                                    41.0   \n",
       "4                                    52.0   \n",
       "\n",
       "   Nitrogen oxides as nitrogen dioxide.11  \\\n",
       "0                                    37.0   \n",
       "1                                    35.0   \n",
       "2                                    59.0   \n",
       "3                                    67.0   \n",
       "4                                    91.0   \n",
       "\n",
       "   Nitrogen oxides as nitrogen dioxide.12  \\\n",
       "0                                      13   \n",
       "1                                      25   \n",
       "2                                      28   \n",
       "3                                      29   \n",
       "4                                      23   \n",
       "\n",
       "   Nitrogen oxides as nitrogen dioxide.13  \\\n",
       "0                                       4   \n",
       "1                                       7   \n",
       "2                                       7   \n",
       "3                                       6   \n",
       "4                                       9   \n",
       "\n",
       "   Nitrogen oxides as nitrogen dioxide.14  \\\n",
       "0                                       4   \n",
       "1                                       5   \n",
       "2                                       5   \n",
       "3                                       6   \n",
       "4                                       9   \n",
       "\n",
       "   Nitrogen oxides as nitrogen dioxide.15  nitrogen_oxides_as_nitrogen_dioxide  \n",
       "0                                     NaN                            13.571429  \n",
       "1                                     NaN                            14.928571  \n",
       "2                                     NaN                            19.928571  \n",
       "3                                     NaN                            23.785714  \n",
       "4                                     NaN                            25.500000  "
      ]
     },
     "execution_count": 53,
     "metadata": {},
     "output_type": "execute_result"
    }
   ],
   "source": [
    "# Replace 'No data' with NaN\n",
    "df_noandio[['Nitrogen oxides as nitrogen dioxide', \n",
    "           'Nitrogen oxides as nitrogen dioxide.1', \n",
    "           'Nitrogen oxides as nitrogen dioxide.2',\n",
    "           'Nitrogen oxides as nitrogen dioxide.3',\n",
    "           'Nitrogen oxides as nitrogen dioxide.4',\n",
    "           'Nitrogen oxides as nitrogen dioxide.5',\n",
    "           'Nitrogen oxides as nitrogen dioxide.6',\n",
    "           'Nitrogen oxides as nitrogen dioxide.7',\n",
    "           'Nitrogen oxides as nitrogen dioxide.8',\n",
    "           'Nitrogen oxides as nitrogen dioxide.9',\n",
    "           'Nitrogen oxides as nitrogen dioxide.10',\n",
    "           'Nitrogen oxides as nitrogen dioxide.11',\n",
    "           'Nitrogen oxides as nitrogen dioxide.12',\n",
    "           'Nitrogen oxides as nitrogen dioxide.13',\n",
    "           'Nitrogen oxides as nitrogen dioxide.14',\n",
    "           'Nitrogen oxides as nitrogen dioxide.15'\n",
    "            ]] = df_noandio[['Nitrogen oxides as nitrogen dioxide', \n",
    "           'Nitrogen oxides as nitrogen dioxide.1', \n",
    "           'Nitrogen oxides as nitrogen dioxide.2',\n",
    "           'Nitrogen oxides as nitrogen dioxide.3',\n",
    "           'Nitrogen oxides as nitrogen dioxide.4',\n",
    "           'Nitrogen oxides as nitrogen dioxide.5',\n",
    "           'Nitrogen oxides as nitrogen dioxide.6',\n",
    "           'Nitrogen oxides as nitrogen dioxide.7',\n",
    "           'Nitrogen oxides as nitrogen dioxide.8',\n",
    "           'Nitrogen oxides as nitrogen dioxide.9',\n",
    "           'Nitrogen oxides as nitrogen dioxide.10',\n",
    "           'Nitrogen oxides as nitrogen dioxide.11',\n",
    "           'Nitrogen oxides as nitrogen dioxide.12',\n",
    "           'Nitrogen oxides as nitrogen dioxide.13',\n",
    "           'Nitrogen oxides as nitrogen dioxide.14',\n",
    "           'Nitrogen oxides as nitrogen dioxide.15'\n",
    "            ]].replace('No data', np.nan)\n",
    "\n",
    "# Convert blue particulate matter columns to numeric\n",
    "df_noandio[['Nitrogen oxides as nitrogen dioxide', \n",
    "           'Nitrogen oxides as nitrogen dioxide.1', \n",
    "           'Nitrogen oxides as nitrogen dioxide.2',\n",
    "           'Nitrogen oxides as nitrogen dioxide.3',\n",
    "           'Nitrogen oxides as nitrogen dioxide.4',\n",
    "           'Nitrogen oxides as nitrogen dioxide.5',\n",
    "           'Nitrogen oxides as nitrogen dioxide.6',\n",
    "           'Nitrogen oxides as nitrogen dioxide.7',\n",
    "           'Nitrogen oxides as nitrogen dioxide.8',\n",
    "           'Nitrogen oxides as nitrogen dioxide.9',\n",
    "           'Nitrogen oxides as nitrogen dioxide.10',\n",
    "           'Nitrogen oxides as nitrogen dioxide.11',\n",
    "           'Nitrogen oxides as nitrogen dioxide.12',\n",
    "           'Nitrogen oxides as nitrogen dioxide.13',\n",
    "           'Nitrogen oxides as nitrogen dioxide.14',\n",
    "           'Nitrogen oxides as nitrogen dioxide.15'\n",
    "            ]] = df_noandio[['Nitrogen oxides as nitrogen dioxide', \n",
    "           'Nitrogen oxides as nitrogen dioxide.1', \n",
    "           'Nitrogen oxides as nitrogen dioxide.2',\n",
    "           'Nitrogen oxides as nitrogen dioxide.3',\n",
    "           'Nitrogen oxides as nitrogen dioxide.4',\n",
    "           'Nitrogen oxides as nitrogen dioxide.5',\n",
    "           'Nitrogen oxides as nitrogen dioxide.6',\n",
    "           'Nitrogen oxides as nitrogen dioxide.7',\n",
    "           'Nitrogen oxides as nitrogen dioxide.8',\n",
    "           'Nitrogen oxides as nitrogen dioxide.9',\n",
    "           'Nitrogen oxides as nitrogen dioxide.10',\n",
    "           'Nitrogen oxides as nitrogen dioxide.11',\n",
    "           'Nitrogen oxides as nitrogen dioxide.12',\n",
    "           'Nitrogen oxides as nitrogen dioxide.13',\n",
    "           'Nitrogen oxides as nitrogen dioxide.14',\n",
    "           'Nitrogen oxides as nitrogen dioxide.15'\n",
    "            ]].apply(pd.to_numeric, errors='coerce')\n",
    "\n",
    "# Calculate the mean blue particulate matter value per row, ignoring NaN\n",
    "df_noandio['nitrogen_oxides_as_nitrogen_dioxide'] = df_noandio[['Nitrogen oxides as nitrogen dioxide', \n",
    "           'Nitrogen oxides as nitrogen dioxide.1', \n",
    "           'Nitrogen oxides as nitrogen dioxide.2',\n",
    "           'Nitrogen oxides as nitrogen dioxide.3',\n",
    "           'Nitrogen oxides as nitrogen dioxide.4',\n",
    "           'Nitrogen oxides as nitrogen dioxide.5',\n",
    "           'Nitrogen oxides as nitrogen dioxide.6',\n",
    "           'Nitrogen oxides as nitrogen dioxide.7',\n",
    "           'Nitrogen oxides as nitrogen dioxide.8',\n",
    "           'Nitrogen oxides as nitrogen dioxide.9',\n",
    "           'Nitrogen oxides as nitrogen dioxide.10',\n",
    "           'Nitrogen oxides as nitrogen dioxide.11',\n",
    "           'Nitrogen oxides as nitrogen dioxide.12',\n",
    "           'Nitrogen oxides as nitrogen dioxide.13',\n",
    "           'Nitrogen oxides as nitrogen dioxide.14',\n",
    "           'Nitrogen oxides as nitrogen dioxide.15'\n",
    "            ]].mean(axis=1, skipna=True)\n",
    "\n",
    "df_noandio.head()"
   ]
  },
  {
   "cell_type": "code",
   "execution_count": 54,
   "id": "1c3e6fbe",
   "metadata": {},
   "outputs": [
    {
     "data": {
      "application/vnd.microsoft.datawrangler.viewer.v0+json": {
       "columns": [
        {
         "name": "index",
         "rawType": "int64",
         "type": "integer"
        },
        {
         "name": "Date",
         "rawType": "object",
         "type": "string"
        },
        {
         "name": "nitrogen_oxides_as_nitrogen_dioxide",
         "rawType": "float64",
         "type": "float"
        }
       ],
       "ref": "0aa49a0e-4ba0-41dc-a8bc-961f022847d0",
       "rows": [
        [
         "0",
         "09-06-2024",
         "13.571428571428571"
        ],
        [
         "1",
         "10-06-2024",
         "14.928571428571429"
        ],
        [
         "2",
         "11-06-2024",
         "19.928571428571427"
        ],
        [
         "3",
         "12-06-2024",
         "23.785714285714285"
        ],
        [
         "4",
         "13-06-2024",
         "25.5"
        ]
       ],
       "shape": {
        "columns": 2,
        "rows": 5
       }
      },
      "text/html": [
       "<div>\n",
       "<style scoped>\n",
       "    .dataframe tbody tr th:only-of-type {\n",
       "        vertical-align: middle;\n",
       "    }\n",
       "\n",
       "    .dataframe tbody tr th {\n",
       "        vertical-align: top;\n",
       "    }\n",
       "\n",
       "    .dataframe thead th {\n",
       "        text-align: right;\n",
       "    }\n",
       "</style>\n",
       "<table border=\"1\" class=\"dataframe\">\n",
       "  <thead>\n",
       "    <tr style=\"text-align: right;\">\n",
       "      <th></th>\n",
       "      <th>Date</th>\n",
       "      <th>nitrogen_oxides_as_nitrogen_dioxide</th>\n",
       "    </tr>\n",
       "  </thead>\n",
       "  <tbody>\n",
       "    <tr>\n",
       "      <th>0</th>\n",
       "      <td>09-06-2024</td>\n",
       "      <td>13.571429</td>\n",
       "    </tr>\n",
       "    <tr>\n",
       "      <th>1</th>\n",
       "      <td>10-06-2024</td>\n",
       "      <td>14.928571</td>\n",
       "    </tr>\n",
       "    <tr>\n",
       "      <th>2</th>\n",
       "      <td>11-06-2024</td>\n",
       "      <td>19.928571</td>\n",
       "    </tr>\n",
       "    <tr>\n",
       "      <th>3</th>\n",
       "      <td>12-06-2024</td>\n",
       "      <td>23.785714</td>\n",
       "    </tr>\n",
       "    <tr>\n",
       "      <th>4</th>\n",
       "      <td>13-06-2024</td>\n",
       "      <td>25.500000</td>\n",
       "    </tr>\n",
       "  </tbody>\n",
       "</table>\n",
       "</div>"
      ],
      "text/plain": [
       "         Date  nitrogen_oxides_as_nitrogen_dioxide\n",
       "0  09-06-2024                            13.571429\n",
       "1  10-06-2024                            14.928571\n",
       "2  11-06-2024                            19.928571\n",
       "3  12-06-2024                            23.785714\n",
       "4  13-06-2024                            25.500000"
      ]
     },
     "execution_count": 54,
     "metadata": {},
     "output_type": "execute_result"
    }
   ],
   "source": [
    "# Select only Date and Black_Carbon_Mean columns\n",
    "df_noandio = df_noandio[['Date', 'nitrogen_oxides_as_nitrogen_dioxide']]\n",
    "df_noandio.head()"
   ]
  },
  {
   "cell_type": "code",
   "execution_count": 55,
   "id": "07b31af9",
   "metadata": {},
   "outputs": [
    {
     "data": {
      "application/vnd.microsoft.datawrangler.viewer.v0+json": {
       "columns": [
        {
         "name": "index",
         "rawType": "int64",
         "type": "integer"
        },
        {
         "name": "date",
         "rawType": "object",
         "type": "string"
        },
        {
         "name": "nitrogen_oxides_as_nitrogen_dioxide",
         "rawType": "float64",
         "type": "float"
        }
       ],
       "ref": "50aa58f3-0691-44bd-bb97-c96b6027f63d",
       "rows": [
        [
         "0",
         "09-06-2024",
         "13.571428571428571"
        ],
        [
         "1",
         "10-06-2024",
         "14.928571428571429"
        ],
        [
         "2",
         "11-06-2024",
         "19.928571428571427"
        ],
        [
         "3",
         "12-06-2024",
         "23.785714285714285"
        ],
        [
         "4",
         "13-06-2024",
         "25.5"
        ]
       ],
       "shape": {
        "columns": 2,
        "rows": 5
       }
      },
      "text/html": [
       "<div>\n",
       "<style scoped>\n",
       "    .dataframe tbody tr th:only-of-type {\n",
       "        vertical-align: middle;\n",
       "    }\n",
       "\n",
       "    .dataframe tbody tr th {\n",
       "        vertical-align: top;\n",
       "    }\n",
       "\n",
       "    .dataframe thead th {\n",
       "        text-align: right;\n",
       "    }\n",
       "</style>\n",
       "<table border=\"1\" class=\"dataframe\">\n",
       "  <thead>\n",
       "    <tr style=\"text-align: right;\">\n",
       "      <th></th>\n",
       "      <th>date</th>\n",
       "      <th>nitrogen_oxides_as_nitrogen_dioxide</th>\n",
       "    </tr>\n",
       "  </thead>\n",
       "  <tbody>\n",
       "    <tr>\n",
       "      <th>0</th>\n",
       "      <td>09-06-2024</td>\n",
       "      <td>13.571429</td>\n",
       "    </tr>\n",
       "    <tr>\n",
       "      <th>1</th>\n",
       "      <td>10-06-2024</td>\n",
       "      <td>14.928571</td>\n",
       "    </tr>\n",
       "    <tr>\n",
       "      <th>2</th>\n",
       "      <td>11-06-2024</td>\n",
       "      <td>19.928571</td>\n",
       "    </tr>\n",
       "    <tr>\n",
       "      <th>3</th>\n",
       "      <td>12-06-2024</td>\n",
       "      <td>23.785714</td>\n",
       "    </tr>\n",
       "    <tr>\n",
       "      <th>4</th>\n",
       "      <td>13-06-2024</td>\n",
       "      <td>25.500000</td>\n",
       "    </tr>\n",
       "  </tbody>\n",
       "</table>\n",
       "</div>"
      ],
      "text/plain": [
       "         date  nitrogen_oxides_as_nitrogen_dioxide\n",
       "0  09-06-2024                            13.571429\n",
       "1  10-06-2024                            14.928571\n",
       "2  11-06-2024                            19.928571\n",
       "3  12-06-2024                            23.785714\n",
       "4  13-06-2024                            25.500000"
      ]
     },
     "execution_count": 55,
     "metadata": {},
     "output_type": "execute_result"
    }
   ],
   "source": [
    "# Rename specific columns\n",
    "df_noandio = df_noandio.rename(columns={'Date': 'date'})\n",
    "df_noandio.head()"
   ]
  },
  {
   "cell_type": "code",
   "execution_count": 56,
   "id": "eb50c441",
   "metadata": {},
   "outputs": [],
   "source": [
    "# Ensure Date column is in datetime format, parsing DD-MM-YYYY\n",
    "df_noandio['date'] = pd.to_datetime(df_noandio['date'], format='%d-%m-%Y')"
   ]
  },
  {
   "cell_type": "code",
   "execution_count": 57,
   "id": "c8fc75c8",
   "metadata": {},
   "outputs": [
    {
     "data": {
      "application/vnd.microsoft.datawrangler.viewer.v0+json": {
       "columns": [
        {
         "name": "index",
         "rawType": "int64",
         "type": "integer"
        },
        {
         "name": "date",
         "rawType": "datetime64[ns]",
         "type": "datetime"
        },
        {
         "name": "nitrogen_oxides_as_nitrogen_dioxide",
         "rawType": "float64",
         "type": "float"
        }
       ],
       "ref": "cd181e5a-6006-4a0a-94ed-717720ed4427",
       "rows": [],
       "shape": {
        "columns": 2,
        "rows": 0
       }
      },
      "text/html": [
       "<div>\n",
       "<style scoped>\n",
       "    .dataframe tbody tr th:only-of-type {\n",
       "        vertical-align: middle;\n",
       "    }\n",
       "\n",
       "    .dataframe tbody tr th {\n",
       "        vertical-align: top;\n",
       "    }\n",
       "\n",
       "    .dataframe thead th {\n",
       "        text-align: right;\n",
       "    }\n",
       "</style>\n",
       "<table border=\"1\" class=\"dataframe\">\n",
       "  <thead>\n",
       "    <tr style=\"text-align: right;\">\n",
       "      <th></th>\n",
       "      <th>date</th>\n",
       "      <th>nitrogen_oxides_as_nitrogen_dioxide</th>\n",
       "    </tr>\n",
       "  </thead>\n",
       "  <tbody>\n",
       "  </tbody>\n",
       "</table>\n",
       "</div>"
      ],
      "text/plain": [
       "Empty DataFrame\n",
       "Columns: [date, nitrogen_oxides_as_nitrogen_dioxide]\n",
       "Index: []"
      ]
     },
     "execution_count": 57,
     "metadata": {},
     "output_type": "execute_result"
    }
   ],
   "source": [
    "# Check for missing values\n",
    "df_noandio[df_noandio.isna().any(axis=1)]     # Show all rows with any missing values"
   ]
  },
  {
   "cell_type": "code",
   "execution_count": null,
   "id": "22174a2b",
   "metadata": {},
   "outputs": [],
   "source": [
    "# Function to calculate mean of past 7 days\n",
    "def fill_with_past_7_days_mean(row, df_noandio, window_days=7):\n",
    "    if pd.isna(row['nitric_dioxide']):\n",
    "        # Get the date range for the past 7 days (t-7 to t-1)\n",
    "        start_date = row['date'] - pd.Timedelta(days=window_days)\n",
    "        end_date = row['date'] - pd.Timedelta(days=1)\n",
    "        # Select rows within the past 7 days\n",
    "        past_data = df_noandio[(df_noandio['date'] >= start_date) & (df_dio['date'] <= end_date)]\n",
    "        # Calculate mean of non-NaN Black_Carbon_Mean values\n",
    "        mean_value = past_data['nitric_dioxide'].mean()\n",
    "        return mean_value\n",
    "    return row['nitric_dioxide']\n",
    "\n",
    "# Apply the function to fill missing nitric_oxide_Mean values\n",
    "df_noandio['nitric_dioxide'] = df_noandio.apply(lambda row: fill_with_past_7_days_mean(row, df_noandio), axis=1)"
   ]
  },
  {
   "cell_type": "code",
   "execution_count": 60,
   "id": "5dbb286b",
   "metadata": {},
   "outputs": [
    {
     "data": {
      "application/vnd.microsoft.datawrangler.viewer.v0+json": {
       "columns": [
        {
         "name": "index",
         "rawType": "int64",
         "type": "integer"
        },
        {
         "name": "date",
         "rawType": "datetime64[ns]",
         "type": "datetime"
        },
        {
         "name": "nitrogen_oxides_as_nitrogen_dioxide",
         "rawType": "float64",
         "type": "float"
        }
       ],
       "ref": "56c17113-356a-4839-a02f-0c86854622a3",
       "rows": [
        [
         "0",
         "2024-06-09 00:00:00",
         "13.571"
        ],
        [
         "1",
         "2024-06-10 00:00:00",
         "14.929"
        ],
        [
         "2",
         "2024-06-11 00:00:00",
         "19.929"
        ],
        [
         "3",
         "2024-06-12 00:00:00",
         "23.786"
        ],
        [
         "4",
         "2024-06-13 00:00:00",
         "25.5"
        ]
       ],
       "shape": {
        "columns": 2,
        "rows": 5
       }
      },
      "text/html": [
       "<div>\n",
       "<style scoped>\n",
       "    .dataframe tbody tr th:only-of-type {\n",
       "        vertical-align: middle;\n",
       "    }\n",
       "\n",
       "    .dataframe tbody tr th {\n",
       "        vertical-align: top;\n",
       "    }\n",
       "\n",
       "    .dataframe thead th {\n",
       "        text-align: right;\n",
       "    }\n",
       "</style>\n",
       "<table border=\"1\" class=\"dataframe\">\n",
       "  <thead>\n",
       "    <tr style=\"text-align: right;\">\n",
       "      <th></th>\n",
       "      <th>date</th>\n",
       "      <th>nitrogen_oxides_as_nitrogen_dioxide</th>\n",
       "    </tr>\n",
       "  </thead>\n",
       "  <tbody>\n",
       "    <tr>\n",
       "      <th>0</th>\n",
       "      <td>2024-06-09</td>\n",
       "      <td>13.571</td>\n",
       "    </tr>\n",
       "    <tr>\n",
       "      <th>1</th>\n",
       "      <td>2024-06-10</td>\n",
       "      <td>14.929</td>\n",
       "    </tr>\n",
       "    <tr>\n",
       "      <th>2</th>\n",
       "      <td>2024-06-11</td>\n",
       "      <td>19.929</td>\n",
       "    </tr>\n",
       "    <tr>\n",
       "      <th>3</th>\n",
       "      <td>2024-06-12</td>\n",
       "      <td>23.786</td>\n",
       "    </tr>\n",
       "    <tr>\n",
       "      <th>4</th>\n",
       "      <td>2024-06-13</td>\n",
       "      <td>25.500</td>\n",
       "    </tr>\n",
       "  </tbody>\n",
       "</table>\n",
       "</div>"
      ],
      "text/plain": [
       "        date  nitrogen_oxides_as_nitrogen_dioxide\n",
       "0 2024-06-09                               13.571\n",
       "1 2024-06-10                               14.929\n",
       "2 2024-06-11                               19.929\n",
       "3 2024-06-12                               23.786\n",
       "4 2024-06-13                               25.500"
      ]
     },
     "execution_count": 60,
     "metadata": {},
     "output_type": "execute_result"
    }
   ],
   "source": [
    "# Round specific columns\n",
    "df_noandio['nitrogen_oxides_as_nitrogen_dioxide'] = df_noandio['nitrogen_oxides_as_nitrogen_dioxide'].round(3)\n",
    "df_noandio.head()"
   ]
  },
  {
   "cell_type": "code",
   "execution_count": 61,
   "id": "d51607a9",
   "metadata": {},
   "outputs": [],
   "source": [
    "# Save to a new CSV file\n",
    "df_noandio.to_csv('nitrogen_oxides_as_nitrogen_dioxide_cd.csv', index=False)"
   ]
  },
  {
   "cell_type": "code",
   "execution_count": null,
   "id": "e5f7d423",
   "metadata": {},
   "outputs": [],
   "source": []
  },
  {
   "cell_type": "markdown",
   "id": "7bf3ca98",
   "metadata": {},
   "source": [
    "### Ozone"
   ]
  },
  {
   "cell_type": "code",
   "execution_count": 62,
   "id": "f33d6380",
   "metadata": {},
   "outputs": [
    {
     "data": {
      "text/plain": [
       "Index(['Date', 'Ozone', 'Status', 'Ozone.1', 'Status.1', 'Ozone.2', 'Status.2',\n",
       "       'Ozone.3', 'Status.3', 'Ozone.4', 'Status.4', 'Ozone.5', 'Status.5',\n",
       "       'Ozone.6', 'Status.6', 'Ozone.7', 'Status.7', 'Ozone.8', 'Status.8',\n",
       "       'Ozone.9', 'Status.9', 'Ozone.10', 'Status.10'],\n",
       "      dtype='object')"
      ]
     },
     "execution_count": 62,
     "metadata": {},
     "output_type": "execute_result"
    }
   ],
   "source": [
    "df_ozone = pd.read_csv('ozone.csv', skiprows=10)\n",
    "df_ozone.columns"
   ]
  },
  {
   "cell_type": "code",
   "execution_count": 63,
   "id": "5c0a89ac",
   "metadata": {},
   "outputs": [],
   "source": [
    "# Select relevant columns: Date and Black Carbon values for the three sites\n",
    "columns = ['Date', \n",
    "           'Ozone', \n",
    "           'Ozone.1', \n",
    "           'Ozone.2',\n",
    "           'Ozone.3',\n",
    "           'Ozone.4',\n",
    "           'Ozone.5',\n",
    "           'Ozone.6',\n",
    "           'Ozone.7',\n",
    "           'Ozone.8',\n",
    "           'Ozone.9',\n",
    "           'Ozone.10'\n",
    "           ]\n",
    "df_ozone = df_ozone[columns]"
   ]
  },
  {
   "cell_type": "code",
   "execution_count": 64,
   "id": "36be9963",
   "metadata": {},
   "outputs": [
    {
     "data": {
      "application/vnd.microsoft.datawrangler.viewer.v0+json": {
       "columns": [
        {
         "name": "index",
         "rawType": "int64",
         "type": "integer"
        },
        {
         "name": "Date",
         "rawType": "object",
         "type": "string"
        },
        {
         "name": "Ozone",
         "rawType": "float64",
         "type": "float"
        },
        {
         "name": "Ozone.1",
         "rawType": "float64",
         "type": "float"
        },
        {
         "name": "Ozone.2",
         "rawType": "float64",
         "type": "float"
        },
        {
         "name": "Ozone.3",
         "rawType": "float64",
         "type": "float"
        },
        {
         "name": "Ozone.4",
         "rawType": "float64",
         "type": "float"
        },
        {
         "name": "Ozone.5",
         "rawType": "float64",
         "type": "float"
        },
        {
         "name": "Ozone.6",
         "rawType": "float64",
         "type": "float"
        },
        {
         "name": "Ozone.7",
         "rawType": "float64",
         "type": "float"
        },
        {
         "name": "Ozone.8",
         "rawType": "float64",
         "type": "float"
        },
        {
         "name": "Ozone.9",
         "rawType": "float64",
         "type": "float"
        },
        {
         "name": "Ozone.10",
         "rawType": "float64",
         "type": "float"
        },
        {
         "name": "ozone",
         "rawType": "float64",
         "type": "float"
        }
       ],
       "ref": "fff315b3-f4a3-4970-9e5f-63c58edb0598",
       "rows": [
        [
         "0",
         "08-06-2024",
         "55.0",
         null,
         "63.0",
         "59.0",
         "57.0",
         "59.0",
         "65.0",
         "60.0",
         "61.0",
         "62.0",
         "62.0",
         "60.3"
        ],
        [
         "1",
         "09-06-2024",
         "54.0",
         null,
         "63.0",
         "59.0",
         null,
         "56.0",
         "60.0",
         "60.0",
         "65.0",
         "59.0",
         "59.0",
         "59.44444444444444"
        ],
        [
         "2",
         "10-06-2024",
         "56.0",
         null,
         "64.0",
         "57.0",
         "62.0",
         "59.0",
         "68.0",
         "57.0",
         "63.0",
         "61.0",
         "62.0",
         "60.9"
        ],
        [
         "3",
         "11-06-2024",
         "56.0",
         null,
         "64.0",
         "53.0",
         "58.0",
         "60.0",
         "67.0",
         "54.0",
         "67.0",
         "62.0",
         "64.0",
         "60.5"
        ],
        [
         "4",
         "12-06-2024",
         "55.0",
         null,
         "70.0",
         "60.0",
         "60.0",
         "60.0",
         "67.0",
         "61.0",
         "75.0",
         "69.0",
         "68.0",
         "64.5"
        ]
       ],
       "shape": {
        "columns": 13,
        "rows": 5
       }
      },
      "text/html": [
       "<div>\n",
       "<style scoped>\n",
       "    .dataframe tbody tr th:only-of-type {\n",
       "        vertical-align: middle;\n",
       "    }\n",
       "\n",
       "    .dataframe tbody tr th {\n",
       "        vertical-align: top;\n",
       "    }\n",
       "\n",
       "    .dataframe thead th {\n",
       "        text-align: right;\n",
       "    }\n",
       "</style>\n",
       "<table border=\"1\" class=\"dataframe\">\n",
       "  <thead>\n",
       "    <tr style=\"text-align: right;\">\n",
       "      <th></th>\n",
       "      <th>Date</th>\n",
       "      <th>Ozone</th>\n",
       "      <th>Ozone.1</th>\n",
       "      <th>Ozone.2</th>\n",
       "      <th>Ozone.3</th>\n",
       "      <th>Ozone.4</th>\n",
       "      <th>Ozone.5</th>\n",
       "      <th>Ozone.6</th>\n",
       "      <th>Ozone.7</th>\n",
       "      <th>Ozone.8</th>\n",
       "      <th>Ozone.9</th>\n",
       "      <th>Ozone.10</th>\n",
       "      <th>ozone</th>\n",
       "    </tr>\n",
       "  </thead>\n",
       "  <tbody>\n",
       "    <tr>\n",
       "      <th>0</th>\n",
       "      <td>08-06-2024</td>\n",
       "      <td>55.0</td>\n",
       "      <td>NaN</td>\n",
       "      <td>63.0</td>\n",
       "      <td>59.0</td>\n",
       "      <td>57.0</td>\n",
       "      <td>59.0</td>\n",
       "      <td>65.0</td>\n",
       "      <td>60.0</td>\n",
       "      <td>61.0</td>\n",
       "      <td>62.0</td>\n",
       "      <td>62.0</td>\n",
       "      <td>60.300000</td>\n",
       "    </tr>\n",
       "    <tr>\n",
       "      <th>1</th>\n",
       "      <td>09-06-2024</td>\n",
       "      <td>54.0</td>\n",
       "      <td>NaN</td>\n",
       "      <td>63.0</td>\n",
       "      <td>59.0</td>\n",
       "      <td>NaN</td>\n",
       "      <td>56.0</td>\n",
       "      <td>60.0</td>\n",
       "      <td>60.0</td>\n",
       "      <td>65.0</td>\n",
       "      <td>59.0</td>\n",
       "      <td>59.0</td>\n",
       "      <td>59.444444</td>\n",
       "    </tr>\n",
       "    <tr>\n",
       "      <th>2</th>\n",
       "      <td>10-06-2024</td>\n",
       "      <td>56.0</td>\n",
       "      <td>NaN</td>\n",
       "      <td>64.0</td>\n",
       "      <td>57.0</td>\n",
       "      <td>62.0</td>\n",
       "      <td>59.0</td>\n",
       "      <td>68.0</td>\n",
       "      <td>57.0</td>\n",
       "      <td>63.0</td>\n",
       "      <td>61.0</td>\n",
       "      <td>62.0</td>\n",
       "      <td>60.900000</td>\n",
       "    </tr>\n",
       "    <tr>\n",
       "      <th>3</th>\n",
       "      <td>11-06-2024</td>\n",
       "      <td>56.0</td>\n",
       "      <td>NaN</td>\n",
       "      <td>64.0</td>\n",
       "      <td>53.0</td>\n",
       "      <td>58.0</td>\n",
       "      <td>60.0</td>\n",
       "      <td>67.0</td>\n",
       "      <td>54.0</td>\n",
       "      <td>67.0</td>\n",
       "      <td>62.0</td>\n",
       "      <td>64.0</td>\n",
       "      <td>60.500000</td>\n",
       "    </tr>\n",
       "    <tr>\n",
       "      <th>4</th>\n",
       "      <td>12-06-2024</td>\n",
       "      <td>55.0</td>\n",
       "      <td>NaN</td>\n",
       "      <td>70.0</td>\n",
       "      <td>60.0</td>\n",
       "      <td>60.0</td>\n",
       "      <td>60.0</td>\n",
       "      <td>67.0</td>\n",
       "      <td>61.0</td>\n",
       "      <td>75.0</td>\n",
       "      <td>69.0</td>\n",
       "      <td>68.0</td>\n",
       "      <td>64.500000</td>\n",
       "    </tr>\n",
       "  </tbody>\n",
       "</table>\n",
       "</div>"
      ],
      "text/plain": [
       "         Date  Ozone  Ozone.1  Ozone.2  Ozone.3  Ozone.4  Ozone.5  Ozone.6  \\\n",
       "0  08-06-2024   55.0      NaN     63.0     59.0     57.0     59.0     65.0   \n",
       "1  09-06-2024   54.0      NaN     63.0     59.0      NaN     56.0     60.0   \n",
       "2  10-06-2024   56.0      NaN     64.0     57.0     62.0     59.0     68.0   \n",
       "3  11-06-2024   56.0      NaN     64.0     53.0     58.0     60.0     67.0   \n",
       "4  12-06-2024   55.0      NaN     70.0     60.0     60.0     60.0     67.0   \n",
       "\n",
       "   Ozone.7  Ozone.8  Ozone.9  Ozone.10      ozone  \n",
       "0     60.0     61.0     62.0      62.0  60.300000  \n",
       "1     60.0     65.0     59.0      59.0  59.444444  \n",
       "2     57.0     63.0     61.0      62.0  60.900000  \n",
       "3     54.0     67.0     62.0      64.0  60.500000  \n",
       "4     61.0     75.0     69.0      68.0  64.500000  "
      ]
     },
     "execution_count": 64,
     "metadata": {},
     "output_type": "execute_result"
    }
   ],
   "source": [
    "# Replace 'No data' with NaN\n",
    "df_ozone[[ \n",
    "           'Ozone', \n",
    "           'Ozone.1', \n",
    "           'Ozone.2',\n",
    "           'Ozone.3',\n",
    "           'Ozone.4',\n",
    "           'Ozone.5',\n",
    "           'Ozone.6',\n",
    "           'Ozone.7',\n",
    "           'Ozone.8',\n",
    "           'Ozone.9',\n",
    "           'Ozone.10'\n",
    "           ]] = df_ozone[[ \n",
    "           'Ozone', \n",
    "           'Ozone.1', \n",
    "           'Ozone.2',\n",
    "           'Ozone.3',\n",
    "           'Ozone.4',\n",
    "           'Ozone.5',\n",
    "           'Ozone.6',\n",
    "           'Ozone.7',\n",
    "           'Ozone.8',\n",
    "           'Ozone.9',\n",
    "           'Ozone.10'\n",
    "           ]].replace('No data', np.nan)\n",
    "\n",
    "# Convert blue particulate matter columns to numeric\n",
    "df_ozone[[ \n",
    "           'Ozone', \n",
    "           'Ozone.1', \n",
    "           'Ozone.2',\n",
    "           'Ozone.3',\n",
    "           'Ozone.4',\n",
    "           'Ozone.5',\n",
    "           'Ozone.6',\n",
    "           'Ozone.7',\n",
    "           'Ozone.8',\n",
    "           'Ozone.9',\n",
    "           'Ozone.10'\n",
    "           ]] = df_ozone[[ \n",
    "           'Ozone', \n",
    "           'Ozone.1', \n",
    "           'Ozone.2',\n",
    "           'Ozone.3',\n",
    "           'Ozone.4',\n",
    "           'Ozone.5',\n",
    "           'Ozone.6',\n",
    "           'Ozone.7',\n",
    "           'Ozone.8',\n",
    "           'Ozone.9',\n",
    "           'Ozone.10'\n",
    "           ]].apply(pd.to_numeric, errors='coerce')\n",
    "\n",
    "# Calculate the mean blue particulate matter value per row, ignoring NaN\n",
    "df_ozone['ozone'] = df_ozone[[ \n",
    "           'Ozone', \n",
    "           'Ozone.1', \n",
    "           'Ozone.2',\n",
    "           'Ozone.3',\n",
    "           'Ozone.4',\n",
    "           'Ozone.5',\n",
    "           'Ozone.6',\n",
    "           'Ozone.7',\n",
    "           'Ozone.8',\n",
    "           'Ozone.9',\n",
    "           'Ozone.10'\n",
    "           ]].mean(axis=1, skipna=True)\n",
    "\n",
    "df_ozone.head()"
   ]
  },
  {
   "cell_type": "code",
   "execution_count": 65,
   "id": "6d04169a",
   "metadata": {},
   "outputs": [
    {
     "data": {
      "application/vnd.microsoft.datawrangler.viewer.v0+json": {
       "columns": [
        {
         "name": "index",
         "rawType": "int64",
         "type": "integer"
        },
        {
         "name": "Date",
         "rawType": "object",
         "type": "string"
        },
        {
         "name": "ozone",
         "rawType": "float64",
         "type": "float"
        }
       ],
       "ref": "a160663a-d124-44d9-86c6-a59747b62ce6",
       "rows": [
        [
         "0",
         "08-06-2024",
         "60.3"
        ],
        [
         "1",
         "09-06-2024",
         "59.44444444444444"
        ],
        [
         "2",
         "10-06-2024",
         "60.9"
        ],
        [
         "3",
         "11-06-2024",
         "60.5"
        ],
        [
         "4",
         "12-06-2024",
         "64.5"
        ]
       ],
       "shape": {
        "columns": 2,
        "rows": 5
       }
      },
      "text/html": [
       "<div>\n",
       "<style scoped>\n",
       "    .dataframe tbody tr th:only-of-type {\n",
       "        vertical-align: middle;\n",
       "    }\n",
       "\n",
       "    .dataframe tbody tr th {\n",
       "        vertical-align: top;\n",
       "    }\n",
       "\n",
       "    .dataframe thead th {\n",
       "        text-align: right;\n",
       "    }\n",
       "</style>\n",
       "<table border=\"1\" class=\"dataframe\">\n",
       "  <thead>\n",
       "    <tr style=\"text-align: right;\">\n",
       "      <th></th>\n",
       "      <th>Date</th>\n",
       "      <th>ozone</th>\n",
       "    </tr>\n",
       "  </thead>\n",
       "  <tbody>\n",
       "    <tr>\n",
       "      <th>0</th>\n",
       "      <td>08-06-2024</td>\n",
       "      <td>60.300000</td>\n",
       "    </tr>\n",
       "    <tr>\n",
       "      <th>1</th>\n",
       "      <td>09-06-2024</td>\n",
       "      <td>59.444444</td>\n",
       "    </tr>\n",
       "    <tr>\n",
       "      <th>2</th>\n",
       "      <td>10-06-2024</td>\n",
       "      <td>60.900000</td>\n",
       "    </tr>\n",
       "    <tr>\n",
       "      <th>3</th>\n",
       "      <td>11-06-2024</td>\n",
       "      <td>60.500000</td>\n",
       "    </tr>\n",
       "    <tr>\n",
       "      <th>4</th>\n",
       "      <td>12-06-2024</td>\n",
       "      <td>64.500000</td>\n",
       "    </tr>\n",
       "  </tbody>\n",
       "</table>\n",
       "</div>"
      ],
      "text/plain": [
       "         Date      ozone\n",
       "0  08-06-2024  60.300000\n",
       "1  09-06-2024  59.444444\n",
       "2  10-06-2024  60.900000\n",
       "3  11-06-2024  60.500000\n",
       "4  12-06-2024  64.500000"
      ]
     },
     "execution_count": 65,
     "metadata": {},
     "output_type": "execute_result"
    }
   ],
   "source": [
    "# Select only Date and Black_Carbon_Mean columns\n",
    "df_ozone = df_ozone[['Date', 'ozone']]\n",
    "df_ozone.head()"
   ]
  },
  {
   "cell_type": "code",
   "execution_count": 66,
   "id": "3b520cad",
   "metadata": {},
   "outputs": [
    {
     "data": {
      "application/vnd.microsoft.datawrangler.viewer.v0+json": {
       "columns": [
        {
         "name": "index",
         "rawType": "int64",
         "type": "integer"
        },
        {
         "name": "date",
         "rawType": "object",
         "type": "string"
        },
        {
         "name": "Ozone",
         "rawType": "float64",
         "type": "float"
        }
       ],
       "ref": "36529313-bc28-45ba-b8ab-f47bce557f70",
       "rows": [
        [
         "0",
         "08-06-2024",
         "60.3"
        ],
        [
         "1",
         "09-06-2024",
         "59.44444444444444"
        ],
        [
         "2",
         "10-06-2024",
         "60.9"
        ],
        [
         "3",
         "11-06-2024",
         "60.5"
        ],
        [
         "4",
         "12-06-2024",
         "64.5"
        ]
       ],
       "shape": {
        "columns": 2,
        "rows": 5
       }
      },
      "text/html": [
       "<div>\n",
       "<style scoped>\n",
       "    .dataframe tbody tr th:only-of-type {\n",
       "        vertical-align: middle;\n",
       "    }\n",
       "\n",
       "    .dataframe tbody tr th {\n",
       "        vertical-align: top;\n",
       "    }\n",
       "\n",
       "    .dataframe thead th {\n",
       "        text-align: right;\n",
       "    }\n",
       "</style>\n",
       "<table border=\"1\" class=\"dataframe\">\n",
       "  <thead>\n",
       "    <tr style=\"text-align: right;\">\n",
       "      <th></th>\n",
       "      <th>date</th>\n",
       "      <th>Ozone</th>\n",
       "    </tr>\n",
       "  </thead>\n",
       "  <tbody>\n",
       "    <tr>\n",
       "      <th>0</th>\n",
       "      <td>08-06-2024</td>\n",
       "      <td>60.300000</td>\n",
       "    </tr>\n",
       "    <tr>\n",
       "      <th>1</th>\n",
       "      <td>09-06-2024</td>\n",
       "      <td>59.444444</td>\n",
       "    </tr>\n",
       "    <tr>\n",
       "      <th>2</th>\n",
       "      <td>10-06-2024</td>\n",
       "      <td>60.900000</td>\n",
       "    </tr>\n",
       "    <tr>\n",
       "      <th>3</th>\n",
       "      <td>11-06-2024</td>\n",
       "      <td>60.500000</td>\n",
       "    </tr>\n",
       "    <tr>\n",
       "      <th>4</th>\n",
       "      <td>12-06-2024</td>\n",
       "      <td>64.500000</td>\n",
       "    </tr>\n",
       "  </tbody>\n",
       "</table>\n",
       "</div>"
      ],
      "text/plain": [
       "         date      Ozone\n",
       "0  08-06-2024  60.300000\n",
       "1  09-06-2024  59.444444\n",
       "2  10-06-2024  60.900000\n",
       "3  11-06-2024  60.500000\n",
       "4  12-06-2024  64.500000"
      ]
     },
     "execution_count": 66,
     "metadata": {},
     "output_type": "execute_result"
    }
   ],
   "source": [
    "# Rename specific columns\n",
    "df_ozone = df_ozone.rename(columns={'Date': 'date', 'ozone' : 'Ozone'})\n",
    "df_ozone.head()"
   ]
  },
  {
   "cell_type": "code",
   "execution_count": 67,
   "id": "b479c7ca",
   "metadata": {},
   "outputs": [],
   "source": [
    "# Ensure Date column is in datetime format, parsing DD-MM-YYYY\n",
    "df_ozone['date'] = pd.to_datetime(df_ozone['date'], format='%d-%m-%Y')"
   ]
  },
  {
   "cell_type": "code",
   "execution_count": 68,
   "id": "c1f91c8e",
   "metadata": {},
   "outputs": [
    {
     "data": {
      "application/vnd.microsoft.datawrangler.viewer.v0+json": {
       "columns": [
        {
         "name": "index",
         "rawType": "int64",
         "type": "integer"
        },
        {
         "name": "date",
         "rawType": "datetime64[ns]",
         "type": "datetime"
        },
        {
         "name": "Ozone",
         "rawType": "float64",
         "type": "float"
        }
       ],
       "ref": "47fd5278-806e-48cb-826a-59eccb862f1f",
       "rows": [],
       "shape": {
        "columns": 2,
        "rows": 0
       }
      },
      "text/html": [
       "<div>\n",
       "<style scoped>\n",
       "    .dataframe tbody tr th:only-of-type {\n",
       "        vertical-align: middle;\n",
       "    }\n",
       "\n",
       "    .dataframe tbody tr th {\n",
       "        vertical-align: top;\n",
       "    }\n",
       "\n",
       "    .dataframe thead th {\n",
       "        text-align: right;\n",
       "    }\n",
       "</style>\n",
       "<table border=\"1\" class=\"dataframe\">\n",
       "  <thead>\n",
       "    <tr style=\"text-align: right;\">\n",
       "      <th></th>\n",
       "      <th>date</th>\n",
       "      <th>Ozone</th>\n",
       "    </tr>\n",
       "  </thead>\n",
       "  <tbody>\n",
       "  </tbody>\n",
       "</table>\n",
       "</div>"
      ],
      "text/plain": [
       "Empty DataFrame\n",
       "Columns: [date, Ozone]\n",
       "Index: []"
      ]
     },
     "execution_count": 68,
     "metadata": {},
     "output_type": "execute_result"
    }
   ],
   "source": [
    "# Check for missing values\n",
    "df_ozone[df_ozone.isna().any(axis=1)]     # Show all rows with any missing values"
   ]
  },
  {
   "cell_type": "code",
   "execution_count": 69,
   "id": "102e71e3",
   "metadata": {},
   "outputs": [],
   "source": [
    "# Function to calculate mean of past 7 days\n",
    "def fill_with_past_7_days_mean(row, df_ozone, window_days=7):\n",
    "    if pd.isna(row['Ozone']):\n",
    "        # Get the date range for the past 7 days (t-7 to t-1)\n",
    "        start_date = row['date'] - pd.Timedelta(days=window_days)\n",
    "        end_date = row['date'] - pd.Timedelta(days=1)\n",
    "        # Select rows within the past 7 days\n",
    "        past_data = df_ozone[(df_ozone['date'] >= start_date) & (df_ozone['date'] <= end_date)]\n",
    "        # Calculate mean of non-NaN Black_Carbon_Mean values\n",
    "        mean_value = past_data['Ozone'].mean()\n",
    "        return mean_value\n",
    "    return row['Ozone']\n",
    "\n",
    "# Apply the function to fill missing nitric_oxide_Mean values\n",
    "df_ozone['Ozone'] = df_ozone.apply(lambda row: fill_with_past_7_days_mean(row, df_ozone), axis=1)"
   ]
  },
  {
   "cell_type": "code",
   "execution_count": 70,
   "id": "5616eb67",
   "metadata": {},
   "outputs": [
    {
     "data": {
      "application/vnd.microsoft.datawrangler.viewer.v0+json": {
       "columns": [
        {
         "name": "index",
         "rawType": "int64",
         "type": "integer"
        },
        {
         "name": "date",
         "rawType": "datetime64[ns]",
         "type": "datetime"
        },
        {
         "name": "Ozone",
         "rawType": "float64",
         "type": "float"
        }
       ],
       "ref": "08c03406-d64c-42b1-b940-12f337ee52c8",
       "rows": [
        [
         "0",
         "2024-06-08 00:00:00",
         "60.3"
        ],
        [
         "1",
         "2024-06-09 00:00:00",
         "59.444"
        ],
        [
         "2",
         "2024-06-10 00:00:00",
         "60.9"
        ],
        [
         "3",
         "2024-06-11 00:00:00",
         "60.5"
        ],
        [
         "4",
         "2024-06-12 00:00:00",
         "64.5"
        ]
       ],
       "shape": {
        "columns": 2,
        "rows": 5
       }
      },
      "text/html": [
       "<div>\n",
       "<style scoped>\n",
       "    .dataframe tbody tr th:only-of-type {\n",
       "        vertical-align: middle;\n",
       "    }\n",
       "\n",
       "    .dataframe tbody tr th {\n",
       "        vertical-align: top;\n",
       "    }\n",
       "\n",
       "    .dataframe thead th {\n",
       "        text-align: right;\n",
       "    }\n",
       "</style>\n",
       "<table border=\"1\" class=\"dataframe\">\n",
       "  <thead>\n",
       "    <tr style=\"text-align: right;\">\n",
       "      <th></th>\n",
       "      <th>date</th>\n",
       "      <th>Ozone</th>\n",
       "    </tr>\n",
       "  </thead>\n",
       "  <tbody>\n",
       "    <tr>\n",
       "      <th>0</th>\n",
       "      <td>2024-06-08</td>\n",
       "      <td>60.300</td>\n",
       "    </tr>\n",
       "    <tr>\n",
       "      <th>1</th>\n",
       "      <td>2024-06-09</td>\n",
       "      <td>59.444</td>\n",
       "    </tr>\n",
       "    <tr>\n",
       "      <th>2</th>\n",
       "      <td>2024-06-10</td>\n",
       "      <td>60.900</td>\n",
       "    </tr>\n",
       "    <tr>\n",
       "      <th>3</th>\n",
       "      <td>2024-06-11</td>\n",
       "      <td>60.500</td>\n",
       "    </tr>\n",
       "    <tr>\n",
       "      <th>4</th>\n",
       "      <td>2024-06-12</td>\n",
       "      <td>64.500</td>\n",
       "    </tr>\n",
       "  </tbody>\n",
       "</table>\n",
       "</div>"
      ],
      "text/plain": [
       "        date   Ozone\n",
       "0 2024-06-08  60.300\n",
       "1 2024-06-09  59.444\n",
       "2 2024-06-10  60.900\n",
       "3 2024-06-11  60.500\n",
       "4 2024-06-12  64.500"
      ]
     },
     "execution_count": 70,
     "metadata": {},
     "output_type": "execute_result"
    }
   ],
   "source": [
    "# Round specific columns\n",
    "df_ozone['Ozone'] = df_ozone['Ozone'].round(3)\n",
    "df_ozone.head()"
   ]
  },
  {
   "cell_type": "code",
   "execution_count": 71,
   "id": "c89abcee",
   "metadata": {},
   "outputs": [],
   "source": [
    "# Save to a new CSV file\n",
    "df_ozone.to_csv('Ozone_cd.csv', index=False)"
   ]
  },
  {
   "cell_type": "code",
   "execution_count": null,
   "id": "9bf13c0c",
   "metadata": {},
   "outputs": [],
   "source": []
  },
  {
   "cell_type": "markdown",
   "id": "96f6271b",
   "metadata": {},
   "source": [
    "### PM2.5"
   ]
  },
  {
   "cell_type": "code",
   "execution_count": 72,
   "id": "04dac8cc",
   "metadata": {},
   "outputs": [
    {
     "data": {
      "text/plain": [
       "Index(['Date', 'PM2.5 particulate matter (Hourly measured)', 'Status',\n",
       "       'PM2.5 particulate matter (Hourly measured).1', 'Status.1',\n",
       "       'PM2.5 particulate matter (Hourly measured).2', 'Status.2',\n",
       "       'PM2.5 particulate matter (Hourly measured).3', 'Status.3',\n",
       "       'PM2.5 particulate matter (Hourly measured).4', 'Status.4',\n",
       "       'PM2.5 particulate matter (Hourly measured).5', 'Status.5',\n",
       "       'PM2.5 particulate matter (Hourly measured).6', 'Status.6',\n",
       "       'PM2.5 particulate matter (Hourly measured).7', 'Status.7',\n",
       "       'PM2.5 particulate matter (Hourly measured).8', 'Status.8',\n",
       "       'PM2.5 particulate matter (Hourly measured).9', 'Status.9',\n",
       "       'PM2.5 particulate matter (Hourly measured).10', 'Status.10',\n",
       "       'PM2.5 particulate matter (Hourly measured).11', 'Status.11',\n",
       "       'PM2.5 particulate matter (Hourly measured).12', 'Status.12',\n",
       "       'PM2.5 particulate matter (Hourly measured).13', 'Status.13',\n",
       "       'PM2.5 particulate matter (Hourly measured).14', 'Status.14'],\n",
       "      dtype='object')"
      ]
     },
     "execution_count": 72,
     "metadata": {},
     "output_type": "execute_result"
    }
   ],
   "source": [
    "df_pm2 = pd.read_csv('PM2.5.csv', skiprows=10)\n",
    "df_pm2.columns"
   ]
  },
  {
   "cell_type": "code",
   "execution_count": 73,
   "id": "970d9e5c",
   "metadata": {},
   "outputs": [],
   "source": [
    "# Select relevant columns: Date and Black Carbon values for the three sites\n",
    "columns = ['Date', \n",
    "           'PM2.5 particulate matter (Hourly measured)', \n",
    "           'PM2.5 particulate matter (Hourly measured).1', \n",
    "           'PM2.5 particulate matter (Hourly measured).2',\n",
    "           'PM2.5 particulate matter (Hourly measured).3',\n",
    "           'PM2.5 particulate matter (Hourly measured).4',\n",
    "           'PM2.5 particulate matter (Hourly measured).5',\n",
    "           'PM2.5 particulate matter (Hourly measured).6',\n",
    "           'PM2.5 particulate matter (Hourly measured).7',\n",
    "           'PM2.5 particulate matter (Hourly measured).8',\n",
    "           'PM2.5 particulate matter (Hourly measured).9',\n",
    "           'PM2.5 particulate matter (Hourly measured).10',\n",
    "           'PM2.5 particulate matter (Hourly measured).11',\n",
    "           'PM2.5 particulate matter (Hourly measured).12',\n",
    "           'PM2.5 particulate matter (Hourly measured).13',\n",
    "           'PM2.5 particulate matter (Hourly measured).14',\n",
    "           ]\n",
    "df_pm2 = df_pm2[columns]"
   ]
  },
  {
   "cell_type": "code",
   "execution_count": 74,
   "id": "a3c4afb3",
   "metadata": {},
   "outputs": [
    {
     "data": {
      "application/vnd.microsoft.datawrangler.viewer.v0+json": {
       "columns": [
        {
         "name": "index",
         "rawType": "int64",
         "type": "integer"
        },
        {
         "name": "Date",
         "rawType": "object",
         "type": "string"
        },
        {
         "name": "PM2.5 particulate matter (Hourly measured)",
         "rawType": "int64",
         "type": "integer"
        },
        {
         "name": "PM2.5 particulate matter (Hourly measured).1",
         "rawType": "float64",
         "type": "float"
        },
        {
         "name": "PM2.5 particulate matter (Hourly measured).2",
         "rawType": "float64",
         "type": "float"
        },
        {
         "name": "PM2.5 particulate matter (Hourly measured).3",
         "rawType": "int64",
         "type": "integer"
        },
        {
         "name": "PM2.5 particulate matter (Hourly measured).4",
         "rawType": "float64",
         "type": "float"
        },
        {
         "name": "PM2.5 particulate matter (Hourly measured).5",
         "rawType": "float64",
         "type": "float"
        },
        {
         "name": "PM2.5 particulate matter (Hourly measured).6",
         "rawType": "float64",
         "type": "float"
        },
        {
         "name": "PM2.5 particulate matter (Hourly measured).7",
         "rawType": "int64",
         "type": "integer"
        },
        {
         "name": "PM2.5 particulate matter (Hourly measured).8",
         "rawType": "float64",
         "type": "float"
        },
        {
         "name": "PM2.5 particulate matter (Hourly measured).9",
         "rawType": "float64",
         "type": "float"
        },
        {
         "name": "PM2.5 particulate matter (Hourly measured).10",
         "rawType": "float64",
         "type": "float"
        },
        {
         "name": "PM2.5 particulate matter (Hourly measured).11",
         "rawType": "float64",
         "type": "float"
        },
        {
         "name": "PM2.5 particulate matter (Hourly measured).12",
         "rawType": "int64",
         "type": "integer"
        },
        {
         "name": "PM2.5 particulate matter (Hourly measured).13",
         "rawType": "int64",
         "type": "integer"
        },
        {
         "name": "PM2.5 particulate matter (Hourly measured).14",
         "rawType": "float64",
         "type": "float"
        },
        {
         "name": "PM2.5",
         "rawType": "float64",
         "type": "float"
        }
       ],
       "ref": "a2a91017-e5f5-46dd-ae88-712915e37893",
       "rows": [
        [
         "0",
         "09-06-2024",
         "5",
         null,
         "4.0",
         "4",
         null,
         "4.0",
         null,
         "4",
         "4.0",
         null,
         null,
         null,
         "4",
         "4",
         null,
         "4.125"
        ],
        [
         "1",
         "10-06-2024",
         "3",
         null,
         "3.0",
         "3",
         null,
         "3.0",
         null,
         "3",
         "3.0",
         null,
         null,
         null,
         "3",
         "3",
         null,
         "3.0"
        ],
        [
         "2",
         "11-06-2024",
         "5",
         null,
         "4.0",
         "4",
         null,
         "4.0",
         null,
         "5",
         "4.0",
         null,
         null,
         null,
         "4",
         "4",
         null,
         "4.25"
        ],
        [
         "3",
         "12-06-2024",
         "6",
         null,
         "4.0",
         "5",
         null,
         "4.0",
         null,
         "5",
         "5.0",
         null,
         null,
         null,
         "6",
         "4",
         null,
         "4.875"
        ],
        [
         "4",
         "13-06-2024",
         "6",
         null,
         "4.0",
         "5",
         null,
         "4.0",
         null,
         "4",
         "4.0",
         null,
         null,
         null,
         "6",
         "4",
         null,
         "4.625"
        ]
       ],
       "shape": {
        "columns": 17,
        "rows": 5
       }
      },
      "text/html": [
       "<div>\n",
       "<style scoped>\n",
       "    .dataframe tbody tr th:only-of-type {\n",
       "        vertical-align: middle;\n",
       "    }\n",
       "\n",
       "    .dataframe tbody tr th {\n",
       "        vertical-align: top;\n",
       "    }\n",
       "\n",
       "    .dataframe thead th {\n",
       "        text-align: right;\n",
       "    }\n",
       "</style>\n",
       "<table border=\"1\" class=\"dataframe\">\n",
       "  <thead>\n",
       "    <tr style=\"text-align: right;\">\n",
       "      <th></th>\n",
       "      <th>Date</th>\n",
       "      <th>PM2.5 particulate matter (Hourly measured)</th>\n",
       "      <th>PM2.5 particulate matter (Hourly measured).1</th>\n",
       "      <th>PM2.5 particulate matter (Hourly measured).2</th>\n",
       "      <th>PM2.5 particulate matter (Hourly measured).3</th>\n",
       "      <th>PM2.5 particulate matter (Hourly measured).4</th>\n",
       "      <th>PM2.5 particulate matter (Hourly measured).5</th>\n",
       "      <th>PM2.5 particulate matter (Hourly measured).6</th>\n",
       "      <th>PM2.5 particulate matter (Hourly measured).7</th>\n",
       "      <th>PM2.5 particulate matter (Hourly measured).8</th>\n",
       "      <th>PM2.5 particulate matter (Hourly measured).9</th>\n",
       "      <th>PM2.5 particulate matter (Hourly measured).10</th>\n",
       "      <th>PM2.5 particulate matter (Hourly measured).11</th>\n",
       "      <th>PM2.5 particulate matter (Hourly measured).12</th>\n",
       "      <th>PM2.5 particulate matter (Hourly measured).13</th>\n",
       "      <th>PM2.5 particulate matter (Hourly measured).14</th>\n",
       "      <th>PM2.5</th>\n",
       "    </tr>\n",
       "  </thead>\n",
       "  <tbody>\n",
       "    <tr>\n",
       "      <th>0</th>\n",
       "      <td>09-06-2024</td>\n",
       "      <td>5</td>\n",
       "      <td>NaN</td>\n",
       "      <td>4.0</td>\n",
       "      <td>4</td>\n",
       "      <td>NaN</td>\n",
       "      <td>4.0</td>\n",
       "      <td>NaN</td>\n",
       "      <td>4</td>\n",
       "      <td>4.0</td>\n",
       "      <td>NaN</td>\n",
       "      <td>NaN</td>\n",
       "      <td>NaN</td>\n",
       "      <td>4</td>\n",
       "      <td>4</td>\n",
       "      <td>NaN</td>\n",
       "      <td>4.125</td>\n",
       "    </tr>\n",
       "    <tr>\n",
       "      <th>1</th>\n",
       "      <td>10-06-2024</td>\n",
       "      <td>3</td>\n",
       "      <td>NaN</td>\n",
       "      <td>3.0</td>\n",
       "      <td>3</td>\n",
       "      <td>NaN</td>\n",
       "      <td>3.0</td>\n",
       "      <td>NaN</td>\n",
       "      <td>3</td>\n",
       "      <td>3.0</td>\n",
       "      <td>NaN</td>\n",
       "      <td>NaN</td>\n",
       "      <td>NaN</td>\n",
       "      <td>3</td>\n",
       "      <td>3</td>\n",
       "      <td>NaN</td>\n",
       "      <td>3.000</td>\n",
       "    </tr>\n",
       "    <tr>\n",
       "      <th>2</th>\n",
       "      <td>11-06-2024</td>\n",
       "      <td>5</td>\n",
       "      <td>NaN</td>\n",
       "      <td>4.0</td>\n",
       "      <td>4</td>\n",
       "      <td>NaN</td>\n",
       "      <td>4.0</td>\n",
       "      <td>NaN</td>\n",
       "      <td>5</td>\n",
       "      <td>4.0</td>\n",
       "      <td>NaN</td>\n",
       "      <td>NaN</td>\n",
       "      <td>NaN</td>\n",
       "      <td>4</td>\n",
       "      <td>4</td>\n",
       "      <td>NaN</td>\n",
       "      <td>4.250</td>\n",
       "    </tr>\n",
       "    <tr>\n",
       "      <th>3</th>\n",
       "      <td>12-06-2024</td>\n",
       "      <td>6</td>\n",
       "      <td>NaN</td>\n",
       "      <td>4.0</td>\n",
       "      <td>5</td>\n",
       "      <td>NaN</td>\n",
       "      <td>4.0</td>\n",
       "      <td>NaN</td>\n",
       "      <td>5</td>\n",
       "      <td>5.0</td>\n",
       "      <td>NaN</td>\n",
       "      <td>NaN</td>\n",
       "      <td>NaN</td>\n",
       "      <td>6</td>\n",
       "      <td>4</td>\n",
       "      <td>NaN</td>\n",
       "      <td>4.875</td>\n",
       "    </tr>\n",
       "    <tr>\n",
       "      <th>4</th>\n",
       "      <td>13-06-2024</td>\n",
       "      <td>6</td>\n",
       "      <td>NaN</td>\n",
       "      <td>4.0</td>\n",
       "      <td>5</td>\n",
       "      <td>NaN</td>\n",
       "      <td>4.0</td>\n",
       "      <td>NaN</td>\n",
       "      <td>4</td>\n",
       "      <td>4.0</td>\n",
       "      <td>NaN</td>\n",
       "      <td>NaN</td>\n",
       "      <td>NaN</td>\n",
       "      <td>6</td>\n",
       "      <td>4</td>\n",
       "      <td>NaN</td>\n",
       "      <td>4.625</td>\n",
       "    </tr>\n",
       "  </tbody>\n",
       "</table>\n",
       "</div>"
      ],
      "text/plain": [
       "         Date  PM2.5 particulate matter (Hourly measured)  \\\n",
       "0  09-06-2024                                           5   \n",
       "1  10-06-2024                                           3   \n",
       "2  11-06-2024                                           5   \n",
       "3  12-06-2024                                           6   \n",
       "4  13-06-2024                                           6   \n",
       "\n",
       "   PM2.5 particulate matter (Hourly measured).1  \\\n",
       "0                                           NaN   \n",
       "1                                           NaN   \n",
       "2                                           NaN   \n",
       "3                                           NaN   \n",
       "4                                           NaN   \n",
       "\n",
       "   PM2.5 particulate matter (Hourly measured).2  \\\n",
       "0                                           4.0   \n",
       "1                                           3.0   \n",
       "2                                           4.0   \n",
       "3                                           4.0   \n",
       "4                                           4.0   \n",
       "\n",
       "   PM2.5 particulate matter (Hourly measured).3  \\\n",
       "0                                             4   \n",
       "1                                             3   \n",
       "2                                             4   \n",
       "3                                             5   \n",
       "4                                             5   \n",
       "\n",
       "   PM2.5 particulate matter (Hourly measured).4  \\\n",
       "0                                           NaN   \n",
       "1                                           NaN   \n",
       "2                                           NaN   \n",
       "3                                           NaN   \n",
       "4                                           NaN   \n",
       "\n",
       "   PM2.5 particulate matter (Hourly measured).5  \\\n",
       "0                                           4.0   \n",
       "1                                           3.0   \n",
       "2                                           4.0   \n",
       "3                                           4.0   \n",
       "4                                           4.0   \n",
       "\n",
       "   PM2.5 particulate matter (Hourly measured).6  \\\n",
       "0                                           NaN   \n",
       "1                                           NaN   \n",
       "2                                           NaN   \n",
       "3                                           NaN   \n",
       "4                                           NaN   \n",
       "\n",
       "   PM2.5 particulate matter (Hourly measured).7  \\\n",
       "0                                             4   \n",
       "1                                             3   \n",
       "2                                             5   \n",
       "3                                             5   \n",
       "4                                             4   \n",
       "\n",
       "   PM2.5 particulate matter (Hourly measured).8  \\\n",
       "0                                           4.0   \n",
       "1                                           3.0   \n",
       "2                                           4.0   \n",
       "3                                           5.0   \n",
       "4                                           4.0   \n",
       "\n",
       "   PM2.5 particulate matter (Hourly measured).9  \\\n",
       "0                                           NaN   \n",
       "1                                           NaN   \n",
       "2                                           NaN   \n",
       "3                                           NaN   \n",
       "4                                           NaN   \n",
       "\n",
       "   PM2.5 particulate matter (Hourly measured).10  \\\n",
       "0                                            NaN   \n",
       "1                                            NaN   \n",
       "2                                            NaN   \n",
       "3                                            NaN   \n",
       "4                                            NaN   \n",
       "\n",
       "   PM2.5 particulate matter (Hourly measured).11  \\\n",
       "0                                            NaN   \n",
       "1                                            NaN   \n",
       "2                                            NaN   \n",
       "3                                            NaN   \n",
       "4                                            NaN   \n",
       "\n",
       "   PM2.5 particulate matter (Hourly measured).12  \\\n",
       "0                                              4   \n",
       "1                                              3   \n",
       "2                                              4   \n",
       "3                                              6   \n",
       "4                                              6   \n",
       "\n",
       "   PM2.5 particulate matter (Hourly measured).13  \\\n",
       "0                                              4   \n",
       "1                                              3   \n",
       "2                                              4   \n",
       "3                                              4   \n",
       "4                                              4   \n",
       "\n",
       "   PM2.5 particulate matter (Hourly measured).14  PM2.5  \n",
       "0                                            NaN  4.125  \n",
       "1                                            NaN  3.000  \n",
       "2                                            NaN  4.250  \n",
       "3                                            NaN  4.875  \n",
       "4                                            NaN  4.625  "
      ]
     },
     "execution_count": 74,
     "metadata": {},
     "output_type": "execute_result"
    }
   ],
   "source": [
    "# Replace 'No data' with NaN\n",
    "df_pm2[[ \n",
    "           'PM2.5 particulate matter (Hourly measured)', \n",
    "           'PM2.5 particulate matter (Hourly measured).1', \n",
    "           'PM2.5 particulate matter (Hourly measured).2',\n",
    "           'PM2.5 particulate matter (Hourly measured).3',\n",
    "           'PM2.5 particulate matter (Hourly measured).4',\n",
    "           'PM2.5 particulate matter (Hourly measured).5',\n",
    "           'PM2.5 particulate matter (Hourly measured).6',\n",
    "           'PM2.5 particulate matter (Hourly measured).7',\n",
    "           'PM2.5 particulate matter (Hourly measured).8',\n",
    "           'PM2.5 particulate matter (Hourly measured).9',\n",
    "           'PM2.5 particulate matter (Hourly measured).10',\n",
    "           'PM2.5 particulate matter (Hourly measured).11',\n",
    "           'PM2.5 particulate matter (Hourly measured).12',\n",
    "           'PM2.5 particulate matter (Hourly measured).13',\n",
    "           'PM2.5 particulate matter (Hourly measured).14',\n",
    "           ]] = df_pm2[[ \n",
    "           'PM2.5 particulate matter (Hourly measured)', \n",
    "           'PM2.5 particulate matter (Hourly measured).1', \n",
    "           'PM2.5 particulate matter (Hourly measured).2',\n",
    "           'PM2.5 particulate matter (Hourly measured).3',\n",
    "           'PM2.5 particulate matter (Hourly measured).4',\n",
    "           'PM2.5 particulate matter (Hourly measured).5',\n",
    "           'PM2.5 particulate matter (Hourly measured).6',\n",
    "           'PM2.5 particulate matter (Hourly measured).7',\n",
    "           'PM2.5 particulate matter (Hourly measured).8',\n",
    "           'PM2.5 particulate matter (Hourly measured).9',\n",
    "           'PM2.5 particulate matter (Hourly measured).10',\n",
    "           'PM2.5 particulate matter (Hourly measured).11',\n",
    "           'PM2.5 particulate matter (Hourly measured).12',\n",
    "           'PM2.5 particulate matter (Hourly measured).13',\n",
    "           'PM2.5 particulate matter (Hourly measured).14',\n",
    "           ]].replace('No data', np.nan)\n",
    "\n",
    "# Convert blue particulate matter columns to numeric\n",
    "df_pm2[[ \n",
    "           'PM2.5 particulate matter (Hourly measured)', \n",
    "           'PM2.5 particulate matter (Hourly measured).1', \n",
    "           'PM2.5 particulate matter (Hourly measured).2',\n",
    "           'PM2.5 particulate matter (Hourly measured).3',\n",
    "           'PM2.5 particulate matter (Hourly measured).4',\n",
    "           'PM2.5 particulate matter (Hourly measured).5',\n",
    "           'PM2.5 particulate matter (Hourly measured).6',\n",
    "           'PM2.5 particulate matter (Hourly measured).7',\n",
    "           'PM2.5 particulate matter (Hourly measured).8',\n",
    "           'PM2.5 particulate matter (Hourly measured).9',\n",
    "           'PM2.5 particulate matter (Hourly measured).10',\n",
    "           'PM2.5 particulate matter (Hourly measured).11',\n",
    "           'PM2.5 particulate matter (Hourly measured).12',\n",
    "           'PM2.5 particulate matter (Hourly measured).13',\n",
    "           'PM2.5 particulate matter (Hourly measured).14',\n",
    "           ]] = df_pm2[[ \n",
    "           'PM2.5 particulate matter (Hourly measured)', \n",
    "           'PM2.5 particulate matter (Hourly measured).1', \n",
    "           'PM2.5 particulate matter (Hourly measured).2',\n",
    "           'PM2.5 particulate matter (Hourly measured).3',\n",
    "           'PM2.5 particulate matter (Hourly measured).4',\n",
    "           'PM2.5 particulate matter (Hourly measured).5',\n",
    "           'PM2.5 particulate matter (Hourly measured).6',\n",
    "           'PM2.5 particulate matter (Hourly measured).7',\n",
    "           'PM2.5 particulate matter (Hourly measured).8',\n",
    "           'PM2.5 particulate matter (Hourly measured).9',\n",
    "           'PM2.5 particulate matter (Hourly measured).10',\n",
    "           'PM2.5 particulate matter (Hourly measured).11',\n",
    "           'PM2.5 particulate matter (Hourly measured).12',\n",
    "           'PM2.5 particulate matter (Hourly measured).13',\n",
    "           'PM2.5 particulate matter (Hourly measured).14',\n",
    "           ]].apply(pd.to_numeric, errors='coerce')\n",
    "\n",
    "# Calculate the mean blue particulate matter value per row, ignoring NaN\n",
    "df_pm2['PM2.5'] = df_pm2[[ \n",
    "           'PM2.5 particulate matter (Hourly measured)', \n",
    "           'PM2.5 particulate matter (Hourly measured).1', \n",
    "           'PM2.5 particulate matter (Hourly measured).2',\n",
    "           'PM2.5 particulate matter (Hourly measured).3',\n",
    "           'PM2.5 particulate matter (Hourly measured).4',\n",
    "           'PM2.5 particulate matter (Hourly measured).5',\n",
    "           'PM2.5 particulate matter (Hourly measured).6',\n",
    "           'PM2.5 particulate matter (Hourly measured).7',\n",
    "           'PM2.5 particulate matter (Hourly measured).8',\n",
    "           'PM2.5 particulate matter (Hourly measured).9',\n",
    "           'PM2.5 particulate matter (Hourly measured).10',\n",
    "           'PM2.5 particulate matter (Hourly measured).11',\n",
    "           'PM2.5 particulate matter (Hourly measured).12',\n",
    "           'PM2.5 particulate matter (Hourly measured).13',\n",
    "           'PM2.5 particulate matter (Hourly measured).14',\n",
    "           ]].mean(axis=1, skipna=True)\n",
    "\n",
    "df_pm2.head()"
   ]
  },
  {
   "cell_type": "code",
   "execution_count": 75,
   "id": "b3b1eeb6",
   "metadata": {},
   "outputs": [
    {
     "data": {
      "application/vnd.microsoft.datawrangler.viewer.v0+json": {
       "columns": [
        {
         "name": "index",
         "rawType": "int64",
         "type": "integer"
        },
        {
         "name": "Date",
         "rawType": "object",
         "type": "string"
        },
        {
         "name": "PM2.5",
         "rawType": "float64",
         "type": "float"
        }
       ],
       "ref": "e4dc6b0f-80ed-4e85-af55-220c734f3a5b",
       "rows": [
        [
         "0",
         "09-06-2024",
         "4.125"
        ],
        [
         "1",
         "10-06-2024",
         "3.0"
        ],
        [
         "2",
         "11-06-2024",
         "4.25"
        ],
        [
         "3",
         "12-06-2024",
         "4.875"
        ],
        [
         "4",
         "13-06-2024",
         "4.625"
        ]
       ],
       "shape": {
        "columns": 2,
        "rows": 5
       }
      },
      "text/html": [
       "<div>\n",
       "<style scoped>\n",
       "    .dataframe tbody tr th:only-of-type {\n",
       "        vertical-align: middle;\n",
       "    }\n",
       "\n",
       "    .dataframe tbody tr th {\n",
       "        vertical-align: top;\n",
       "    }\n",
       "\n",
       "    .dataframe thead th {\n",
       "        text-align: right;\n",
       "    }\n",
       "</style>\n",
       "<table border=\"1\" class=\"dataframe\">\n",
       "  <thead>\n",
       "    <tr style=\"text-align: right;\">\n",
       "      <th></th>\n",
       "      <th>Date</th>\n",
       "      <th>PM2.5</th>\n",
       "    </tr>\n",
       "  </thead>\n",
       "  <tbody>\n",
       "    <tr>\n",
       "      <th>0</th>\n",
       "      <td>09-06-2024</td>\n",
       "      <td>4.125</td>\n",
       "    </tr>\n",
       "    <tr>\n",
       "      <th>1</th>\n",
       "      <td>10-06-2024</td>\n",
       "      <td>3.000</td>\n",
       "    </tr>\n",
       "    <tr>\n",
       "      <th>2</th>\n",
       "      <td>11-06-2024</td>\n",
       "      <td>4.250</td>\n",
       "    </tr>\n",
       "    <tr>\n",
       "      <th>3</th>\n",
       "      <td>12-06-2024</td>\n",
       "      <td>4.875</td>\n",
       "    </tr>\n",
       "    <tr>\n",
       "      <th>4</th>\n",
       "      <td>13-06-2024</td>\n",
       "      <td>4.625</td>\n",
       "    </tr>\n",
       "  </tbody>\n",
       "</table>\n",
       "</div>"
      ],
      "text/plain": [
       "         Date  PM2.5\n",
       "0  09-06-2024  4.125\n",
       "1  10-06-2024  3.000\n",
       "2  11-06-2024  4.250\n",
       "3  12-06-2024  4.875\n",
       "4  13-06-2024  4.625"
      ]
     },
     "execution_count": 75,
     "metadata": {},
     "output_type": "execute_result"
    }
   ],
   "source": [
    "# Select only Date and Black_Carbon_Mean columns\n",
    "df_pm2 = df_pm2[['Date', 'PM2.5']]\n",
    "df_pm2.head()"
   ]
  },
  {
   "cell_type": "code",
   "execution_count": 76,
   "id": "10897581",
   "metadata": {},
   "outputs": [
    {
     "data": {
      "application/vnd.microsoft.datawrangler.viewer.v0+json": {
       "columns": [
        {
         "name": "index",
         "rawType": "int64",
         "type": "integer"
        },
        {
         "name": "date",
         "rawType": "object",
         "type": "string"
        },
        {
         "name": "PM2.5",
         "rawType": "float64",
         "type": "float"
        }
       ],
       "ref": "12ee5074-5a8e-4824-b1ac-f5687636af93",
       "rows": [
        [
         "0",
         "09-06-2024",
         "4.125"
        ],
        [
         "1",
         "10-06-2024",
         "3.0"
        ],
        [
         "2",
         "11-06-2024",
         "4.25"
        ],
        [
         "3",
         "12-06-2024",
         "4.875"
        ],
        [
         "4",
         "13-06-2024",
         "4.625"
        ]
       ],
       "shape": {
        "columns": 2,
        "rows": 5
       }
      },
      "text/html": [
       "<div>\n",
       "<style scoped>\n",
       "    .dataframe tbody tr th:only-of-type {\n",
       "        vertical-align: middle;\n",
       "    }\n",
       "\n",
       "    .dataframe tbody tr th {\n",
       "        vertical-align: top;\n",
       "    }\n",
       "\n",
       "    .dataframe thead th {\n",
       "        text-align: right;\n",
       "    }\n",
       "</style>\n",
       "<table border=\"1\" class=\"dataframe\">\n",
       "  <thead>\n",
       "    <tr style=\"text-align: right;\">\n",
       "      <th></th>\n",
       "      <th>date</th>\n",
       "      <th>PM2.5</th>\n",
       "    </tr>\n",
       "  </thead>\n",
       "  <tbody>\n",
       "    <tr>\n",
       "      <th>0</th>\n",
       "      <td>09-06-2024</td>\n",
       "      <td>4.125</td>\n",
       "    </tr>\n",
       "    <tr>\n",
       "      <th>1</th>\n",
       "      <td>10-06-2024</td>\n",
       "      <td>3.000</td>\n",
       "    </tr>\n",
       "    <tr>\n",
       "      <th>2</th>\n",
       "      <td>11-06-2024</td>\n",
       "      <td>4.250</td>\n",
       "    </tr>\n",
       "    <tr>\n",
       "      <th>3</th>\n",
       "      <td>12-06-2024</td>\n",
       "      <td>4.875</td>\n",
       "    </tr>\n",
       "    <tr>\n",
       "      <th>4</th>\n",
       "      <td>13-06-2024</td>\n",
       "      <td>4.625</td>\n",
       "    </tr>\n",
       "  </tbody>\n",
       "</table>\n",
       "</div>"
      ],
      "text/plain": [
       "         date  PM2.5\n",
       "0  09-06-2024  4.125\n",
       "1  10-06-2024  3.000\n",
       "2  11-06-2024  4.250\n",
       "3  12-06-2024  4.875\n",
       "4  13-06-2024  4.625"
      ]
     },
     "execution_count": 76,
     "metadata": {},
     "output_type": "execute_result"
    }
   ],
   "source": [
    "# Rename specific columns\n",
    "df_pm2 = df_pm2.rename(columns={'Date': 'date'})\n",
    "df_pm2.head()"
   ]
  },
  {
   "cell_type": "code",
   "execution_count": 77,
   "id": "d790554a",
   "metadata": {},
   "outputs": [],
   "source": [
    "# Ensure Date column is in datetime format, parsing DD-MM-YYYY\n",
    "df_pm2['date'] = pd.to_datetime(df_pm2['date'], format='%d-%m-%Y')"
   ]
  },
  {
   "cell_type": "code",
   "execution_count": 78,
   "id": "86785eba",
   "metadata": {},
   "outputs": [
    {
     "data": {
      "application/vnd.microsoft.datawrangler.viewer.v0+json": {
       "columns": [
        {
         "name": "index",
         "rawType": "int64",
         "type": "integer"
        },
        {
         "name": "date",
         "rawType": "datetime64[ns]",
         "type": "datetime"
        },
        {
         "name": "PM2.5",
         "rawType": "float64",
         "type": "float"
        }
       ],
       "ref": "00b08f03-f159-4892-9bbb-caaffe713943",
       "rows": [],
       "shape": {
        "columns": 2,
        "rows": 0
       }
      },
      "text/html": [
       "<div>\n",
       "<style scoped>\n",
       "    .dataframe tbody tr th:only-of-type {\n",
       "        vertical-align: middle;\n",
       "    }\n",
       "\n",
       "    .dataframe tbody tr th {\n",
       "        vertical-align: top;\n",
       "    }\n",
       "\n",
       "    .dataframe thead th {\n",
       "        text-align: right;\n",
       "    }\n",
       "</style>\n",
       "<table border=\"1\" class=\"dataframe\">\n",
       "  <thead>\n",
       "    <tr style=\"text-align: right;\">\n",
       "      <th></th>\n",
       "      <th>date</th>\n",
       "      <th>PM2.5</th>\n",
       "    </tr>\n",
       "  </thead>\n",
       "  <tbody>\n",
       "  </tbody>\n",
       "</table>\n",
       "</div>"
      ],
      "text/plain": [
       "Empty DataFrame\n",
       "Columns: [date, PM2.5]\n",
       "Index: []"
      ]
     },
     "execution_count": 78,
     "metadata": {},
     "output_type": "execute_result"
    }
   ],
   "source": [
    "# Check for missing values\n",
    "df_pm2[df_pm2.isna().any(axis=1)]     # Show all rows with any missing values"
   ]
  },
  {
   "cell_type": "code",
   "execution_count": null,
   "id": "284009bf",
   "metadata": {},
   "outputs": [],
   "source": [
    "# Only needed if there are missing values corresponding to the date\n",
    "# Function to calculate mean of past 7 days\n",
    "def fill_with_past_7_days_mean(row, df_pm2, window_days=7):\n",
    "    if pd.isna(row['PM2.5']):\n",
    "        # Get the date range for the past 7 days (t-7 to t-1)\n",
    "        start_date = row['date'] - pd.Timedelta(days=window_days)\n",
    "        end_date = row['date'] - pd.Timedelta(days=1)\n",
    "        # Select rows within the past 7 days\n",
    "        past_data = df_pm2[(df_pm2['date'] >= start_date) & (df_pm2['date'] <= end_date)]\n",
    "        # Calculate mean of non-NaN Black_Carbon_Mean values\n",
    "        mean_value = past_data['PM2.5'].mean()\n",
    "        return mean_value\n",
    "    return row['PM2.5']\n",
    "\n",
    "# Apply the function to fill missing nitric_oxide_Mean values\n",
    "df_pm2['PM2.5'] = df_pm2.apply(lambda row: fill_with_past_7_days_mean(row, df_pm2), axis=1)"
   ]
  },
  {
   "cell_type": "code",
   "execution_count": 81,
   "id": "b57a0d95",
   "metadata": {},
   "outputs": [
    {
     "data": {
      "application/vnd.microsoft.datawrangler.viewer.v0+json": {
       "columns": [
        {
         "name": "index",
         "rawType": "int64",
         "type": "integer"
        },
        {
         "name": "date",
         "rawType": "datetime64[ns]",
         "type": "datetime"
        },
        {
         "name": "PM2.5",
         "rawType": "float64",
         "type": "float"
        }
       ],
       "ref": "8ffbfbdd-7b71-4a81-8eb3-9937fdf8b680",
       "rows": [
        [
         "0",
         "2024-06-09 00:00:00",
         "4.125"
        ],
        [
         "1",
         "2024-06-10 00:00:00",
         "3.0"
        ],
        [
         "2",
         "2024-06-11 00:00:00",
         "4.25"
        ],
        [
         "3",
         "2024-06-12 00:00:00",
         "4.875"
        ],
        [
         "4",
         "2024-06-13 00:00:00",
         "4.625"
        ]
       ],
       "shape": {
        "columns": 2,
        "rows": 5
       }
      },
      "text/html": [
       "<div>\n",
       "<style scoped>\n",
       "    .dataframe tbody tr th:only-of-type {\n",
       "        vertical-align: middle;\n",
       "    }\n",
       "\n",
       "    .dataframe tbody tr th {\n",
       "        vertical-align: top;\n",
       "    }\n",
       "\n",
       "    .dataframe thead th {\n",
       "        text-align: right;\n",
       "    }\n",
       "</style>\n",
       "<table border=\"1\" class=\"dataframe\">\n",
       "  <thead>\n",
       "    <tr style=\"text-align: right;\">\n",
       "      <th></th>\n",
       "      <th>date</th>\n",
       "      <th>PM2.5</th>\n",
       "    </tr>\n",
       "  </thead>\n",
       "  <tbody>\n",
       "    <tr>\n",
       "      <th>0</th>\n",
       "      <td>2024-06-09</td>\n",
       "      <td>4.125</td>\n",
       "    </tr>\n",
       "    <tr>\n",
       "      <th>1</th>\n",
       "      <td>2024-06-10</td>\n",
       "      <td>3.000</td>\n",
       "    </tr>\n",
       "    <tr>\n",
       "      <th>2</th>\n",
       "      <td>2024-06-11</td>\n",
       "      <td>4.250</td>\n",
       "    </tr>\n",
       "    <tr>\n",
       "      <th>3</th>\n",
       "      <td>2024-06-12</td>\n",
       "      <td>4.875</td>\n",
       "    </tr>\n",
       "    <tr>\n",
       "      <th>4</th>\n",
       "      <td>2024-06-13</td>\n",
       "      <td>4.625</td>\n",
       "    </tr>\n",
       "  </tbody>\n",
       "</table>\n",
       "</div>"
      ],
      "text/plain": [
       "        date  PM2.5\n",
       "0 2024-06-09  4.125\n",
       "1 2024-06-10  3.000\n",
       "2 2024-06-11  4.250\n",
       "3 2024-06-12  4.875\n",
       "4 2024-06-13  4.625"
      ]
     },
     "execution_count": 81,
     "metadata": {},
     "output_type": "execute_result"
    }
   ],
   "source": [
    "# Round specific columns\n",
    "df_pm2['PM2.5'] = df_pm2['PM2.5'].round(3)\n",
    "df_pm2.head()"
   ]
  },
  {
   "cell_type": "code",
   "execution_count": 82,
   "id": "8c4cf69d",
   "metadata": {},
   "outputs": [],
   "source": [
    "# Save to a new CSV file\n",
    "df_pm2.to_csv('PM2.5_cd.csv', index=False)"
   ]
  },
  {
   "cell_type": "code",
   "execution_count": null,
   "id": "b142c2da",
   "metadata": {},
   "outputs": [],
   "source": []
  },
  {
   "cell_type": "markdown",
   "id": "aadfab0d",
   "metadata": {},
   "source": [
    "### PM10"
   ]
  },
  {
   "cell_type": "code",
   "execution_count": 83,
   "id": "89140eb1",
   "metadata": {},
   "outputs": [
    {
     "data": {
      "text/plain": [
       "Index(['Date', 'PM10 particulate matter (Hourly measured)', 'Status',\n",
       "       'PM10 particulate matter (Hourly measured).1', 'Status.1',\n",
       "       'PM10 particulate matter (Hourly measured).2', 'Status.2',\n",
       "       'PM10 particulate matter (Hourly measured).3', 'Status.3',\n",
       "       'PM10 particulate matter (Hourly measured).4', 'Status.4',\n",
       "       'PM10 particulate matter (Hourly measured).5', 'Status.5',\n",
       "       'PM10 particulate matter (Hourly measured).6', 'Status.6',\n",
       "       'PM10 particulate matter (Hourly measured).7', 'Status.7',\n",
       "       'PM10 particulate matter (Hourly measured).8', 'Status.8',\n",
       "       'PM10 particulate matter (Hourly measured).9', 'Status.9',\n",
       "       'PM10 particulate matter (Hourly measured).10', 'Status.10',\n",
       "       'PM10 particulate matter (Hourly measured).11', 'Status.11',\n",
       "       'PM10 particulate matter (Hourly measured).12', 'Status.12',\n",
       "       'PM10 particulate matter (Hourly measured).13', 'Status.13'],\n",
       "      dtype='object')"
      ]
     },
     "execution_count": 83,
     "metadata": {},
     "output_type": "execute_result"
    }
   ],
   "source": [
    "df_pm10 = pd.read_csv('PM10.csv', skiprows=10)\n",
    "df_pm10.columns"
   ]
  },
  {
   "cell_type": "code",
   "execution_count": 84,
   "id": "e020d0ac",
   "metadata": {},
   "outputs": [],
   "source": [
    "# Select relevant columns: Date and Black Carbon values for the three sites\n",
    "columns = ['Date', \n",
    "           'PM10 particulate matter (Hourly measured)', \n",
    "           'PM10 particulate matter (Hourly measured).1', \n",
    "           'PM10 particulate matter (Hourly measured).2',\n",
    "           'PM10 particulate matter (Hourly measured).3',\n",
    "           'PM10 particulate matter (Hourly measured).4',\n",
    "           'PM10 particulate matter (Hourly measured).5',\n",
    "           'PM10 particulate matter (Hourly measured).6',\n",
    "           'PM10 particulate matter (Hourly measured).7',\n",
    "           'PM10 particulate matter (Hourly measured).8',\n",
    "           'PM10 particulate matter (Hourly measured).9',\n",
    "           'PM10 particulate matter (Hourly measured).10',\n",
    "           'PM10 particulate matter (Hourly measured).11',\n",
    "           'PM10 particulate matter (Hourly measured).12',\n",
    "           'PM10 particulate matter (Hourly measured).13'\n",
    "           ]\n",
    "df_pm10 = df_pm10[columns]"
   ]
  },
  {
   "cell_type": "code",
   "execution_count": 85,
   "id": "4bb6ecc7",
   "metadata": {},
   "outputs": [
    {
     "data": {
      "application/vnd.microsoft.datawrangler.viewer.v0+json": {
       "columns": [
        {
         "name": "index",
         "rawType": "int64",
         "type": "integer"
        },
        {
         "name": "Date",
         "rawType": "object",
         "type": "string"
        },
        {
         "name": "PM10 particulate matter (Hourly measured)",
         "rawType": "int64",
         "type": "integer"
        },
        {
         "name": "PM10 particulate matter (Hourly measured).1",
         "rawType": "float64",
         "type": "float"
        },
        {
         "name": "PM10 particulate matter (Hourly measured).2",
         "rawType": "float64",
         "type": "float"
        },
        {
         "name": "PM10 particulate matter (Hourly measured).3",
         "rawType": "int64",
         "type": "integer"
        },
        {
         "name": "PM10 particulate matter (Hourly measured).4",
         "rawType": "float64",
         "type": "float"
        },
        {
         "name": "PM10 particulate matter (Hourly measured).5",
         "rawType": "float64",
         "type": "float"
        },
        {
         "name": "PM10 particulate matter (Hourly measured).6",
         "rawType": "int64",
         "type": "integer"
        },
        {
         "name": "PM10 particulate matter (Hourly measured).7",
         "rawType": "float64",
         "type": "float"
        },
        {
         "name": "PM10 particulate matter (Hourly measured).8",
         "rawType": "float64",
         "type": "float"
        },
        {
         "name": "PM10 particulate matter (Hourly measured).9",
         "rawType": "float64",
         "type": "float"
        },
        {
         "name": "PM10 particulate matter (Hourly measured).10",
         "rawType": "float64",
         "type": "float"
        },
        {
         "name": "PM10 particulate matter (Hourly measured).11",
         "rawType": "int64",
         "type": "integer"
        },
        {
         "name": "PM10 particulate matter (Hourly measured).12",
         "rawType": "int64",
         "type": "integer"
        },
        {
         "name": "PM10 particulate matter (Hourly measured).13",
         "rawType": "float64",
         "type": "float"
        },
        {
         "name": "PM10",
         "rawType": "float64",
         "type": "float"
        }
       ],
       "ref": "d59c5733-5bbc-4716-970d-021c7e7c84e0",
       "rows": [
        [
         "0",
         "09-06-2024",
         "9",
         null,
         "7.0",
         "7",
         "7.0",
         "13.0",
         "7",
         "7.0",
         null,
         null,
         "10.0",
         "8",
         "7",
         null,
         "8.2"
        ],
        [
         "1",
         "10-06-2024",
         "7",
         null,
         "5.0",
         "5",
         "5.0",
         "9.0",
         "5",
         "5.0",
         null,
         null,
         "8.0",
         "7",
         "5",
         null,
         "6.1"
        ],
        [
         "2",
         "11-06-2024",
         "10",
         null,
         "8.0",
         "7",
         "7.0",
         "11.0",
         "8",
         "8.0",
         null,
         null,
         "12.0",
         "8",
         "8",
         null,
         "8.7"
        ],
        [
         "3",
         "12-06-2024",
         "15",
         null,
         "8.0",
         "9",
         "9.0",
         "14.0",
         "9",
         "8.0",
         null,
         null,
         "13.0",
         "11",
         "7",
         null,
         "10.3"
        ],
        [
         "4",
         "13-06-2024",
         "21",
         null,
         "7.0",
         "10",
         "8.0",
         "11.0",
         "8",
         "9.0",
         null,
         null,
         "13.0",
         "10",
         "7",
         null,
         "10.4"
        ]
       ],
       "shape": {
        "columns": 16,
        "rows": 5
       }
      },
      "text/html": [
       "<div>\n",
       "<style scoped>\n",
       "    .dataframe tbody tr th:only-of-type {\n",
       "        vertical-align: middle;\n",
       "    }\n",
       "\n",
       "    .dataframe tbody tr th {\n",
       "        vertical-align: top;\n",
       "    }\n",
       "\n",
       "    .dataframe thead th {\n",
       "        text-align: right;\n",
       "    }\n",
       "</style>\n",
       "<table border=\"1\" class=\"dataframe\">\n",
       "  <thead>\n",
       "    <tr style=\"text-align: right;\">\n",
       "      <th></th>\n",
       "      <th>Date</th>\n",
       "      <th>PM10 particulate matter (Hourly measured)</th>\n",
       "      <th>PM10 particulate matter (Hourly measured).1</th>\n",
       "      <th>PM10 particulate matter (Hourly measured).2</th>\n",
       "      <th>PM10 particulate matter (Hourly measured).3</th>\n",
       "      <th>PM10 particulate matter (Hourly measured).4</th>\n",
       "      <th>PM10 particulate matter (Hourly measured).5</th>\n",
       "      <th>PM10 particulate matter (Hourly measured).6</th>\n",
       "      <th>PM10 particulate matter (Hourly measured).7</th>\n",
       "      <th>PM10 particulate matter (Hourly measured).8</th>\n",
       "      <th>PM10 particulate matter (Hourly measured).9</th>\n",
       "      <th>PM10 particulate matter (Hourly measured).10</th>\n",
       "      <th>PM10 particulate matter (Hourly measured).11</th>\n",
       "      <th>PM10 particulate matter (Hourly measured).12</th>\n",
       "      <th>PM10 particulate matter (Hourly measured).13</th>\n",
       "      <th>PM10</th>\n",
       "    </tr>\n",
       "  </thead>\n",
       "  <tbody>\n",
       "    <tr>\n",
       "      <th>0</th>\n",
       "      <td>09-06-2024</td>\n",
       "      <td>9</td>\n",
       "      <td>NaN</td>\n",
       "      <td>7.0</td>\n",
       "      <td>7</td>\n",
       "      <td>7.0</td>\n",
       "      <td>13.0</td>\n",
       "      <td>7</td>\n",
       "      <td>7.0</td>\n",
       "      <td>NaN</td>\n",
       "      <td>NaN</td>\n",
       "      <td>10.0</td>\n",
       "      <td>8</td>\n",
       "      <td>7</td>\n",
       "      <td>NaN</td>\n",
       "      <td>8.2</td>\n",
       "    </tr>\n",
       "    <tr>\n",
       "      <th>1</th>\n",
       "      <td>10-06-2024</td>\n",
       "      <td>7</td>\n",
       "      <td>NaN</td>\n",
       "      <td>5.0</td>\n",
       "      <td>5</td>\n",
       "      <td>5.0</td>\n",
       "      <td>9.0</td>\n",
       "      <td>5</td>\n",
       "      <td>5.0</td>\n",
       "      <td>NaN</td>\n",
       "      <td>NaN</td>\n",
       "      <td>8.0</td>\n",
       "      <td>7</td>\n",
       "      <td>5</td>\n",
       "      <td>NaN</td>\n",
       "      <td>6.1</td>\n",
       "    </tr>\n",
       "    <tr>\n",
       "      <th>2</th>\n",
       "      <td>11-06-2024</td>\n",
       "      <td>10</td>\n",
       "      <td>NaN</td>\n",
       "      <td>8.0</td>\n",
       "      <td>7</td>\n",
       "      <td>7.0</td>\n",
       "      <td>11.0</td>\n",
       "      <td>8</td>\n",
       "      <td>8.0</td>\n",
       "      <td>NaN</td>\n",
       "      <td>NaN</td>\n",
       "      <td>12.0</td>\n",
       "      <td>8</td>\n",
       "      <td>8</td>\n",
       "      <td>NaN</td>\n",
       "      <td>8.7</td>\n",
       "    </tr>\n",
       "    <tr>\n",
       "      <th>3</th>\n",
       "      <td>12-06-2024</td>\n",
       "      <td>15</td>\n",
       "      <td>NaN</td>\n",
       "      <td>8.0</td>\n",
       "      <td>9</td>\n",
       "      <td>9.0</td>\n",
       "      <td>14.0</td>\n",
       "      <td>9</td>\n",
       "      <td>8.0</td>\n",
       "      <td>NaN</td>\n",
       "      <td>NaN</td>\n",
       "      <td>13.0</td>\n",
       "      <td>11</td>\n",
       "      <td>7</td>\n",
       "      <td>NaN</td>\n",
       "      <td>10.3</td>\n",
       "    </tr>\n",
       "    <tr>\n",
       "      <th>4</th>\n",
       "      <td>13-06-2024</td>\n",
       "      <td>21</td>\n",
       "      <td>NaN</td>\n",
       "      <td>7.0</td>\n",
       "      <td>10</td>\n",
       "      <td>8.0</td>\n",
       "      <td>11.0</td>\n",
       "      <td>8</td>\n",
       "      <td>9.0</td>\n",
       "      <td>NaN</td>\n",
       "      <td>NaN</td>\n",
       "      <td>13.0</td>\n",
       "      <td>10</td>\n",
       "      <td>7</td>\n",
       "      <td>NaN</td>\n",
       "      <td>10.4</td>\n",
       "    </tr>\n",
       "  </tbody>\n",
       "</table>\n",
       "</div>"
      ],
      "text/plain": [
       "         Date  PM10 particulate matter (Hourly measured)  \\\n",
       "0  09-06-2024                                          9   \n",
       "1  10-06-2024                                          7   \n",
       "2  11-06-2024                                         10   \n",
       "3  12-06-2024                                         15   \n",
       "4  13-06-2024                                         21   \n",
       "\n",
       "   PM10 particulate matter (Hourly measured).1  \\\n",
       "0                                          NaN   \n",
       "1                                          NaN   \n",
       "2                                          NaN   \n",
       "3                                          NaN   \n",
       "4                                          NaN   \n",
       "\n",
       "   PM10 particulate matter (Hourly measured).2  \\\n",
       "0                                          7.0   \n",
       "1                                          5.0   \n",
       "2                                          8.0   \n",
       "3                                          8.0   \n",
       "4                                          7.0   \n",
       "\n",
       "   PM10 particulate matter (Hourly measured).3  \\\n",
       "0                                            7   \n",
       "1                                            5   \n",
       "2                                            7   \n",
       "3                                            9   \n",
       "4                                           10   \n",
       "\n",
       "   PM10 particulate matter (Hourly measured).4  \\\n",
       "0                                          7.0   \n",
       "1                                          5.0   \n",
       "2                                          7.0   \n",
       "3                                          9.0   \n",
       "4                                          8.0   \n",
       "\n",
       "   PM10 particulate matter (Hourly measured).5  \\\n",
       "0                                         13.0   \n",
       "1                                          9.0   \n",
       "2                                         11.0   \n",
       "3                                         14.0   \n",
       "4                                         11.0   \n",
       "\n",
       "   PM10 particulate matter (Hourly measured).6  \\\n",
       "0                                            7   \n",
       "1                                            5   \n",
       "2                                            8   \n",
       "3                                            9   \n",
       "4                                            8   \n",
       "\n",
       "   PM10 particulate matter (Hourly measured).7  \\\n",
       "0                                          7.0   \n",
       "1                                          5.0   \n",
       "2                                          8.0   \n",
       "3                                          8.0   \n",
       "4                                          9.0   \n",
       "\n",
       "   PM10 particulate matter (Hourly measured).8  \\\n",
       "0                                          NaN   \n",
       "1                                          NaN   \n",
       "2                                          NaN   \n",
       "3                                          NaN   \n",
       "4                                          NaN   \n",
       "\n",
       "   PM10 particulate matter (Hourly measured).9  \\\n",
       "0                                          NaN   \n",
       "1                                          NaN   \n",
       "2                                          NaN   \n",
       "3                                          NaN   \n",
       "4                                          NaN   \n",
       "\n",
       "   PM10 particulate matter (Hourly measured).10  \\\n",
       "0                                          10.0   \n",
       "1                                           8.0   \n",
       "2                                          12.0   \n",
       "3                                          13.0   \n",
       "4                                          13.0   \n",
       "\n",
       "   PM10 particulate matter (Hourly measured).11  \\\n",
       "0                                             8   \n",
       "1                                             7   \n",
       "2                                             8   \n",
       "3                                            11   \n",
       "4                                            10   \n",
       "\n",
       "   PM10 particulate matter (Hourly measured).12  \\\n",
       "0                                             7   \n",
       "1                                             5   \n",
       "2                                             8   \n",
       "3                                             7   \n",
       "4                                             7   \n",
       "\n",
       "   PM10 particulate matter (Hourly measured).13  PM10  \n",
       "0                                           NaN   8.2  \n",
       "1                                           NaN   6.1  \n",
       "2                                           NaN   8.7  \n",
       "3                                           NaN  10.3  \n",
       "4                                           NaN  10.4  "
      ]
     },
     "execution_count": 85,
     "metadata": {},
     "output_type": "execute_result"
    }
   ],
   "source": [
    "# Replace 'No data' with NaN\n",
    "df_pm10[[ \n",
    "           'PM10 particulate matter (Hourly measured)', \n",
    "           'PM10 particulate matter (Hourly measured).1', \n",
    "           'PM10 particulate matter (Hourly measured).2',\n",
    "           'PM10 particulate matter (Hourly measured).3',\n",
    "           'PM10 particulate matter (Hourly measured).4',\n",
    "           'PM10 particulate matter (Hourly measured).5',\n",
    "           'PM10 particulate matter (Hourly measured).6',\n",
    "           'PM10 particulate matter (Hourly measured).7',\n",
    "           'PM10 particulate matter (Hourly measured).8',\n",
    "           'PM10 particulate matter (Hourly measured).9',\n",
    "           'PM10 particulate matter (Hourly measured).10',\n",
    "           'PM10 particulate matter (Hourly measured).11',\n",
    "           'PM10 particulate matter (Hourly measured).12',\n",
    "           'PM10 particulate matter (Hourly measured).13'\n",
    "           ]] = df_pm10[[ \n",
    "           'PM10 particulate matter (Hourly measured)', \n",
    "           'PM10 particulate matter (Hourly measured).1', \n",
    "           'PM10 particulate matter (Hourly measured).2',\n",
    "           'PM10 particulate matter (Hourly measured).3',\n",
    "           'PM10 particulate matter (Hourly measured).4',\n",
    "           'PM10 particulate matter (Hourly measured).5',\n",
    "           'PM10 particulate matter (Hourly measured).6',\n",
    "           'PM10 particulate matter (Hourly measured).7',\n",
    "           'PM10 particulate matter (Hourly measured).8',\n",
    "           'PM10 particulate matter (Hourly measured).9',\n",
    "           'PM10 particulate matter (Hourly measured).10',\n",
    "           'PM10 particulate matter (Hourly measured).11',\n",
    "           'PM10 particulate matter (Hourly measured).12',\n",
    "           'PM10 particulate matter (Hourly measured).13'\n",
    "           ]].replace('No data', np.nan)\n",
    "\n",
    "# Convert blue particulate matter columns to numeric\n",
    "df_pm10[[ \n",
    "           'PM10 particulate matter (Hourly measured)', \n",
    "           'PM10 particulate matter (Hourly measured).1', \n",
    "           'PM10 particulate matter (Hourly measured).2',\n",
    "           'PM10 particulate matter (Hourly measured).3',\n",
    "           'PM10 particulate matter (Hourly measured).4',\n",
    "           'PM10 particulate matter (Hourly measured).5',\n",
    "           'PM10 particulate matter (Hourly measured).6',\n",
    "           'PM10 particulate matter (Hourly measured).7',\n",
    "           'PM10 particulate matter (Hourly measured).8',\n",
    "           'PM10 particulate matter (Hourly measured).9',\n",
    "           'PM10 particulate matter (Hourly measured).10',\n",
    "           'PM10 particulate matter (Hourly measured).11',\n",
    "           'PM10 particulate matter (Hourly measured).12',\n",
    "           'PM10 particulate matter (Hourly measured).13'\n",
    "           ]] = df_pm10[[ \n",
    "           'PM10 particulate matter (Hourly measured)', \n",
    "           'PM10 particulate matter (Hourly measured).1', \n",
    "           'PM10 particulate matter (Hourly measured).2',\n",
    "           'PM10 particulate matter (Hourly measured).3',\n",
    "           'PM10 particulate matter (Hourly measured).4',\n",
    "           'PM10 particulate matter (Hourly measured).5',\n",
    "           'PM10 particulate matter (Hourly measured).6',\n",
    "           'PM10 particulate matter (Hourly measured).7',\n",
    "           'PM10 particulate matter (Hourly measured).8',\n",
    "           'PM10 particulate matter (Hourly measured).9',\n",
    "           'PM10 particulate matter (Hourly measured).10',\n",
    "           'PM10 particulate matter (Hourly measured).11',\n",
    "           'PM10 particulate matter (Hourly measured).12',\n",
    "           'PM10 particulate matter (Hourly measured).13'\n",
    "           ]].apply(pd.to_numeric, errors='coerce')\n",
    "\n",
    "# Calculate the mean blue particulate matter value per row, ignoring NaN\n",
    "df_pm10['PM10'] = df_pm10[[ \n",
    "           'PM10 particulate matter (Hourly measured)', \n",
    "           'PM10 particulate matter (Hourly measured).1', \n",
    "           'PM10 particulate matter (Hourly measured).2',\n",
    "           'PM10 particulate matter (Hourly measured).3',\n",
    "           'PM10 particulate matter (Hourly measured).4',\n",
    "           'PM10 particulate matter (Hourly measured).5',\n",
    "           'PM10 particulate matter (Hourly measured).6',\n",
    "           'PM10 particulate matter (Hourly measured).7',\n",
    "           'PM10 particulate matter (Hourly measured).8',\n",
    "           'PM10 particulate matter (Hourly measured).9',\n",
    "           'PM10 particulate matter (Hourly measured).10',\n",
    "           'PM10 particulate matter (Hourly measured).11',\n",
    "           'PM10 particulate matter (Hourly measured).12',\n",
    "           'PM10 particulate matter (Hourly measured).13'\n",
    "           ]].mean(axis=1, skipna=True)\n",
    "\n",
    "df_pm10.head()"
   ]
  },
  {
   "cell_type": "code",
   "execution_count": 86,
   "id": "6a62ea58",
   "metadata": {},
   "outputs": [
    {
     "data": {
      "application/vnd.microsoft.datawrangler.viewer.v0+json": {
       "columns": [
        {
         "name": "index",
         "rawType": "int64",
         "type": "integer"
        },
        {
         "name": "Date",
         "rawType": "object",
         "type": "string"
        },
        {
         "name": "PM10",
         "rawType": "float64",
         "type": "float"
        }
       ],
       "ref": "9baa65fd-ed98-4134-b6bf-6f5685c6679a",
       "rows": [
        [
         "0",
         "09-06-2024",
         "8.2"
        ],
        [
         "1",
         "10-06-2024",
         "6.1"
        ],
        [
         "2",
         "11-06-2024",
         "8.7"
        ],
        [
         "3",
         "12-06-2024",
         "10.3"
        ],
        [
         "4",
         "13-06-2024",
         "10.4"
        ]
       ],
       "shape": {
        "columns": 2,
        "rows": 5
       }
      },
      "text/html": [
       "<div>\n",
       "<style scoped>\n",
       "    .dataframe tbody tr th:only-of-type {\n",
       "        vertical-align: middle;\n",
       "    }\n",
       "\n",
       "    .dataframe tbody tr th {\n",
       "        vertical-align: top;\n",
       "    }\n",
       "\n",
       "    .dataframe thead th {\n",
       "        text-align: right;\n",
       "    }\n",
       "</style>\n",
       "<table border=\"1\" class=\"dataframe\">\n",
       "  <thead>\n",
       "    <tr style=\"text-align: right;\">\n",
       "      <th></th>\n",
       "      <th>Date</th>\n",
       "      <th>PM10</th>\n",
       "    </tr>\n",
       "  </thead>\n",
       "  <tbody>\n",
       "    <tr>\n",
       "      <th>0</th>\n",
       "      <td>09-06-2024</td>\n",
       "      <td>8.2</td>\n",
       "    </tr>\n",
       "    <tr>\n",
       "      <th>1</th>\n",
       "      <td>10-06-2024</td>\n",
       "      <td>6.1</td>\n",
       "    </tr>\n",
       "    <tr>\n",
       "      <th>2</th>\n",
       "      <td>11-06-2024</td>\n",
       "      <td>8.7</td>\n",
       "    </tr>\n",
       "    <tr>\n",
       "      <th>3</th>\n",
       "      <td>12-06-2024</td>\n",
       "      <td>10.3</td>\n",
       "    </tr>\n",
       "    <tr>\n",
       "      <th>4</th>\n",
       "      <td>13-06-2024</td>\n",
       "      <td>10.4</td>\n",
       "    </tr>\n",
       "  </tbody>\n",
       "</table>\n",
       "</div>"
      ],
      "text/plain": [
       "         Date  PM10\n",
       "0  09-06-2024   8.2\n",
       "1  10-06-2024   6.1\n",
       "2  11-06-2024   8.7\n",
       "3  12-06-2024  10.3\n",
       "4  13-06-2024  10.4"
      ]
     },
     "execution_count": 86,
     "metadata": {},
     "output_type": "execute_result"
    }
   ],
   "source": [
    "# Select only Date and Black_Carbon_Mean columns\n",
    "df_pm10 = df_pm10[['Date', 'PM10']]\n",
    "df_pm10.head()"
   ]
  },
  {
   "cell_type": "code",
   "execution_count": 87,
   "id": "6e145f40",
   "metadata": {},
   "outputs": [
    {
     "data": {
      "application/vnd.microsoft.datawrangler.viewer.v0+json": {
       "columns": [
        {
         "name": "index",
         "rawType": "int64",
         "type": "integer"
        },
        {
         "name": "date",
         "rawType": "object",
         "type": "string"
        },
        {
         "name": "PM10",
         "rawType": "float64",
         "type": "float"
        }
       ],
       "ref": "3f0e64c1-7eaa-41ad-b3c1-ad5e29fb8f8a",
       "rows": [
        [
         "0",
         "09-06-2024",
         "8.2"
        ],
        [
         "1",
         "10-06-2024",
         "6.1"
        ],
        [
         "2",
         "11-06-2024",
         "8.7"
        ],
        [
         "3",
         "12-06-2024",
         "10.3"
        ],
        [
         "4",
         "13-06-2024",
         "10.4"
        ]
       ],
       "shape": {
        "columns": 2,
        "rows": 5
       }
      },
      "text/html": [
       "<div>\n",
       "<style scoped>\n",
       "    .dataframe tbody tr th:only-of-type {\n",
       "        vertical-align: middle;\n",
       "    }\n",
       "\n",
       "    .dataframe tbody tr th {\n",
       "        vertical-align: top;\n",
       "    }\n",
       "\n",
       "    .dataframe thead th {\n",
       "        text-align: right;\n",
       "    }\n",
       "</style>\n",
       "<table border=\"1\" class=\"dataframe\">\n",
       "  <thead>\n",
       "    <tr style=\"text-align: right;\">\n",
       "      <th></th>\n",
       "      <th>date</th>\n",
       "      <th>PM10</th>\n",
       "    </tr>\n",
       "  </thead>\n",
       "  <tbody>\n",
       "    <tr>\n",
       "      <th>0</th>\n",
       "      <td>09-06-2024</td>\n",
       "      <td>8.2</td>\n",
       "    </tr>\n",
       "    <tr>\n",
       "      <th>1</th>\n",
       "      <td>10-06-2024</td>\n",
       "      <td>6.1</td>\n",
       "    </tr>\n",
       "    <tr>\n",
       "      <th>2</th>\n",
       "      <td>11-06-2024</td>\n",
       "      <td>8.7</td>\n",
       "    </tr>\n",
       "    <tr>\n",
       "      <th>3</th>\n",
       "      <td>12-06-2024</td>\n",
       "      <td>10.3</td>\n",
       "    </tr>\n",
       "    <tr>\n",
       "      <th>4</th>\n",
       "      <td>13-06-2024</td>\n",
       "      <td>10.4</td>\n",
       "    </tr>\n",
       "  </tbody>\n",
       "</table>\n",
       "</div>"
      ],
      "text/plain": [
       "         date  PM10\n",
       "0  09-06-2024   8.2\n",
       "1  10-06-2024   6.1\n",
       "2  11-06-2024   8.7\n",
       "3  12-06-2024  10.3\n",
       "4  13-06-2024  10.4"
      ]
     },
     "execution_count": 87,
     "metadata": {},
     "output_type": "execute_result"
    }
   ],
   "source": [
    "# Rename specific columns\n",
    "df_pm10 = df_pm10.rename(columns={'Date': 'date'})\n",
    "df_pm10.head()"
   ]
  },
  {
   "cell_type": "code",
   "execution_count": 88,
   "id": "6c6e51aa",
   "metadata": {},
   "outputs": [],
   "source": [
    "# Ensure Date column is in datetime format, parsing DD-MM-YYYY\n",
    "df_pm10['date'] = pd.to_datetime(df_pm10['date'], format='%d-%m-%Y')"
   ]
  },
  {
   "cell_type": "code",
   "execution_count": 89,
   "id": "36d1c516",
   "metadata": {},
   "outputs": [
    {
     "data": {
      "application/vnd.microsoft.datawrangler.viewer.v0+json": {
       "columns": [
        {
         "name": "index",
         "rawType": "int64",
         "type": "integer"
        },
        {
         "name": "date",
         "rawType": "datetime64[ns]",
         "type": "datetime"
        },
        {
         "name": "PM10",
         "rawType": "float64",
         "type": "float"
        }
       ],
       "ref": "9741bffb-1f99-4080-bd03-ab2b2a966265",
       "rows": [],
       "shape": {
        "columns": 2,
        "rows": 0
       }
      },
      "text/html": [
       "<div>\n",
       "<style scoped>\n",
       "    .dataframe tbody tr th:only-of-type {\n",
       "        vertical-align: middle;\n",
       "    }\n",
       "\n",
       "    .dataframe tbody tr th {\n",
       "        vertical-align: top;\n",
       "    }\n",
       "\n",
       "    .dataframe thead th {\n",
       "        text-align: right;\n",
       "    }\n",
       "</style>\n",
       "<table border=\"1\" class=\"dataframe\">\n",
       "  <thead>\n",
       "    <tr style=\"text-align: right;\">\n",
       "      <th></th>\n",
       "      <th>date</th>\n",
       "      <th>PM10</th>\n",
       "    </tr>\n",
       "  </thead>\n",
       "  <tbody>\n",
       "  </tbody>\n",
       "</table>\n",
       "</div>"
      ],
      "text/plain": [
       "Empty DataFrame\n",
       "Columns: [date, PM10]\n",
       "Index: []"
      ]
     },
     "execution_count": 89,
     "metadata": {},
     "output_type": "execute_result"
    }
   ],
   "source": [
    "# Check for missing values\n",
    "df_pm10[df_pm10.isna().any(axis=1)]     # Show all rows with any missing values"
   ]
  },
  {
   "cell_type": "code",
   "execution_count": 90,
   "id": "2fa7c566",
   "metadata": {},
   "outputs": [],
   "source": [
    "# Only needed if there are missing values corresponding to the date\n",
    "# Function to calculate mean of past 7 days\n",
    "def fill_with_past_7_days_mean(row, df_pm10, window_days=7):\n",
    "    if pd.isna(row['PM10']):\n",
    "        # Get the date range for the past 7 days (t-7 to t-1)\n",
    "        start_date = row['date'] - pd.Timedelta(days=window_days)\n",
    "        end_date = row['date'] - pd.Timedelta(days=1)\n",
    "        # Select rows within the past 7 days\n",
    "        past_data = df_pm10[(df_pm10['date'] >= start_date) & (df_pm10['date'] <= end_date)]\n",
    "        # Calculate mean of non-NaN Black_Carbon_Mean values\n",
    "        mean_value = past_data['PM10'].mean()\n",
    "        return mean_value\n",
    "    return row['PM10']\n",
    "\n",
    "# Apply the function to fill missing nitric_oxide_Mean values\n",
    "df_pm10['PM10'] = df_pm10.apply(lambda row: fill_with_past_7_days_mean(row, df_pm10), axis=1)"
   ]
  },
  {
   "cell_type": "code",
   "execution_count": 91,
   "id": "e11e723c",
   "metadata": {},
   "outputs": [
    {
     "data": {
      "application/vnd.microsoft.datawrangler.viewer.v0+json": {
       "columns": [
        {
         "name": "index",
         "rawType": "int64",
         "type": "integer"
        },
        {
         "name": "date",
         "rawType": "datetime64[ns]",
         "type": "datetime"
        },
        {
         "name": "PM10",
         "rawType": "float64",
         "type": "float"
        }
       ],
       "ref": "e1a10457-089f-48e3-a4b1-1fa1cfac62a9",
       "rows": [
        [
         "0",
         "2024-06-09 00:00:00",
         "8.2"
        ],
        [
         "1",
         "2024-06-10 00:00:00",
         "6.1"
        ],
        [
         "2",
         "2024-06-11 00:00:00",
         "8.7"
        ],
        [
         "3",
         "2024-06-12 00:00:00",
         "10.3"
        ],
        [
         "4",
         "2024-06-13 00:00:00",
         "10.4"
        ]
       ],
       "shape": {
        "columns": 2,
        "rows": 5
       }
      },
      "text/html": [
       "<div>\n",
       "<style scoped>\n",
       "    .dataframe tbody tr th:only-of-type {\n",
       "        vertical-align: middle;\n",
       "    }\n",
       "\n",
       "    .dataframe tbody tr th {\n",
       "        vertical-align: top;\n",
       "    }\n",
       "\n",
       "    .dataframe thead th {\n",
       "        text-align: right;\n",
       "    }\n",
       "</style>\n",
       "<table border=\"1\" class=\"dataframe\">\n",
       "  <thead>\n",
       "    <tr style=\"text-align: right;\">\n",
       "      <th></th>\n",
       "      <th>date</th>\n",
       "      <th>PM10</th>\n",
       "    </tr>\n",
       "  </thead>\n",
       "  <tbody>\n",
       "    <tr>\n",
       "      <th>0</th>\n",
       "      <td>2024-06-09</td>\n",
       "      <td>8.2</td>\n",
       "    </tr>\n",
       "    <tr>\n",
       "      <th>1</th>\n",
       "      <td>2024-06-10</td>\n",
       "      <td>6.1</td>\n",
       "    </tr>\n",
       "    <tr>\n",
       "      <th>2</th>\n",
       "      <td>2024-06-11</td>\n",
       "      <td>8.7</td>\n",
       "    </tr>\n",
       "    <tr>\n",
       "      <th>3</th>\n",
       "      <td>2024-06-12</td>\n",
       "      <td>10.3</td>\n",
       "    </tr>\n",
       "    <tr>\n",
       "      <th>4</th>\n",
       "      <td>2024-06-13</td>\n",
       "      <td>10.4</td>\n",
       "    </tr>\n",
       "  </tbody>\n",
       "</table>\n",
       "</div>"
      ],
      "text/plain": [
       "        date  PM10\n",
       "0 2024-06-09   8.2\n",
       "1 2024-06-10   6.1\n",
       "2 2024-06-11   8.7\n",
       "3 2024-06-12  10.3\n",
       "4 2024-06-13  10.4"
      ]
     },
     "execution_count": 91,
     "metadata": {},
     "output_type": "execute_result"
    }
   ],
   "source": [
    "# Round specific columns\n",
    "df_pm10['PM10'] = df_pm10['PM10'].round(3)\n",
    "df_pm10.head()"
   ]
  },
  {
   "cell_type": "code",
   "execution_count": 92,
   "id": "7565db66",
   "metadata": {},
   "outputs": [],
   "source": [
    "# Save to a new CSV file\n",
    "df_pm10.to_csv('PM10_cd.csv', index=False)"
   ]
  },
  {
   "cell_type": "code",
   "execution_count": null,
   "id": "b6bb40b4",
   "metadata": {},
   "outputs": [],
   "source": []
  },
  {
   "cell_type": "markdown",
   "id": "034a370b",
   "metadata": {},
   "source": [
    "### Red Particulate matter (660nm)"
   ]
  },
  {
   "cell_type": "code",
   "execution_count": 93,
   "id": "effb7461",
   "metadata": {},
   "outputs": [
    {
     "data": {
      "text/plain": [
       "Index(['Date', 'Red Particulate matter (660nm)', 'Status',\n",
       "       'Red Particulate matter (660nm).1', 'Status.1',\n",
       "       'Red Particulate matter (660nm).2', 'Status.2'],\n",
       "      dtype='object')"
      ]
     },
     "execution_count": 93,
     "metadata": {},
     "output_type": "execute_result"
    }
   ],
   "source": [
    "df_rpm = pd.read_csv('red_particulate_matter.csv', skiprows=10)\n",
    "df_rpm.columns"
   ]
  },
  {
   "cell_type": "code",
   "execution_count": null,
   "id": "c3c5d4ee",
   "metadata": {},
   "outputs": [],
   "source": [
    "# Select relevant columns: Date and Black Carbon values for the three sites\n",
    "columns = ['Date', \n",
    "           'Red Particulate matter (660nm)', \n",
    "           'Red Particulate matter (660nm).1', \n",
    "           'Red Particulate matter (660nm).2'\n",
    "           ]\n",
    "df_rpm = df_rpm[columns]"
   ]
  },
  {
   "cell_type": "code",
   "execution_count": 94,
   "id": "a76c1909",
   "metadata": {},
   "outputs": [
    {
     "data": {
      "application/vnd.microsoft.datawrangler.viewer.v0+json": {
       "columns": [
        {
         "name": "index",
         "rawType": "int64",
         "type": "integer"
        },
        {
         "name": "Date",
         "rawType": "object",
         "type": "string"
        },
        {
         "name": "Red Particulate matter (660nm)",
         "rawType": "float64",
         "type": "float"
        },
        {
         "name": "Status",
         "rawType": "object",
         "type": "string"
        },
        {
         "name": "Red Particulate matter (660nm).1",
         "rawType": "float64",
         "type": "float"
        },
        {
         "name": "Status.1",
         "rawType": "object",
         "type": "string"
        },
        {
         "name": "Red Particulate matter (660nm).2",
         "rawType": "float64",
         "type": "float"
        },
        {
         "name": "Status.2",
         "rawType": "object",
         "type": "string"
        },
        {
         "name": "red_particulate_matter_660nm",
         "rawType": "float64",
         "type": "float"
        }
       ],
       "ref": "1d8af185-042c-4c62-b7e0-8acc194be3be",
       "rows": [
        [
         "0",
         "09-06-2024",
         "0.82",
         "V ugm-3",
         "0.26",
         "V ugm-3",
         "0.15",
         "V ugm-3",
         "0.41"
        ],
        [
         "1",
         "10-06-2024",
         "0.62",
         "V ugm-3",
         "0.21",
         "V ugm-3",
         "0.15",
         "V ugm-3",
         "0.32666666666666666"
        ],
        [
         "2",
         "11-06-2024",
         "0.95",
         "V ugm-3",
         "0.32",
         "V ugm-3",
         "0.17",
         "V ugm-3",
         "0.48"
        ],
        [
         "3",
         "12-06-2024",
         "1.37",
         "V ugm-3",
         "0.41",
         "V ugm-3",
         "0.23",
         "V ugm-3",
         "0.67"
        ],
        [
         "4",
         "13-06-2024",
         "1.4",
         "V ugm-3",
         "0.28",
         "V ugm-3",
         "0.33",
         "V ugm-3",
         "0.6699999999999999"
        ]
       ],
       "shape": {
        "columns": 8,
        "rows": 5
       }
      },
      "text/html": [
       "<div>\n",
       "<style scoped>\n",
       "    .dataframe tbody tr th:only-of-type {\n",
       "        vertical-align: middle;\n",
       "    }\n",
       "\n",
       "    .dataframe tbody tr th {\n",
       "        vertical-align: top;\n",
       "    }\n",
       "\n",
       "    .dataframe thead th {\n",
       "        text-align: right;\n",
       "    }\n",
       "</style>\n",
       "<table border=\"1\" class=\"dataframe\">\n",
       "  <thead>\n",
       "    <tr style=\"text-align: right;\">\n",
       "      <th></th>\n",
       "      <th>Date</th>\n",
       "      <th>Red Particulate matter (660nm)</th>\n",
       "      <th>Status</th>\n",
       "      <th>Red Particulate matter (660nm).1</th>\n",
       "      <th>Status.1</th>\n",
       "      <th>Red Particulate matter (660nm).2</th>\n",
       "      <th>Status.2</th>\n",
       "      <th>red_particulate_matter_660nm</th>\n",
       "    </tr>\n",
       "  </thead>\n",
       "  <tbody>\n",
       "    <tr>\n",
       "      <th>0</th>\n",
       "      <td>09-06-2024</td>\n",
       "      <td>0.82</td>\n",
       "      <td>V ugm-3</td>\n",
       "      <td>0.26</td>\n",
       "      <td>V ugm-3</td>\n",
       "      <td>0.15</td>\n",
       "      <td>V ugm-3</td>\n",
       "      <td>0.410000</td>\n",
       "    </tr>\n",
       "    <tr>\n",
       "      <th>1</th>\n",
       "      <td>10-06-2024</td>\n",
       "      <td>0.62</td>\n",
       "      <td>V ugm-3</td>\n",
       "      <td>0.21</td>\n",
       "      <td>V ugm-3</td>\n",
       "      <td>0.15</td>\n",
       "      <td>V ugm-3</td>\n",
       "      <td>0.326667</td>\n",
       "    </tr>\n",
       "    <tr>\n",
       "      <th>2</th>\n",
       "      <td>11-06-2024</td>\n",
       "      <td>0.95</td>\n",
       "      <td>V ugm-3</td>\n",
       "      <td>0.32</td>\n",
       "      <td>V ugm-3</td>\n",
       "      <td>0.17</td>\n",
       "      <td>V ugm-3</td>\n",
       "      <td>0.480000</td>\n",
       "    </tr>\n",
       "    <tr>\n",
       "      <th>3</th>\n",
       "      <td>12-06-2024</td>\n",
       "      <td>1.37</td>\n",
       "      <td>V ugm-3</td>\n",
       "      <td>0.41</td>\n",
       "      <td>V ugm-3</td>\n",
       "      <td>0.23</td>\n",
       "      <td>V ugm-3</td>\n",
       "      <td>0.670000</td>\n",
       "    </tr>\n",
       "    <tr>\n",
       "      <th>4</th>\n",
       "      <td>13-06-2024</td>\n",
       "      <td>1.40</td>\n",
       "      <td>V ugm-3</td>\n",
       "      <td>0.28</td>\n",
       "      <td>V ugm-3</td>\n",
       "      <td>0.33</td>\n",
       "      <td>V ugm-3</td>\n",
       "      <td>0.670000</td>\n",
       "    </tr>\n",
       "  </tbody>\n",
       "</table>\n",
       "</div>"
      ],
      "text/plain": [
       "         Date  Red Particulate matter (660nm)   Status  \\\n",
       "0  09-06-2024                            0.82  V ugm-3   \n",
       "1  10-06-2024                            0.62  V ugm-3   \n",
       "2  11-06-2024                            0.95  V ugm-3   \n",
       "3  12-06-2024                            1.37  V ugm-3   \n",
       "4  13-06-2024                            1.40  V ugm-3   \n",
       "\n",
       "   Red Particulate matter (660nm).1 Status.1  \\\n",
       "0                              0.26  V ugm-3   \n",
       "1                              0.21  V ugm-3   \n",
       "2                              0.32  V ugm-3   \n",
       "3                              0.41  V ugm-3   \n",
       "4                              0.28  V ugm-3   \n",
       "\n",
       "   Red Particulate matter (660nm).2 Status.2  red_particulate_matter_660nm  \n",
       "0                              0.15  V ugm-3                      0.410000  \n",
       "1                              0.15  V ugm-3                      0.326667  \n",
       "2                              0.17  V ugm-3                      0.480000  \n",
       "3                              0.23  V ugm-3                      0.670000  \n",
       "4                              0.33  V ugm-3                      0.670000  "
      ]
     },
     "execution_count": 94,
     "metadata": {},
     "output_type": "execute_result"
    }
   ],
   "source": [
    "# Replace 'No data' with NaN\n",
    "df_rpm[[ \n",
    "           'Red Particulate matter (660nm)', \n",
    "           'Red Particulate matter (660nm).1', \n",
    "           'Red Particulate matter (660nm).2'\n",
    "           ]] = df_rpm[[ \n",
    "           'Red Particulate matter (660nm)', \n",
    "           'Red Particulate matter (660nm).1', \n",
    "           'Red Particulate matter (660nm).2'\n",
    "           ]].replace('No data', np.nan)\n",
    "\n",
    "# Convert blue particulate matter columns to numeric\n",
    "df_rpm[[ \n",
    "           'Red Particulate matter (660nm)', \n",
    "           'Red Particulate matter (660nm).1', \n",
    "           'Red Particulate matter (660nm).2'\n",
    "           ]] = df_rpm[[ \n",
    "           'Red Particulate matter (660nm)', \n",
    "           'Red Particulate matter (660nm).1', \n",
    "           'Red Particulate matter (660nm).2'\n",
    "           ]].apply(pd.to_numeric, errors='coerce')\n",
    "\n",
    "# Calculate the mean blue particulate matter value per row, ignoring NaN\n",
    "df_rpm['red_particulate_matter_660nm'] = df_rpm[[ \n",
    "           'Red Particulate matter (660nm)', \n",
    "           'Red Particulate matter (660nm).1', \n",
    "           'Red Particulate matter (660nm).2'\n",
    "           ]].mean(axis=1, skipna=True)\n",
    "\n",
    "df_rpm.head()"
   ]
  },
  {
   "cell_type": "code",
   "execution_count": 95,
   "id": "f3e8db29",
   "metadata": {},
   "outputs": [
    {
     "data": {
      "application/vnd.microsoft.datawrangler.viewer.v0+json": {
       "columns": [
        {
         "name": "index",
         "rawType": "int64",
         "type": "integer"
        },
        {
         "name": "Date",
         "rawType": "object",
         "type": "string"
        },
        {
         "name": "red_particulate_matter_660nm",
         "rawType": "float64",
         "type": "float"
        }
       ],
       "ref": "cc023923-2a9f-42cf-b3bc-a2c6288b7626",
       "rows": [
        [
         "0",
         "09-06-2024",
         "0.41"
        ],
        [
         "1",
         "10-06-2024",
         "0.32666666666666666"
        ],
        [
         "2",
         "11-06-2024",
         "0.48"
        ],
        [
         "3",
         "12-06-2024",
         "0.67"
        ],
        [
         "4",
         "13-06-2024",
         "0.6699999999999999"
        ]
       ],
       "shape": {
        "columns": 2,
        "rows": 5
       }
      },
      "text/html": [
       "<div>\n",
       "<style scoped>\n",
       "    .dataframe tbody tr th:only-of-type {\n",
       "        vertical-align: middle;\n",
       "    }\n",
       "\n",
       "    .dataframe tbody tr th {\n",
       "        vertical-align: top;\n",
       "    }\n",
       "\n",
       "    .dataframe thead th {\n",
       "        text-align: right;\n",
       "    }\n",
       "</style>\n",
       "<table border=\"1\" class=\"dataframe\">\n",
       "  <thead>\n",
       "    <tr style=\"text-align: right;\">\n",
       "      <th></th>\n",
       "      <th>Date</th>\n",
       "      <th>red_particulate_matter_660nm</th>\n",
       "    </tr>\n",
       "  </thead>\n",
       "  <tbody>\n",
       "    <tr>\n",
       "      <th>0</th>\n",
       "      <td>09-06-2024</td>\n",
       "      <td>0.410000</td>\n",
       "    </tr>\n",
       "    <tr>\n",
       "      <th>1</th>\n",
       "      <td>10-06-2024</td>\n",
       "      <td>0.326667</td>\n",
       "    </tr>\n",
       "    <tr>\n",
       "      <th>2</th>\n",
       "      <td>11-06-2024</td>\n",
       "      <td>0.480000</td>\n",
       "    </tr>\n",
       "    <tr>\n",
       "      <th>3</th>\n",
       "      <td>12-06-2024</td>\n",
       "      <td>0.670000</td>\n",
       "    </tr>\n",
       "    <tr>\n",
       "      <th>4</th>\n",
       "      <td>13-06-2024</td>\n",
       "      <td>0.670000</td>\n",
       "    </tr>\n",
       "  </tbody>\n",
       "</table>\n",
       "</div>"
      ],
      "text/plain": [
       "         Date  red_particulate_matter_660nm\n",
       "0  09-06-2024                      0.410000\n",
       "1  10-06-2024                      0.326667\n",
       "2  11-06-2024                      0.480000\n",
       "3  12-06-2024                      0.670000\n",
       "4  13-06-2024                      0.670000"
      ]
     },
     "execution_count": 95,
     "metadata": {},
     "output_type": "execute_result"
    }
   ],
   "source": [
    "# Select only Date and Black_Carbon_Mean columns\n",
    "df_rpm = df_rpm[['Date', 'red_particulate_matter_660nm']]\n",
    "df_rpm.head()"
   ]
  },
  {
   "cell_type": "code",
   "execution_count": 96,
   "id": "5d0760a6",
   "metadata": {},
   "outputs": [
    {
     "data": {
      "application/vnd.microsoft.datawrangler.viewer.v0+json": {
       "columns": [
        {
         "name": "index",
         "rawType": "int64",
         "type": "integer"
        },
        {
         "name": "date",
         "rawType": "object",
         "type": "string"
        },
        {
         "name": "red_particulate_matter_660nm",
         "rawType": "float64",
         "type": "float"
        }
       ],
       "ref": "fea8ab03-3333-4c18-a8d4-39106cd70445",
       "rows": [
        [
         "0",
         "09-06-2024",
         "0.41"
        ],
        [
         "1",
         "10-06-2024",
         "0.32666666666666666"
        ],
        [
         "2",
         "11-06-2024",
         "0.48"
        ],
        [
         "3",
         "12-06-2024",
         "0.67"
        ],
        [
         "4",
         "13-06-2024",
         "0.6699999999999999"
        ]
       ],
       "shape": {
        "columns": 2,
        "rows": 5
       }
      },
      "text/html": [
       "<div>\n",
       "<style scoped>\n",
       "    .dataframe tbody tr th:only-of-type {\n",
       "        vertical-align: middle;\n",
       "    }\n",
       "\n",
       "    .dataframe tbody tr th {\n",
       "        vertical-align: top;\n",
       "    }\n",
       "\n",
       "    .dataframe thead th {\n",
       "        text-align: right;\n",
       "    }\n",
       "</style>\n",
       "<table border=\"1\" class=\"dataframe\">\n",
       "  <thead>\n",
       "    <tr style=\"text-align: right;\">\n",
       "      <th></th>\n",
       "      <th>date</th>\n",
       "      <th>red_particulate_matter_660nm</th>\n",
       "    </tr>\n",
       "  </thead>\n",
       "  <tbody>\n",
       "    <tr>\n",
       "      <th>0</th>\n",
       "      <td>09-06-2024</td>\n",
       "      <td>0.410000</td>\n",
       "    </tr>\n",
       "    <tr>\n",
       "      <th>1</th>\n",
       "      <td>10-06-2024</td>\n",
       "      <td>0.326667</td>\n",
       "    </tr>\n",
       "    <tr>\n",
       "      <th>2</th>\n",
       "      <td>11-06-2024</td>\n",
       "      <td>0.480000</td>\n",
       "    </tr>\n",
       "    <tr>\n",
       "      <th>3</th>\n",
       "      <td>12-06-2024</td>\n",
       "      <td>0.670000</td>\n",
       "    </tr>\n",
       "    <tr>\n",
       "      <th>4</th>\n",
       "      <td>13-06-2024</td>\n",
       "      <td>0.670000</td>\n",
       "    </tr>\n",
       "  </tbody>\n",
       "</table>\n",
       "</div>"
      ],
      "text/plain": [
       "         date  red_particulate_matter_660nm\n",
       "0  09-06-2024                      0.410000\n",
       "1  10-06-2024                      0.326667\n",
       "2  11-06-2024                      0.480000\n",
       "3  12-06-2024                      0.670000\n",
       "4  13-06-2024                      0.670000"
      ]
     },
     "execution_count": 96,
     "metadata": {},
     "output_type": "execute_result"
    }
   ],
   "source": [
    "# Rename specific columns\n",
    "df_rpm = df_rpm.rename(columns={'Date': 'date'})\n",
    "df_rpm.head()"
   ]
  },
  {
   "cell_type": "code",
   "execution_count": 97,
   "id": "f1f93b76",
   "metadata": {},
   "outputs": [],
   "source": [
    "# Ensure Date column is in datetime format, parsing DD-MM-YYYY\n",
    "df_rpm['date'] = pd.to_datetime(df_rpm['date'], format='%d-%m-%Y')"
   ]
  },
  {
   "cell_type": "code",
   "execution_count": 99,
   "id": "462fa836",
   "metadata": {},
   "outputs": [
    {
     "data": {
      "application/vnd.microsoft.datawrangler.viewer.v0+json": {
       "columns": [
        {
         "name": "index",
         "rawType": "int64",
         "type": "integer"
        },
        {
         "name": "date",
         "rawType": "datetime64[ns]",
         "type": "datetime"
        },
        {
         "name": "red_particulate_matter_660nm",
         "rawType": "float64",
         "type": "float"
        }
       ],
       "ref": "5acee690-2663-4cd5-88fb-0a88be176a19",
       "rows": [
        [
         "207",
         "2025-01-02 00:00:00",
         null
        ],
        [
         "217",
         "2025-01-12 00:00:00",
         null
        ],
        [
         "218",
         "2025-01-13 00:00:00",
         null
        ],
        [
         "306",
         "2025-04-11 00:00:00",
         null
        ],
        [
         "319",
         "2025-04-24 00:00:00",
         null
        ],
        [
         "341",
         "2025-05-16 00:00:00",
         null
        ],
        [
         "342",
         "2025-05-18 00:00:00",
         null
        ]
       ],
       "shape": {
        "columns": 2,
        "rows": 7
       }
      },
      "text/html": [
       "<div>\n",
       "<style scoped>\n",
       "    .dataframe tbody tr th:only-of-type {\n",
       "        vertical-align: middle;\n",
       "    }\n",
       "\n",
       "    .dataframe tbody tr th {\n",
       "        vertical-align: top;\n",
       "    }\n",
       "\n",
       "    .dataframe thead th {\n",
       "        text-align: right;\n",
       "    }\n",
       "</style>\n",
       "<table border=\"1\" class=\"dataframe\">\n",
       "  <thead>\n",
       "    <tr style=\"text-align: right;\">\n",
       "      <th></th>\n",
       "      <th>date</th>\n",
       "      <th>red_particulate_matter_660nm</th>\n",
       "    </tr>\n",
       "  </thead>\n",
       "  <tbody>\n",
       "    <tr>\n",
       "      <th>207</th>\n",
       "      <td>2025-01-02</td>\n",
       "      <td>NaN</td>\n",
       "    </tr>\n",
       "    <tr>\n",
       "      <th>217</th>\n",
       "      <td>2025-01-12</td>\n",
       "      <td>NaN</td>\n",
       "    </tr>\n",
       "    <tr>\n",
       "      <th>218</th>\n",
       "      <td>2025-01-13</td>\n",
       "      <td>NaN</td>\n",
       "    </tr>\n",
       "    <tr>\n",
       "      <th>306</th>\n",
       "      <td>2025-04-11</td>\n",
       "      <td>NaN</td>\n",
       "    </tr>\n",
       "    <tr>\n",
       "      <th>319</th>\n",
       "      <td>2025-04-24</td>\n",
       "      <td>NaN</td>\n",
       "    </tr>\n",
       "    <tr>\n",
       "      <th>341</th>\n",
       "      <td>2025-05-16</td>\n",
       "      <td>NaN</td>\n",
       "    </tr>\n",
       "    <tr>\n",
       "      <th>342</th>\n",
       "      <td>2025-05-18</td>\n",
       "      <td>NaN</td>\n",
       "    </tr>\n",
       "  </tbody>\n",
       "</table>\n",
       "</div>"
      ],
      "text/plain": [
       "          date  red_particulate_matter_660nm\n",
       "207 2025-01-02                           NaN\n",
       "217 2025-01-12                           NaN\n",
       "218 2025-01-13                           NaN\n",
       "306 2025-04-11                           NaN\n",
       "319 2025-04-24                           NaN\n",
       "341 2025-05-16                           NaN\n",
       "342 2025-05-18                           NaN"
      ]
     },
     "execution_count": 99,
     "metadata": {},
     "output_type": "execute_result"
    }
   ],
   "source": [
    "# Check for missing values\n",
    "df_rpm[df_rpm.isna().any(axis=1)]     # Show all rows with any missing values"
   ]
  },
  {
   "cell_type": "code",
   "execution_count": 100,
   "id": "ca0169c6",
   "metadata": {},
   "outputs": [],
   "source": [
    "# Only needed if there are missing values corresponding to the date\n",
    "# Function to calculate mean of past 7 days\n",
    "def fill_with_past_7_days_mean(row, df_rpm, window_days=7):\n",
    "    if pd.isna(row['red_particulate_matter_660nm']):\n",
    "        # Get the date range for the past 7 days (t-7 to t-1)\n",
    "        start_date = row['date'] - pd.Timedelta(days=window_days)\n",
    "        end_date = row['date'] - pd.Timedelta(days=1)\n",
    "        # Select rows within the past 7 days\n",
    "        past_data = df_rpm[(df_rpm['date'] >= start_date) & (df_rpm['date'] <= end_date)]\n",
    "        # Calculate mean of non-NaN Black_Carbon_Mean values\n",
    "        mean_value = past_data['red_particulate_matter_660nm'].mean()\n",
    "        return mean_value\n",
    "    return row['red_particulate_matter_660nm']\n",
    "\n",
    "# Apply the function to fill missing nitric_oxide_Mean values\n",
    "df_rpm['red_particulate_matter_660nm'] = df_rpm.apply(lambda row: fill_with_past_7_days_mean(row, df_rpm), axis=1)"
   ]
  },
  {
   "cell_type": "code",
   "execution_count": 101,
   "id": "f3210c1e",
   "metadata": {},
   "outputs": [
    {
     "data": {
      "application/vnd.microsoft.datawrangler.viewer.v0+json": {
       "columns": [
        {
         "name": "index",
         "rawType": "int64",
         "type": "integer"
        },
        {
         "name": "date",
         "rawType": "datetime64[ns]",
         "type": "datetime"
        },
        {
         "name": "red_particulate_matter_660nm",
         "rawType": "float64",
         "type": "float"
        }
       ],
       "ref": "19a4e7da-a359-49b6-beb0-9d6fd7312ef0",
       "rows": [
        [
         "0",
         "2024-06-09 00:00:00",
         "0.41"
        ],
        [
         "1",
         "2024-06-10 00:00:00",
         "0.327"
        ],
        [
         "2",
         "2024-06-11 00:00:00",
         "0.48"
        ],
        [
         "3",
         "2024-06-12 00:00:00",
         "0.67"
        ],
        [
         "4",
         "2024-06-13 00:00:00",
         "0.67"
        ]
       ],
       "shape": {
        "columns": 2,
        "rows": 5
       }
      },
      "text/html": [
       "<div>\n",
       "<style scoped>\n",
       "    .dataframe tbody tr th:only-of-type {\n",
       "        vertical-align: middle;\n",
       "    }\n",
       "\n",
       "    .dataframe tbody tr th {\n",
       "        vertical-align: top;\n",
       "    }\n",
       "\n",
       "    .dataframe thead th {\n",
       "        text-align: right;\n",
       "    }\n",
       "</style>\n",
       "<table border=\"1\" class=\"dataframe\">\n",
       "  <thead>\n",
       "    <tr style=\"text-align: right;\">\n",
       "      <th></th>\n",
       "      <th>date</th>\n",
       "      <th>red_particulate_matter_660nm</th>\n",
       "    </tr>\n",
       "  </thead>\n",
       "  <tbody>\n",
       "    <tr>\n",
       "      <th>0</th>\n",
       "      <td>2024-06-09</td>\n",
       "      <td>0.410</td>\n",
       "    </tr>\n",
       "    <tr>\n",
       "      <th>1</th>\n",
       "      <td>2024-06-10</td>\n",
       "      <td>0.327</td>\n",
       "    </tr>\n",
       "    <tr>\n",
       "      <th>2</th>\n",
       "      <td>2024-06-11</td>\n",
       "      <td>0.480</td>\n",
       "    </tr>\n",
       "    <tr>\n",
       "      <th>3</th>\n",
       "      <td>2024-06-12</td>\n",
       "      <td>0.670</td>\n",
       "    </tr>\n",
       "    <tr>\n",
       "      <th>4</th>\n",
       "      <td>2024-06-13</td>\n",
       "      <td>0.670</td>\n",
       "    </tr>\n",
       "  </tbody>\n",
       "</table>\n",
       "</div>"
      ],
      "text/plain": [
       "        date  red_particulate_matter_660nm\n",
       "0 2024-06-09                         0.410\n",
       "1 2024-06-10                         0.327\n",
       "2 2024-06-11                         0.480\n",
       "3 2024-06-12                         0.670\n",
       "4 2024-06-13                         0.670"
      ]
     },
     "execution_count": 101,
     "metadata": {},
     "output_type": "execute_result"
    }
   ],
   "source": [
    "# Round specific columns\n",
    "df_rpm['red_particulate_matter_660nm'] = df_rpm['red_particulate_matter_660nm'].round(3)\n",
    "df_rpm.head()"
   ]
  },
  {
   "cell_type": "code",
   "execution_count": 102,
   "id": "6ea11d80",
   "metadata": {},
   "outputs": [],
   "source": [
    "# Save to a new CSV file\n",
    "df_rpm.to_csv('red_particulate_matter_cd.csv', index=False)"
   ]
  },
  {
   "cell_type": "code",
   "execution_count": null,
   "id": "08be4447",
   "metadata": {},
   "outputs": [],
   "source": []
  },
  {
   "cell_type": "markdown",
   "id": "ff02a64b",
   "metadata": {},
   "source": [
    "### UV Particulate Matter (370nm)"
   ]
  },
  {
   "cell_type": "code",
   "execution_count": null,
   "id": "37ea48ba",
   "metadata": {},
   "outputs": [
    {
     "data": {
      "text/plain": [
       "Index(['Date', 'UV Particulate Matter (370nm)', 'Status',\n",
       "       'UV Particulate Matter (370nm).1', 'Status.1',\n",
       "       'UV Particulate Matter (370nm).2', 'Status.2'],\n",
       "      dtype='object')"
      ]
     },
     "execution_count": 13,
     "metadata": {},
     "output_type": "execute_result"
    }
   ],
   "source": [
    "import pandas as pd\n",
    "import numpy as np\n",
    "\n",
    "df_UV = pd.read_csv('UV_particulate_matter_(370nm).csv', skiprows=10)\n",
    "df_UV.columns"
   ]
  },
  {
   "cell_type": "code",
   "execution_count": 14,
   "id": "9be747e1",
   "metadata": {},
   "outputs": [],
   "source": [
    "# Select relevant columns: Date and Black Carbon values for the three sites\n",
    "columns = ['Date', \n",
    "           'UV Particulate Matter (370nm)',\n",
    "           'UV Particulate Matter (370nm).1',\n",
    "           'UV Particulate Matter (370nm).2',\n",
    "           ]\n",
    "df_UV = df_UV[columns]"
   ]
  },
  {
   "cell_type": "code",
   "execution_count": 15,
   "id": "d61c7e57",
   "metadata": {},
   "outputs": [
    {
     "data": {
      "application/vnd.microsoft.datawrangler.viewer.v0+json": {
       "columns": [
        {
         "name": "index",
         "rawType": "int64",
         "type": "integer"
        },
        {
         "name": "Date",
         "rawType": "object",
         "type": "string"
        },
        {
         "name": "UV Particulate Matter (370nm)",
         "rawType": "float64",
         "type": "float"
        },
        {
         "name": "UV Particulate Matter (370nm).1",
         "rawType": "float64",
         "type": "float"
        },
        {
         "name": "UV Particulate Matter (370nm).2",
         "rawType": "float64",
         "type": "float"
        },
        {
         "name": "UV_particulate_matter_370nm",
         "rawType": "float64",
         "type": "float"
        }
       ],
       "ref": "f933729f-9586-4de1-9224-dc06c4351367",
       "rows": [
        [
         "0",
         "09-06-2024",
         "0.89",
         "0.33",
         "0.18",
         "0.4666666666666666"
        ],
        [
         "1",
         "10-06-2024",
         "0.68",
         "0.25",
         "0.16",
         "0.36333333333333334"
        ],
        [
         "2",
         "11-06-2024",
         "1.0",
         "0.37",
         "0.18",
         "0.5166666666666667"
        ],
        [
         "3",
         "12-06-2024",
         "1.48",
         "0.48",
         "0.28",
         "0.7466666666666667"
        ],
        [
         "4",
         "13-06-2024",
         "1.48",
         "0.3",
         "0.35",
         "0.71"
        ]
       ],
       "shape": {
        "columns": 5,
        "rows": 5
       }
      },
      "text/html": [
       "<div>\n",
       "<style scoped>\n",
       "    .dataframe tbody tr th:only-of-type {\n",
       "        vertical-align: middle;\n",
       "    }\n",
       "\n",
       "    .dataframe tbody tr th {\n",
       "        vertical-align: top;\n",
       "    }\n",
       "\n",
       "    .dataframe thead th {\n",
       "        text-align: right;\n",
       "    }\n",
       "</style>\n",
       "<table border=\"1\" class=\"dataframe\">\n",
       "  <thead>\n",
       "    <tr style=\"text-align: right;\">\n",
       "      <th></th>\n",
       "      <th>Date</th>\n",
       "      <th>UV Particulate Matter (370nm)</th>\n",
       "      <th>UV Particulate Matter (370nm).1</th>\n",
       "      <th>UV Particulate Matter (370nm).2</th>\n",
       "      <th>UV_particulate_matter_370nm</th>\n",
       "    </tr>\n",
       "  </thead>\n",
       "  <tbody>\n",
       "    <tr>\n",
       "      <th>0</th>\n",
       "      <td>09-06-2024</td>\n",
       "      <td>0.89</td>\n",
       "      <td>0.33</td>\n",
       "      <td>0.18</td>\n",
       "      <td>0.466667</td>\n",
       "    </tr>\n",
       "    <tr>\n",
       "      <th>1</th>\n",
       "      <td>10-06-2024</td>\n",
       "      <td>0.68</td>\n",
       "      <td>0.25</td>\n",
       "      <td>0.16</td>\n",
       "      <td>0.363333</td>\n",
       "    </tr>\n",
       "    <tr>\n",
       "      <th>2</th>\n",
       "      <td>11-06-2024</td>\n",
       "      <td>1.00</td>\n",
       "      <td>0.37</td>\n",
       "      <td>0.18</td>\n",
       "      <td>0.516667</td>\n",
       "    </tr>\n",
       "    <tr>\n",
       "      <th>3</th>\n",
       "      <td>12-06-2024</td>\n",
       "      <td>1.48</td>\n",
       "      <td>0.48</td>\n",
       "      <td>0.28</td>\n",
       "      <td>0.746667</td>\n",
       "    </tr>\n",
       "    <tr>\n",
       "      <th>4</th>\n",
       "      <td>13-06-2024</td>\n",
       "      <td>1.48</td>\n",
       "      <td>0.30</td>\n",
       "      <td>0.35</td>\n",
       "      <td>0.710000</td>\n",
       "    </tr>\n",
       "  </tbody>\n",
       "</table>\n",
       "</div>"
      ],
      "text/plain": [
       "         Date  UV Particulate Matter (370nm)  UV Particulate Matter (370nm).1  \\\n",
       "0  09-06-2024                           0.89                             0.33   \n",
       "1  10-06-2024                           0.68                             0.25   \n",
       "2  11-06-2024                           1.00                             0.37   \n",
       "3  12-06-2024                           1.48                             0.48   \n",
       "4  13-06-2024                           1.48                             0.30   \n",
       "\n",
       "   UV Particulate Matter (370nm).2  UV_particulate_matter_370nm  \n",
       "0                             0.18                     0.466667  \n",
       "1                             0.16                     0.363333  \n",
       "2                             0.18                     0.516667  \n",
       "3                             0.28                     0.746667  \n",
       "4                             0.35                     0.710000  "
      ]
     },
     "execution_count": 15,
     "metadata": {},
     "output_type": "execute_result"
    }
   ],
   "source": [
    "# Replace 'No data' with NaN\n",
    "df_UV[[ \n",
    "           'UV Particulate Matter (370nm)',\n",
    "           'UV Particulate Matter (370nm).1',\n",
    "           'UV Particulate Matter (370nm).2',\n",
    "           ]] = df_UV[[ \n",
    "           'UV Particulate Matter (370nm)',\n",
    "           'UV Particulate Matter (370nm).1',\n",
    "           'UV Particulate Matter (370nm).2',\n",
    "           ]].replace('No data', np.nan)\n",
    "\n",
    "# Convert blue particulate matter columns to numeric\n",
    "df_UV[[ \n",
    "           'UV Particulate Matter (370nm)',\n",
    "           'UV Particulate Matter (370nm).1',\n",
    "           'UV Particulate Matter (370nm).2',\n",
    "           ]] = df_UV[[ \n",
    "           'UV Particulate Matter (370nm)',\n",
    "           'UV Particulate Matter (370nm).1',\n",
    "           'UV Particulate Matter (370nm).2',\n",
    "           ]].apply(pd.to_numeric, errors='coerce')\n",
    "\n",
    "# Calculate the mean blue particulate matter value per row, ignoring NaN\n",
    "df_UV['UV_particulate_matter_370nm'] = df_UV[[ \n",
    "           'UV Particulate Matter (370nm)',\n",
    "           'UV Particulate Matter (370nm).1',\n",
    "           'UV Particulate Matter (370nm).2',\n",
    "           ]].mean(axis=1, skipna=True)\n",
    "\n",
    "df_UV.head()"
   ]
  },
  {
   "cell_type": "code",
   "execution_count": 16,
   "id": "c608095c",
   "metadata": {},
   "outputs": [
    {
     "data": {
      "application/vnd.microsoft.datawrangler.viewer.v0+json": {
       "columns": [
        {
         "name": "index",
         "rawType": "int64",
         "type": "integer"
        },
        {
         "name": "Date",
         "rawType": "object",
         "type": "string"
        },
        {
         "name": "UV_particulate_matter_370nm",
         "rawType": "float64",
         "type": "float"
        }
       ],
       "ref": "e43160ea-a2f1-48ae-a8ec-4ecc9d80a1b5",
       "rows": [
        [
         "0",
         "09-06-2024",
         "0.4666666666666666"
        ],
        [
         "1",
         "10-06-2024",
         "0.36333333333333334"
        ],
        [
         "2",
         "11-06-2024",
         "0.5166666666666667"
        ],
        [
         "3",
         "12-06-2024",
         "0.7466666666666667"
        ],
        [
         "4",
         "13-06-2024",
         "0.71"
        ]
       ],
       "shape": {
        "columns": 2,
        "rows": 5
       }
      },
      "text/html": [
       "<div>\n",
       "<style scoped>\n",
       "    .dataframe tbody tr th:only-of-type {\n",
       "        vertical-align: middle;\n",
       "    }\n",
       "\n",
       "    .dataframe tbody tr th {\n",
       "        vertical-align: top;\n",
       "    }\n",
       "\n",
       "    .dataframe thead th {\n",
       "        text-align: right;\n",
       "    }\n",
       "</style>\n",
       "<table border=\"1\" class=\"dataframe\">\n",
       "  <thead>\n",
       "    <tr style=\"text-align: right;\">\n",
       "      <th></th>\n",
       "      <th>Date</th>\n",
       "      <th>UV_particulate_matter_370nm</th>\n",
       "    </tr>\n",
       "  </thead>\n",
       "  <tbody>\n",
       "    <tr>\n",
       "      <th>0</th>\n",
       "      <td>09-06-2024</td>\n",
       "      <td>0.466667</td>\n",
       "    </tr>\n",
       "    <tr>\n",
       "      <th>1</th>\n",
       "      <td>10-06-2024</td>\n",
       "      <td>0.363333</td>\n",
       "    </tr>\n",
       "    <tr>\n",
       "      <th>2</th>\n",
       "      <td>11-06-2024</td>\n",
       "      <td>0.516667</td>\n",
       "    </tr>\n",
       "    <tr>\n",
       "      <th>3</th>\n",
       "      <td>12-06-2024</td>\n",
       "      <td>0.746667</td>\n",
       "    </tr>\n",
       "    <tr>\n",
       "      <th>4</th>\n",
       "      <td>13-06-2024</td>\n",
       "      <td>0.710000</td>\n",
       "    </tr>\n",
       "  </tbody>\n",
       "</table>\n",
       "</div>"
      ],
      "text/plain": [
       "         Date  UV_particulate_matter_370nm\n",
       "0  09-06-2024                     0.466667\n",
       "1  10-06-2024                     0.363333\n",
       "2  11-06-2024                     0.516667\n",
       "3  12-06-2024                     0.746667\n",
       "4  13-06-2024                     0.710000"
      ]
     },
     "execution_count": 16,
     "metadata": {},
     "output_type": "execute_result"
    }
   ],
   "source": [
    "# Select only Date and Black_Carbon_Mean columns\n",
    "df_UV = df_UV[['Date', 'UV_particulate_matter_370nm']]\n",
    "df_UV.head()"
   ]
  },
  {
   "cell_type": "code",
   "execution_count": 17,
   "id": "dd01215e",
   "metadata": {},
   "outputs": [
    {
     "data": {
      "application/vnd.microsoft.datawrangler.viewer.v0+json": {
       "columns": [
        {
         "name": "index",
         "rawType": "int64",
         "type": "integer"
        },
        {
         "name": "date",
         "rawType": "object",
         "type": "string"
        },
        {
         "name": "UV_particulate_matter_370nm",
         "rawType": "float64",
         "type": "float"
        }
       ],
       "ref": "c1afd9d5-b4f8-4aad-ba4a-271de11efaba",
       "rows": [
        [
         "0",
         "09-06-2024",
         "0.4666666666666666"
        ],
        [
         "1",
         "10-06-2024",
         "0.36333333333333334"
        ],
        [
         "2",
         "11-06-2024",
         "0.5166666666666667"
        ],
        [
         "3",
         "12-06-2024",
         "0.7466666666666667"
        ],
        [
         "4",
         "13-06-2024",
         "0.71"
        ]
       ],
       "shape": {
        "columns": 2,
        "rows": 5
       }
      },
      "text/html": [
       "<div>\n",
       "<style scoped>\n",
       "    .dataframe tbody tr th:only-of-type {\n",
       "        vertical-align: middle;\n",
       "    }\n",
       "\n",
       "    .dataframe tbody tr th {\n",
       "        vertical-align: top;\n",
       "    }\n",
       "\n",
       "    .dataframe thead th {\n",
       "        text-align: right;\n",
       "    }\n",
       "</style>\n",
       "<table border=\"1\" class=\"dataframe\">\n",
       "  <thead>\n",
       "    <tr style=\"text-align: right;\">\n",
       "      <th></th>\n",
       "      <th>date</th>\n",
       "      <th>UV_particulate_matter_370nm</th>\n",
       "    </tr>\n",
       "  </thead>\n",
       "  <tbody>\n",
       "    <tr>\n",
       "      <th>0</th>\n",
       "      <td>09-06-2024</td>\n",
       "      <td>0.466667</td>\n",
       "    </tr>\n",
       "    <tr>\n",
       "      <th>1</th>\n",
       "      <td>10-06-2024</td>\n",
       "      <td>0.363333</td>\n",
       "    </tr>\n",
       "    <tr>\n",
       "      <th>2</th>\n",
       "      <td>11-06-2024</td>\n",
       "      <td>0.516667</td>\n",
       "    </tr>\n",
       "    <tr>\n",
       "      <th>3</th>\n",
       "      <td>12-06-2024</td>\n",
       "      <td>0.746667</td>\n",
       "    </tr>\n",
       "    <tr>\n",
       "      <th>4</th>\n",
       "      <td>13-06-2024</td>\n",
       "      <td>0.710000</td>\n",
       "    </tr>\n",
       "  </tbody>\n",
       "</table>\n",
       "</div>"
      ],
      "text/plain": [
       "         date  UV_particulate_matter_370nm\n",
       "0  09-06-2024                     0.466667\n",
       "1  10-06-2024                     0.363333\n",
       "2  11-06-2024                     0.516667\n",
       "3  12-06-2024                     0.746667\n",
       "4  13-06-2024                     0.710000"
      ]
     },
     "execution_count": 17,
     "metadata": {},
     "output_type": "execute_result"
    }
   ],
   "source": [
    "# Rename specific columns\n",
    "df_UV = df_UV.rename(columns={'Date': 'date'})\n",
    "df_UV.head()"
   ]
  },
  {
   "cell_type": "code",
   "execution_count": 18,
   "id": "3af1dcba",
   "metadata": {},
   "outputs": [],
   "source": [
    "# Ensure Date column is in datetime format, parsing DD-MM-YYYY\n",
    "df_UV['date'] = pd.to_datetime(df_UV['date'], format='%d-%m-%Y')"
   ]
  },
  {
   "cell_type": "code",
   "execution_count": 19,
   "id": "c41af497",
   "metadata": {},
   "outputs": [
    {
     "data": {
      "application/vnd.microsoft.datawrangler.viewer.v0+json": {
       "columns": [
        {
         "name": "index",
         "rawType": "int64",
         "type": "integer"
        },
        {
         "name": "date",
         "rawType": "datetime64[ns]",
         "type": "datetime"
        },
        {
         "name": "UV_particulate_matter_370nm",
         "rawType": "float64",
         "type": "float"
        }
       ],
       "ref": "c9b9ba04-7595-4cec-952f-945d2d5f2c15",
       "rows": [
        [
         "207",
         "2025-01-02 00:00:00",
         null
        ],
        [
         "217",
         "2025-01-12 00:00:00",
         null
        ],
        [
         "218",
         "2025-01-13 00:00:00",
         null
        ],
        [
         "306",
         "2025-04-11 00:00:00",
         null
        ],
        [
         "318",
         "2025-04-23 00:00:00",
         null
        ],
        [
         "319",
         "2025-04-24 00:00:00",
         null
        ],
        [
         "341",
         "2025-05-16 00:00:00",
         null
        ],
        [
         "342",
         "2025-05-18 00:00:00",
         null
        ],
        [
         "361",
         "2025-06-06 00:00:00",
         null
        ]
       ],
       "shape": {
        "columns": 2,
        "rows": 9
       }
      },
      "text/html": [
       "<div>\n",
       "<style scoped>\n",
       "    .dataframe tbody tr th:only-of-type {\n",
       "        vertical-align: middle;\n",
       "    }\n",
       "\n",
       "    .dataframe tbody tr th {\n",
       "        vertical-align: top;\n",
       "    }\n",
       "\n",
       "    .dataframe thead th {\n",
       "        text-align: right;\n",
       "    }\n",
       "</style>\n",
       "<table border=\"1\" class=\"dataframe\">\n",
       "  <thead>\n",
       "    <tr style=\"text-align: right;\">\n",
       "      <th></th>\n",
       "      <th>date</th>\n",
       "      <th>UV_particulate_matter_370nm</th>\n",
       "    </tr>\n",
       "  </thead>\n",
       "  <tbody>\n",
       "    <tr>\n",
       "      <th>207</th>\n",
       "      <td>2025-01-02</td>\n",
       "      <td>NaN</td>\n",
       "    </tr>\n",
       "    <tr>\n",
       "      <th>217</th>\n",
       "      <td>2025-01-12</td>\n",
       "      <td>NaN</td>\n",
       "    </tr>\n",
       "    <tr>\n",
       "      <th>218</th>\n",
       "      <td>2025-01-13</td>\n",
       "      <td>NaN</td>\n",
       "    </tr>\n",
       "    <tr>\n",
       "      <th>306</th>\n",
       "      <td>2025-04-11</td>\n",
       "      <td>NaN</td>\n",
       "    </tr>\n",
       "    <tr>\n",
       "      <th>318</th>\n",
       "      <td>2025-04-23</td>\n",
       "      <td>NaN</td>\n",
       "    </tr>\n",
       "    <tr>\n",
       "      <th>319</th>\n",
       "      <td>2025-04-24</td>\n",
       "      <td>NaN</td>\n",
       "    </tr>\n",
       "    <tr>\n",
       "      <th>341</th>\n",
       "      <td>2025-05-16</td>\n",
       "      <td>NaN</td>\n",
       "    </tr>\n",
       "    <tr>\n",
       "      <th>342</th>\n",
       "      <td>2025-05-18</td>\n",
       "      <td>NaN</td>\n",
       "    </tr>\n",
       "    <tr>\n",
       "      <th>361</th>\n",
       "      <td>2025-06-06</td>\n",
       "      <td>NaN</td>\n",
       "    </tr>\n",
       "  </tbody>\n",
       "</table>\n",
       "</div>"
      ],
      "text/plain": [
       "          date  UV_particulate_matter_370nm\n",
       "207 2025-01-02                          NaN\n",
       "217 2025-01-12                          NaN\n",
       "218 2025-01-13                          NaN\n",
       "306 2025-04-11                          NaN\n",
       "318 2025-04-23                          NaN\n",
       "319 2025-04-24                          NaN\n",
       "341 2025-05-16                          NaN\n",
       "342 2025-05-18                          NaN\n",
       "361 2025-06-06                          NaN"
      ]
     },
     "execution_count": 19,
     "metadata": {},
     "output_type": "execute_result"
    }
   ],
   "source": [
    "# Check for missing values\n",
    "df_UV[df_UV.isna().any(axis=1)]     # Show all rows with any missing values"
   ]
  },
  {
   "cell_type": "code",
   "execution_count": 20,
   "id": "65caba5e",
   "metadata": {},
   "outputs": [],
   "source": [
    "# Only needed if there are missing values corresponding to the date\n",
    "# Function to calculate mean of past 7 days\n",
    "def fill_with_past_7_days_mean(row, df_UV, window_days=7):\n",
    "    if pd.isna(row['UV_particulate_matter_370nm']):\n",
    "        # Get the date range for the past 7 days (t-7 to t-1)\n",
    "        start_date = row['date'] - pd.Timedelta(days=window_days)\n",
    "        end_date = row['date'] - pd.Timedelta(days=1)\n",
    "        # Select rows within the past 7 days\n",
    "        past_data = df_UV[(df_UV['date'] >= start_date) & (df_UV['date'] <= end_date)]\n",
    "        # Calculate mean of non-NaN Black_Carbon_Mean values\n",
    "        mean_value = past_data['UV_particulate_matter_370nm'].mean()\n",
    "        return mean_value\n",
    "    return row['UV_particulate_matter_370nm']\n",
    "\n",
    "# Apply the function to fill missing nitric_oxide_Mean values\n",
    "df_UV['UV_particulate_matter_370nm'] = df_UV.apply(lambda row: fill_with_past_7_days_mean(row, df_UV), axis=1)"
   ]
  },
  {
   "cell_type": "code",
   "execution_count": 21,
   "id": "afdc721b",
   "metadata": {},
   "outputs": [
    {
     "data": {
      "application/vnd.microsoft.datawrangler.viewer.v0+json": {
       "columns": [
        {
         "name": "index",
         "rawType": "int64",
         "type": "integer"
        },
        {
         "name": "date",
         "rawType": "datetime64[ns]",
         "type": "datetime"
        },
        {
         "name": "UV_particulate_matter_370nm",
         "rawType": "float64",
         "type": "float"
        }
       ],
       "ref": "a8f5be7c-2e54-4928-8772-8bd02df18687",
       "rows": [
        [
         "0",
         "2024-06-09 00:00:00",
         "0.467"
        ],
        [
         "1",
         "2024-06-10 00:00:00",
         "0.363"
        ],
        [
         "2",
         "2024-06-11 00:00:00",
         "0.517"
        ],
        [
         "3",
         "2024-06-12 00:00:00",
         "0.747"
        ],
        [
         "4",
         "2024-06-13 00:00:00",
         "0.71"
        ]
       ],
       "shape": {
        "columns": 2,
        "rows": 5
       }
      },
      "text/html": [
       "<div>\n",
       "<style scoped>\n",
       "    .dataframe tbody tr th:only-of-type {\n",
       "        vertical-align: middle;\n",
       "    }\n",
       "\n",
       "    .dataframe tbody tr th {\n",
       "        vertical-align: top;\n",
       "    }\n",
       "\n",
       "    .dataframe thead th {\n",
       "        text-align: right;\n",
       "    }\n",
       "</style>\n",
       "<table border=\"1\" class=\"dataframe\">\n",
       "  <thead>\n",
       "    <tr style=\"text-align: right;\">\n",
       "      <th></th>\n",
       "      <th>date</th>\n",
       "      <th>UV_particulate_matter_370nm</th>\n",
       "    </tr>\n",
       "  </thead>\n",
       "  <tbody>\n",
       "    <tr>\n",
       "      <th>0</th>\n",
       "      <td>2024-06-09</td>\n",
       "      <td>0.467</td>\n",
       "    </tr>\n",
       "    <tr>\n",
       "      <th>1</th>\n",
       "      <td>2024-06-10</td>\n",
       "      <td>0.363</td>\n",
       "    </tr>\n",
       "    <tr>\n",
       "      <th>2</th>\n",
       "      <td>2024-06-11</td>\n",
       "      <td>0.517</td>\n",
       "    </tr>\n",
       "    <tr>\n",
       "      <th>3</th>\n",
       "      <td>2024-06-12</td>\n",
       "      <td>0.747</td>\n",
       "    </tr>\n",
       "    <tr>\n",
       "      <th>4</th>\n",
       "      <td>2024-06-13</td>\n",
       "      <td>0.710</td>\n",
       "    </tr>\n",
       "  </tbody>\n",
       "</table>\n",
       "</div>"
      ],
      "text/plain": [
       "        date  UV_particulate_matter_370nm\n",
       "0 2024-06-09                        0.467\n",
       "1 2024-06-10                        0.363\n",
       "2 2024-06-11                        0.517\n",
       "3 2024-06-12                        0.747\n",
       "4 2024-06-13                        0.710"
      ]
     },
     "execution_count": 21,
     "metadata": {},
     "output_type": "execute_result"
    }
   ],
   "source": [
    "# Round specific columns\n",
    "df_UV['UV_particulate_matter_370nm'] = df_UV['UV_particulate_matter_370nm'].round(3)\n",
    "df_UV.head()"
   ]
  },
  {
   "cell_type": "code",
   "execution_count": 22,
   "id": "ee666fe1",
   "metadata": {},
   "outputs": [],
   "source": [
    "# Save to a new CSV file\n",
    "df_UV.to_csv('UV_particulate_matter_370nm_cd.csv', index=False)"
   ]
  },
  {
   "cell_type": "code",
   "execution_count": null,
   "id": "28f51419",
   "metadata": {},
   "outputs": [],
   "source": []
  },
  {
   "cell_type": "markdown",
   "id": "347ed279",
   "metadata": {},
   "source": [
    "### Yellow Particulate matter (590nm)"
   ]
  },
  {
   "cell_type": "code",
   "execution_count": 23,
   "id": "0cb50704",
   "metadata": {},
   "outputs": [
    {
     "data": {
      "text/plain": [
       "Index(['Date', 'Yellow Particulate matter (590nm)', 'Status',\n",
       "       'Yellow Particulate matter (590nm).1', 'Status.1',\n",
       "       'Yellow Particulate matter (590nm).2', 'Status.2'],\n",
       "      dtype='object')"
      ]
     },
     "execution_count": 23,
     "metadata": {},
     "output_type": "execute_result"
    }
   ],
   "source": [
    "df_ypm = pd.read_csv('yellow_particulate_matter.csv', skiprows=10)\n",
    "df_ypm.columns"
   ]
  },
  {
   "cell_type": "code",
   "execution_count": null,
   "id": "c46de0c4",
   "metadata": {},
   "outputs": [],
   "source": [
    "# Select relevant columns: Date and Black Carbon values for the three sites\n",
    "columns = ['Date', \n",
    "           'Yellow Particulate matter (590nm)',\n",
    "           'Yellow Particulate matter (590nm).1',\n",
    "           'Yellow Particulate matter (590nm).2',\n",
    "           ]\n",
    "df_ypm = df_ypm[columns]"
   ]
  },
  {
   "cell_type": "code",
   "execution_count": 24,
   "id": "94e47a69",
   "metadata": {},
   "outputs": [
    {
     "data": {
      "application/vnd.microsoft.datawrangler.viewer.v0+json": {
       "columns": [
        {
         "name": "index",
         "rawType": "int64",
         "type": "integer"
        },
        {
         "name": "Date",
         "rawType": "object",
         "type": "string"
        },
        {
         "name": "Yellow Particulate matter (590nm)",
         "rawType": "float64",
         "type": "float"
        },
        {
         "name": "Status",
         "rawType": "object",
         "type": "string"
        },
        {
         "name": "Yellow Particulate matter (590nm).1",
         "rawType": "float64",
         "type": "float"
        },
        {
         "name": "Status.1",
         "rawType": "object",
         "type": "string"
        },
        {
         "name": "Yellow Particulate matter (590nm).2",
         "rawType": "float64",
         "type": "float"
        },
        {
         "name": "Status.2",
         "rawType": "object",
         "type": "string"
        },
        {
         "name": "yellow_particulate_matter_590nm",
         "rawType": "float64",
         "type": "float"
        }
       ],
       "ref": "887f91d8-abca-4086-8bce-7be6c9006da8",
       "rows": [
        [
         "0",
         "09-06-2024",
         "0.85",
         "V ugm-3",
         "0.29",
         "V ugm-3",
         "0.15",
         "V ugm-3",
         "0.42999999999999994"
        ],
        [
         "1",
         "10-06-2024",
         "0.63",
         "V ugm-3",
         "0.24",
         "V ugm-3",
         "0.17",
         "V ugm-3",
         "0.3466666666666667"
        ],
        [
         "2",
         "11-06-2024",
         "0.99",
         "V ugm-3",
         "0.34",
         "V ugm-3",
         "0.18",
         "V ugm-3",
         "0.5033333333333333"
        ],
        [
         "3",
         "12-06-2024",
         "1.43",
         "V ugm-3",
         "0.44",
         "V ugm-3",
         "0.24",
         "V ugm-3",
         "0.7033333333333333"
        ],
        [
         "4",
         "13-06-2024",
         "1.45",
         "V ugm-3",
         "0.3",
         "V ugm-3",
         "0.33",
         "V ugm-3",
         "0.6933333333333334"
        ]
       ],
       "shape": {
        "columns": 8,
        "rows": 5
       }
      },
      "text/html": [
       "<div>\n",
       "<style scoped>\n",
       "    .dataframe tbody tr th:only-of-type {\n",
       "        vertical-align: middle;\n",
       "    }\n",
       "\n",
       "    .dataframe tbody tr th {\n",
       "        vertical-align: top;\n",
       "    }\n",
       "\n",
       "    .dataframe thead th {\n",
       "        text-align: right;\n",
       "    }\n",
       "</style>\n",
       "<table border=\"1\" class=\"dataframe\">\n",
       "  <thead>\n",
       "    <tr style=\"text-align: right;\">\n",
       "      <th></th>\n",
       "      <th>Date</th>\n",
       "      <th>Yellow Particulate matter (590nm)</th>\n",
       "      <th>Status</th>\n",
       "      <th>Yellow Particulate matter (590nm).1</th>\n",
       "      <th>Status.1</th>\n",
       "      <th>Yellow Particulate matter (590nm).2</th>\n",
       "      <th>Status.2</th>\n",
       "      <th>yellow_particulate_matter_590nm</th>\n",
       "    </tr>\n",
       "  </thead>\n",
       "  <tbody>\n",
       "    <tr>\n",
       "      <th>0</th>\n",
       "      <td>09-06-2024</td>\n",
       "      <td>0.85</td>\n",
       "      <td>V ugm-3</td>\n",
       "      <td>0.29</td>\n",
       "      <td>V ugm-3</td>\n",
       "      <td>0.15</td>\n",
       "      <td>V ugm-3</td>\n",
       "      <td>0.430000</td>\n",
       "    </tr>\n",
       "    <tr>\n",
       "      <th>1</th>\n",
       "      <td>10-06-2024</td>\n",
       "      <td>0.63</td>\n",
       "      <td>V ugm-3</td>\n",
       "      <td>0.24</td>\n",
       "      <td>V ugm-3</td>\n",
       "      <td>0.17</td>\n",
       "      <td>V ugm-3</td>\n",
       "      <td>0.346667</td>\n",
       "    </tr>\n",
       "    <tr>\n",
       "      <th>2</th>\n",
       "      <td>11-06-2024</td>\n",
       "      <td>0.99</td>\n",
       "      <td>V ugm-3</td>\n",
       "      <td>0.34</td>\n",
       "      <td>V ugm-3</td>\n",
       "      <td>0.18</td>\n",
       "      <td>V ugm-3</td>\n",
       "      <td>0.503333</td>\n",
       "    </tr>\n",
       "    <tr>\n",
       "      <th>3</th>\n",
       "      <td>12-06-2024</td>\n",
       "      <td>1.43</td>\n",
       "      <td>V ugm-3</td>\n",
       "      <td>0.44</td>\n",
       "      <td>V ugm-3</td>\n",
       "      <td>0.24</td>\n",
       "      <td>V ugm-3</td>\n",
       "      <td>0.703333</td>\n",
       "    </tr>\n",
       "    <tr>\n",
       "      <th>4</th>\n",
       "      <td>13-06-2024</td>\n",
       "      <td>1.45</td>\n",
       "      <td>V ugm-3</td>\n",
       "      <td>0.30</td>\n",
       "      <td>V ugm-3</td>\n",
       "      <td>0.33</td>\n",
       "      <td>V ugm-3</td>\n",
       "      <td>0.693333</td>\n",
       "    </tr>\n",
       "  </tbody>\n",
       "</table>\n",
       "</div>"
      ],
      "text/plain": [
       "         Date  Yellow Particulate matter (590nm)   Status  \\\n",
       "0  09-06-2024                               0.85  V ugm-3   \n",
       "1  10-06-2024                               0.63  V ugm-3   \n",
       "2  11-06-2024                               0.99  V ugm-3   \n",
       "3  12-06-2024                               1.43  V ugm-3   \n",
       "4  13-06-2024                               1.45  V ugm-3   \n",
       "\n",
       "   Yellow Particulate matter (590nm).1 Status.1  \\\n",
       "0                                 0.29  V ugm-3   \n",
       "1                                 0.24  V ugm-3   \n",
       "2                                 0.34  V ugm-3   \n",
       "3                                 0.44  V ugm-3   \n",
       "4                                 0.30  V ugm-3   \n",
       "\n",
       "   Yellow Particulate matter (590nm).2 Status.2  \\\n",
       "0                                 0.15  V ugm-3   \n",
       "1                                 0.17  V ugm-3   \n",
       "2                                 0.18  V ugm-3   \n",
       "3                                 0.24  V ugm-3   \n",
       "4                                 0.33  V ugm-3   \n",
       "\n",
       "   yellow_particulate_matter_590nm  \n",
       "0                         0.430000  \n",
       "1                         0.346667  \n",
       "2                         0.503333  \n",
       "3                         0.703333  \n",
       "4                         0.693333  "
      ]
     },
     "execution_count": 24,
     "metadata": {},
     "output_type": "execute_result"
    }
   ],
   "source": [
    "# Replace 'No data' with NaN\n",
    "df_ypm[[ \n",
    "           'Yellow Particulate matter (590nm)',\n",
    "           'Yellow Particulate matter (590nm).1',\n",
    "           'Yellow Particulate matter (590nm).2',\n",
    "           ]] = df_ypm[[ \n",
    "           'Yellow Particulate matter (590nm)',\n",
    "           'Yellow Particulate matter (590nm).1',\n",
    "           'Yellow Particulate matter (590nm).2',\n",
    "           ]].replace('No data', np.nan)\n",
    "\n",
    "# Convert blue particulate matter columns to numeric\n",
    "df_ypm[[ \n",
    "           'Yellow Particulate matter (590nm)',\n",
    "           'Yellow Particulate matter (590nm).1',\n",
    "           'Yellow Particulate matter (590nm).2',\n",
    "           ]] = df_ypm[[ \n",
    "           'Yellow Particulate matter (590nm)',\n",
    "           'Yellow Particulate matter (590nm).1',\n",
    "           'Yellow Particulate matter (590nm).2',\n",
    "           ]].apply(pd.to_numeric, errors='coerce')\n",
    "\n",
    "# Calculate the mean blue particulate matter value per row, ignoring NaN\n",
    "df_ypm['yellow_particulate_matter_590nm'] = df_ypm[[ \n",
    "           'Yellow Particulate matter (590nm)',\n",
    "           'Yellow Particulate matter (590nm).1',\n",
    "           'Yellow Particulate matter (590nm).2',\n",
    "           ]].mean(axis=1, skipna=True)\n",
    "\n",
    "df_ypm.head()"
   ]
  },
  {
   "cell_type": "code",
   "execution_count": 25,
   "id": "95d1aecd",
   "metadata": {},
   "outputs": [
    {
     "data": {
      "application/vnd.microsoft.datawrangler.viewer.v0+json": {
       "columns": [
        {
         "name": "index",
         "rawType": "int64",
         "type": "integer"
        },
        {
         "name": "Date",
         "rawType": "object",
         "type": "string"
        },
        {
         "name": "yellow_particulate_matter_590nm",
         "rawType": "float64",
         "type": "float"
        }
       ],
       "ref": "401ca04e-13d3-4420-91a3-72362e5c1660",
       "rows": [
        [
         "0",
         "09-06-2024",
         "0.42999999999999994"
        ],
        [
         "1",
         "10-06-2024",
         "0.3466666666666667"
        ],
        [
         "2",
         "11-06-2024",
         "0.5033333333333333"
        ],
        [
         "3",
         "12-06-2024",
         "0.7033333333333333"
        ],
        [
         "4",
         "13-06-2024",
         "0.6933333333333334"
        ]
       ],
       "shape": {
        "columns": 2,
        "rows": 5
       }
      },
      "text/html": [
       "<div>\n",
       "<style scoped>\n",
       "    .dataframe tbody tr th:only-of-type {\n",
       "        vertical-align: middle;\n",
       "    }\n",
       "\n",
       "    .dataframe tbody tr th {\n",
       "        vertical-align: top;\n",
       "    }\n",
       "\n",
       "    .dataframe thead th {\n",
       "        text-align: right;\n",
       "    }\n",
       "</style>\n",
       "<table border=\"1\" class=\"dataframe\">\n",
       "  <thead>\n",
       "    <tr style=\"text-align: right;\">\n",
       "      <th></th>\n",
       "      <th>Date</th>\n",
       "      <th>yellow_particulate_matter_590nm</th>\n",
       "    </tr>\n",
       "  </thead>\n",
       "  <tbody>\n",
       "    <tr>\n",
       "      <th>0</th>\n",
       "      <td>09-06-2024</td>\n",
       "      <td>0.430000</td>\n",
       "    </tr>\n",
       "    <tr>\n",
       "      <th>1</th>\n",
       "      <td>10-06-2024</td>\n",
       "      <td>0.346667</td>\n",
       "    </tr>\n",
       "    <tr>\n",
       "      <th>2</th>\n",
       "      <td>11-06-2024</td>\n",
       "      <td>0.503333</td>\n",
       "    </tr>\n",
       "    <tr>\n",
       "      <th>3</th>\n",
       "      <td>12-06-2024</td>\n",
       "      <td>0.703333</td>\n",
       "    </tr>\n",
       "    <tr>\n",
       "      <th>4</th>\n",
       "      <td>13-06-2024</td>\n",
       "      <td>0.693333</td>\n",
       "    </tr>\n",
       "  </tbody>\n",
       "</table>\n",
       "</div>"
      ],
      "text/plain": [
       "         Date  yellow_particulate_matter_590nm\n",
       "0  09-06-2024                         0.430000\n",
       "1  10-06-2024                         0.346667\n",
       "2  11-06-2024                         0.503333\n",
       "3  12-06-2024                         0.703333\n",
       "4  13-06-2024                         0.693333"
      ]
     },
     "execution_count": 25,
     "metadata": {},
     "output_type": "execute_result"
    }
   ],
   "source": [
    "# Select only Date and Black_Carbon_Mean columns\n",
    "df_ypm = df_ypm[['Date', 'yellow_particulate_matter_590nm']]\n",
    "df_ypm.head()"
   ]
  },
  {
   "cell_type": "code",
   "execution_count": 26,
   "id": "8d34240f",
   "metadata": {},
   "outputs": [
    {
     "data": {
      "application/vnd.microsoft.datawrangler.viewer.v0+json": {
       "columns": [
        {
         "name": "index",
         "rawType": "int64",
         "type": "integer"
        },
        {
         "name": "date",
         "rawType": "object",
         "type": "string"
        },
        {
         "name": "yellow_particulate_matter_590nm",
         "rawType": "float64",
         "type": "float"
        }
       ],
       "ref": "8ad8e9f4-aa66-47fa-9a03-7ccd12ccbb95",
       "rows": [
        [
         "0",
         "09-06-2024",
         "0.42999999999999994"
        ],
        [
         "1",
         "10-06-2024",
         "0.3466666666666667"
        ],
        [
         "2",
         "11-06-2024",
         "0.5033333333333333"
        ],
        [
         "3",
         "12-06-2024",
         "0.7033333333333333"
        ],
        [
         "4",
         "13-06-2024",
         "0.6933333333333334"
        ]
       ],
       "shape": {
        "columns": 2,
        "rows": 5
       }
      },
      "text/html": [
       "<div>\n",
       "<style scoped>\n",
       "    .dataframe tbody tr th:only-of-type {\n",
       "        vertical-align: middle;\n",
       "    }\n",
       "\n",
       "    .dataframe tbody tr th {\n",
       "        vertical-align: top;\n",
       "    }\n",
       "\n",
       "    .dataframe thead th {\n",
       "        text-align: right;\n",
       "    }\n",
       "</style>\n",
       "<table border=\"1\" class=\"dataframe\">\n",
       "  <thead>\n",
       "    <tr style=\"text-align: right;\">\n",
       "      <th></th>\n",
       "      <th>date</th>\n",
       "      <th>yellow_particulate_matter_590nm</th>\n",
       "    </tr>\n",
       "  </thead>\n",
       "  <tbody>\n",
       "    <tr>\n",
       "      <th>0</th>\n",
       "      <td>09-06-2024</td>\n",
       "      <td>0.430000</td>\n",
       "    </tr>\n",
       "    <tr>\n",
       "      <th>1</th>\n",
       "      <td>10-06-2024</td>\n",
       "      <td>0.346667</td>\n",
       "    </tr>\n",
       "    <tr>\n",
       "      <th>2</th>\n",
       "      <td>11-06-2024</td>\n",
       "      <td>0.503333</td>\n",
       "    </tr>\n",
       "    <tr>\n",
       "      <th>3</th>\n",
       "      <td>12-06-2024</td>\n",
       "      <td>0.703333</td>\n",
       "    </tr>\n",
       "    <tr>\n",
       "      <th>4</th>\n",
       "      <td>13-06-2024</td>\n",
       "      <td>0.693333</td>\n",
       "    </tr>\n",
       "  </tbody>\n",
       "</table>\n",
       "</div>"
      ],
      "text/plain": [
       "         date  yellow_particulate_matter_590nm\n",
       "0  09-06-2024                         0.430000\n",
       "1  10-06-2024                         0.346667\n",
       "2  11-06-2024                         0.503333\n",
       "3  12-06-2024                         0.703333\n",
       "4  13-06-2024                         0.693333"
      ]
     },
     "execution_count": 26,
     "metadata": {},
     "output_type": "execute_result"
    }
   ],
   "source": [
    "# Rename specific columns\n",
    "df_ypm = df_ypm.rename(columns={'Date': 'date'})\n",
    "df_ypm.head()"
   ]
  },
  {
   "cell_type": "code",
   "execution_count": 27,
   "id": "97a35976",
   "metadata": {},
   "outputs": [],
   "source": [
    "# Ensure Date column is in datetime format, parsing DD-MM-YYYY\n",
    "df_ypm['date'] = pd.to_datetime(df_ypm['date'], format='%d-%m-%Y')"
   ]
  },
  {
   "cell_type": "code",
   "execution_count": 28,
   "id": "0554fa98",
   "metadata": {},
   "outputs": [
    {
     "data": {
      "application/vnd.microsoft.datawrangler.viewer.v0+json": {
       "columns": [
        {
         "name": "index",
         "rawType": "int64",
         "type": "integer"
        },
        {
         "name": "date",
         "rawType": "datetime64[ns]",
         "type": "datetime"
        },
        {
         "name": "yellow_particulate_matter_590nm",
         "rawType": "float64",
         "type": "float"
        }
       ],
       "ref": "86ed6619-46fc-439e-b325-aa32314d3026",
       "rows": [
        [
         "207",
         "2025-01-02 00:00:00",
         null
        ],
        [
         "217",
         "2025-01-12 00:00:00",
         null
        ],
        [
         "218",
         "2025-01-13 00:00:00",
         null
        ],
        [
         "306",
         "2025-04-11 00:00:00",
         null
        ],
        [
         "319",
         "2025-04-24 00:00:00",
         null
        ],
        [
         "341",
         "2025-05-16 00:00:00",
         null
        ],
        [
         "342",
         "2025-05-18 00:00:00",
         null
        ]
       ],
       "shape": {
        "columns": 2,
        "rows": 7
       }
      },
      "text/html": [
       "<div>\n",
       "<style scoped>\n",
       "    .dataframe tbody tr th:only-of-type {\n",
       "        vertical-align: middle;\n",
       "    }\n",
       "\n",
       "    .dataframe tbody tr th {\n",
       "        vertical-align: top;\n",
       "    }\n",
       "\n",
       "    .dataframe thead th {\n",
       "        text-align: right;\n",
       "    }\n",
       "</style>\n",
       "<table border=\"1\" class=\"dataframe\">\n",
       "  <thead>\n",
       "    <tr style=\"text-align: right;\">\n",
       "      <th></th>\n",
       "      <th>date</th>\n",
       "      <th>yellow_particulate_matter_590nm</th>\n",
       "    </tr>\n",
       "  </thead>\n",
       "  <tbody>\n",
       "    <tr>\n",
       "      <th>207</th>\n",
       "      <td>2025-01-02</td>\n",
       "      <td>NaN</td>\n",
       "    </tr>\n",
       "    <tr>\n",
       "      <th>217</th>\n",
       "      <td>2025-01-12</td>\n",
       "      <td>NaN</td>\n",
       "    </tr>\n",
       "    <tr>\n",
       "      <th>218</th>\n",
       "      <td>2025-01-13</td>\n",
       "      <td>NaN</td>\n",
       "    </tr>\n",
       "    <tr>\n",
       "      <th>306</th>\n",
       "      <td>2025-04-11</td>\n",
       "      <td>NaN</td>\n",
       "    </tr>\n",
       "    <tr>\n",
       "      <th>319</th>\n",
       "      <td>2025-04-24</td>\n",
       "      <td>NaN</td>\n",
       "    </tr>\n",
       "    <tr>\n",
       "      <th>341</th>\n",
       "      <td>2025-05-16</td>\n",
       "      <td>NaN</td>\n",
       "    </tr>\n",
       "    <tr>\n",
       "      <th>342</th>\n",
       "      <td>2025-05-18</td>\n",
       "      <td>NaN</td>\n",
       "    </tr>\n",
       "  </tbody>\n",
       "</table>\n",
       "</div>"
      ],
      "text/plain": [
       "          date  yellow_particulate_matter_590nm\n",
       "207 2025-01-02                              NaN\n",
       "217 2025-01-12                              NaN\n",
       "218 2025-01-13                              NaN\n",
       "306 2025-04-11                              NaN\n",
       "319 2025-04-24                              NaN\n",
       "341 2025-05-16                              NaN\n",
       "342 2025-05-18                              NaN"
      ]
     },
     "execution_count": 28,
     "metadata": {},
     "output_type": "execute_result"
    }
   ],
   "source": [
    "# Check for missing values\n",
    "df_ypm[df_ypm.isna().any(axis=1)]     # Show all rows with any missing values"
   ]
  },
  {
   "cell_type": "code",
   "execution_count": 29,
   "id": "a2bd0d32",
   "metadata": {},
   "outputs": [],
   "source": [
    "# Only needed if there are missing values corresponding to the date\n",
    "# Function to calculate mean of past 7 days\n",
    "def fill_with_past_7_days_mean(row, df_ypm, window_days=7):\n",
    "    if pd.isna(row['yellow_particulate_matter_590nm']):\n",
    "        # Get the date range for the past 7 days (t-7 to t-1)\n",
    "        start_date = row['date'] - pd.Timedelta(days=window_days)\n",
    "        end_date = row['date'] - pd.Timedelta(days=1)\n",
    "        # Select rows within the past 7 days\n",
    "        past_data = df_ypm[(df_ypm['date'] >= start_date) & (df_ypm['date'] <= end_date)]\n",
    "        # Calculate mean of non-NaN Black_Carbon_Mean values\n",
    "        mean_value = past_data['yellow_particulate_matter_590nm'].mean()\n",
    "        return mean_value\n",
    "    return row['yellow_particulate_matter_590nm']\n",
    "\n",
    "# Apply the function to fill missing nitric_oxide_Mean values\n",
    "df_ypm['yellow_particulate_matter_590nm'] = df_ypm.apply(lambda row: fill_with_past_7_days_mean(row, df_ypm), axis=1)"
   ]
  },
  {
   "cell_type": "code",
   "execution_count": 30,
   "id": "1eb4afff",
   "metadata": {},
   "outputs": [
    {
     "data": {
      "application/vnd.microsoft.datawrangler.viewer.v0+json": {
       "columns": [
        {
         "name": "index",
         "rawType": "int64",
         "type": "integer"
        },
        {
         "name": "date",
         "rawType": "datetime64[ns]",
         "type": "datetime"
        },
        {
         "name": "yellow_particulate_matter_590nm",
         "rawType": "float64",
         "type": "float"
        }
       ],
       "ref": "9e29bc64-c13d-4558-ab9c-de5ff2f6c237",
       "rows": [
        [
         "0",
         "2024-06-09 00:00:00",
         "0.43"
        ],
        [
         "1",
         "2024-06-10 00:00:00",
         "0.347"
        ],
        [
         "2",
         "2024-06-11 00:00:00",
         "0.503"
        ],
        [
         "3",
         "2024-06-12 00:00:00",
         "0.703"
        ],
        [
         "4",
         "2024-06-13 00:00:00",
         "0.693"
        ]
       ],
       "shape": {
        "columns": 2,
        "rows": 5
       }
      },
      "text/html": [
       "<div>\n",
       "<style scoped>\n",
       "    .dataframe tbody tr th:only-of-type {\n",
       "        vertical-align: middle;\n",
       "    }\n",
       "\n",
       "    .dataframe tbody tr th {\n",
       "        vertical-align: top;\n",
       "    }\n",
       "\n",
       "    .dataframe thead th {\n",
       "        text-align: right;\n",
       "    }\n",
       "</style>\n",
       "<table border=\"1\" class=\"dataframe\">\n",
       "  <thead>\n",
       "    <tr style=\"text-align: right;\">\n",
       "      <th></th>\n",
       "      <th>date</th>\n",
       "      <th>yellow_particulate_matter_590nm</th>\n",
       "    </tr>\n",
       "  </thead>\n",
       "  <tbody>\n",
       "    <tr>\n",
       "      <th>0</th>\n",
       "      <td>2024-06-09</td>\n",
       "      <td>0.430</td>\n",
       "    </tr>\n",
       "    <tr>\n",
       "      <th>1</th>\n",
       "      <td>2024-06-10</td>\n",
       "      <td>0.347</td>\n",
       "    </tr>\n",
       "    <tr>\n",
       "      <th>2</th>\n",
       "      <td>2024-06-11</td>\n",
       "      <td>0.503</td>\n",
       "    </tr>\n",
       "    <tr>\n",
       "      <th>3</th>\n",
       "      <td>2024-06-12</td>\n",
       "      <td>0.703</td>\n",
       "    </tr>\n",
       "    <tr>\n",
       "      <th>4</th>\n",
       "      <td>2024-06-13</td>\n",
       "      <td>0.693</td>\n",
       "    </tr>\n",
       "  </tbody>\n",
       "</table>\n",
       "</div>"
      ],
      "text/plain": [
       "        date  yellow_particulate_matter_590nm\n",
       "0 2024-06-09                            0.430\n",
       "1 2024-06-10                            0.347\n",
       "2 2024-06-11                            0.503\n",
       "3 2024-06-12                            0.703\n",
       "4 2024-06-13                            0.693"
      ]
     },
     "execution_count": 30,
     "metadata": {},
     "output_type": "execute_result"
    }
   ],
   "source": [
    "# Round specific columns\n",
    "df_ypm['yellow_particulate_matter_590nm'] = df_ypm['yellow_particulate_matter_590nm'].round(3)\n",
    "df_ypm.head()"
   ]
  },
  {
   "cell_type": "code",
   "execution_count": 31,
   "id": "31681250",
   "metadata": {},
   "outputs": [],
   "source": [
    "# Save to a new CSV file\n",
    "df_ypm.to_csv('yellow_particulate_matter_590nm_cd.csv', index=False)"
   ]
  },
  {
   "cell_type": "code",
   "execution_count": null,
   "id": "78c9ca32",
   "metadata": {},
   "outputs": [],
   "source": []
  }
 ],
 "metadata": {
  "kernelspec": {
   "display_name": "base",
   "language": "python",
   "name": "python3"
  },
  "language_info": {
   "codemirror_mode": {
    "name": "ipython",
    "version": 3
   },
   "file_extension": ".py",
   "mimetype": "text/x-python",
   "name": "python",
   "nbconvert_exporter": "python",
   "pygments_lexer": "ipython3",
   "version": "3.11.5"
  }
 },
 "nbformat": 4,
 "nbformat_minor": 5
}
