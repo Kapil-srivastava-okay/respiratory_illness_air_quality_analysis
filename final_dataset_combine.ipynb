{
 "cells": [
  {
   "cell_type": "code",
   "execution_count": 13,
   "id": "895c039c",
   "metadata": {},
   "outputs": [],
   "source": [
    "import pandas as pd\n",
    "import numpy as np\n",
    "import glob\n",
    "import os\n",
    "\n",
    "# Step 1: Find all CSV files in the current directory\n",
    "csv_files = glob.glob('all_cleaned_datasets/*.csv')  # Adjust path if files are in a different directory\n",
    "# Alternatively, specify files explicitly, e.g.:\n",
    "# csv_files = ['filled_black_carbon.csv', 'cleaned_nitrogen_oxides.csv', 'cleaned_ari_counts.csv', ...]"
   ]
  },
  {
   "cell_type": "code",
   "execution_count": 14,
   "id": "ae1b33ff",
   "metadata": {},
   "outputs": [],
   "source": [
    "# Step 2: Initialize an empty DataFrame for merging\n",
    "combined_df = None\n",
    "\n",
    "# Step 3: Load and merge each CSV\n",
    "for file in csv_files:\n",
    "    # Read the CSV\n",
    "    df = pd.read_csv(file)\n",
    "    \n",
    "    # Ensure the CSV has exactly two columns: date and a numeric value\n",
    "    if len(df.columns) != 2:\n",
    "        print(f\"Warning: {file} does not have exactly two columns. Skipping.\")\n",
    "        continue\n",
    "    \n",
    "    # Get the numeric column name (second column)\n",
    "    value_column = df.columns[1]\n",
    "    \n",
    "    # Rename the value column to include the file name (without .csv) for uniqueness\n",
    "    base_name = os.path.splitext(os.path.basename(file))[0]\n",
    "    df = df.rename(columns={value_column: base_name})\n",
    "    \n",
    "    # Ensure date is in DD-MM-YYYY format\n",
    "    df['date'] = pd.to_datetime(df['date'], format='mixed', dayfirst=True)    \n",
    "    # Merge with combined_df\n",
    "    if combined_df is None:\n",
    "        combined_df = df\n",
    "    else:\n",
    "        combined_df = combined_df.merge(df, on='date', how='outer')\n",
    "\n"
   ]
  },
  {
   "cell_type": "code",
   "execution_count": 15,
   "id": "63ac72ef",
   "metadata": {},
   "outputs": [
    {
     "data": {
      "application/vnd.microsoft.datawrangler.viewer.v0+json": {
       "columns": [
        {
         "name": "index",
         "rawType": "int64",
         "type": "integer"
        },
        {
         "name": "date",
         "rawType": "datetime64[ns]",
         "type": "datetime"
        },
        {
         "name": "acute_bronchiolitis_syndromic_cd",
         "rawType": "float64",
         "type": "float"
        },
        {
         "name": "acute_respiratory_illness_cd",
         "rawType": "float64",
         "type": "float"
        },
        {
         "name": "black_carbon_cd",
         "rawType": "float64",
         "type": "float"
        },
        {
         "name": "blue_particulate_matter_cd",
         "rawType": "float64",
         "type": "float"
        },
        {
         "name": "green_particulate_matter_cd",
         "rawType": "float64",
         "type": "float"
        },
        {
         "name": "influenza_like_syndromic_cd",
         "rawType": "float64",
         "type": "float"
        },
        {
         "name": "infra_red_particulate_matter_cd",
         "rawType": "float64",
         "type": "float"
        },
        {
         "name": "nitric_dioxide_cd",
         "rawType": "float64",
         "type": "float"
        },
        {
         "name": "nitric_oxide_cd",
         "rawType": "float64",
         "type": "float"
        },
        {
         "name": "nitrogen_oxides_as_nitrogen_dioxide_cd",
         "rawType": "float64",
         "type": "float"
        },
        {
         "name": "Ozone_cd",
         "rawType": "float64",
         "type": "float"
        },
        {
         "name": "PM10_cd",
         "rawType": "float64",
         "type": "float"
        },
        {
         "name": "PM2.5_cd",
         "rawType": "float64",
         "type": "float"
        },
        {
         "name": "red_particulate_matter_cd",
         "rawType": "float64",
         "type": "float"
        },
        {
         "name": "scarlet_fever_syndromic_cd",
         "rawType": "float64",
         "type": "float"
        },
        {
         "name": "UV_particulate_matter_370nm_cd",
         "rawType": "float64",
         "type": "float"
        },
        {
         "name": "yellow_particulate_matter_590nm_cd",
         "rawType": "float64",
         "type": "float"
        }
       ],
       "ref": "6454dfe5-56bd-4c54-b266-1247af799cd6",
       "rows": [
        [
         "342",
         "2025-05-17 00:00:00",
         "7.0",
         "150.0",
         null,
         null,
         null,
         "3.0",
         null,
         "13.188",
         "3.188",
         "18.062",
         "82.455",
         "15.5",
         "9.733",
         null,
         "1.0",
         null,
         null
        ]
       ],
       "shape": {
        "columns": 18,
        "rows": 1
       }
      },
      "text/html": [
       "<div>\n",
       "<style scoped>\n",
       "    .dataframe tbody tr th:only-of-type {\n",
       "        vertical-align: middle;\n",
       "    }\n",
       "\n",
       "    .dataframe tbody tr th {\n",
       "        vertical-align: top;\n",
       "    }\n",
       "\n",
       "    .dataframe thead th {\n",
       "        text-align: right;\n",
       "    }\n",
       "</style>\n",
       "<table border=\"1\" class=\"dataframe\">\n",
       "  <thead>\n",
       "    <tr style=\"text-align: right;\">\n",
       "      <th></th>\n",
       "      <th>date</th>\n",
       "      <th>acute_bronchiolitis_syndromic_cd</th>\n",
       "      <th>acute_respiratory_illness_cd</th>\n",
       "      <th>black_carbon_cd</th>\n",
       "      <th>blue_particulate_matter_cd</th>\n",
       "      <th>green_particulate_matter_cd</th>\n",
       "      <th>influenza_like_syndromic_cd</th>\n",
       "      <th>infra_red_particulate_matter_cd</th>\n",
       "      <th>nitric_dioxide_cd</th>\n",
       "      <th>nitric_oxide_cd</th>\n",
       "      <th>nitrogen_oxides_as_nitrogen_dioxide_cd</th>\n",
       "      <th>Ozone_cd</th>\n",
       "      <th>PM10_cd</th>\n",
       "      <th>PM2.5_cd</th>\n",
       "      <th>red_particulate_matter_cd</th>\n",
       "      <th>scarlet_fever_syndromic_cd</th>\n",
       "      <th>UV_particulate_matter_370nm_cd</th>\n",
       "      <th>yellow_particulate_matter_590nm_cd</th>\n",
       "    </tr>\n",
       "  </thead>\n",
       "  <tbody>\n",
       "    <tr>\n",
       "      <th>342</th>\n",
       "      <td>2025-05-17</td>\n",
       "      <td>7.0</td>\n",
       "      <td>150.0</td>\n",
       "      <td>NaN</td>\n",
       "      <td>NaN</td>\n",
       "      <td>NaN</td>\n",
       "      <td>3.0</td>\n",
       "      <td>NaN</td>\n",
       "      <td>13.188</td>\n",
       "      <td>3.188</td>\n",
       "      <td>18.062</td>\n",
       "      <td>82.455</td>\n",
       "      <td>15.5</td>\n",
       "      <td>9.733</td>\n",
       "      <td>NaN</td>\n",
       "      <td>1.0</td>\n",
       "      <td>NaN</td>\n",
       "      <td>NaN</td>\n",
       "    </tr>\n",
       "  </tbody>\n",
       "</table>\n",
       "</div>"
      ],
      "text/plain": [
       "          date  acute_bronchiolitis_syndromic_cd  \\\n",
       "342 2025-05-17                               7.0   \n",
       "\n",
       "     acute_respiratory_illness_cd  black_carbon_cd  \\\n",
       "342                         150.0              NaN   \n",
       "\n",
       "     blue_particulate_matter_cd  green_particulate_matter_cd  \\\n",
       "342                         NaN                          NaN   \n",
       "\n",
       "     influenza_like_syndromic_cd  infra_red_particulate_matter_cd  \\\n",
       "342                          3.0                              NaN   \n",
       "\n",
       "     nitric_dioxide_cd  nitric_oxide_cd  \\\n",
       "342             13.188            3.188   \n",
       "\n",
       "     nitrogen_oxides_as_nitrogen_dioxide_cd  Ozone_cd  PM10_cd  PM2.5_cd  \\\n",
       "342                                  18.062    82.455     15.5     9.733   \n",
       "\n",
       "     red_particulate_matter_cd  scarlet_fever_syndromic_cd  \\\n",
       "342                        NaN                         1.0   \n",
       "\n",
       "     UV_particulate_matter_370nm_cd  yellow_particulate_matter_590nm_cd  \n",
       "342                             NaN                                 NaN  "
      ]
     },
     "execution_count": 15,
     "metadata": {},
     "output_type": "execute_result"
    }
   ],
   "source": [
    "# Show rows that contain at least one NaN\n",
    "combined_df[combined_df.isna().any(axis=1)]"
   ]
  },
  {
   "cell_type": "code",
   "execution_count": 16,
   "id": "5efc7007",
   "metadata": {},
   "outputs": [],
   "source": [
    "# Step 4: Fill missing values with mean of previous 7 days\n",
    "def fill_with_past_7_days_mean(row, df, column, window_days=7):\n",
    "    if pd.isna(row[column]):\n",
    "        start_date = row['date'] - pd.Timedelta(days=window_days)\n",
    "        end_date = row['date'] - pd.Timedelta(days=1)\n",
    "        past_data = df[(df['date'] >= start_date) & (df['date'] <= end_date)]\n",
    "        mean_value = past_data[column].mean()\n",
    "        return mean_value\n",
    "    return row[column]\n",
    "\n",
    "# Apply to each numeric column (all columns except 'date')\n",
    "numeric_columns = [col for col in combined_df.columns if col != 'date']\n",
    "for column in numeric_columns:\n",
    "    combined_df[column] = combined_df.apply(lambda row: fill_with_past_7_days_mean(row, combined_df, column), axis=1)"
   ]
  },
  {
   "cell_type": "code",
   "execution_count": 17,
   "id": "4d8161c7",
   "metadata": {},
   "outputs": [],
   "source": [
    "# Round all numeric columns except 'date' to 3 decimal places\n",
    "combined_df.loc[:, combined_df.columns != 'date'] = combined_df.loc[:, combined_df.columns != 'date'].round(3)"
   ]
  },
  {
   "cell_type": "code",
   "execution_count": null,
   "id": "299eeaa9",
   "metadata": {},
   "outputs": [
    {
     "data": {
      "application/vnd.microsoft.datawrangler.viewer.v0+json": {
       "columns": [
        {
         "name": "index",
         "rawType": "int64",
         "type": "integer"
        },
        {
         "name": "date",
         "rawType": "datetime64[ns]",
         "type": "datetime"
        },
        {
         "name": "acute_bronchiolitis_syndromic_cd",
         "rawType": "float64",
         "type": "float"
        },
        {
         "name": "acute_respiratory_illness_cd",
         "rawType": "float64",
         "type": "float"
        },
        {
         "name": "black_carbon_cd",
         "rawType": "float64",
         "type": "float"
        },
        {
         "name": "blue_particulate_matter_cd",
         "rawType": "float64",
         "type": "float"
        },
        {
         "name": "green_particulate_matter_cd",
         "rawType": "float64",
         "type": "float"
        },
        {
         "name": "influenza_like_syndromic_cd",
         "rawType": "float64",
         "type": "float"
        },
        {
         "name": "infra_red_particulate_matter_cd",
         "rawType": "float64",
         "type": "float"
        },
        {
         "name": "nitric_dioxide_cd",
         "rawType": "float64",
         "type": "float"
        },
        {
         "name": "nitric_oxide_cd",
         "rawType": "float64",
         "type": "float"
        },
        {
         "name": "nitrogen_oxides_as_nitrogen_dioxide_cd",
         "rawType": "float64",
         "type": "float"
        },
        {
         "name": "Ozone_cd",
         "rawType": "float64",
         "type": "float"
        },
        {
         "name": "PM10_cd",
         "rawType": "float64",
         "type": "float"
        },
        {
         "name": "PM2.5_cd",
         "rawType": "float64",
         "type": "float"
        },
        {
         "name": "red_particulate_matter_cd",
         "rawType": "float64",
         "type": "float"
        },
        {
         "name": "scarlet_fever_syndromic_cd",
         "rawType": "float64",
         "type": "float"
        },
        {
         "name": "UV_particulate_matter_370nm_cd",
         "rawType": "float64",
         "type": "float"
        },
        {
         "name": "yellow_particulate_matter_590nm_cd",
         "rawType": "float64",
         "type": "float"
        }
       ],
       "ref": "99e686d0-adce-454b-8bc9-04873b721908",
       "rows": [
        [
         "342",
         "2025-05-17 00:00:00",
         "7.0",
         "150.0",
         "0.738",
         "0.873",
         "0.805",
         "3.0",
         "0.767",
         "13.188",
         "3.188",
         "18.062",
         "82.455",
         "15.5",
         "9.733",
         "0.75",
         "1.0",
         "0.878",
         "0.784"
        ]
       ],
       "shape": {
        "columns": 18,
        "rows": 1
       }
      },
      "text/html": [
       "<div>\n",
       "<style scoped>\n",
       "    .dataframe tbody tr th:only-of-type {\n",
       "        vertical-align: middle;\n",
       "    }\n",
       "\n",
       "    .dataframe tbody tr th {\n",
       "        vertical-align: top;\n",
       "    }\n",
       "\n",
       "    .dataframe thead th {\n",
       "        text-align: right;\n",
       "    }\n",
       "</style>\n",
       "<table border=\"1\" class=\"dataframe\">\n",
       "  <thead>\n",
       "    <tr style=\"text-align: right;\">\n",
       "      <th></th>\n",
       "      <th>date</th>\n",
       "      <th>acute_bronchiolitis_syndromic_cd</th>\n",
       "      <th>acute_respiratory_illness_cd</th>\n",
       "      <th>black_carbon_cd</th>\n",
       "      <th>blue_particulate_matter_cd</th>\n",
       "      <th>green_particulate_matter_cd</th>\n",
       "      <th>influenza_like_syndromic_cd</th>\n",
       "      <th>infra_red_particulate_matter_cd</th>\n",
       "      <th>nitric_dioxide_cd</th>\n",
       "      <th>nitric_oxide_cd</th>\n",
       "      <th>nitrogen_oxides_as_nitrogen_dioxide_cd</th>\n",
       "      <th>Ozone_cd</th>\n",
       "      <th>PM10_cd</th>\n",
       "      <th>PM2.5_cd</th>\n",
       "      <th>red_particulate_matter_cd</th>\n",
       "      <th>scarlet_fever_syndromic_cd</th>\n",
       "      <th>UV_particulate_matter_370nm_cd</th>\n",
       "      <th>yellow_particulate_matter_590nm_cd</th>\n",
       "    </tr>\n",
       "  </thead>\n",
       "  <tbody>\n",
       "    <tr>\n",
       "      <th>342</th>\n",
       "      <td>2025-05-17</td>\n",
       "      <td>7.0</td>\n",
       "      <td>150.0</td>\n",
       "      <td>0.738</td>\n",
       "      <td>0.873</td>\n",
       "      <td>0.805</td>\n",
       "      <td>3.0</td>\n",
       "      <td>0.767</td>\n",
       "      <td>13.188</td>\n",
       "      <td>3.188</td>\n",
       "      <td>18.062</td>\n",
       "      <td>82.455</td>\n",
       "      <td>15.5</td>\n",
       "      <td>9.733</td>\n",
       "      <td>0.75</td>\n",
       "      <td>1.0</td>\n",
       "      <td>0.878</td>\n",
       "      <td>0.784</td>\n",
       "    </tr>\n",
       "  </tbody>\n",
       "</table>\n",
       "</div>"
      ],
      "text/plain": [
       "          date  acute_bronchiolitis_syndromic_cd  \\\n",
       "342 2025-05-17                               7.0   \n",
       "\n",
       "     acute_respiratory_illness_cd  black_carbon_cd  \\\n",
       "342                         150.0            0.738   \n",
       "\n",
       "     blue_particulate_matter_cd  green_particulate_matter_cd  \\\n",
       "342                       0.873                        0.805   \n",
       "\n",
       "     influenza_like_syndromic_cd  infra_red_particulate_matter_cd  \\\n",
       "342                          3.0                            0.767   \n",
       "\n",
       "     nitric_dioxide_cd  nitric_oxide_cd  \\\n",
       "342             13.188            3.188   \n",
       "\n",
       "     nitrogen_oxides_as_nitrogen_dioxide_cd  Ozone_cd  PM10_cd  PM2.5_cd  \\\n",
       "342                                  18.062    82.455     15.5     9.733   \n",
       "\n",
       "     red_particulate_matter_cd  scarlet_fever_syndromic_cd  \\\n",
       "342                       0.75                         1.0   \n",
       "\n",
       "     UV_particulate_matter_370nm_cd  yellow_particulate_matter_590nm_cd  \n",
       "342                           0.878                               0.784  "
      ]
     },
     "execution_count": 19,
     "metadata": {},
     "output_type": "execute_result"
    }
   ],
   "source": [
    "# Checking if the missing value is filled correctly\n",
    "combined_df[combined_df['date'] == '2025-05-17']"
   ]
  },
  {
   "cell_type": "code",
   "execution_count": 20,
   "id": "5ae40c48",
   "metadata": {},
   "outputs": [
    {
     "data": {
      "application/vnd.microsoft.datawrangler.viewer.v0+json": {
       "columns": [
        {
         "name": "index",
         "rawType": "int64",
         "type": "integer"
        },
        {
         "name": "date",
         "rawType": "datetime64[ns]",
         "type": "datetime"
        },
        {
         "name": "acute_bronchiolitis_syndromic_cd",
         "rawType": "float64",
         "type": "float"
        },
        {
         "name": "acute_respiratory_illness_cd",
         "rawType": "float64",
         "type": "float"
        },
        {
         "name": "black_carbon_cd",
         "rawType": "float64",
         "type": "float"
        },
        {
         "name": "blue_particulate_matter_cd",
         "rawType": "float64",
         "type": "float"
        },
        {
         "name": "green_particulate_matter_cd",
         "rawType": "float64",
         "type": "float"
        },
        {
         "name": "influenza_like_syndromic_cd",
         "rawType": "float64",
         "type": "float"
        },
        {
         "name": "infra_red_particulate_matter_cd",
         "rawType": "float64",
         "type": "float"
        },
        {
         "name": "nitric_dioxide_cd",
         "rawType": "float64",
         "type": "float"
        },
        {
         "name": "nitric_oxide_cd",
         "rawType": "float64",
         "type": "float"
        },
        {
         "name": "nitrogen_oxides_as_nitrogen_dioxide_cd",
         "rawType": "float64",
         "type": "float"
        },
        {
         "name": "Ozone_cd",
         "rawType": "float64",
         "type": "float"
        },
        {
         "name": "PM10_cd",
         "rawType": "float64",
         "type": "float"
        },
        {
         "name": "PM2.5_cd",
         "rawType": "float64",
         "type": "float"
        },
        {
         "name": "red_particulate_matter_cd",
         "rawType": "float64",
         "type": "float"
        },
        {
         "name": "scarlet_fever_syndromic_cd",
         "rawType": "float64",
         "type": "float"
        },
        {
         "name": "UV_particulate_matter_370nm_cd",
         "rawType": "float64",
         "type": "float"
        },
        {
         "name": "yellow_particulate_matter_590nm_cd",
         "rawType": "float64",
         "type": "float"
        }
       ],
       "ref": "a3c17e2c-c107-4027-b476-3219b63c90ca",
       "rows": [],
       "shape": {
        "columns": 18,
        "rows": 0
       }
      },
      "text/html": [
       "<div>\n",
       "<style scoped>\n",
       "    .dataframe tbody tr th:only-of-type {\n",
       "        vertical-align: middle;\n",
       "    }\n",
       "\n",
       "    .dataframe tbody tr th {\n",
       "        vertical-align: top;\n",
       "    }\n",
       "\n",
       "    .dataframe thead th {\n",
       "        text-align: right;\n",
       "    }\n",
       "</style>\n",
       "<table border=\"1\" class=\"dataframe\">\n",
       "  <thead>\n",
       "    <tr style=\"text-align: right;\">\n",
       "      <th></th>\n",
       "      <th>date</th>\n",
       "      <th>acute_bronchiolitis_syndromic_cd</th>\n",
       "      <th>acute_respiratory_illness_cd</th>\n",
       "      <th>black_carbon_cd</th>\n",
       "      <th>blue_particulate_matter_cd</th>\n",
       "      <th>green_particulate_matter_cd</th>\n",
       "      <th>influenza_like_syndromic_cd</th>\n",
       "      <th>infra_red_particulate_matter_cd</th>\n",
       "      <th>nitric_dioxide_cd</th>\n",
       "      <th>nitric_oxide_cd</th>\n",
       "      <th>nitrogen_oxides_as_nitrogen_dioxide_cd</th>\n",
       "      <th>Ozone_cd</th>\n",
       "      <th>PM10_cd</th>\n",
       "      <th>PM2.5_cd</th>\n",
       "      <th>red_particulate_matter_cd</th>\n",
       "      <th>scarlet_fever_syndromic_cd</th>\n",
       "      <th>UV_particulate_matter_370nm_cd</th>\n",
       "      <th>yellow_particulate_matter_590nm_cd</th>\n",
       "    </tr>\n",
       "  </thead>\n",
       "  <tbody>\n",
       "  </tbody>\n",
       "</table>\n",
       "</div>"
      ],
      "text/plain": [
       "Empty DataFrame\n",
       "Columns: [date, acute_bronchiolitis_syndromic_cd, acute_respiratory_illness_cd, black_carbon_cd, blue_particulate_matter_cd, green_particulate_matter_cd, influenza_like_syndromic_cd, infra_red_particulate_matter_cd, nitric_dioxide_cd, nitric_oxide_cd, nitrogen_oxides_as_nitrogen_dioxide_cd, Ozone_cd, PM10_cd, PM2.5_cd, red_particulate_matter_cd, scarlet_fever_syndromic_cd, UV_particulate_matter_370nm_cd, yellow_particulate_matter_590nm_cd]\n",
       "Index: []"
      ]
     },
     "execution_count": 20,
     "metadata": {},
     "output_type": "execute_result"
    }
   ],
   "source": [
    "# Show rows that contain at least one NaN\n",
    "combined_df[combined_df.isna().any(axis=1)]  #No more missing values are present"
   ]
  },
  {
   "cell_type": "code",
   "execution_count": 21,
   "id": "2e9c203a",
   "metadata": {},
   "outputs": [],
   "source": [
    "# Step 5: Convert date back to DD-MM-YYYY for output\n",
    "combined_df['date'] = combined_df['date'].dt.strftime('%d-%m-%Y')"
   ]
  },
  {
   "cell_type": "code",
   "execution_count": null,
   "id": "8bf71e56",
   "metadata": {},
   "outputs": [
    {
     "data": {
      "application/vnd.microsoft.datawrangler.viewer.v0+json": {
       "columns": [
        {
         "name": "index",
         "rawType": "int64",
         "type": "integer"
        },
        {
         "name": "date",
         "rawType": "object",
         "type": "string"
        },
        {
         "name": "acute_bronchiolitis_syndromic_cd",
         "rawType": "float64",
         "type": "float"
        },
        {
         "name": "acute_respiratory_illness_cd",
         "rawType": "float64",
         "type": "float"
        },
        {
         "name": "black_carbon_cd",
         "rawType": "float64",
         "type": "float"
        },
        {
         "name": "blue_particulate_matter_cd",
         "rawType": "float64",
         "type": "float"
        },
        {
         "name": "green_particulate_matter_cd",
         "rawType": "float64",
         "type": "float"
        },
        {
         "name": "influenza_like_syndromic_cd",
         "rawType": "float64",
         "type": "float"
        },
        {
         "name": "infra_red_particulate_matter_cd",
         "rawType": "float64",
         "type": "float"
        },
        {
         "name": "nitric_dioxide_cd",
         "rawType": "float64",
         "type": "float"
        },
        {
         "name": "nitric_oxide_cd",
         "rawType": "float64",
         "type": "float"
        },
        {
         "name": "nitrogen_oxides_as_nitrogen_dioxide_cd",
         "rawType": "float64",
         "type": "float"
        },
        {
         "name": "Ozone_cd",
         "rawType": "float64",
         "type": "float"
        },
        {
         "name": "PM10_cd",
         "rawType": "float64",
         "type": "float"
        },
        {
         "name": "PM2.5_cd",
         "rawType": "float64",
         "type": "float"
        },
        {
         "name": "red_particulate_matter_cd",
         "rawType": "float64",
         "type": "float"
        },
        {
         "name": "scarlet_fever_syndromic_cd",
         "rawType": "float64",
         "type": "float"
        },
        {
         "name": "UV_particulate_matter_370nm_cd",
         "rawType": "float64",
         "type": "float"
        },
        {
         "name": "yellow_particulate_matter_590nm_cd",
         "rawType": "float64",
         "type": "float"
        }
       ],
       "ref": "4788fa82-9ccb-499b-84f9-d668a3609a4c",
       "rows": [
        [
         "0",
         "09-06-2024",
         "2.0",
         "176.0",
         "0.403",
         "0.47",
         "0.447",
         "2.0",
         "0.423",
         "8.0",
         "3.786",
         "13.571",
         "59.444",
         "8.2",
         "4.125",
         "0.41",
         "3.0",
         "0.467",
         "0.43"
        ],
        [
         "1",
         "10-06-2024",
         "7.0",
         "166.0",
         "0.337",
         "0.373",
         "0.353",
         "2.0",
         "0.347",
         "8.5",
         "4.214",
         "14.929",
         "60.9",
         "6.1",
         "3.0",
         "0.327",
         "0.0",
         "0.363",
         "0.347"
        ],
        [
         "2",
         "11-06-2024",
         "6.0",
         "155.0",
         "0.48",
         "0.53",
         "0.507",
         "0.0",
         "0.487",
         "12.143",
         "5.214",
         "19.929",
         "60.5",
         "8.7",
         "4.25",
         "0.48",
         "0.0",
         "0.517",
         "0.503"
        ],
        [
         "3",
         "12-06-2024",
         "2.0",
         "157.0",
         "0.663",
         "0.753",
         "0.717",
         "0.0",
         "0.68",
         "14.5",
         "6.0",
         "23.786",
         "64.5",
         "10.3",
         "4.875",
         "0.67",
         "0.0",
         "0.747",
         "0.703"
        ],
        [
         "4",
         "13-06-2024",
         "3.0",
         "137.0",
         "0.667",
         "0.733",
         "0.703",
         "0.0",
         "0.67",
         "13.929",
         "7.643",
         "25.5",
         "59.3",
         "10.4",
         "4.625",
         "0.67",
         "0.0",
         "0.71",
         "0.693"
        ]
       ],
       "shape": {
        "columns": 18,
        "rows": 5
       }
      },
      "text/html": [
       "<div>\n",
       "<style scoped>\n",
       "    .dataframe tbody tr th:only-of-type {\n",
       "        vertical-align: middle;\n",
       "    }\n",
       "\n",
       "    .dataframe tbody tr th {\n",
       "        vertical-align: top;\n",
       "    }\n",
       "\n",
       "    .dataframe thead th {\n",
       "        text-align: right;\n",
       "    }\n",
       "</style>\n",
       "<table border=\"1\" class=\"dataframe\">\n",
       "  <thead>\n",
       "    <tr style=\"text-align: right;\">\n",
       "      <th></th>\n",
       "      <th>date</th>\n",
       "      <th>acute_bronchiolitis_syndromic_cd</th>\n",
       "      <th>acute_respiratory_illness_cd</th>\n",
       "      <th>black_carbon_cd</th>\n",
       "      <th>blue_particulate_matter_cd</th>\n",
       "      <th>green_particulate_matter_cd</th>\n",
       "      <th>influenza_like_syndromic_cd</th>\n",
       "      <th>infra_red_particulate_matter_cd</th>\n",
       "      <th>nitric_dioxide_cd</th>\n",
       "      <th>nitric_oxide_cd</th>\n",
       "      <th>nitrogen_oxides_as_nitrogen_dioxide_cd</th>\n",
       "      <th>Ozone_cd</th>\n",
       "      <th>PM10_cd</th>\n",
       "      <th>PM2.5_cd</th>\n",
       "      <th>red_particulate_matter_cd</th>\n",
       "      <th>scarlet_fever_syndromic_cd</th>\n",
       "      <th>UV_particulate_matter_370nm_cd</th>\n",
       "      <th>yellow_particulate_matter_590nm_cd</th>\n",
       "    </tr>\n",
       "  </thead>\n",
       "  <tbody>\n",
       "    <tr>\n",
       "      <th>0</th>\n",
       "      <td>09-06-2024</td>\n",
       "      <td>2.0</td>\n",
       "      <td>176.0</td>\n",
       "      <td>0.403</td>\n",
       "      <td>0.470</td>\n",
       "      <td>0.447</td>\n",
       "      <td>2.0</td>\n",
       "      <td>0.423</td>\n",
       "      <td>8.000</td>\n",
       "      <td>3.786</td>\n",
       "      <td>13.571</td>\n",
       "      <td>59.444</td>\n",
       "      <td>8.2</td>\n",
       "      <td>4.125</td>\n",
       "      <td>0.410</td>\n",
       "      <td>3.0</td>\n",
       "      <td>0.467</td>\n",
       "      <td>0.430</td>\n",
       "    </tr>\n",
       "    <tr>\n",
       "      <th>1</th>\n",
       "      <td>10-06-2024</td>\n",
       "      <td>7.0</td>\n",
       "      <td>166.0</td>\n",
       "      <td>0.337</td>\n",
       "      <td>0.373</td>\n",
       "      <td>0.353</td>\n",
       "      <td>2.0</td>\n",
       "      <td>0.347</td>\n",
       "      <td>8.500</td>\n",
       "      <td>4.214</td>\n",
       "      <td>14.929</td>\n",
       "      <td>60.900</td>\n",
       "      <td>6.1</td>\n",
       "      <td>3.000</td>\n",
       "      <td>0.327</td>\n",
       "      <td>0.0</td>\n",
       "      <td>0.363</td>\n",
       "      <td>0.347</td>\n",
       "    </tr>\n",
       "    <tr>\n",
       "      <th>2</th>\n",
       "      <td>11-06-2024</td>\n",
       "      <td>6.0</td>\n",
       "      <td>155.0</td>\n",
       "      <td>0.480</td>\n",
       "      <td>0.530</td>\n",
       "      <td>0.507</td>\n",
       "      <td>0.0</td>\n",
       "      <td>0.487</td>\n",
       "      <td>12.143</td>\n",
       "      <td>5.214</td>\n",
       "      <td>19.929</td>\n",
       "      <td>60.500</td>\n",
       "      <td>8.7</td>\n",
       "      <td>4.250</td>\n",
       "      <td>0.480</td>\n",
       "      <td>0.0</td>\n",
       "      <td>0.517</td>\n",
       "      <td>0.503</td>\n",
       "    </tr>\n",
       "    <tr>\n",
       "      <th>3</th>\n",
       "      <td>12-06-2024</td>\n",
       "      <td>2.0</td>\n",
       "      <td>157.0</td>\n",
       "      <td>0.663</td>\n",
       "      <td>0.753</td>\n",
       "      <td>0.717</td>\n",
       "      <td>0.0</td>\n",
       "      <td>0.680</td>\n",
       "      <td>14.500</td>\n",
       "      <td>6.000</td>\n",
       "      <td>23.786</td>\n",
       "      <td>64.500</td>\n",
       "      <td>10.3</td>\n",
       "      <td>4.875</td>\n",
       "      <td>0.670</td>\n",
       "      <td>0.0</td>\n",
       "      <td>0.747</td>\n",
       "      <td>0.703</td>\n",
       "    </tr>\n",
       "    <tr>\n",
       "      <th>4</th>\n",
       "      <td>13-06-2024</td>\n",
       "      <td>3.0</td>\n",
       "      <td>137.0</td>\n",
       "      <td>0.667</td>\n",
       "      <td>0.733</td>\n",
       "      <td>0.703</td>\n",
       "      <td>0.0</td>\n",
       "      <td>0.670</td>\n",
       "      <td>13.929</td>\n",
       "      <td>7.643</td>\n",
       "      <td>25.500</td>\n",
       "      <td>59.300</td>\n",
       "      <td>10.4</td>\n",
       "      <td>4.625</td>\n",
       "      <td>0.670</td>\n",
       "      <td>0.0</td>\n",
       "      <td>0.710</td>\n",
       "      <td>0.693</td>\n",
       "    </tr>\n",
       "  </tbody>\n",
       "</table>\n",
       "</div>"
      ],
      "text/plain": [
       "         date  acute_bronchiolitis_syndromic_cd  acute_respiratory_illness_cd  \\\n",
       "0  09-06-2024                               2.0                         176.0   \n",
       "1  10-06-2024                               7.0                         166.0   \n",
       "2  11-06-2024                               6.0                         155.0   \n",
       "3  12-06-2024                               2.0                         157.0   \n",
       "4  13-06-2024                               3.0                         137.0   \n",
       "\n",
       "   black_carbon_cd  blue_particulate_matter_cd  green_particulate_matter_cd  \\\n",
       "0            0.403                       0.470                        0.447   \n",
       "1            0.337                       0.373                        0.353   \n",
       "2            0.480                       0.530                        0.507   \n",
       "3            0.663                       0.753                        0.717   \n",
       "4            0.667                       0.733                        0.703   \n",
       "\n",
       "   influenza_like_syndromic_cd  infra_red_particulate_matter_cd  \\\n",
       "0                          2.0                            0.423   \n",
       "1                          2.0                            0.347   \n",
       "2                          0.0                            0.487   \n",
       "3                          0.0                            0.680   \n",
       "4                          0.0                            0.670   \n",
       "\n",
       "   nitric_dioxide_cd  nitric_oxide_cd  nitrogen_oxides_as_nitrogen_dioxide_cd  \\\n",
       "0              8.000            3.786                                  13.571   \n",
       "1              8.500            4.214                                  14.929   \n",
       "2             12.143            5.214                                  19.929   \n",
       "3             14.500            6.000                                  23.786   \n",
       "4             13.929            7.643                                  25.500   \n",
       "\n",
       "   Ozone_cd  PM10_cd  PM2.5_cd  red_particulate_matter_cd  \\\n",
       "0    59.444      8.2     4.125                      0.410   \n",
       "1    60.900      6.1     3.000                      0.327   \n",
       "2    60.500      8.7     4.250                      0.480   \n",
       "3    64.500     10.3     4.875                      0.670   \n",
       "4    59.300     10.4     4.625                      0.670   \n",
       "\n",
       "   scarlet_fever_syndromic_cd  UV_particulate_matter_370nm_cd  \\\n",
       "0                         3.0                           0.467   \n",
       "1                         0.0                           0.363   \n",
       "2                         0.0                           0.517   \n",
       "3                         0.0                           0.747   \n",
       "4                         0.0                           0.710   \n",
       "\n",
       "   yellow_particulate_matter_590nm_cd  \n",
       "0                               0.430  \n",
       "1                               0.347  \n",
       "2                               0.503  \n",
       "3                               0.703  \n",
       "4                               0.693  "
      ]
     },
     "execution_count": 22,
     "metadata": {},
     "output_type": "execute_result"
    }
   ],
   "source": [
    "# Display the first few rows of the combined DataFrame\n",
    "combined_df.head()"
   ]
  },
  {
   "cell_type": "code",
   "execution_count": 23,
   "id": "55105afe",
   "metadata": {},
   "outputs": [],
   "source": [
    "# Step 6: Save the combined DataFrame to a new CSV file\n",
    "combined_df.to_csv('combined_data.csv', index=False)"
   ]
  },
  {
   "cell_type": "code",
   "execution_count": 24,
   "id": "8d058cf7",
   "metadata": {},
   "outputs": [],
   "source": [
    "# Removing '_cd' from the columns\n",
    "# Step 1: Load the input CSV\n",
    "input_file = 'combined_data.csv'  # Replace with your input CSV file path\n",
    "df = pd.read_csv(input_file)"
   ]
  },
  {
   "cell_type": "code",
   "execution_count": 25,
   "id": "d6e69b76",
   "metadata": {},
   "outputs": [],
   "source": [
    "# Step 2: Rename columns by removing '_cd' (except for 'date')\n",
    "new_columns = {col: col.replace('_cd', '') for col in df.columns if col != 'date'}"
   ]
  },
  {
   "cell_type": "code",
   "execution_count": 26,
   "id": "6471b863",
   "metadata": {},
   "outputs": [],
   "source": [
    "# Step 3: Apply the new column names\n",
    "df = df.rename(columns=new_columns)"
   ]
  },
  {
   "cell_type": "code",
   "execution_count": 27,
   "id": "99b243db",
   "metadata": {},
   "outputs": [],
   "source": [
    "# Step 4: Save to a new CSV\n",
    "output_file = 'finally_merged_datasets.csv'  # Replace with desired output file path\n",
    "df.to_csv(output_file, index=False)"
   ]
  },
  {
   "cell_type": "code",
   "execution_count": null,
   "id": "fbf8da55",
   "metadata": {},
   "outputs": [],
   "source": []
  }
 ],
 "metadata": {
  "kernelspec": {
   "display_name": "base",
   "language": "python",
   "name": "python3"
  },
  "language_info": {
   "codemirror_mode": {
    "name": "ipython",
    "version": 3
   },
   "file_extension": ".py",
   "mimetype": "text/x-python",
   "name": "python",
   "nbconvert_exporter": "python",
   "pygments_lexer": "ipython3",
   "version": "3.11.5"
  }
 },
 "nbformat": 4,
 "nbformat_minor": 5
}
